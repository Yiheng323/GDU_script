{
 "cells": [
  {
   "cell_type": "markdown",
   "metadata": {},
   "source": [
    "This is a notebook that use the FLOCELLID_taxa.tab file in the WGS folder to generate ncbi hit plot for the four flowcells."
   ]
  },
  {
   "cell_type": "code",
   "execution_count": 1,
   "metadata": {
    "collapsed": true
   },
   "outputs": [],
   "source": [
    "import numpy as np\n",
    "import os\n",
    "import pandas as pd\n",
    "import matplotlib.pyplot as plt\n",
    "import matplotlib\n",
    "from itertools import product"
   ]
  },
  {
   "cell_type": "code",
   "execution_count": 2,
   "metadata": {
    "collapsed": true
   },
   "outputs": [],
   "source": [
    "BASEDIR = '/home/yiheng/analysis/WGS'"
   ]
  },
  {
   "cell_type": "code",
   "execution_count": 3,
   "metadata": {
    "collapsed": true
   },
   "outputs": [],
   "source": [
    "# get the summary dataframe for total reads\n",
    "FC1_totaltaxa = os.path.join(BASEDIR, 'run1_totaltaxa.tab')\n",
    "FC2_totaltaxa = os.path.join(BASEDIR, 'run2_totaltaxa.tab')\n",
    "FC3_totaltaxa = os.path.join(BASEDIR, 'FAH05432_totaltaxa.tab')\n",
    "FC4_totaltaxa = os.path.join(BASEDIR, 'FAH05731_totaltaxa.tab')\n",
    "\n",
    "FC1_totaltaxa_df = pd.read_csv(FC1_totaltaxa, sep = '\\t')\n",
    "FC2_totaltaxa_df = pd.read_csv(FC2_totaltaxa, sep = '\\t')\n",
    "FC3_totaltaxa_df = pd.read_csv(FC3_totaltaxa, sep = '\\t')\n",
    "FC4_totaltaxa_df = pd.read_csv(FC4_totaltaxa, sep = '\\t')\n",
    "\n",
    "# now get the summary dataframe for nt hit reads\n",
    "FC1_nttaxa = os.path.join(BASEDIR, 'run1_nttaxa.tab')\n",
    "FC2_nttaxa = os.path.join(BASEDIR, 'run2_nttaxa.tab')\n",
    "FC3_nttaxa = os.path.join(BASEDIR, 'FAH05432_nttaxa.tab')\n",
    "FC4_nttaxa = os.path.join(BASEDIR, 'FAH05731_nttaxa.tab')\n",
    "\n",
    "FC1_nttaxa_df = pd.read_csv(FC1_nttaxa, sep = '\\t')\n",
    "FC2_nttaxa_df = pd.read_csv(FC2_nttaxa, sep = '\\t')\n",
    "FC3_nttaxa_df = pd.read_csv(FC3_nttaxa, sep = '\\t')\n",
    "FC4_nttaxa_df = pd.read_csv(FC4_nttaxa, sep = '\\t')"
   ]
  },
  {
   "cell_type": "code",
   "execution_count": 4,
   "metadata": {
    "collapsed": true
   },
   "outputs": [],
   "source": [
    "joint_totaltaxa_df = pd.concat([FC1_totaltaxa_df,  \n",
    "                                FC2_totaltaxa_df,\n",
    "                                FC3_totaltaxa_df,\n",
    "                                FC4_totaltaxa_df], ignore_index=True)\n",
    "joint_nttaxa_df = pd.concat([FC1_nttaxa_df,  \n",
    "                             FC2_nttaxa_df,\n",
    "                             FC3_nttaxa_df,\n",
    "                             FC4_nttaxa_df], ignore_index=True)"
   ]
  },
  {
   "cell_type": "code",
   "execution_count": 5,
   "metadata": {
    "scrolled": true
   },
   "outputs": [
    {
     "data": {
      "text/plain": [
       "292783"
      ]
     },
     "execution_count": 5,
     "metadata": {},
     "output_type": "execute_result"
    }
   ],
   "source": [
    "len(joint_totaltaxa_df[joint_totaltaxa_df.barcode_arrangement.str.contains('barcode05')])"
   ]
  },
  {
   "cell_type": "code",
   "execution_count": 6,
   "metadata": {
    "collapsed": true
   },
   "outputs": [],
   "source": [
    "#Defines a function to make manual adjustments to the NCBI taxonomic sorting\n",
    "def manually_adjust_ncbi_taxonomy(rank_select, entry_select, ranks_to_edit, new_entry):\n",
    "    \"\"\"Select dataframe entries to edit by a specific rank (rank_select) \n",
    "    and entry related to that rank (entry_select), \n",
    "    provide a list of ranks to edit for those selected entries (ranks_to_edit),\n",
    "    replace these ranks with a new entry (new_entry)\"\"\"\n",
    "    if entry_select in list(joint_nttaxa_df[rank_select].unique()):\n",
    "        selection = (joint_nttaxa_df[rank_select] == entry_select)\n",
    "        selected_tax_ranks = ranks_to_edit\n",
    "        for ranks in selected_tax_ranks:\n",
    "            joint_nttaxa_df[ranks][selection] = new_entry"
   ]
  },
  {
   "cell_type": "code",
   "execution_count": 7,
   "metadata": {
    "collapsed": true
   },
   "outputs": [
    {
     "name": "stderr",
     "output_type": "stream",
     "text": [
      "/home/yiheng/anaconda3/lib/python3.6/site-packages/ipykernel_launcher.py:11: SettingWithCopyWarning: \n",
      "A value is trying to be set on a copy of a slice from a DataFrame\n",
      "\n",
      "See the caveats in the documentation: http://pandas.pydata.org/pandas-docs/stable/indexing.html#indexing-view-versus-copy\n",
      "  # This is added back by InteractiveShellApp.init_path()\n"
     ]
    }
   ],
   "source": [
    "manually_adjust_ncbi_taxonomy('species', \n",
    "                            'Cloning vector lambda TXF97', \n",
    "                            ['superkingdom', 'phylum', 'class', 'order', 'family', 'genus'], \n",
    "                            'Cloning vector lambda TXF97')\n",
    "\n",
    "manually_adjust_ncbi_taxonomy('superkingdom', \n",
    "                            'Viruses', \n",
    "                            ['phylum', 'class'], \n",
    "                            'dsDNA viruses, no RNA stage')"
   ]
  },
  {
   "cell_type": "code",
   "execution_count": 8,
   "metadata": {
    "collapsed": true
   },
   "outputs": [],
   "source": [
    "#count pivot table of dataframe with taxonomic columns: \n",
    "#rows - rank names, columns - barcode, sorted by desired class\n",
    "def generate_ncbi_taxonomy_pivot(tax_df, rank, bcs, num):\n",
    "    \"\"\"From tax_df, generate a pivot table listing num rank counts, sorted by bcs\"\"\"\n",
    "    pivot_table = tax_df.pivot_table(values='sequence_length_template', \n",
    "                                            index=rank, \n",
    "                                            columns='barcode_arrangement', \n",
    "                                            aggfunc='sum', \n",
    "                                            fill_value=0)\n",
    "    pivot_table.columns.name = None\n",
    "    return pivot_table.sort_values(bcs, axis=0, ascending=False).head(n=num)"
   ]
  },
  {
   "cell_type": "code",
   "execution_count": 9,
   "metadata": {
    "scrolled": true
   },
   "outputs": [
    {
     "data": {
      "text/html": [
       "<div>\n",
       "<style scoped>\n",
       "    .dataframe tbody tr th:only-of-type {\n",
       "        vertical-align: middle;\n",
       "    }\n",
       "\n",
       "    .dataframe tbody tr th {\n",
       "        vertical-align: top;\n",
       "    }\n",
       "\n",
       "    .dataframe thead th {\n",
       "        text-align: right;\n",
       "    }\n",
       "</style>\n",
       "<table border=\"1\" class=\"dataframe\">\n",
       "  <thead>\n",
       "    <tr style=\"text-align: right;\">\n",
       "      <th></th>\n",
       "      <th>barcode01</th>\n",
       "      <th>barcode02</th>\n",
       "      <th>barcode03</th>\n",
       "      <th>barcode04</th>\n",
       "      <th>barcode05</th>\n",
       "    </tr>\n",
       "    <tr>\n",
       "      <th>genus</th>\n",
       "      <th></th>\n",
       "      <th></th>\n",
       "      <th></th>\n",
       "      <th></th>\n",
       "      <th></th>\n",
       "    </tr>\n",
       "  </thead>\n",
       "  <tbody>\n",
       "    <tr>\n",
       "      <th>Pseudomonas</th>\n",
       "      <td>6891521</td>\n",
       "      <td>5098735</td>\n",
       "      <td>550911</td>\n",
       "      <td>7423767</td>\n",
       "      <td>69778</td>\n",
       "    </tr>\n",
       "    <tr>\n",
       "      <th>Erwinia</th>\n",
       "      <td>679463</td>\n",
       "      <td>19406</td>\n",
       "      <td>0</td>\n",
       "      <td>801</td>\n",
       "      <td>3962</td>\n",
       "    </tr>\n",
       "    <tr>\n",
       "      <th>Alternaria</th>\n",
       "      <td>398844</td>\n",
       "      <td>1488164</td>\n",
       "      <td>393167</td>\n",
       "      <td>1202371</td>\n",
       "      <td>32527</td>\n",
       "    </tr>\n",
       "    <tr>\n",
       "      <th>Puccinia</th>\n",
       "      <td>228659</td>\n",
       "      <td>0</td>\n",
       "      <td>0</td>\n",
       "      <td>24179</td>\n",
       "      <td>0</td>\n",
       "    </tr>\n",
       "    <tr>\n",
       "      <th>Pantoea</th>\n",
       "      <td>183938</td>\n",
       "      <td>38855</td>\n",
       "      <td>0</td>\n",
       "      <td>92930</td>\n",
       "      <td>3039</td>\n",
       "    </tr>\n",
       "    <tr>\n",
       "      <th>Serratia</th>\n",
       "      <td>99788</td>\n",
       "      <td>5289</td>\n",
       "      <td>0</td>\n",
       "      <td>3063</td>\n",
       "      <td>0</td>\n",
       "    </tr>\n",
       "    <tr>\n",
       "      <th>Enterobacter</th>\n",
       "      <td>50363</td>\n",
       "      <td>8733</td>\n",
       "      <td>0</td>\n",
       "      <td>606</td>\n",
       "      <td>0</td>\n",
       "    </tr>\n",
       "    <tr>\n",
       "      <th>Massilia</th>\n",
       "      <td>48395</td>\n",
       "      <td>37504</td>\n",
       "      <td>0</td>\n",
       "      <td>135274</td>\n",
       "      <td>0</td>\n",
       "    </tr>\n",
       "    <tr>\n",
       "      <th>Escherichia</th>\n",
       "      <td>47627</td>\n",
       "      <td>147907</td>\n",
       "      <td>27500</td>\n",
       "      <td>93883</td>\n",
       "      <td>71779</td>\n",
       "    </tr>\n",
       "    <tr>\n",
       "      <th>Phakopsora</th>\n",
       "      <td>39533</td>\n",
       "      <td>0</td>\n",
       "      <td>0</td>\n",
       "      <td>8217</td>\n",
       "      <td>0</td>\n",
       "    </tr>\n",
       "  </tbody>\n",
       "</table>\n",
       "</div>"
      ],
      "text/plain": [
       "              barcode01  barcode02  barcode03  barcode04  barcode05\n",
       "genus                                                              \n",
       "Pseudomonas     6891521    5098735     550911    7423767      69778\n",
       "Erwinia          679463      19406          0        801       3962\n",
       "Alternaria       398844    1488164     393167    1202371      32527\n",
       "Puccinia         228659          0          0      24179          0\n",
       "Pantoea          183938      38855          0      92930       3039\n",
       "Serratia          99788       5289          0       3063          0\n",
       "Enterobacter      50363       8733          0        606          0\n",
       "Massilia          48395      37504          0     135274          0\n",
       "Escherichia       47627     147907      27500      93883      71779\n",
       "Phakopsora        39533          0          0       8217          0"
      ]
     },
     "execution_count": 9,
     "metadata": {},
     "output_type": "execute_result"
    }
   ],
   "source": [
    "generate_ncbi_taxonomy_pivot(joint_nttaxa_df, 'genus','barcode01',10)"
   ]
  },
  {
   "cell_type": "code",
   "execution_count": 10,
   "metadata": {},
   "outputs": [],
   "source": [
    "barcode01_df = joint_totaltaxa_df[(joint_totaltaxa_df.barcode_arrangement.str.contains('barcode01')) & joint_totaltaxa_df.sseqid_rg.str.contains('Wheat')]\n",
    "barcode02_df = joint_totaltaxa_df[(joint_totaltaxa_df.barcode_arrangement.str.contains('barcode02')) & joint_totaltaxa_df.sseqid_rg.str.contains('Wheat')]\n",
    "barcode03_df = joint_totaltaxa_df[(joint_totaltaxa_df.barcode_arrangement.str.contains('barcode03')) & joint_totaltaxa_df.sseqid_rg.str.contains('Wheat')]\n",
    "barcode04_df = joint_totaltaxa_df[(joint_totaltaxa_df.barcode_arrangement.str.contains('barcode04')) & joint_totaltaxa_df.sseqid_rg.str.contains('Wheat')]\n",
    "barcode05_df = joint_totaltaxa_df[(joint_totaltaxa_df.barcode_arrangement.str.contains('barcode05')) & joint_totaltaxa_df.sseqid_rg.str.contains('Wheat')]"
   ]
  },
  {
   "cell_type": "code",
   "execution_count": 11,
   "metadata": {},
   "outputs": [],
   "source": [
    "barcode01_total_df = joint_totaltaxa_df[joint_totaltaxa_df.barcode_arrangement.str.contains('barcode01')]\n",
    "barcode02_total_df = joint_totaltaxa_df[joint_totaltaxa_df.barcode_arrangement.str.contains('barcode02')]\n",
    "barcode03_total_df = joint_totaltaxa_df[joint_totaltaxa_df.barcode_arrangement.str.contains('barcode03')]\n",
    "barcode04_total_df = joint_totaltaxa_df[joint_totaltaxa_df.barcode_arrangement.str.contains('barcode04')]\n",
    "barcode05_total_df = joint_totaltaxa_df[joint_totaltaxa_df.barcode_arrangement.str.contains('barcode05')]"
   ]
  },
  {
   "cell_type": "code",
   "execution_count": 12,
   "metadata": {},
   "outputs": [],
   "source": [
    "total_wheat_length_of_each_barcode_df = pd.DataFrame({'barcode01':sum(barcode01_total_df.sequence_length_template),\n",
    "                                                      'barcode02':sum(barcode02_total_df.sequence_length_template),\n",
    "                                                      'barcode03':sum(barcode03_total_df.sequence_length_template),\n",
    "                                                      'barcode04':sum(barcode04_total_df.sequence_length_template),\n",
    "                                                      'barcode05':sum(barcode05_total_df.sequence_length_template)},index = [0])"
   ]
  },
  {
   "cell_type": "code",
   "execution_count": 13,
   "metadata": {},
   "outputs": [],
   "source": [
    "pivot_df = generate_ncbi_taxonomy_pivot(joint_nttaxa_df, 'genus','barcode04',10)"
   ]
  },
  {
   "cell_type": "code",
   "execution_count": 14,
   "metadata": {},
   "outputs": [],
   "source": [
    "# % pivot table of dataframe with taxonomic columns: \n",
    "#rows - rank names, columns - barcode, sorted by desired class\n",
    "def generate_ncbi_taxonomy_pivot_pc(tax_df, rank, bcs, num):\n",
    "    \"\"\"From tax_df, generate a pivot table listing num rank %, sorted ascending by bcs\"\"\"\n",
    "    pivot_table_pc = generate_ncbi_taxonomy_pivot(tax_df, rank, bcs, num)\n",
    "    \n",
    "    for ind, brcs in enumerate(pivot_table_pc.columns):\n",
    "        pivot_table_pc[str(brcs) + '%'] = pivot_table_pc[brcs].apply(lambda x: (x / total_wheat_length_of_each_barcode_df.iloc[0,ind])*100)\n",
    "    for brcs in pivot_table_pc.columns:\n",
    "        if '%' not in brcs:\n",
    "            pivot_table_pc.drop(brcs, axis=1, inplace=True)\n",
    "    \n",
    "\n",
    "    pivot_table_pc2 = pivot_table_pc.sort_values(str(bcs) + '%', axis=0, ascending=False)\n",
    "    return pivot_table_pc2.applymap(lambda x: '%.3f' % x).head(n=num)"
   ]
  },
  {
   "cell_type": "code",
   "execution_count": 15,
   "metadata": {},
   "outputs": [
    {
     "data": {
      "text/html": [
       "<div>\n",
       "<style scoped>\n",
       "    .dataframe tbody tr th:only-of-type {\n",
       "        vertical-align: middle;\n",
       "    }\n",
       "\n",
       "    .dataframe tbody tr th {\n",
       "        vertical-align: top;\n",
       "    }\n",
       "\n",
       "    .dataframe thead th {\n",
       "        text-align: right;\n",
       "    }\n",
       "</style>\n",
       "<table border=\"1\" class=\"dataframe\">\n",
       "  <thead>\n",
       "    <tr style=\"text-align: right;\">\n",
       "      <th></th>\n",
       "      <th>barcode01%</th>\n",
       "      <th>barcode02%</th>\n",
       "      <th>barcode03%</th>\n",
       "      <th>barcode04%</th>\n",
       "      <th>barcode05%</th>\n",
       "    </tr>\n",
       "    <tr>\n",
       "      <th>species</th>\n",
       "      <th></th>\n",
       "      <th></th>\n",
       "      <th></th>\n",
       "      <th></th>\n",
       "      <th></th>\n",
       "    </tr>\n",
       "  </thead>\n",
       "  <tbody>\n",
       "    <tr>\n",
       "      <th>Pseudomonas syringae</th>\n",
       "      <td>0.725</td>\n",
       "      <td>0.424</td>\n",
       "      <td>0.021</td>\n",
       "      <td>0.516</td>\n",
       "      <td>0.003</td>\n",
       "    </tr>\n",
       "    <tr>\n",
       "      <th>Pseudomonas poae</th>\n",
       "      <td>0.070</td>\n",
       "      <td>0.106</td>\n",
       "      <td>0.010</td>\n",
       "      <td>0.167</td>\n",
       "      <td>0.006</td>\n",
       "    </tr>\n",
       "    <tr>\n",
       "      <th>Alternaria solani</th>\n",
       "      <td>0.037</td>\n",
       "      <td>0.133</td>\n",
       "      <td>0.038</td>\n",
       "      <td>0.093</td>\n",
       "      <td>0.004</td>\n",
       "    </tr>\n",
       "    <tr>\n",
       "      <th>Erwinia tasmaniensis</th>\n",
       "      <td>0.025</td>\n",
       "      <td>0.000</td>\n",
       "      <td>0.000</td>\n",
       "      <td>0.000</td>\n",
       "      <td>0.000</td>\n",
       "    </tr>\n",
       "    <tr>\n",
       "      <th>Erwinia pyrifoliae</th>\n",
       "      <td>0.019</td>\n",
       "      <td>0.001</td>\n",
       "      <td>0.000</td>\n",
       "      <td>0.000</td>\n",
       "      <td>0.000</td>\n",
       "    </tr>\n",
       "    <tr>\n",
       "      <th>Puccinia graminis</th>\n",
       "      <td>0.017</td>\n",
       "      <td>0.000</td>\n",
       "      <td>0.000</td>\n",
       "      <td>0.002</td>\n",
       "      <td>0.000</td>\n",
       "    </tr>\n",
       "    <tr>\n",
       "      <th>Erwinia billingiae</th>\n",
       "      <td>0.017</td>\n",
       "      <td>0.000</td>\n",
       "      <td>0.000</td>\n",
       "      <td>0.000</td>\n",
       "      <td>0.000</td>\n",
       "    </tr>\n",
       "    <tr>\n",
       "      <th>Alternaria alternata</th>\n",
       "      <td>0.014</td>\n",
       "      <td>0.066</td>\n",
       "      <td>0.018</td>\n",
       "      <td>0.046</td>\n",
       "      <td>0.001</td>\n",
       "    </tr>\n",
       "    <tr>\n",
       "      <th>Pseudomonas savastanoi</th>\n",
       "      <td>0.013</td>\n",
       "      <td>0.003</td>\n",
       "      <td>0.000</td>\n",
       "      <td>0.003</td>\n",
       "      <td>0.000</td>\n",
       "    </tr>\n",
       "    <tr>\n",
       "      <th>Erwinia sp. Ejp617</th>\n",
       "      <td>0.012</td>\n",
       "      <td>0.000</td>\n",
       "      <td>0.000</td>\n",
       "      <td>0.000</td>\n",
       "      <td>0.000</td>\n",
       "    </tr>\n",
       "    <tr>\n",
       "      <th>Pseudomonas syringae group genomosp. 3</th>\n",
       "      <td>0.011</td>\n",
       "      <td>0.002</td>\n",
       "      <td>0.002</td>\n",
       "      <td>0.009</td>\n",
       "      <td>0.000</td>\n",
       "    </tr>\n",
       "    <tr>\n",
       "      <th>Pseudomonas cerasi</th>\n",
       "      <td>0.011</td>\n",
       "      <td>0.028</td>\n",
       "      <td>0.000</td>\n",
       "      <td>0.006</td>\n",
       "      <td>0.000</td>\n",
       "    </tr>\n",
       "    <tr>\n",
       "      <th>Erwinia amylovora</th>\n",
       "      <td>0.010</td>\n",
       "      <td>0.000</td>\n",
       "      <td>0.000</td>\n",
       "      <td>0.000</td>\n",
       "      <td>0.000</td>\n",
       "    </tr>\n",
       "    <tr>\n",
       "      <th>Pseudomonas viridiflava</th>\n",
       "      <td>0.007</td>\n",
       "      <td>0.062</td>\n",
       "      <td>0.011</td>\n",
       "      <td>0.075</td>\n",
       "      <td>0.000</td>\n",
       "    </tr>\n",
       "    <tr>\n",
       "      <th>Puccinia striiformis</th>\n",
       "      <td>0.007</td>\n",
       "      <td>0.000</td>\n",
       "      <td>0.000</td>\n",
       "      <td>0.001</td>\n",
       "      <td>0.000</td>\n",
       "    </tr>\n",
       "    <tr>\n",
       "      <th>Pantoea vagans</th>\n",
       "      <td>0.006</td>\n",
       "      <td>0.000</td>\n",
       "      <td>0.000</td>\n",
       "      <td>0.002</td>\n",
       "      <td>0.000</td>\n",
       "    </tr>\n",
       "    <tr>\n",
       "      <th>Escherichia coli</th>\n",
       "      <td>0.006</td>\n",
       "      <td>0.020</td>\n",
       "      <td>0.004</td>\n",
       "      <td>0.011</td>\n",
       "      <td>0.011</td>\n",
       "    </tr>\n",
       "    <tr>\n",
       "      <th>Pantoea gaviniae</th>\n",
       "      <td>0.005</td>\n",
       "      <td>0.000</td>\n",
       "      <td>0.000</td>\n",
       "      <td>0.000</td>\n",
       "      <td>0.000</td>\n",
       "    </tr>\n",
       "    <tr>\n",
       "      <th>Pseudomonas chlororaphis</th>\n",
       "      <td>0.005</td>\n",
       "      <td>0.002</td>\n",
       "      <td>0.004</td>\n",
       "      <td>0.008</td>\n",
       "      <td>0.000</td>\n",
       "    </tr>\n",
       "    <tr>\n",
       "      <th>Serratia marcescens</th>\n",
       "      <td>0.005</td>\n",
       "      <td>0.000</td>\n",
       "      <td>0.000</td>\n",
       "      <td>0.000</td>\n",
       "      <td>0.000</td>\n",
       "    </tr>\n",
       "  </tbody>\n",
       "</table>\n",
       "</div>"
      ],
      "text/plain": [
       "                                       barcode01% barcode02% barcode03%  \\\n",
       "species                                                                   \n",
       "Pseudomonas syringae                        0.725      0.424      0.021   \n",
       "Pseudomonas poae                            0.070      0.106      0.010   \n",
       "Alternaria solani                           0.037      0.133      0.038   \n",
       "Erwinia tasmaniensis                        0.025      0.000      0.000   \n",
       "Erwinia pyrifoliae                          0.019      0.001      0.000   \n",
       "Puccinia graminis                           0.017      0.000      0.000   \n",
       "Erwinia billingiae                          0.017      0.000      0.000   \n",
       "Alternaria alternata                        0.014      0.066      0.018   \n",
       "Pseudomonas savastanoi                      0.013      0.003      0.000   \n",
       "Erwinia sp. Ejp617                          0.012      0.000      0.000   \n",
       "Pseudomonas syringae group genomosp. 3      0.011      0.002      0.002   \n",
       "Pseudomonas cerasi                          0.011      0.028      0.000   \n",
       "Erwinia amylovora                           0.010      0.000      0.000   \n",
       "Pseudomonas viridiflava                     0.007      0.062      0.011   \n",
       "Puccinia striiformis                        0.007      0.000      0.000   \n",
       "Pantoea vagans                              0.006      0.000      0.000   \n",
       "Escherichia coli                            0.006      0.020      0.004   \n",
       "Pantoea gaviniae                            0.005      0.000      0.000   \n",
       "Pseudomonas chlororaphis                    0.005      0.002      0.004   \n",
       "Serratia marcescens                         0.005      0.000      0.000   \n",
       "\n",
       "                                       barcode04% barcode05%  \n",
       "species                                                       \n",
       "Pseudomonas syringae                        0.516      0.003  \n",
       "Pseudomonas poae                            0.167      0.006  \n",
       "Alternaria solani                           0.093      0.004  \n",
       "Erwinia tasmaniensis                        0.000      0.000  \n",
       "Erwinia pyrifoliae                          0.000      0.000  \n",
       "Puccinia graminis                           0.002      0.000  \n",
       "Erwinia billingiae                          0.000      0.000  \n",
       "Alternaria alternata                        0.046      0.001  \n",
       "Pseudomonas savastanoi                      0.003      0.000  \n",
       "Erwinia sp. Ejp617                          0.000      0.000  \n",
       "Pseudomonas syringae group genomosp. 3      0.009      0.000  \n",
       "Pseudomonas cerasi                          0.006      0.000  \n",
       "Erwinia amylovora                           0.000      0.000  \n",
       "Pseudomonas viridiflava                     0.075      0.000  \n",
       "Puccinia striiformis                        0.001      0.000  \n",
       "Pantoea vagans                              0.002      0.000  \n",
       "Escherichia coli                            0.011      0.011  \n",
       "Pantoea gaviniae                            0.000      0.000  \n",
       "Pseudomonas chlororaphis                    0.008      0.000  \n",
       "Serratia marcescens                         0.000      0.000  "
      ]
     },
     "execution_count": 15,
     "metadata": {},
     "output_type": "execute_result"
    }
   ],
   "source": [
    "generate_ncbi_taxonomy_pivot_pc(joint_nttaxa_df, 'species', 'barcode01', 20)"
   ]
  },
  {
   "cell_type": "code",
   "execution_count": 16,
   "metadata": {},
   "outputs": [],
   "source": [
    "#Assesses number of barcodes, generates necessary number of plots (even) and relevant indexing system\n",
    "ncbiblast_barcodes = list(joint_nttaxa_df['barcode_arrangement'].unique())\n",
    "no_of_subplots = len(ncbiblast_barcodes)"
   ]
  },
  {
   "cell_type": "code",
   "execution_count": 17,
   "metadata": {},
   "outputs": [],
   "source": [
    "#Always 2 columns, bc-count/2 rows \n",
    "#no_of_subplots_pair = [int(no_of_subplots/2), 2]\n",
    "no_of_subplots_pair = [0, int(no_of_subplots)]\n",
    "#Produce pairs of indices correlating to the coordinates of the subplots\n",
    "#subplot_coordinates = list(range(no_of_subplots_pair[1]))\n",
    "#subplot_coordinates_list = [list(l) for l in subplot_coordinates]\n",
    "#subplot_coordinates_list_rows = [i[0] for i in subplot_coordinates_list]\n",
    "#subplot_coordinates_list_columns = [i[1] for i in subplot_coordinates_list]\n",
    "\n",
    "#fig, ax = plt.subplots(0, no_of_subplots, figsize=(20, 6))"
   ]
  },
  {
   "cell_type": "code",
   "execution_count": 18,
   "metadata": {},
   "outputs": [
    {
     "data": {
      "text/plain": [
       "[0, 5]"
      ]
     },
     "execution_count": 18,
     "metadata": {},
     "output_type": "execute_result"
    }
   ],
   "source": [
    "no_of_subplots_pair"
   ]
  },
  {
   "cell_type": "code",
   "execution_count": 19,
   "metadata": {},
   "outputs": [],
   "source": [
    "name_list = ['barcode01 (Stripe rust)', 'barcode02 (Septoria tritici blotch)', 'barcode03 (Yellow spot)', 'barcode04 (Stripe rust + Septoria tritici blotch)','barcode05 (Healthy wheat)' ]"
   ]
  },
  {
   "cell_type": "code",
   "execution_count": 20,
   "metadata": {
    "collapsed": true
   },
   "outputs": [],
   "source": [
    "def get_color(x):\n",
    "    x = x%10\n",
    "    return ('#%02X%02X%02X' % (int(plt.cm.tab10.colors[x][0]*255),int(plt.cm.tab10.colors[x][1]*255),int(plt.cm.tab10.colors[x][2]*255)))\n",
    "\n",
    "def applyTaxPlotStyle(ax_ind1, ax_ind2, bcs, rank, name):\n",
    "    labels = ''\n",
    "    labels = tuple(generate_ncbi_taxonomy_pivot_pc(joint_nttaxa_df, rank, bcs, 10)[bcs + '%'].index)\n",
    "    y_pos = ''\n",
    "    y_pos = np.arange(len(labels))\n",
    "    sizes = ''\n",
    "    sizes = tuple([float(i) for i in generate_ncbi_taxonomy_pivot_pc(joint_nttaxa_df, rank, bcs, 10)[bcs + '%']])\n",
    "    \n",
    "    ax[ax_ind1].barh(y_pos, sizes, align='center', alpha=0.4, color=get_color(2*ax_ind2 + ax_ind1))\n",
    "    ax[ax_ind1].set_yticks(y_pos)\n",
    "    ax[ax_ind1].set_yticklabels(labels)\n",
    "    ax[ax_ind1].tick_params(top=\"off\", right=\"off\", left=\"off\")\n",
    "    ax[ax_ind1].set_xlabel('Percentage of Microbe Total Length (%)')\n",
    "    ax[ax_ind1].set_xticks(range(0, 2),0.2)\n",
    "    ax[ax_ind1].set_title(name, fontsize=14)\n",
    "    ax[ax_ind1].invert_yaxis()\n",
    "    ax[ax_ind1].grid(b=None, which='major', axis='x', linestyle='dashed', linewidth=0.2)\n",
    "#    ax[ax_ind1, ax_ind2].annotate('E = 0.00001', \n",
    "#             xy=(1.06, 0.3), xycoords='axes fraction', fontsize=14, xytext=(-20, -30), textcoords='offset points', \n",
    "#             ha='right', va='bottom')\n",
    "\n",
    "    \n",
    "def generateTaxSubplots(search_rank):\n",
    "    for ax_ind1, ax_ind2, bcs, name in zip(range(0, 5), [0, 0, 0, 0, 0], ncbiblast_barcodes, name_list):\n",
    "        \n",
    "        applyTaxPlotStyle(ax_ind1, ax_ind2, bcs, search_rank, name)    \n",
    "\n",
    "    #if len(list(joint_nttaxa_df['barcode_arrangement'].unique())) != 0:\n",
    "    #    plt.delaxes(ax[0])\n",
    "    \n",
    "#    plt.suptitle('Reads Hitting NCBI Database - Percentage By ' + str(search_rank).title() + ' By Sample', \n",
    "#             fontsize='xx-large',\n",
    "#             y=1.02,\n",
    "#             fontweight=\"bold\")\n",
    "    \n",
    "    plt.subplots_adjust(left=None, bottom=None, right=None, top=None, wspace=1.4, hspace=0.4)\n",
    "    plt.tight_layout()\n",
    "    \n",
    "    plt.savefig(BASEDIR + '/figures/' + 'figure3_%s.png' % search_rank, bbox_inches='tight', dpi = 600)\n",
    "    plt.show()\n",
    "    print(ax_ind1, ax_ind2)        \n"
   ]
  },
  {
   "cell_type": "code",
   "execution_count": 21,
   "metadata": {},
   "outputs": [
    {
     "data": {
      "image/png": "[encoded data removed]",
      "text/plain": [
       "<matplotlib.figure.Figure at 0x7f9fd8706400>"
      ]
     },
     "metadata": {},
     "output_type": "display_data"
    },
    {
     "name": "stdout",
     "output_type": "stream",
     "text": [
      "4 0\n"
     ]
    }
   ],
   "source": [
    "fig, ax = plt.subplots(1, no_of_subplots, figsize=(40, 4))\n",
    "generateTaxSubplots('superkingdom')\n"
   ]
  },
  {
   "cell_type": "code",
   "execution_count": null,
   "metadata": {
    "collapsed": true
   },
   "outputs": [],
   "source": []
  },
  {
   "cell_type": "code",
   "execution_count": null,
   "metadata": {},
   "outputs": [],
   "source": []
  }
 ],
 "metadata": {
  "kernelspec": {
   "display_name": "Python 3",
   "language": "python",
   "name": "python3"
  },
  "language_info": {
   "codemirror_mode": {
    "name": "ipython",
    "version": 3
   },
   "file_extension": ".py",
   "mimetype": "text/x-python",
   "name": "python",
   "nbconvert_exporter": "python",
   "pygments_lexer": "ipython3",
   "version": "3.6.1"
  }
 },
 "nbformat": 4,
 "nbformat_minor": 2
}
