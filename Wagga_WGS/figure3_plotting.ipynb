{
 "cells": [
  {
   "cell_type": "markdown",
   "metadata": {},
   "source": [
    "This is a notebook that use the FLOCELLID_taxa.tab file in the WGS folder to generate ncbi hit plot for the four flowcells."
   ]
  },
  {
   "cell_type": "code",
   "execution_count": 1,
   "metadata": {
    "collapsed": true
   },
   "outputs": [],
   "source": [
    "import numpy as np\n",
    "import os\n",
    "import pandas as pd\n",
    "import matplotlib.pyplot as plt\n",
    "import matplotlib\n",
    "from itertools import product"
   ]
  },
  {
   "cell_type": "code",
   "execution_count": 2,
   "metadata": {
    "collapsed": true
   },
   "outputs": [],
   "source": [
    "BASEDIR = '/home/yiheng/analysis/WGS'"
   ]
  },
  {
   "cell_type": "code",
   "execution_count": 3,
   "metadata": {
    "collapsed": true
   },
   "outputs": [],
   "source": [
    "# get the summary dataframe for total reads\n",
    "FC1_totaltaxa = os.path.join(BASEDIR, 'run1_totaltaxa.tab')\n",
    "FC2_totaltaxa = os.path.join(BASEDIR, 'run2_totaltaxa.tab')\n",
    "FC3_totaltaxa = os.path.join(BASEDIR, 'FAH05432_totaltaxa.tab')\n",
    "FC4_totaltaxa = os.path.join(BASEDIR, 'FAH05731_totaltaxa.tab')\n",
    "\n",
    "FC1_totaltaxa_df = pd.read_csv(FC1_totaltaxa, sep = '\\t')\n",
    "FC2_totaltaxa_df = pd.read_csv(FC2_totaltaxa, sep = '\\t')\n",
    "FC3_totaltaxa_df = pd.read_csv(FC3_totaltaxa, sep = '\\t')\n",
    "FC4_totaltaxa_df = pd.read_csv(FC4_totaltaxa, sep = '\\t')\n",
    "\n",
    "# now get the summary dataframe for nt hit reads\n",
    "FC1_nttaxa = os.path.join(BASEDIR, 'run1_nttaxa.tab')\n",
    "FC2_nttaxa = os.path.join(BASEDIR, 'run2_nttaxa.tab')\n",
    "FC3_nttaxa = os.path.join(BASEDIR, 'FAH05432_nttaxa.tab')\n",
    "FC4_nttaxa = os.path.join(BASEDIR, 'FAH05731_nttaxa.tab')\n",
    "\n",
    "FC1_nttaxa_df = pd.read_csv(FC1_nttaxa, sep = '\\t')\n",
    "FC2_nttaxa_df = pd.read_csv(FC2_nttaxa, sep = '\\t')\n",
    "FC3_nttaxa_df = pd.read_csv(FC3_nttaxa, sep = '\\t')\n",
    "FC4_nttaxa_df = pd.read_csv(FC4_nttaxa, sep = '\\t')"
   ]
  },
  {
   "cell_type": "code",
   "execution_count": 4,
   "metadata": {
    "collapsed": true
   },
   "outputs": [],
   "source": [
    "joint_totaltaxa_df = pd.concat([FC1_totaltaxa_df,  \n",
    "                                FC2_totaltaxa_df,\n",
    "                                FC3_totaltaxa_df,\n",
    "                                FC4_totaltaxa_df], ignore_index=True)\n",
    "joint_nttaxa_df = pd.concat([FC1_nttaxa_df,  \n",
    "                             FC2_nttaxa_df,\n",
    "                             FC3_nttaxa_df,\n",
    "                             FC4_nttaxa_df], ignore_index=True)"
   ]
  },
  {
   "cell_type": "code",
   "execution_count": 5,
   "metadata": {
    "scrolled": true
   },
   "outputs": [
    {
     "data": {
      "text/plain": [
       "274003"
      ]
     },
     "execution_count": 5,
     "metadata": {},
     "output_type": "execute_result"
    }
   ],
   "source": [
    "len(joint_totaltaxa_df[joint_totaltaxa_df.barcode_arrangement.str.contains('barcode05')])"
   ]
  },
  {
   "cell_type": "code",
   "execution_count": 6,
   "metadata": {
    "collapsed": true
   },
   "outputs": [],
   "source": [
    "#Defines a function to make manual adjustments to the NCBI taxonomic sorting\n",
    "def manually_adjust_ncbi_taxonomy(rank_select, entry_select, ranks_to_edit, new_entry):\n",
    "    \"\"\"Select dataframe entries to edit by a specific rank (rank_select) \n",
    "    and entry related to that rank (entry_select), \n",
    "    provide a list of ranks to edit for those selected entries (ranks_to_edit),\n",
    "    replace these ranks with a new entry (new_entry)\"\"\"\n",
    "    if entry_select in list(joint_nttaxa_df[rank_select].unique()):\n",
    "        selection = (joint_nttaxa_df[rank_select] == entry_select)\n",
    "        selected_tax_ranks = ranks_to_edit\n",
    "        for ranks in selected_tax_ranks:\n",
    "            joint_nttaxa_df[ranks][selection] = new_entry"
   ]
  },
  {
   "cell_type": "code",
   "execution_count": 7,
   "metadata": {
    "collapsed": true
   },
   "outputs": [],
   "source": [
    "manually_adjust_ncbi_taxonomy('species', \n",
    "                            'Cloning vector lambda TXF97', \n",
    "                            ['superkingdom', 'phylum', 'class', 'order', 'family', 'genus'], \n",
    "                            'Cloning vector lambda TXF97')\n",
    "\n",
    "manually_adjust_ncbi_taxonomy('superkingdom', \n",
    "                            'Viruses', \n",
    "                            ['phylum', 'class'], \n",
    "                            'dsDNA viruses, no RNA stage')"
   ]
  },
  {
   "cell_type": "code",
   "execution_count": 8,
   "metadata": {
    "collapsed": true
   },
   "outputs": [],
   "source": [
    "#count pivot table of dataframe with taxonomic columns: \n",
    "#rows - rank names, columns - barcode, sorted by desired class\n",
    "def generate_ncbi_taxonomy_pivot(tax_df, rank, bcs, num):\n",
    "    \"\"\"From tax_df, generate a pivot table listing num rank counts, sorted by bcs\"\"\"\n",
    "    pivot_table = tax_df.pivot_table(values='order', \n",
    "                                            index=rank, \n",
    "                                            columns='barcode_arrangement', \n",
    "                                            aggfunc='count', \n",
    "                                            fill_value=0)\n",
    "    pivot_table.columns.name = None\n",
    "    return pivot_table.sort_values(bcs, axis=0, ascending=False).head(n=num)"
   ]
  },
  {
   "cell_type": "code",
   "execution_count": 9,
   "metadata": {
    "scrolled": true
   },
   "outputs": [
    {
     "data": {
      "text/html": [
       "<div>\n",
       "<style scoped>\n",
       "    .dataframe tbody tr th:only-of-type {\n",
       "        vertical-align: middle;\n",
       "    }\n",
       "\n",
       "    .dataframe tbody tr th {\n",
       "        vertical-align: top;\n",
       "    }\n",
       "\n",
       "    .dataframe thead th {\n",
       "        text-align: right;\n",
       "    }\n",
       "</style>\n",
       "<table border=\"1\" class=\"dataframe\">\n",
       "  <thead>\n",
       "    <tr style=\"text-align: right;\">\n",
       "      <th></th>\n",
       "      <th>barcode01</th>\n",
       "      <th>barcode02</th>\n",
       "      <th>barcode03</th>\n",
       "      <th>barcode04</th>\n",
       "      <th>barcode05</th>\n",
       "    </tr>\n",
       "    <tr>\n",
       "      <th>family</th>\n",
       "      <th></th>\n",
       "      <th></th>\n",
       "      <th></th>\n",
       "      <th></th>\n",
       "      <th></th>\n",
       "    </tr>\n",
       "  </thead>\n",
       "  <tbody>\n",
       "    <tr>\n",
       "      <th>Pseudomonadaceae</th>\n",
       "      <td>2457</td>\n",
       "      <td>1913</td>\n",
       "      <td>38</td>\n",
       "      <td>2736</td>\n",
       "      <td>218</td>\n",
       "    </tr>\n",
       "    <tr>\n",
       "      <th>Pleosporaceae</th>\n",
       "      <td>113</td>\n",
       "      <td>454</td>\n",
       "      <td>9</td>\n",
       "      <td>359</td>\n",
       "      <td>137</td>\n",
       "    </tr>\n",
       "    <tr>\n",
       "      <th>Sphingomonadaceae</th>\n",
       "      <td>3</td>\n",
       "      <td>303</td>\n",
       "      <td>4</td>\n",
       "      <td>198</td>\n",
       "      <td>6</td>\n",
       "    </tr>\n",
       "    <tr>\n",
       "      <th>Hymenobacteraceae</th>\n",
       "      <td>1</td>\n",
       "      <td>125</td>\n",
       "      <td>1</td>\n",
       "      <td>92</td>\n",
       "      <td>3</td>\n",
       "    </tr>\n",
       "    <tr>\n",
       "      <th>Mycosphaerellaceae</th>\n",
       "      <td>7</td>\n",
       "      <td>298</td>\n",
       "      <td>4</td>\n",
       "      <td>86</td>\n",
       "      <td>5</td>\n",
       "    </tr>\n",
       "  </tbody>\n",
       "</table>\n",
       "</div>"
      ],
      "text/plain": [
       "                    barcode01  barcode02  barcode03  barcode04  barcode05\n",
       "family                                                                   \n",
       "Pseudomonadaceae         2457       1913         38       2736        218\n",
       "Pleosporaceae             113        454          9        359        137\n",
       "Sphingomonadaceae           3        303          4        198          6\n",
       "Hymenobacteraceae           1        125          1         92          3\n",
       "Mycosphaerellaceae          7        298          4         86          5"
      ]
     },
     "execution_count": 9,
     "metadata": {},
     "output_type": "execute_result"
    }
   ],
   "source": [
    "generate_ncbi_taxonomy_pivot(joint_nttaxa_df, 'family','barcode04',5)"
   ]
  },
  {
   "cell_type": "code",
   "execution_count": 10,
   "metadata": {},
   "outputs": [],
   "source": [
    "total_no_of_each_barcode_df = pd.DataFrame({'barcode01':len(joint_totaltaxa_df[joint_totaltaxa_df.barcode_arrangement.str.contains('barcode01')]),\n",
    "                                            'barcode02':len(joint_totaltaxa_df[joint_totaltaxa_df.barcode_arrangement.str.contains('barcode02')]),\n",
    "                                            'barcode03':len(joint_totaltaxa_df[joint_totaltaxa_df.barcode_arrangement.str.contains('barcode03')]),\n",
    "                                            'barcode04':len(joint_totaltaxa_df[joint_totaltaxa_df.barcode_arrangement.str.contains('barcode04')]),\n",
    "                                            'barcode05':len(joint_totaltaxa_df[joint_totaltaxa_df.barcode_arrangement.str.contains('barcode05')])},index = [0])"
   ]
  },
  {
   "cell_type": "code",
   "execution_count": 11,
   "metadata": {},
   "outputs": [],
   "source": [
    "pivot_df = generate_ncbi_taxonomy_pivot(joint_nttaxa_df, 'genus','barcode04',10)"
   ]
  },
  {
   "cell_type": "code",
   "execution_count": 12,
   "metadata": {},
   "outputs": [],
   "source": [
    "# % pivot table of dataframe with taxonomic columns: \n",
    "#rows - rank names, columns - barcode, sorted by desired class\n",
    "def generate_ncbi_taxonomy_pivot_pc(tax_df, rank, bcs, num):\n",
    "    \"\"\"From tax_df, generate a pivot table listing num rank %, sorted ascending by bcs\"\"\"\n",
    "    pivot_table_pc = generate_ncbi_taxonomy_pivot(tax_df, rank, bcs, num)\n",
    "    \n",
    "    for ind, brcs in enumerate(pivot_table_pc.columns):\n",
    "        pivot_table_pc[str(brcs) + '%'] = pivot_table_pc[brcs].apply(lambda x: (x / total_no_of_each_barcode_df.iloc[0,ind])*100)\n",
    "    for brcs in pivot_table_pc.columns:\n",
    "        if '%' not in brcs:\n",
    "            pivot_table_pc.drop(brcs, axis=1, inplace=True)\n",
    "    \n",
    "\n",
    "    pivot_table_pc2 = pivot_table_pc.sort_values(str(bcs) + '%', axis=0, ascending=False)\n",
    "    return pivot_table_pc2.applymap(lambda x: '%.3f' % x).head(n=num)"
   ]
  },
  {
   "cell_type": "code",
   "execution_count": 13,
   "metadata": {},
   "outputs": [
    {
     "data": {
      "text/html": [
       "<div>\n",
       "<style scoped>\n",
       "    .dataframe tbody tr th:only-of-type {\n",
       "        vertical-align: middle;\n",
       "    }\n",
       "\n",
       "    .dataframe tbody tr th {\n",
       "        vertical-align: top;\n",
       "    }\n",
       "\n",
       "    .dataframe thead th {\n",
       "        text-align: right;\n",
       "    }\n",
       "</style>\n",
       "<table border=\"1\" class=\"dataframe\">\n",
       "  <thead>\n",
       "    <tr style=\"text-align: right;\">\n",
       "      <th></th>\n",
       "      <th>barcode01%</th>\n",
       "      <th>barcode02%</th>\n",
       "      <th>barcode03%</th>\n",
       "      <th>barcode04%</th>\n",
       "      <th>barcode05%</th>\n",
       "    </tr>\n",
       "    <tr>\n",
       "      <th>species</th>\n",
       "      <th></th>\n",
       "      <th></th>\n",
       "      <th></th>\n",
       "      <th></th>\n",
       "      <th></th>\n",
       "    </tr>\n",
       "  </thead>\n",
       "  <tbody>\n",
       "    <tr>\n",
       "      <th>Pseudomonas syringae</th>\n",
       "      <td>0.588</td>\n",
       "      <td>0.332</td>\n",
       "      <td>0.003</td>\n",
       "      <td>0.427</td>\n",
       "      <td>0.020</td>\n",
       "    </tr>\n",
       "    <tr>\n",
       "      <th>Pseudomonas poae</th>\n",
       "      <td>0.058</td>\n",
       "      <td>0.089</td>\n",
       "      <td>0.009</td>\n",
       "      <td>0.171</td>\n",
       "      <td>0.015</td>\n",
       "    </tr>\n",
       "    <tr>\n",
       "      <th>Alternaria alternata</th>\n",
       "      <td>0.024</td>\n",
       "      <td>0.096</td>\n",
       "      <td>0.002</td>\n",
       "      <td>0.075</td>\n",
       "      <td>0.034</td>\n",
       "    </tr>\n",
       "    <tr>\n",
       "      <th>Erwinia tasmaniensis</th>\n",
       "      <td>0.017</td>\n",
       "      <td>0.000</td>\n",
       "      <td>0.000</td>\n",
       "      <td>0.000</td>\n",
       "      <td>0.000</td>\n",
       "    </tr>\n",
       "    <tr>\n",
       "      <th>Puccinia graminis</th>\n",
       "      <td>0.017</td>\n",
       "      <td>0.000</td>\n",
       "      <td>0.000</td>\n",
       "      <td>0.002</td>\n",
       "      <td>0.000</td>\n",
       "    </tr>\n",
       "    <tr>\n",
       "      <th>Pseudomonas cerasi</th>\n",
       "      <td>0.015</td>\n",
       "      <td>0.026</td>\n",
       "      <td>0.000</td>\n",
       "      <td>0.010</td>\n",
       "      <td>0.001</td>\n",
       "    </tr>\n",
       "    <tr>\n",
       "      <th>Erwinia pyrifoliae</th>\n",
       "      <td>0.015</td>\n",
       "      <td>0.001</td>\n",
       "      <td>0.000</td>\n",
       "      <td>0.000</td>\n",
       "      <td>0.000</td>\n",
       "    </tr>\n",
       "    <tr>\n",
       "      <th>Erwinia billingiae</th>\n",
       "      <td>0.015</td>\n",
       "      <td>0.000</td>\n",
       "      <td>0.000</td>\n",
       "      <td>0.000</td>\n",
       "      <td>0.000</td>\n",
       "    </tr>\n",
       "    <tr>\n",
       "      <th>Pseudomonas savastanoi</th>\n",
       "      <td>0.012</td>\n",
       "      <td>0.004</td>\n",
       "      <td>0.000</td>\n",
       "      <td>0.004</td>\n",
       "      <td>0.000</td>\n",
       "    </tr>\n",
       "    <tr>\n",
       "      <th>Erwinia sp. Ejp617</th>\n",
       "      <td>0.009</td>\n",
       "      <td>0.000</td>\n",
       "      <td>0.000</td>\n",
       "      <td>0.000</td>\n",
       "      <td>0.000</td>\n",
       "    </tr>\n",
       "  </tbody>\n",
       "</table>\n",
       "</div>"
      ],
      "text/plain": [
       "                       barcode01% barcode02% barcode03% barcode04% barcode05%\n",
       "species                                                                      \n",
       "Pseudomonas syringae        0.588      0.332      0.003      0.427      0.020\n",
       "Pseudomonas poae            0.058      0.089      0.009      0.171      0.015\n",
       "Alternaria alternata        0.024      0.096      0.002      0.075      0.034\n",
       "Erwinia tasmaniensis        0.017      0.000      0.000      0.000      0.000\n",
       "Puccinia graminis           0.017      0.000      0.000      0.002      0.000\n",
       "Pseudomonas cerasi          0.015      0.026      0.000      0.010      0.001\n",
       "Erwinia pyrifoliae          0.015      0.001      0.000      0.000      0.000\n",
       "Erwinia billingiae          0.015      0.000      0.000      0.000      0.000\n",
       "Pseudomonas savastanoi      0.012      0.004      0.000      0.004      0.000\n",
       "Erwinia sp. Ejp617          0.009      0.000      0.000      0.000      0.000"
      ]
     },
     "execution_count": 13,
     "metadata": {},
     "output_type": "execute_result"
    }
   ],
   "source": [
    "generate_ncbi_taxonomy_pivot_pc(joint_nttaxa_df, 'species', 'barcode01', 10)"
   ]
  },
  {
   "cell_type": "code",
   "execution_count": 14,
   "metadata": {},
   "outputs": [],
   "source": [
    "#Assesses number of barcodes, generates necessary number of plots (even) and relevant indexing system\n",
    "ncbiblast_barcodes = list(joint_nttaxa_df['barcode_arrangement'].unique())\n",
    "no_of_subplots = len(ncbiblast_barcodes)+1"
   ]
  },
  {
   "cell_type": "code",
   "execution_count": 15,
   "metadata": {},
   "outputs": [],
   "source": [
    "#Always 2 columns, bc-count/2 rows \n",
    "no_of_subplots_pair = [int(no_of_subplots/2), 2]\n",
    "\n",
    "#Produce pairs of indices correlating to the coordinates of the subplots\n",
    "subplot_coordinates = list(product(range(no_of_subplots_pair[0]), range(no_of_subplots_pair[1])))\n",
    "subplot_coordinates_list = [list(l) for l in subplot_coordinates]\n",
    "subplot_coordinates_list_rows = [i[0] for i in subplot_coordinates_list]\n",
    "subplot_coordinates_list_columns = [i[1] for i in subplot_coordinates_list]\n",
    "\n",
    "fig, ax = plt.subplots(no_of_subplots_pair[1], no_of_subplots_pair[0], figsize=(20, 6))"
   ]
  },
  {
   "cell_type": "code",
   "execution_count": 16,
   "metadata": {},
   "outputs": [],
   "source": [
    "name_list = ['Stripe rust', 'Septoria tritici blotch', 'Healthy wheat', 'Stripe rust and septoria tritici blotch', 'Yellow spot']"
   ]
  },
  {
   "cell_type": "code",
   "execution_count": 17,
   "metadata": {
    "collapsed": true
   },
   "outputs": [],
   "source": [
    "def get_color(x):\n",
    "    x = x%10\n",
    "    return ('#%02X%02X%02X' % (int(plt.cm.tab10.colors[x][0]*255),int(plt.cm.tab10.colors[x][1]*255),int(plt.cm.tab10.colors[x][2]*255)))\n",
    "\n",
    "def applyTaxPlotStyle(ax_ind1, ax_ind2, bcs, rank, name):\n",
    "    labels = ''\n",
    "    labels = tuple(generate_ncbi_taxonomy_pivot_pc(joint_nttaxa_df, rank, bcs, 10)[bcs + '%'].index)\n",
    "    y_pos = ''\n",
    "    y_pos = np.arange(len(labels))\n",
    "    sizes = ''\n",
    "    sizes = tuple([float(i) for i in generate_ncbi_taxonomy_pivot_pc(joint_nttaxa_df, rank, bcs, 10)[bcs + '%']])\n",
    "    \n",
    "    ax[ax_ind1, ax_ind2].barh(y_pos, sizes, align='center', alpha=0.4, color=get_color(2*ax_ind2 + ax_ind1))\n",
    "    ax[ax_ind1, ax_ind2].set_yticks(y_pos)\n",
    "    ax[ax_ind1, ax_ind2].set_yticklabels(labels)\n",
    "    ax[ax_ind1, ax_ind2].tick_params(top=\"off\", right=\"off\", left=\"off\")\n",
    "    ax[ax_ind1, ax_ind2].set_xlabel('Percentage of Total Reads Hitting NCBI')\n",
    "    ax[ax_ind1, ax_ind2].set_xticks(range(0, 2),0.2)\n",
    "    ax[ax_ind1, ax_ind2].set_title(name, fontsize=14)\n",
    "    ax[ax_ind1, ax_ind2].invert_yaxis()\n",
    "    ax[ax_ind1, ax_ind2].grid(b=None, which='major', axis='x', linestyle='dashed', linewidth=0.2)\n",
    "    ax[ax_ind1, ax_ind2].annotate('E = 0.00001', \n",
    "             xy=(1.06, 0.3), xycoords='axes fraction', fontsize=14, xytext=(-20, -30), textcoords='offset points', \n",
    "             ha='right', va='bottom')\n",
    "\n",
    "    \n",
    "def generateTaxSubplots(search_rank):\n",
    "    for ax_ind1, ax_ind2, bcs, name in zip(subplot_coordinates_list_columns, subplot_coordinates_list_rows, ncbiblast_barcodes, name_list):\n",
    "        applyTaxPlotStyle(ax_ind1, ax_ind2, bcs, search_rank, name)    \n",
    "\n",
    "    if len(list(joint_nttaxa_df['barcode_arrangement'].unique())) != 0:\n",
    "        plt.delaxes(ax[subplot_coordinates_list_columns[-1], subplot_coordinates_list_rows[-1]])\n",
    "    \n",
    "    plt.suptitle('Reads Hitting NCBI Database - Percentage By ' + str(search_rank).title() + ' By Sample', \n",
    "             fontsize='xx-large',\n",
    "             y=1.02,\n",
    "             fontweight=\"bold\")\n",
    "    \n",
    "    plt.subplots_adjust(left=None, bottom=None, right=None, top=None, wspace=1.4, hspace=0.4)\n",
    "    plt.tight_layout()\n",
    "    \n",
    "    plt.savefig(BASEDIR + '/figures/' + 'figure3_%s.png' % search_rank, bbox_inches='tight', dpi = 600)\n",
    "    plt.show()\n",
    "            \n"
   ]
  },
  {
   "cell_type": "code",
   "execution_count": 19,
   "metadata": {},
   "outputs": [
    {
     "data": {
      "image/png": "[encoded data removed]",
      "text/plain": [
       "<matplotlib.figure.Figure at 0x7f224fae83c8>"
      ]
     },
     "metadata": {},
     "output_type": "display_data"
    }
   ],
   "source": [
    "fig, ax = plt.subplots(no_of_subplots_pair[1], no_of_subplots_pair[0], figsize=(18, 6))\n",
    "generateTaxSubplots('family')"
   ]
  },
  {
   "cell_type": "code",
   "execution_count": null,
   "metadata": {
    "collapsed": true
   },
   "outputs": [],
   "source": []
  },
  {
   "cell_type": "code",
   "execution_count": null,
   "metadata": {
    "collapsed": true
   },
   "outputs": [],
   "source": []
  },
  {
   "cell_type": "code",
   "execution_count": null,
   "metadata": {},
   "outputs": [],
   "source": []
  }
 ],
 "metadata": {
  "kernelspec": {
   "display_name": "Python 3",
   "language": "python",
   "name": "python3"
  },
  "language_info": {
   "codemirror_mode": {
    "name": "ipython",
    "version": 3
   },
   "file_extension": ".py",
   "mimetype": "text/x-python",
   "name": "python",
   "nbconvert_exporter": "python",
   "pygments_lexer": "ipython3",
   "version": "3.6.1"
  }
 },
 "nbformat": 4,
 "nbformat_minor": 2
}
