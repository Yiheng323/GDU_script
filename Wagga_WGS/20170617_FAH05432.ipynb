{
 "cells": [
  {
   "cell_type": "code",
   "execution_count": 1,
   "metadata": {
    "collapsed": true
   },
   "outputs": [],
   "source": [
    "import argparse\n",
    "import os\n",
    "import subprocess\n",
    "import datetime\n"
   ]
  },
  {
   "cell_type": "code",
   "execution_count": 2,
   "metadata": {
    "collapsed": true
   },
   "outputs": [],
   "source": [
    "parser = argparse.ArgumentParser(description=\"dada\")"
   ]
  },
  {
   "cell_type": "markdown",
   "metadata": {},
   "source": [
    "This will be a dummy notebook for generating the analysis scripts for Yihengs WGS nanopore data analysis"
   ]
  },
  {
   "cell_type": "code",
   "execution_count": 3,
   "metadata": {},
   "outputs": [
    {
     "data": {
      "text/plain": [
       "'/home/yiheng/script/jpn'"
      ]
     },
     "execution_count": 3,
     "metadata": {},
     "output_type": "execute_result"
    }
   ],
   "source": [
    "os.getcwd()\n"
   ]
  },
  {
   "cell_type": "code",
   "execution_count": 4,
   "metadata": {
    "collapsed": true
   },
   "outputs": [],
   "source": [
    "#stuff you get from argparse\n",
    "INDIR='/home/yiheng/data/20170617_FAH05432'\n",
    "sep_barcodes = '01,02,03,04,05,06,07'\n",
    "BLAST_DB_1 = 'rg'\n",
    "BLAST_DB_2 = 'nt'\n",
    "threads = '8'\n",
    "ram = '5g'\n"
   ]
  },
  {
   "cell_type": "code",
   "execution_count": 5,
   "metadata": {
    "collapsed": true
   },
   "outputs": [],
   "source": [
    "#get the date\n",
    "now = datetime.datetime.now()\n",
    "date = now.strftime(\"%Y%m%d\")"
   ]
  },
  {
   "cell_type": "code",
   "execution_count": 6,
   "metadata": {
    "collapsed": true
   },
   "outputs": [],
   "source": [
    "#define the path for control DNA sequence for nanolyse\n",
    "CDS_PATH = '/home/yiheng/bio/ncbi/db/DNA_CS.fasta.gz'"
   ]
  },
  {
   "cell_type": "code",
   "execution_count": 7,
   "metadata": {},
   "outputs": [
    {
     "data": {
      "text/plain": [
       "'20180620'"
      ]
     },
     "execution_count": 7,
     "metadata": {},
     "output_type": "execute_result"
    }
   ],
   "source": [
    "date"
   ]
  },
  {
   "cell_type": "code",
   "execution_count": 8,
   "metadata": {
    "collapsed": true
   },
   "outputs": [],
   "source": [
    "if not os.path.exists(INDIR):\n",
    "    print('INDIR %s does not exsist. Exit!' % INDIR)\n",
    "    #exit()"
   ]
  },
  {
   "cell_type": "code",
   "execution_count": 9,
   "metadata": {},
   "outputs": [
    {
     "data": {
      "text/plain": [
       "['basecalled_data', 'scripts', 'workspace', 'tracking', 'analysis']"
      ]
     },
     "execution_count": 9,
     "metadata": {},
     "output_type": "execute_result"
    }
   ],
   "source": [
    "os.listdir(INDIR)"
   ]
  },
  {
   "cell_type": "code",
   "execution_count": 10,
   "metadata": {},
   "outputs": [
    {
     "data": {
      "text/plain": [
       "'/home/yiheng/data/20170617_FAH05432'"
      ]
     },
     "execution_count": 10,
     "metadata": {},
     "output_type": "execute_result"
    }
   ],
   "source": [
    "os.path.abspath(INDIR)"
   ]
  },
  {
   "cell_type": "code",
   "execution_count": 11,
   "metadata": {
    "collapsed": true
   },
   "outputs": [],
   "source": [
    "SCRIPT_FOLDER = os.path.join(os.path.abspath(INDIR), 'scripts')\n",
    "WORKSPACE = os.path.join(os.path.abspath(INDIR), 'workspace')\n",
    "TRACKING = os.path.join(os.path.abspath(INDIR), 'tracking')\n",
    "if not os.path.exists(SCRIPT_FOLDER):\n",
    "    os.mkdir(SCRIPT_FOLDER)\n",
    "if not os.path.exists(WORKSPACE):\n",
    "    os.mkdir(WORKSPACE)\n",
    "if not os.path.exists(TRACKING):\n",
    "    os.mkdir(TRACKING)"
   ]
  },
  {
   "cell_type": "code",
   "execution_count": 12,
   "metadata": {
    "collapsed": true
   },
   "outputs": [],
   "source": [
    "BASECALLFOLDER = os.path.join(os.path.abspath(INDIR),'basecalled_data' )"
   ]
  },
  {
   "cell_type": "code",
   "execution_count": 13,
   "metadata": {
    "collapsed": true
   },
   "outputs": [],
   "source": [
    "#now check again if the basecalled data is there\n",
    "if not os.path.exists(BASECALLFOLDER):\n",
    "    print('No basecalled data in %s. Exit!' % INDIR)\n",
    "    #exit()"
   ]
  },
  {
   "cell_type": "code",
   "execution_count": 14,
   "metadata": {},
   "outputs": [
    {
     "data": {
      "text/plain": [
       "['Hu_FAH05432_albacore202.tar.gz', 'Hu_FAH05432_albacore202']"
      ]
     },
     "execution_count": 14,
     "metadata": {},
     "output_type": "execute_result"
    }
   ],
   "source": [
    "os.listdir(BASECALLFOLDER)"
   ]
  },
  {
   "cell_type": "code",
   "execution_count": 15,
   "metadata": {
    "collapsed": true
   },
   "outputs": [],
   "source": [
    "if  len([os.path.join(BASECALLFOLDER, x) for x in os.listdir(BASECALLFOLDER) if x.endswith('tar.gz')]) == 1:\n",
    "    tar_file = [os.path.join(BASECALLFOLDER, x) for x in os.listdir(BASECALLFOLDER) if x.endswith('tar.gz')][0]\n",
    "    runid = tar_file.split('/')[-1].split('.')[0] \n",
    "else:\n",
    "        print('None or mulitiple tar files')"
   ]
  },
  {
   "cell_type": "code",
   "execution_count": 16,
   "metadata": {},
   "outputs": [
    {
     "name": "stdout",
     "output_type": "stream",
     "text": [
      "tar -xvf /home/yiheng/data/20170617_FAH05432/basecalled_data/Hu_FAH05432_albacore202.tar.gz\n"
     ]
    }
   ],
   "source": [
    "#now untar the tar gz file\n",
    "os.chdir(BASECALLFOLDER)\n",
    "unzip_command = 'tar -xvf %s' %(tar_file)\n",
    "print(unzip_command)\n",
    "unzip_command_stderr = subprocess.check_output(unzip_command, shell=True, stderr=subprocess.STDOUT)\n"
   ]
  },
  {
   "cell_type": "code",
   "execution_count": 17,
   "metadata": {
    "collapsed": true
   },
   "outputs": [],
   "source": [
    "#now we should have generated the folder with the basecallded data\n",
    "BASECALLED_DATA_FOLDER = os.path.join(BASECALLFOLDER, tar_file.split('.')[0])\n",
    "if not os.path.exists(BASECALLED_DATA_FOLDER):\n",
    "    print(\"Something with the unzipping of the basecalled data went wrong.\")\n"
   ]
  },
  {
   "cell_type": "code",
   "execution_count": 18,
   "metadata": {},
   "outputs": [
    {
     "name": "stdout",
     "output_type": "stream",
     "text": [
      "Something with the unzipping of the basecalled data went wrong.\n"
     ]
    }
   ],
   "source": [
    "#check the contents in the zipped folder\n",
    "content = ['workspace', 'configuration.cfg', 'sequencing_summary.txt', 'pipeline.log']\n",
    "if not set(os.listdir(BASECALLED_DATA_FOLDER)) == set(content):\n",
    "    print(\"Something with the unzipping of the basecalled data went wrong.\")\n",
    "\n",
    "BASECALLED_DATA_WORKSPACE = os.path.join(BASECALLED_DATA_FOLDER, 'workspace')"
   ]
  },
  {
   "cell_type": "code",
   "execution_count": 19,
   "metadata": {},
   "outputs": [
    {
     "data": {
      "text/plain": [
       "['barcode01',\n",
       " 'barcode02',\n",
       " 'barcode03',\n",
       " 'barcode04',\n",
       " 'barcode05',\n",
       " 'barcode06',\n",
       " 'barcode07',\n",
       " 'barcode08',\n",
       " 'barcode09',\n",
       " 'barcode10',\n",
       " 'barcode11',\n",
       " 'barcode12',\n",
       " 'barcode13',\n",
       " 'barcode14',\n",
       " 'barcode15',\n",
       " 'barcode16',\n",
       " 'barcode17',\n",
       " 'barcode18',\n",
       " 'barcode19',\n",
       " 'barcode20',\n",
       " 'barcode21',\n",
       " 'barcode22',\n",
       " 'barcode23',\n",
       " 'barcode24',\n",
       " 'barcode25',\n",
       " 'barcode26',\n",
       " 'barcode27',\n",
       " 'barcode28',\n",
       " 'barcode29',\n",
       " 'barcode30',\n",
       " 'barcode31',\n",
       " 'barcode32',\n",
       " 'barcode33',\n",
       " 'barcode34',\n",
       " 'barcode35',\n",
       " 'barcode36',\n",
       " 'barcode37',\n",
       " 'barcode38',\n",
       " 'barcode39',\n",
       " 'barcode40',\n",
       " 'barcode41',\n",
       " 'barcode42',\n",
       " 'barcode43',\n",
       " 'barcode44',\n",
       " 'barcode45',\n",
       " 'barcode46',\n",
       " 'barcode47',\n",
       " 'barcode48',\n",
       " 'barcode49',\n",
       " 'barcode50',\n",
       " 'barcode51',\n",
       " 'barcode52',\n",
       " 'barcode53',\n",
       " 'barcode54',\n",
       " 'barcode55',\n",
       " 'barcode56',\n",
       " 'barcode57',\n",
       " 'barcode58',\n",
       " 'barcode59',\n",
       " 'barcode60',\n",
       " 'barcode61',\n",
       " 'barcode62',\n",
       " 'barcode63',\n",
       " 'barcode64',\n",
       " 'barcode65',\n",
       " 'barcode66',\n",
       " 'barcode67',\n",
       " 'barcode68',\n",
       " 'barcode69',\n",
       " 'barcode70',\n",
       " 'barcode71',\n",
       " 'barcode72',\n",
       " 'barcode73',\n",
       " 'barcode74',\n",
       " 'barcode75',\n",
       " 'barcode76',\n",
       " 'barcode77',\n",
       " 'barcode78',\n",
       " 'barcode79',\n",
       " 'barcode80',\n",
       " 'barcode81',\n",
       " 'barcode82',\n",
       " 'barcode83',\n",
       " 'barcode84',\n",
       " 'barcode85',\n",
       " 'barcode86',\n",
       " 'barcode87',\n",
       " 'barcode88',\n",
       " 'barcode89',\n",
       " 'barcode90',\n",
       " 'barcode91',\n",
       " 'barcode92',\n",
       " 'barcode93',\n",
       " 'barcode94',\n",
       " 'barcode95',\n",
       " 'barcode96',\n",
       " 'unclassified',\n",
       " 'barcode00']"
      ]
     },
     "execution_count": 19,
     "metadata": {},
     "output_type": "execute_result"
    }
   ],
   "source": [
    "PASS_FOLDER = os.path.join(BASECALLED_DATA_WORKSPACE, 'pass')\n",
    "os.listdir(PASS_FOLDER)"
   ]
  },
  {
   "cell_type": "code",
   "execution_count": 20,
   "metadata": {},
   "outputs": [
    {
     "data": {
      "text/plain": [
       "['barcode01',\n",
       " 'barcode02',\n",
       " 'barcode03',\n",
       " 'barcode04',\n",
       " 'barcode05',\n",
       " 'barcode06',\n",
       " 'barcode07',\n",
       " 'barcode08',\n",
       " 'barcode11',\n",
       " 'barcode12',\n",
       " 'barcode13',\n",
       " 'barcode16',\n",
       " 'barcode19',\n",
       " 'barcode20',\n",
       " 'barcode21',\n",
       " 'barcode22',\n",
       " 'barcode24',\n",
       " 'barcode30',\n",
       " 'barcode31',\n",
       " 'barcode32',\n",
       " 'barcode37',\n",
       " 'barcode39',\n",
       " 'barcode40',\n",
       " 'barcode41',\n",
       " 'barcode42',\n",
       " 'barcode43',\n",
       " 'barcode53',\n",
       " 'barcode58',\n",
       " 'barcode60',\n",
       " 'barcode61',\n",
       " 'barcode63',\n",
       " 'barcode69',\n",
       " 'barcode72',\n",
       " 'barcode75',\n",
       " 'barcode76',\n",
       " 'barcode78',\n",
       " 'barcode79',\n",
       " 'barcode81',\n",
       " 'barcode82',\n",
       " 'barcode83',\n",
       " 'barcode89',\n",
       " 'barcode91',\n",
       " 'barcode92',\n",
       " 'barcode95',\n",
       " 'unclassified',\n",
       " 'barcode00']"
      ]
     },
     "execution_count": 20,
     "metadata": {},
     "output_type": "execute_result"
    }
   ],
   "source": [
    "FAIL_FOLDER = os.path.join(BASECALLED_DATA_WORKSPACE, 'fail')\n",
    "os.listdir(FAIL_FOLDER)"
   ]
  },
  {
   "cell_type": "code",
   "execution_count": 21,
   "metadata": {
    "collapsed": true
   },
   "outputs": [],
   "source": [
    "sep_barcodes_list = sep_barcodes.split(',')"
   ]
  },
  {
   "cell_type": "code",
   "execution_count": 22,
   "metadata": {},
   "outputs": [
    {
     "data": {
      "text/plain": [
       "['01', '02', '03', '04', '05', '06', '07']"
      ]
     },
     "execution_count": 22,
     "metadata": {},
     "output_type": "execute_result"
    }
   ],
   "source": [
    "sep_barcodes_list"
   ]
  },
  {
   "cell_type": "raw",
   "metadata": {},
   "source": [
    "make a barcode 00 folder\n",
    "loop throug all folders that are not in the sep_barcode list and combine those\n",
    "add 00 to the sep_barcode list\n",
    "\n",
    "sep_barcodes_list"
   ]
  },
  {
   "cell_type": "code",
   "execution_count": 23,
   "metadata": {
    "collapsed": true
   },
   "outputs": [],
   "source": [
    "#make the barcode00 folder to combine all the misidentified/unclassified barcode\n",
    "if not os.path.exists(os.path.join(FAIL_FOLDER, 'barcode00')):\n",
    "    os.mkdir(os.path.join(FAIL_FOLDER, 'barcode00'))\n",
    "\n",
    "if not os.path.exists(os.path.join(PASS_FOLDER, 'barcode00')):\n",
    "    os.mkdir(os.path.join(PASS_FOLDER, 'barcode00'))\n"
   ]
  },
  {
   "cell_type": "code",
   "execution_count": 24,
   "metadata": {
    "collapsed": true
   },
   "outputs": [],
   "source": [
    "#cat all barcode misclassified/unclassified reads in the pass folder to one fastq file and redirect to barcode00 folder\n",
    "\n",
    "if not os.path.isfile('%s/barcode00.fastq' % os.path.join(PASS_FOLDER, 'barcode00')):\n",
    "    #cat_fastq_command = 'cat'\n",
    "    for folder in [y.split('/')[-1] for y in os.listdir(PASS_FOLDER)]:\n",
    "        if folder not in ['barcode%s' % x for x in sep_barcodes_list] and folder != 'barcode00':\n",
    "            tmp_folder = os.path.join(PASS_FOLDER, folder)\n",
    "            #print(folder)\n",
    "            for fastq in [os.path.join(tmp_folder, z) for z in os.listdir(tmp_folder)  if z.endswith('fastq')]:\n",
    "                cat_fastq_command = 'cat %s' % fastq\n",
    "                #print(fastq)\n",
    "                cat_fastq_command +=' >> %s/barcode00.fastq' % os.path.join(PASS_FOLDER, 'barcode00')\n",
    "                \n",
    "                cat_fastq_command_stderr = subprocess.check_output(cat_fastq_command, shell=True, stderr=subprocess.STDOUT)\n"
   ]
  },
  {
   "cell_type": "code",
   "execution_count": 25,
   "metadata": {
    "collapsed": true
   },
   "outputs": [],
   "source": [
    "#cat all barcode misclassified/unclassified reads in the fail folder to one fastq file and redirect to barcode00 folder\n",
    "if not os.path.isfile('%s/barcode00.fastq' % os.path.join(FAIL_FOLDER, 'barcode00')):\n",
    "    cat_fastq_command = 'cat'\n",
    "    for folder in [y.split('/')[-1] for y in os.listdir(FAIL_FOLDER)]:\n",
    "        if folder not in ['barcode%s' % x for x in sep_barcodes_list]:\n",
    "            tmp_folder = os.path.join(FAIL_FOLDER, folder)\n",
    "            #print(folder)\n",
    "            for fastq in [os.path.join(tmp_folder, z) for z in os.listdir(tmp_folder)  if z.endswith('fastq')]:\n",
    "                cat_fastq_command += ' %s' % fastq\n",
    "                #print(fastq)\n",
    "    cat_fastq_command +=' > %s/barcode00.fastq' % os.path.join(FAIL_FOLDER, 'barcode00')\n",
    "    cat_fastq_command_stderr = subprocess.check_output(cat_fastq_command, shell=True, stderr=subprocess.STDOUT)"
   ]
  },
  {
   "cell_type": "code",
   "execution_count": 26,
   "metadata": {
    "collapsed": true
   },
   "outputs": [],
   "source": [
    "#elements of script\n",
    "def print_begining_of_script(barcode, fn):\n",
    "    \"\"\"\n",
    "    Takes the barcode and the file name to start off the script\n",
    "    \"\"\"\n",
    "    begining_of_script = \"#!/bin/bash\\n\\\n",
    "#$ -M yiheng.hu@anu.edu.au\\n\\\n",
    "#$ -m a\\n\\\n",
    "#$ -cwd\\n\\\n",
    "#$ -V\\n\\\n",
    "#$ -j y\\n\\\n",
    "#$ -pe threads %s\\n\\\n",
    "#$ -l h_vmem=%s,virtual_free=%s\\n\\\n",
    "#$ -N barcode_%s\\n\\\n",
    "set -vx\\\n",
    "\" %(threads, ram, ram, barcode)\n",
    "    print(begining_of_script, file=fn)"
   ]
  },
  {
   "cell_type": "code",
   "execution_count": 27,
   "metadata": {
    "collapsed": true
   },
   "outputs": [],
   "source": [
    "#now get the nanolyse going\n",
    "def print_nanolyse(barcode, tar_file, fn):\n",
    "    \"\"\"Fill in something\"\"\"\n",
    "    fastq_prefix = runid + '.barcode%s' % (barcode)\n",
    "    nanolyse_step = \"\\n#now starts the combining of pass/fail data and nanolyze step\\n\"\n",
    "    nanolyse_step += \"cd %s\\n\" % BASECALLED_DATA_WORKSPACE\n",
    "    BARCODE_WS = os.path.join(WORKSPACE, 'barcode%s' %barcode)\n",
    "    nanolyse_step += \"mkdir -p %s\\n\" % BARCODE_WS\n",
    "    nanolyse_step += \"cat pass/barcode%s/*.fastq fail/barcode%s/*.fastq > %s/%s.unlysed.fastq\\n\"\\\n",
    "    % (barcode, barcode, BARCODE_WS, fastq_prefix )\n",
    "    nanolyse_step += \"gzip %s/%s.unlysed.fastq\\n\" % (BARCODE_WS, fastq_prefix)\n",
    "    nanolyse_step += \"gunzip -c %s/%s.unlysed.fastq\" % (BARCODE_WS, fastq_prefix)\n",
    "    nanolyse_step += \" | NanoLyse --reference %s \" % (CDS_PATH) \n",
    "    nanolyse_step += \"| gzip > %s/%s.fastq.gz\\n\" % (BARCODE_WS, fastq_prefix)\n",
    "    nanolyse_step += \"gunzip %s/%s.fastq.gz\\n\" % (BARCODE_WS, fastq_prefix)\n",
    "\n",
    "    \n",
    "    print(nanolyse_step, file=fn)"
   ]
  },
  {
   "cell_type": "code",
   "execution_count": 28,
   "metadata": {
    "collapsed": true
   },
   "outputs": [],
   "source": [
    "# def print_porechop(barcode, folder, runid, fn):\n",
    "#    \"\"\"\n",
    "#    Fill in something\n",
    "#    \"\"\"\n",
    "#    fastq = '%s.barcode%s.fastq'% (runid, barcode)\n",
    "#    chopped_fastq = '%s.chopped.barcode%s.fastq'% (runid, barcode)\n",
    "#    porechop_step =\"\\n#now the porechop step\\n\"\n",
    "#    porechop_step += 'porechop -i %s/%s -o %s/%s --format fastq --middle_threshold 95'\\\n",
    "#    %(folder,fastq, folder, chopped_fastq )\n",
    "#    print(porechop_step, file=fn)"
   ]
  },
  {
   "cell_type": "code",
   "execution_count": 29,
   "metadata": {
    "collapsed": true
   },
   "outputs": [],
   "source": [
    "def print_porechop(barcode, folder, runid, fn):\n",
    "    \"\"\"\n",
    "    Fill in something\n",
    "    \"\"\"\n",
    "    fastq = '%s.barcode%s.fastq'% (runid, barcode)\n",
    "    chopped_fastq = '%s.chopped.barcode%s.fastq'% (runid, barcode)\n",
    "    porechop_step =\"\\n#now the porechop step\\n\"\n",
    "    porechop_step += 'porechop -i %s/%s -o %s/%s --format fastq --middle_threshold 95\\n'\\\n",
    "    %(folder,fastq, folder, chopped_fastq )\n",
    "    porechop_step += \"sed '/^@/!d;s//>/;N' %s/%s > %s/%s\\n\" \\\n",
    "    %(folder, chopped_fastq, folder, chopped_fastq.replace('.fastq', '.fasta'))\n",
    "    print(porechop_step, file=fn)"
   ]
  },
  {
   "cell_type": "code",
   "execution_count": 30,
   "metadata": {
    "collapsed": true
   },
   "outputs": [],
   "source": [
    "def print_blastn_1(barcode, folder, runid, fn):\n",
    "    \"\"\"Fill in something here.\"\"\"\n",
    "    chopped_fasta = '%s.chopped.barcode%s.fasta'% (runid, barcode)\n",
    "    hit_ids_fn = \"%s/%s.%sblast.qseqid.barcode%s.txt\" %(folder, runid, BLAST_DB_1, barcode)\n",
    "    \n",
    "    blastn_step = \"\\n#now the blast step against DB %s\\n\" % BLAST_DB_1\n",
    "    blastn_step += \"blastn -query %s/%s -db %s -evalue 0.01 -outfmt \" %(folder,chopped_fasta, BLAST_DB_1 )\n",
    "    blastn_step += \"'6 qseqid sseqid evalue bitscore length pident nident sgi sacc staxids sscinames scomnames sskingdoms'\" \n",
    "    blastn_step += \"-show_gis -num_threads %s | sort -k1,1 -k4,4nr | sort -u -k1,1 --merge \" % (threads)\n",
    "    blastn_step += \"> %s/%s.%s.%sblast_output\\n\\n\" %(folder,chopped_fasta,date ,BLAST_DB_1)\n",
    "    blastn_step += \"cut -f 1 %s/%s.%s.%sblast_output\" %(folder,chopped_fasta,date ,BLAST_DB_1)\n",
    "    blastn_step += \" > %s\\n\\n\" % hit_ids_fn\n",
    "    blastn_step += \"filterbyname.sh in=%s/%s \" % (folder, chopped_fasta)\n",
    "    blastn_step += \"out=%s/%s \" % (folder, chopped_fasta.replace('.barcode%s.'%barcode,\\\n",
    "                                                              '.%shityes.barcode%s.'%(BLAST_DB_1, barcode)))\n",
    "    blastn_step += \"names=%s include=t\\n\" % hit_ids_fn\n",
    "    blastn_step += \"filterbyname.sh in=%s/%s \" % (folder, chopped_fasta)\n",
    "    blastn_step += \"out=%s/%s \" % (folder, chopped_fasta.replace('.barcode%s.'%barcode,\\\n",
    "                                                              '.%shitno.barcode%s.'%(BLAST_DB_1, barcode)))\n",
    "    blastn_step += \"names=%s include=f\\n\" % hit_ids_fn\n",
    "    \n",
    "    print(blastn_step, file =fn)"
   ]
  },
  {
   "cell_type": "code",
   "execution_count": 31,
   "metadata": {
    "collapsed": true
   },
   "outputs": [],
   "source": [
    "def print_blastn_2(barcode, folder, runid, fn):\n",
    "    \"\"\"Fill in something here.\"\"\"\n",
    "    nohit_fasta = '%s.chopped.%shitno.barcode%s.fasta'% (runid, BLAST_DB_1, barcode)\n",
    "    hit_ids_fn = \"%s/%s.%shitno.%sblast.qseqid.barcode%s.txt\" %(folder, runid, BLAST_DB_1, BLAST_DB_2, barcode)\n",
    "    \n",
    "    blastn_step = \"\\n#now the blast step against database %s\\n\" % BLAST_DB_2\n",
    "    blastn_step += \"blastn -query %s/%s -db %s -evalue 0.01 -outfmt \" %(folder,nohit_fasta, BLAST_DB_2 )\n",
    "    blastn_step += \"'6 qseqid sseqid evalue bitscore length pident nident sgi sacc staxids sscinames scomnames sskingdoms'\" \n",
    "    blastn_step += \"-show_gis -num_threads %s | sort -k1,1 -k4,4nr | sort -u -k1,1 --merge \" % (threads)\n",
    "    blastn_step += \"> %s/%s.%s.%sblast_output\\n\\n\" %(folder,nohit_fasta,date,BLAST_DB_2)\n",
    "    blastn_step += \"cut -f 1 %s/%s.%s.%sblast_output\" %(folder,nohit_fasta,date,BLAST_DB_2)\n",
    "    blastn_step += \" > %s\\n\\n\" % hit_ids_fn\n",
    "    blastn_step += \"filterbyname.sh in=%s/%s \" % (folder, nohit_fasta)\n",
    "    blastn_step += \"out=%s/%s \" % (folder, nohit_fasta.replace('.barcode%s.'%barcode,\\\n",
    "                                                              '.%shityes.barcode%s.'%(BLAST_DB_2, barcode)))\n",
    "    blastn_step += \"names=%s include=t\\n\" % hit_ids_fn\n",
    "    blastn_step += \"filterbyname.sh in=%s/%s \" % (folder, nohit_fasta)\n",
    "    blastn_step += \"out=%s/%s \" % (folder, nohit_fasta.replace('.barcode%s.'%barcode,\\\n",
    "                                                              '.%shitno.barcode%s.'%( BLAST_DB_2, barcode)))\n",
    "    blastn_step += \"names=%s include=f\\n\" % hit_ids_fn\n",
    "    \n",
    "    print(blastn_step, file =fn)"
   ]
  },
  {
   "cell_type": "code",
   "execution_count": 32,
   "metadata": {
    "collapsed": true
   },
   "outputs": [],
   "source": [
    "#add barcode 00\n",
    "sep_barcodes_list.append('00')\n"
   ]
  },
  {
   "cell_type": "code",
   "execution_count": 33,
   "metadata": {},
   "outputs": [
    {
     "data": {
      "text/plain": [
       "['01', '02', '03', '04', '05', '06', '07', '00']"
      ]
     },
     "execution_count": 33,
     "metadata": {},
     "output_type": "execute_result"
    }
   ],
   "source": [
    "sep_barcodes_list"
   ]
  },
  {
   "cell_type": "code",
   "execution_count": 34,
   "metadata": {
    "collapsed": true
   },
   "outputs": [],
   "source": [
    "for barcode in sep_barcodes_list:\n",
    "    tmp_file = os.path.join(SCRIPT_FOLDER, 'barcode%s.sh' % barcode)\n",
    "    with open(tmp_file, 'w') as fn:\n",
    "        TMP_BARCODE_FOLDER = os.path.join(WORKSPACE, 'barcode%s' % barcode)\n",
    "        \n",
    "        print_begining_of_script(barcode, fn)\n",
    "        print_nanolyse(barcode, runid, fn)\n",
    "        print_porechop(barcode, TMP_BARCODE_FOLDER, runid, fn)\n",
    "        print_blastn_1(barcode, TMP_BARCODE_FOLDER, runid, fn)\n",
    "        print_blastn_2(barcode, TMP_BARCODE_FOLDER, runid, fn)"
   ]
  },
  {
   "cell_type": "code",
   "execution_count": 35,
   "metadata": {},
   "outputs": [
    {
     "name": "stdout",
     "output_type": "stream",
     "text": [
      "b'Your job 386028 (\"barcode_01\") has been submitted\\n'\n",
      "b'Your job 386029 (\"barcode_02\") has been submitted\\n'\n",
      "b'Your job 386030 (\"barcode_03\") has been submitted\\n'\n",
      "b'Your job 386031 (\"barcode_04\") has been submitted\\n'\n",
      "b'Your job 386032 (\"barcode_05\") has been submitted\\n'\n",
      "b'Your job 386033 (\"barcode_06\") has been submitted\\n'\n",
      "b'Your job 386034 (\"barcode_07\") has been submitted\\n'\n",
      "b'Your job 386035 (\"barcode_00\") has been submitted\\n'\n"
     ]
    }
   ],
   "source": [
    "#now qsub all scripts\n",
    "os.chdir(SCRIPT_FOLDER)\n",
    "qsub_command = 'qsub %s' \n",
    "for script in [os.path.join(SCRIPT_FOLDER, x) for x in os.listdir(SCRIPT_FOLDER) if x.endswith('.sh')]:\n",
    "    qsub_command_stderr = subprocess.check_output(qsub_command % script, shell=True, stderr=subprocess.STDOUT)\n",
    "    print(qsub_command_stderr)"
   ]
  },
  {
   "cell_type": "code",
   "execution_count": null,
   "metadata": {
    "collapsed": true
   },
   "outputs": [],
   "source": []
  }
 ],
 "metadata": {
  "kernelspec": {
   "display_name": "Python 3",
   "language": "python",
   "name": "python3"
  },
  "language_info": {
   "codemirror_mode": {
    "name": "ipython",
    "version": 3
   },
   "file_extension": ".py",
   "mimetype": "text/x-python",
   "name": "python",
   "nbconvert_exporter": "python",
   "pygments_lexer": "ipython3",
   "version": "3.6.1"
  }
 },
 "nbformat": 4,
 "nbformat_minor": 2
}
