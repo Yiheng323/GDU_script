{
 "cells": [
  {
   "cell_type": "markdown",
   "metadata": {},
   "source": [
    "This is a notebook to create summary dataframe information for plotting figure2. for figure2 which contains four sub figures so here I first construct a summary dataframe from the sum_df of each flowcell for the passed and reads hit specific genomes, then I added one column to each summary df to note down the flowcellID for later on sub figure. then I put everything again into yiheng@gduserv.anu.edu.au:~/analysis/WGS/."
   ]
  },
  {
   "cell_type": "code",
   "execution_count": 1,
   "metadata": {
    "collapsed": true
   },
   "outputs": [],
   "source": [
    "import numpy as np\n",
    "import os\n",
    "import pandas as pd\n",
    "import matplotlib.pyplot as plt\n",
    "import argparse\n"
   ]
  },
  {
   "cell_type": "code",
   "execution_count": 2,
   "metadata": {
    "collapsed": true
   },
   "outputs": [],
   "source": [
    "#parser = argparse.ArgumentParser(description='This is a script to get information for figure two. It require to have a sum_df_DATE_FLOWCELLID.tab file in the analysis folder of folder of each run.')\n",
    "#parser.add_argument(\"BASEDIR\", help=\"base folder, supposed to have all the sub folders processed by WGS script. The same as Indir in YH_script2. remenber DO NOT put the backslash '/' at the end!\")\n",
    "#args = parser.parse_args()"
   ]
  },
  {
   "cell_type": "code",
   "execution_count": 3,
   "metadata": {
    "collapsed": true
   },
   "outputs": [],
   "source": [
    "# use argparse to do this\n",
    "#BASEDIR = args.BASEDIR\n",
    "BASEDIR = '/home/yiheng/data/20170617_FAH05731'\n",
    "\n",
    "# here we define the folder name of the dataframe it created by capturing the folder from the BASDIR\n",
    "folder_name = os.path.basename(BASEDIR)\n",
    "column_name = folder_name.split('_')[-1]"
   ]
  },
  {
   "cell_type": "code",
   "execution_count": 4,
   "metadata": {
    "collapsed": true
   },
   "outputs": [],
   "source": [
    "# first check if the analysis folder is there\n",
    "folder_list = 'analysis  basecalled_data  scripts  tracking  workspace'.split(' ')\n",
    "for x in range(0,folder_list.count('')):\n",
    "    folder_list.remove('')\n",
    "#fix this test\n",
    "if not set(os.listdir(os.path.abspath(BASEDIR))) == set (folder_list):\n",
    "    print(\"Something wrong with basefolder. check it please.\")"
   ]
  },
  {
   "cell_type": "code",
   "execution_count": 5,
   "metadata": {},
   "outputs": [
    {
     "name": "stderr",
     "output_type": "stream",
     "text": [
      "/home/yiheng/anaconda3/lib/python3.6/site-packages/IPython/core/interactiveshell.py:2717: DtypeWarning: Columns (27) have mixed types. Specify dtype option on import or set low_memory=False.\n",
      "  interactivity=interactivity, compiler=compiler, result=result)\n"
     ]
    }
   ],
   "source": [
    "# get the dataframe there\n",
    "dataframe = os.path.join(BASEDIR, 'analysis', 'summary_df_%s.tab' % folder_name)\n",
    "sum_df = pd.read_csv(dataframe, sep='\\t')"
   ]
  },
  {
   "cell_type": "code",
   "execution_count": 6,
   "metadata": {},
   "outputs": [
    {
     "data": {
      "text/plain": [
       "Index(['read_id', 'passes_filtering', 'sequence_length_template',\n",
       "       'mean_qscore_template', 'barcode_arrangement', 'barcode_score', 'kit',\n",
       "       'variant', 'pc_survived', 'nl_survived', 'qseqid_rg', 'sseqid_rg',\n",
       "       'evalue_rg', 'length_rg', 'pident_rg', 'nident_rg', 'sacc_rg',\n",
       "       'staxids_rg', 'scomnames_rg', 'read_length_pc_x', 'qseqid_nt',\n",
       "       'sseqid_nt', 'evalue_nt', 'length_nt', 'pident_nt', 'nident_nt',\n",
       "       'sacc_nt', 'staxids_nt', 'scomnames_nt', 'read_length_pc_y'],\n",
       "      dtype='object')"
      ]
     },
     "execution_count": 6,
     "metadata": {},
     "output_type": "execute_result"
    }
   ],
   "source": [
    "sum_df.columns"
   ]
  },
  {
   "cell_type": "code",
   "execution_count": 7,
   "metadata": {
    "collapsed": true
   },
   "outputs": [],
   "source": [
    "# fills the nan with T/F for easier handling\n",
    "sum_df.sseqid_rg.fillna(False, inplace=True)\n",
    "# filter out the rg blast hit\n",
    "rgblasthit_reads = sum_df[(sum_df.sseqid_rg != False) & (sum_df.passes_filtering == True) & (sum_df.pc_survived == True) & (sum_df.nl_survived == True)]\n",
    "pd.set_option('display.max_columns', None)"
   ]
  },
  {
   "cell_type": "code",
   "execution_count": 8,
   "metadata": {
    "collapsed": true
   },
   "outputs": [],
   "source": [
    "# filter function with a certain string to get rid of the wheat reads\n",
    "no_wheat = ~rgblasthit_reads.sseqid_rg.str.contains('Wheat')\n",
    "rgblasthit_nowheat_reads = rgblasthit_reads[no_wheat]"
   ]
  },
  {
   "cell_type": "code",
   "execution_count": 9,
   "metadata": {
    "collapsed": true
   },
   "outputs": [],
   "source": [
    "###########This block for FC1 barcodes order\n",
    "# now everything left is what we want to plot out\n",
    "# arrange different barcodes\n",
    "# REMEMBER: This need to be manual check:\n",
    "# barcode01 is Pst infected sample, barcode02 is Zymo sample, 03 is Pyre sample, 04 is co-infection sample and 05 is nill sample\n",
    "if column_name == 'run1':\n",
    "    rgblasthit_nowheat_reads_barcode01 = rgblasthit_nowheat_reads[rgblasthit_nowheat_reads.barcode_arrangement == 'barcode02']\n",
    "    rgblasthit_nowheat_reads_barcode02 = rgblasthit_nowheat_reads[rgblasthit_nowheat_reads.barcode_arrangement == 'barcode06']\n",
    "    rgblasthit_nowheat_reads_barcode03 = rgblasthit_nowheat_reads[rgblasthit_nowheat_reads.barcode_arrangement == 'barcode03']\n",
    "    rgblasthit_nowheat_reads_barcode04 = rgblasthit_nowheat_reads[rgblasthit_nowheat_reads.barcode_arrangement == 'barcode05']\n",
    "    rgblasthit_nowheat_reads_barcode05 = rgblasthit_nowheat_reads[rgblasthit_nowheat_reads.barcode_arrangement == 'barcode04']\n",
    "# here I used wheat hits to normalized all the microbe reads \n",
    "    wheathit_reads_barcode01 = rgblasthit_reads[(rgblasthit_reads.barcode_arrangement == 'barcode02') & rgblasthit_reads.sseqid_rg.str.contains('Wheat')]\n",
    "    wheathit_reads_barcode02 = rgblasthit_reads[(rgblasthit_reads.barcode_arrangement == 'barcode06') & rgblasthit_reads.sseqid_rg.str.contains('Wheat')]\n",
    "    wheathit_reads_barcode03 = rgblasthit_reads[(rgblasthit_reads.barcode_arrangement == 'barcode03') & rgblasthit_reads.sseqid_rg.str.contains('Wheat')]\n",
    "    wheathit_reads_barcode04 = rgblasthit_reads[(rgblasthit_reads.barcode_arrangement == 'barcode05') & rgblasthit_reads.sseqid_rg.str.contains('Wheat')]\n",
    "    wheathit_reads_barcode05 = rgblasthit_reads[(rgblasthit_reads.barcode_arrangement == 'barcode04') & rgblasthit_reads.sseqid_rg.str.contains('Wheat')]\n",
    "    totalhit_reads_barcode01 = rgblasthit_reads[(rgblasthit_reads.barcode_arrangement == 'barcode02')]\n",
    "    totalhit_reads_barcode02 = rgblasthit_reads[(rgblasthit_reads.barcode_arrangement == 'barcode06')]\n",
    "    totalhit_reads_barcode03 = rgblasthit_reads[(rgblasthit_reads.barcode_arrangement == 'barcode03')]\n",
    "    totalhit_reads_barcode04 = rgblasthit_reads[(rgblasthit_reads.barcode_arrangement == 'barcode05')]\n",
    "    totalhit_reads_barcode05 = rgblasthit_reads[(rgblasthit_reads.barcode_arrangement == 'barcode04')]\n",
    "else:\n",
    "    pass"
   ]
  },
  {
   "cell_type": "code",
   "execution_count": 10,
   "metadata": {
    "collapsed": true
   },
   "outputs": [],
   "source": [
    "##########This block for FC2 barcodes order\n",
    "# now everything left is what we want to plot out\n",
    "# arrange different barcodes\n",
    "# REMEMBER: This need to be manual check:\n",
    "# barcode01 is Pst infected sample, barcode02 is Zymo sample, 03 is nill sample, 04 is co-infection sample and 05 is Pyre sample\n",
    "if column_name == 'run2':\n",
    "    rgblasthit_nowheat_reads_barcode01 = rgblasthit_nowheat_reads[rgblasthit_nowheat_reads.barcode_arrangement == 'barcode07']\n",
    "    rgblasthit_nowheat_reads_barcode02 = rgblasthit_nowheat_reads[rgblasthit_nowheat_reads.barcode_arrangement == 'barcode08']\n",
    "    rgblasthit_nowheat_reads_barcode03 = rgblasthit_nowheat_reads[rgblasthit_nowheat_reads.barcode_arrangement == 'barcode11']\n",
    "    rgblasthit_nowheat_reads_barcode04 = rgblasthit_nowheat_reads[rgblasthit_nowheat_reads.barcode_arrangement == 'barcode10']\n",
    "    rgblasthit_nowheat_reads_barcode05 = rgblasthit_nowheat_reads[rgblasthit_nowheat_reads.barcode_arrangement == 'barcode09']\n",
    "# here I used wheat hits to normalized all the microbe reads \n",
    "    wheathit_reads_barcode01 = rgblasthit_reads[(rgblasthit_reads.barcode_arrangement == 'barcode07') & rgblasthit_reads.sseqid_rg.str.contains('Wheat')]\n",
    "    wheathit_reads_barcode02 = rgblasthit_reads[(rgblasthit_reads.barcode_arrangement == 'barcode08') & rgblasthit_reads.sseqid_rg.str.contains('Wheat')]\n",
    "    wheathit_reads_barcode03 = rgblasthit_reads[(rgblasthit_reads.barcode_arrangement == 'barcode11') & rgblasthit_reads.sseqid_rg.str.contains('Wheat')]\n",
    "    wheathit_reads_barcode04 = rgblasthit_reads[(rgblasthit_reads.barcode_arrangement == 'barcode10') & rgblasthit_reads.sseqid_rg.str.contains('Wheat')]\n",
    "    wheathit_reads_barcode05 = rgblasthit_reads[(rgblasthit_reads.barcode_arrangement == 'barcode09') & rgblasthit_reads.sseqid_rg.str.contains('Wheat')]\n",
    "    totalhit_reads_barcode01 = rgblasthit_reads[(rgblasthit_reads.barcode_arrangement == 'barcode07')]\n",
    "    totalhit_reads_barcode02 = rgblasthit_reads[(rgblasthit_reads.barcode_arrangement == 'barcode08')]\n",
    "    totalhit_reads_barcode03 = rgblasthit_reads[(rgblasthit_reads.barcode_arrangement == 'barcode11')]\n",
    "    totalhit_reads_barcode04 = rgblasthit_reads[(rgblasthit_reads.barcode_arrangement == 'barcode10')]\n",
    "    totalhit_reads_barcode05 = rgblasthit_reads[(rgblasthit_reads.barcode_arrangement == 'barcode09')]\n",
    "else:\n",
    "    pass"
   ]
  },
  {
   "cell_type": "code",
   "execution_count": 11,
   "metadata": {
    "collapsed": true
   },
   "outputs": [],
   "source": [
    "###########This block for FC3 barcodes order\n",
    "# now everything left is what we want to plot out\n",
    "# arrange different barcodes\n",
    "# REMEMBER: This need to be manual check:\n",
    "# barcode01 is Pst infected sample, barcode02 is Zymo sample, 03 is nill sample, 04 is co-infection sample and 05 is Pyre sample\n",
    "if column_name == 'FAH05432':\n",
    "    rgblasthit_nowheat_reads_barcode01 = rgblasthit_nowheat_reads[rgblasthit_nowheat_reads.barcode_arrangement == 'barcode01']\n",
    "    rgblasthit_nowheat_reads_barcode02 = rgblasthit_nowheat_reads[rgblasthit_nowheat_reads.barcode_arrangement == 'barcode02']\n",
    "    rgblasthit_nowheat_reads_barcode03 = rgblasthit_nowheat_reads[rgblasthit_nowheat_reads.barcode_arrangement == 'barcode05']\n",
    "    rgblasthit_nowheat_reads_barcode04 = rgblasthit_nowheat_reads[rgblasthit_nowheat_reads.barcode_arrangement == 'barcode04']\n",
    "    rgblasthit_nowheat_reads_barcode05 = rgblasthit_nowheat_reads[rgblasthit_nowheat_reads.barcode_arrangement == 'barcode03']\n",
    "# here I used wheat hits to normalized all the microbe reads \n",
    "    wheathit_reads_barcode01 = rgblasthit_reads[(rgblasthit_reads.barcode_arrangement == 'barcode01') & rgblasthit_reads.sseqid_rg.str.contains('Wheat')]\n",
    "    wheathit_reads_barcode02 = rgblasthit_reads[(rgblasthit_reads.barcode_arrangement == 'barcode02') & rgblasthit_reads.sseqid_rg.str.contains('Wheat')]\n",
    "    wheathit_reads_barcode03 = rgblasthit_reads[(rgblasthit_reads.barcode_arrangement == 'barcode05') & rgblasthit_reads.sseqid_rg.str.contains('Wheat')]\n",
    "    wheathit_reads_barcode04 = rgblasthit_reads[(rgblasthit_reads.barcode_arrangement == 'barcode04') & rgblasthit_reads.sseqid_rg.str.contains('Wheat')]\n",
    "    wheathit_reads_barcode05 = rgblasthit_reads[(rgblasthit_reads.barcode_arrangement == 'barcode03') & rgblasthit_reads.sseqid_rg.str.contains('Wheat')]\n",
    "    totalhit_reads_barcode01 = rgblasthit_reads[(rgblasthit_reads.barcode_arrangement == 'barcode01')]\n",
    "    totalhit_reads_barcode02 = rgblasthit_reads[(rgblasthit_reads.barcode_arrangement == 'barcode02')]\n",
    "    totalhit_reads_barcode03 = rgblasthit_reads[(rgblasthit_reads.barcode_arrangement == 'barcode05')]\n",
    "    totalhit_reads_barcode04 = rgblasthit_reads[(rgblasthit_reads.barcode_arrangement == 'barcode04')]\n",
    "    totalhit_reads_barcode05 = rgblasthit_reads[(rgblasthit_reads.barcode_arrangement == 'barcode03')]\n",
    "else:\n",
    "    pass"
   ]
  },
  {
   "cell_type": "code",
   "execution_count": 12,
   "metadata": {
    "collapsed": true
   },
   "outputs": [],
   "source": [
    "###########This block for FC4 barcode order\n",
    "# now everything left is what we want to plot out\n",
    "# arrange different barcodes\n",
    "# REMEMBER: This need to be manual check:\n",
    "# barcode01 is Pst infected sample, barcode02 is Zymo sample, 03 is nill sample, 04 is co-infection sample and 05 is Pyre sample\n",
    "if column_name == 'FAH05731':\n",
    "    rgblasthit_nowheat_reads_barcode01 = rgblasthit_nowheat_reads[rgblasthit_nowheat_reads.barcode_arrangement == 'barcode01']\n",
    "    rgblasthit_nowheat_reads_barcode02 = rgblasthit_nowheat_reads[rgblasthit_nowheat_reads.barcode_arrangement == 'barcode02']\n",
    "    rgblasthit_nowheat_reads_barcode03 = rgblasthit_nowheat_reads[rgblasthit_nowheat_reads.barcode_arrangement == 'barcode05']\n",
    "    rgblasthit_nowheat_reads_barcode04 = rgblasthit_nowheat_reads[rgblasthit_nowheat_reads.barcode_arrangement == 'barcode04']\n",
    "    rgblasthit_nowheat_reads_barcode05 = rgblasthit_nowheat_reads[rgblasthit_nowheat_reads.barcode_arrangement == 'barcode03']\n",
    "# here I used wheat hits to normalized all the microbe reads \n",
    "    wheathit_reads_barcode01 = rgblasthit_reads[(rgblasthit_reads.barcode_arrangement == 'barcode01') & rgblasthit_reads.sseqid_rg.str.contains('Wheat')]\n",
    "    wheathit_reads_barcode02 = rgblasthit_reads[(rgblasthit_reads.barcode_arrangement == 'barcode02') & rgblasthit_reads.sseqid_rg.str.contains('Wheat')]\n",
    "    wheathit_reads_barcode03 = rgblasthit_reads[(rgblasthit_reads.barcode_arrangement == 'barcode05') & rgblasthit_reads.sseqid_rg.str.contains('Wheat')]\n",
    "    wheathit_reads_barcode04 = rgblasthit_reads[(rgblasthit_reads.barcode_arrangement == 'barcode04') & rgblasthit_reads.sseqid_rg.str.contains('Wheat')]\n",
    "    wheathit_reads_barcode05 = rgblasthit_reads[(rgblasthit_reads.barcode_arrangement == 'barcode03') & rgblasthit_reads.sseqid_rg.str.contains('Wheat')]\n",
    "    totalhit_reads_barcode01 = rgblasthit_reads[(rgblasthit_reads.barcode_arrangement == 'barcode01')]\n",
    "    totalhit_reads_barcode02 = rgblasthit_reads[(rgblasthit_reads.barcode_arrangement == 'barcode02')]\n",
    "    totalhit_reads_barcode03 = rgblasthit_reads[(rgblasthit_reads.barcode_arrangement == 'barcode05')]\n",
    "    totalhit_reads_barcode04 = rgblasthit_reads[(rgblasthit_reads.barcode_arrangement == 'barcode04')]\n",
    "    totalhit_reads_barcode05 = rgblasthit_reads[(rgblasthit_reads.barcode_arrangement == 'barcode03')]\n",
    "else:\n",
    "    pass"
   ]
  },
  {
   "cell_type": "code",
   "execution_count": 13,
   "metadata": {
    "collapsed": true
   },
   "outputs": [],
   "source": [
    "# set up filter for pathogen reads\n",
    "Pst_reads = rgblasthit_reads.sseqid_rg.str.contains('Pst')\n",
    "Zymo_reads = rgblasthit_reads.sseqid_rg.str.contains('Zymo')\n",
    "Pyre_reads = rgblasthit_reads.sseqid_rg.str.contains('Pyre')\n",
    "Stago_reads = rgblasthit_reads.sseqid_rg.str.contains('Stago')"
   ]
  },
  {
   "cell_type": "code",
   "execution_count": 14,
   "metadata": {
    "scrolled": true
   },
   "outputs": [
    {
     "name": "stderr",
     "output_type": "stream",
     "text": [
      "/home/yiheng/anaconda3/lib/python3.6/site-packages/ipykernel_launcher.py:2: UserWarning: Boolean Series key will be reindexed to match DataFrame index.\n",
      "  \n",
      "/home/yiheng/anaconda3/lib/python3.6/site-packages/ipykernel_launcher.py:3: UserWarning: Boolean Series key will be reindexed to match DataFrame index.\n",
      "  This is separate from the ipykernel package so we can avoid doing imports until\n",
      "/home/yiheng/anaconda3/lib/python3.6/site-packages/ipykernel_launcher.py:4: UserWarning: Boolean Series key will be reindexed to match DataFrame index.\n",
      "  after removing the cwd from sys.path.\n",
      "/home/yiheng/anaconda3/lib/python3.6/site-packages/ipykernel_launcher.py:5: UserWarning: Boolean Series key will be reindexed to match DataFrame index.\n",
      "  \"\"\"\n",
      "/home/yiheng/anaconda3/lib/python3.6/site-packages/ipykernel_launcher.py:7: UserWarning: Boolean Series key will be reindexed to match DataFrame index.\n",
      "  import sys\n",
      "/home/yiheng/anaconda3/lib/python3.6/site-packages/ipykernel_launcher.py:8: UserWarning: Boolean Series key will be reindexed to match DataFrame index.\n",
      "  \n",
      "/home/yiheng/anaconda3/lib/python3.6/site-packages/ipykernel_launcher.py:9: UserWarning: Boolean Series key will be reindexed to match DataFrame index.\n",
      "  if __name__ == '__main__':\n",
      "/home/yiheng/anaconda3/lib/python3.6/site-packages/ipykernel_launcher.py:10: UserWarning: Boolean Series key will be reindexed to match DataFrame index.\n",
      "  # Remove the CWD from sys.path while we load stuff.\n",
      "/home/yiheng/anaconda3/lib/python3.6/site-packages/ipykernel_launcher.py:12: UserWarning: Boolean Series key will be reindexed to match DataFrame index.\n",
      "  if sys.path[0] == '':\n",
      "/home/yiheng/anaconda3/lib/python3.6/site-packages/ipykernel_launcher.py:13: UserWarning: Boolean Series key will be reindexed to match DataFrame index.\n",
      "  del sys.path[0]\n",
      "/home/yiheng/anaconda3/lib/python3.6/site-packages/ipykernel_launcher.py:14: UserWarning: Boolean Series key will be reindexed to match DataFrame index.\n",
      "  \n",
      "/home/yiheng/anaconda3/lib/python3.6/site-packages/ipykernel_launcher.py:15: UserWarning: Boolean Series key will be reindexed to match DataFrame index.\n",
      "  from ipykernel import kernelapp as app\n",
      "/home/yiheng/anaconda3/lib/python3.6/site-packages/ipykernel_launcher.py:17: UserWarning: Boolean Series key will be reindexed to match DataFrame index.\n",
      "/home/yiheng/anaconda3/lib/python3.6/site-packages/ipykernel_launcher.py:18: UserWarning: Boolean Series key will be reindexed to match DataFrame index.\n",
      "/home/yiheng/anaconda3/lib/python3.6/site-packages/ipykernel_launcher.py:19: UserWarning: Boolean Series key will be reindexed to match DataFrame index.\n",
      "/home/yiheng/anaconda3/lib/python3.6/site-packages/ipykernel_launcher.py:20: UserWarning: Boolean Series key will be reindexed to match DataFrame index.\n",
      "/home/yiheng/anaconda3/lib/python3.6/site-packages/ipykernel_launcher.py:22: UserWarning: Boolean Series key will be reindexed to match DataFrame index.\n",
      "/home/yiheng/anaconda3/lib/python3.6/site-packages/ipykernel_launcher.py:23: UserWarning: Boolean Series key will be reindexed to match DataFrame index.\n",
      "/home/yiheng/anaconda3/lib/python3.6/site-packages/ipykernel_launcher.py:24: UserWarning: Boolean Series key will be reindexed to match DataFrame index.\n",
      "/home/yiheng/anaconda3/lib/python3.6/site-packages/ipykernel_launcher.py:25: UserWarning: Boolean Series key will be reindexed to match DataFrame index.\n"
     ]
    }
   ],
   "source": [
    "# now get the row for other barcodes in the dataframe of the reads\n",
    "barcode01_Pst_reads = rgblasthit_nowheat_reads_barcode01[Pst_reads]\n",
    "barcode01_Zymo_reads = rgblasthit_nowheat_reads_barcode01[Zymo_reads]\n",
    "barcode01_Pyre_reads = rgblasthit_nowheat_reads_barcode01[Pyre_reads]\n",
    "barcode01_Stago_reads = rgblasthit_nowheat_reads_barcode01[Stago_reads]\n",
    "\n",
    "barcode02_Pst_reads = rgblasthit_nowheat_reads_barcode02[Pst_reads]\n",
    "barcode02_Zymo_reads = rgblasthit_nowheat_reads_barcode02[Zymo_reads]\n",
    "barcode02_Pyre_reads = rgblasthit_nowheat_reads_barcode02[Pyre_reads]\n",
    "barcode02_Stago_reads = rgblasthit_nowheat_reads_barcode02[Stago_reads]\n",
    "\n",
    "barcode03_Pst_reads = rgblasthit_nowheat_reads_barcode03[Pst_reads]\n",
    "barcode03_Zymo_reads = rgblasthit_nowheat_reads_barcode03[Zymo_reads]\n",
    "barcode03_Pyre_reads = rgblasthit_nowheat_reads_barcode03[Pyre_reads]\n",
    "barcode03_Stago_reads = rgblasthit_nowheat_reads_barcode03[Stago_reads]\n",
    "\n",
    "barcode04_Pst_reads = rgblasthit_nowheat_reads_barcode04[Pst_reads]\n",
    "barcode04_Zymo_reads = rgblasthit_nowheat_reads_barcode04[Zymo_reads]\n",
    "barcode04_Pyre_reads = rgblasthit_nowheat_reads_barcode04[Pyre_reads]\n",
    "barcode04_Stago_reads = rgblasthit_nowheat_reads_barcode04[Stago_reads]\n",
    "\n",
    "barcode05_Pst_reads = rgblasthit_nowheat_reads_barcode05[Pst_reads]\n",
    "barcode05_Zymo_reads = rgblasthit_nowheat_reads_barcode05[Zymo_reads]\n",
    "barcode05_Pyre_reads = rgblasthit_nowheat_reads_barcode05[Pyre_reads]\n",
    "barcode05_Stago_reads = rgblasthit_nowheat_reads_barcode05[Stago_reads]"
   ]
  },
  {
   "cell_type": "code",
   "execution_count": 15,
   "metadata": {
    "collapsed": true
   },
   "outputs": [],
   "source": [
    "# now get the row for barcode01 in the dataframe of FC1\n",
    "Pst_reads = [sum(barcode01_Pst_reads.sequence_length_template)/sum(totalhit_reads_barcode01.sequence_length_template)\\\n",
    "             , sum(barcode02_Pst_reads.sequence_length_template)/sum(totalhit_reads_barcode02.sequence_length_template)\\\n",
    "             , sum(barcode03_Pst_reads.sequence_length_template)/sum(totalhit_reads_barcode03.sequence_length_template)\\\n",
    "             , sum(barcode04_Pst_reads.sequence_length_template)/sum(totalhit_reads_barcode04.sequence_length_template)\\\n",
    "             , sum(barcode05_Pst_reads.sequence_length_template)/sum(totalhit_reads_barcode05.sequence_length_template)]\n",
    "Zymo_reads = [sum(barcode01_Zymo_reads.sequence_length_template)/sum(totalhit_reads_barcode01.sequence_length_template)\\\n",
    "              , sum(barcode02_Zymo_reads.sequence_length_template)/sum(totalhit_reads_barcode02.sequence_length_template)\\\n",
    "              , sum(barcode03_Zymo_reads.sequence_length_template)/sum(totalhit_reads_barcode03.sequence_length_template)\\\n",
    "              , sum(barcode04_Zymo_reads.sequence_length_template)/sum(totalhit_reads_barcode04.sequence_length_template)\\\n",
    "              , sum(barcode05_Zymo_reads.sequence_length_template)/sum(totalhit_reads_barcode05.sequence_length_template)]\n",
    "Pyre_reads = [sum(barcode01_Pyre_reads.sequence_length_template)/sum(totalhit_reads_barcode01.sequence_length_template)\\\n",
    "              , sum(barcode02_Pyre_reads.sequence_length_template)/sum(totalhit_reads_barcode02.sequence_length_template)\\\n",
    "              , sum(barcode03_Pyre_reads.sequence_length_template)/sum(totalhit_reads_barcode03.sequence_length_template)\\\n",
    "              , sum(barcode04_Pyre_reads.sequence_length_template)/sum(totalhit_reads_barcode04.sequence_length_template)\\\n",
    "              , sum(barcode05_Pyre_reads.sequence_length_template)/sum(totalhit_reads_barcode05.sequence_length_template)]\n",
    "Stago_reads = [sum(barcode01_Stago_reads.sequence_length_template)/sum(totalhit_reads_barcode01.sequence_length_template)\\\n",
    "               , sum(barcode02_Stago_reads.sequence_length_template)/sum(totalhit_reads_barcode02.sequence_length_template)\\\n",
    "               , sum(barcode03_Stago_reads.sequence_length_template)/sum(totalhit_reads_barcode03.sequence_length_template)\\\n",
    "               , sum(barcode04_Stago_reads.sequence_length_template)/sum(totalhit_reads_barcode04.sequence_length_template)\\\n",
    "               , sum(barcode05_Stago_reads.sequence_length_template)/sum(totalhit_reads_barcode05.sequence_length_template)]\n"
   ]
  },
  {
   "cell_type": "code",
   "execution_count": 16,
   "metadata": {},
   "outputs": [],
   "source": [
    "Pst_reads_percentage = [x*100 for x in Pst_reads]\n",
    "Zymo_reads_percentage = [x*100 for x in Zymo_reads]\n",
    "Pyre_reads_percentage = [x*100 for x in Pyre_reads]\n",
    "Stago_reads_percentage = [x*100 for x in Stago_reads]"
   ]
  },
  {
   "cell_type": "code",
   "execution_count": 22,
   "metadata": {},
   "outputs": [
    {
     "data": {
      "image/png": "[encoded data removed]",
      "text/plain": [
       "<matplotlib.figure.Figure at 0x7f5d486ed470>"
      ]
     },
     "metadata": {},
     "output_type": "display_data"
    }
   ],
   "source": [
    "# now plot out the subfigure\n",
    "barWidth = 0.20\n",
    "\n",
    "# set the position\n",
    "r1 = np.arange(len(Pst_reads_percentage))\n",
    "r2 = [x + barWidth for x in r1]\n",
    "r3 = [x + barWidth for x in r2]\n",
    "r4 = [x + barWidth for x in r3]\n",
    "\n",
    "\n",
    "# make the plot \n",
    "plt.bar(r1, Pst_reads_percentage, color='#66CCFF', width=barWidth, edgecolor='white', label = \"$\\it{P. striiformis}$ f. sp $\\it{tritici}$\")\n",
    "plt.bar(r2, Zymo_reads_percentage, color='#CC3366',  width=barWidth, edgecolor='white', label = \"$\\it{Z. tritici}$\")\n",
    "plt.bar(r3, Pyre_reads_percentage, color='#48D852', width=barWidth, edgecolor='white', label = \"$\\it{P. tritici-repentis}$\")\n",
    "plt.bar(r4, Stago_reads_percentage, color='#E6A82A', width=barWidth, edgecolor='white', label = \"$\\it{P. nodorum}$\")\n",
    "\n",
    "\n",
    "plt.ylabel('Percentage of total length (%)')\n",
    "#plt.title('Major wheat disease identification', fontsize=20)\n",
    "plt.xticks([r + barWidth for r in range(len(Pst_reads))], ['barcode01', 'barcode02', 'barcode03', 'barcode04', 'barcode05'])\n",
    "plt.legend(loc='right',fontsize = 'x-large', bbox_to_anchor=(1.8, 0.5))\n",
    "# Here I used the Pyre percentage to set the max because the Pyre data is the highest in all data\n",
    "plt.yticks(np.arange(0, 0.1 + max(Pyre_reads_percentage), 0.5))\n",
    "#plt.legend(loc='upper center', prop={'size':10})\n",
    "if column_name == 'run1':\n",
    "    plt.text(-0.2, max(Pyre_reads_percentage)-0.2, 'Replicate 1', fontsize=12)\n",
    "if column_name == 'run2':\n",
    "    plt.text(-0.2, max(Pyre_reads_percentage)-0.2,'Replicate 2', fontsize=12)\n",
    "if column_name == 'FAH05432':\n",
    "    plt.text(-0.2, max(Pyre_reads_percentage)-0.1,'Replicate 3', fontsize=12)\n",
    "if column_name == 'FAH05731':\n",
    "    plt.text(-0.2,  max(Pyre_reads_percentage)-0.1, 'Replicate 4', fontsize=12)\n",
    "    \n",
    "plt.savefig('/home/yiheng/analysis/WGS/figures/figure2_%s.png' % column_name, bbox_inches='tight', dpi=600)\n",
    "plt.show()"
   ]
  },
  {
   "cell_type": "code",
   "execution_count": null,
   "metadata": {},
   "outputs": [],
   "source": []
  },
  {
   "cell_type": "code",
   "execution_count": 18,
   "metadata": {
    "collapsed": true
   },
   "outputs": [],
   "source": [
    "# finalize the summary dataframe for each subfigure and direct to the analysis folder\n",
    "rghit_df = pd.DataFrame([Pst_reads, Zymo_reads, Pyre_reads, Stago_reads])\n",
    "rghit_df.columns = ['barcode01 ','barcode02','barcode03','barcode04','barcode05']\n",
    "rghit_df.index = ['Pst_reads', 'Zymo_reads', 'Pyre_reads', 'Stago_reads']\n",
    "rghit_df = rghit_df.assign(Flowcell = column_name)\n",
    "rghit_df.to_csv(r'/home/yiheng/analysis/WGS/%s_rghit.tab' % column_name, header=column_name, index=None, sep='\\t')"
   ]
  },
  {
   "cell_type": "code",
   "execution_count": 19,
   "metadata": {},
   "outputs": [
    {
     "data": {
      "text/html": [
       "<div>\n",
       "<style scoped>\n",
       "    .dataframe tbody tr th:only-of-type {\n",
       "        vertical-align: middle;\n",
       "    }\n",
       "\n",
       "    .dataframe tbody tr th {\n",
       "        vertical-align: top;\n",
       "    }\n",
       "\n",
       "    .dataframe thead th {\n",
       "        text-align: right;\n",
       "    }\n",
       "</style>\n",
       "<table border=\"1\" class=\"dataframe\">\n",
       "  <thead>\n",
       "    <tr style=\"text-align: right;\">\n",
       "      <th></th>\n",
       "      <th>barcode01</th>\n",
       "      <th>barcode02</th>\n",
       "      <th>barcode03</th>\n",
       "      <th>barcode04</th>\n",
       "      <th>barcode05</th>\n",
       "      <th>Flowcell</th>\n",
       "    </tr>\n",
       "  </thead>\n",
       "  <tbody>\n",
       "    <tr>\n",
       "      <th>Pst_reads</th>\n",
       "      <td>0.007228</td>\n",
       "      <td>0.000270</td>\n",
       "      <td>0.000058</td>\n",
       "      <td>0.000874</td>\n",
       "      <td>0.000000</td>\n",
       "      <td>FAH05731</td>\n",
       "    </tr>\n",
       "    <tr>\n",
       "      <th>Zymo_reads</th>\n",
       "      <td>0.000430</td>\n",
       "      <td>0.028935</td>\n",
       "      <td>0.000120</td>\n",
       "      <td>0.007661</td>\n",
       "      <td>0.000000</td>\n",
       "      <td>FAH05731</td>\n",
       "    </tr>\n",
       "    <tr>\n",
       "      <th>Pyre_reads</th>\n",
       "      <td>0.000744</td>\n",
       "      <td>0.002065</td>\n",
       "      <td>0.031727</td>\n",
       "      <td>0.000981</td>\n",
       "      <td>0.000000</td>\n",
       "      <td>FAH05731</td>\n",
       "    </tr>\n",
       "    <tr>\n",
       "      <th>Stago_reads</th>\n",
       "      <td>0.000302</td>\n",
       "      <td>0.003154</td>\n",
       "      <td>0.000792</td>\n",
       "      <td>0.000472</td>\n",
       "      <td>0.000105</td>\n",
       "      <td>FAH05731</td>\n",
       "    </tr>\n",
       "  </tbody>\n",
       "</table>\n",
       "</div>"
      ],
      "text/plain": [
       "             barcode01   barcode02  barcode03  barcode04  barcode05  Flowcell\n",
       "Pst_reads      0.007228   0.000270   0.000058   0.000874   0.000000  FAH05731\n",
       "Zymo_reads     0.000430   0.028935   0.000120   0.007661   0.000000  FAH05731\n",
       "Pyre_reads     0.000744   0.002065   0.031727   0.000981   0.000000  FAH05731\n",
       "Stago_reads    0.000302   0.003154   0.000792   0.000472   0.000105  FAH05731"
      ]
     },
     "execution_count": 19,
     "metadata": {},
     "output_type": "execute_result"
    }
   ],
   "source": [
    "rghit_df "
   ]
  },
  {
   "cell_type": "code",
   "execution_count": null,
   "metadata": {
    "collapsed": true
   },
   "outputs": [],
   "source": []
  },
  {
   "cell_type": "code",
   "execution_count": 20,
   "metadata": {},
   "outputs": [
    {
     "data": {
      "image/png": "[encoded data removed]",
      "text/plain": [
       "<matplotlib.figure.Figure at 0x7f5d5c4275f8>"
      ]
     },
     "metadata": {},
     "output_type": "display_data"
    }
   ],
   "source": [
    "# Example that I followed\n",
    "\n",
    "# set width of bar\n",
    "barWidth = 0.25\n",
    " \n",
    "# set height of bar\n",
    "bars1 = [12, 30, 1, 8, 22]\n",
    "bars2 = [28, 6, 16, 5, 10]\n",
    "bars3 = [29, 3, 24, 25, 17]\n",
    " \n",
    "# Set position of bar on X axis\n",
    "r1 = np.arange(len(bars1))\n",
    "r2 = [x + barWidth for x in r1]\n",
    "r3 = [x + barWidth for x in r2]\n",
    " \n",
    "# Make the plot\n",
    "plt.bar(r1, bars1, color='#7f6d5f', width=barWidth, edgecolor='white', label='var1')\n",
    "plt.bar(r2, bars2, color='#557f2d', width=barWidth, edgecolor='white', label='var2')\n",
    "plt.bar(r3, bars3, color='#2d7f5e', width=barWidth, edgecolor='white', label='var3')\n",
    " \n",
    "# Add xticks on the middle of the group bars\n",
    "plt.xlabel('group', fontweight='bold')\n",
    "plt.xticks([r + barWidth for r in range(len(bars1))], ['A', 'B', 'C', 'D', 'E'])\n",
    " \n",
    "# Create legend & Show graphic\n",
    "plt.legend()\n",
    "plt.show()"
   ]
  },
  {
   "cell_type": "code",
   "execution_count": null,
   "metadata": {
    "collapsed": true
   },
   "outputs": [],
   "source": []
  },
  {
   "cell_type": "code",
   "execution_count": null,
   "metadata": {},
   "outputs": [],
   "source": []
  },
  {
   "cell_type": "code",
   "execution_count": null,
   "metadata": {},
   "outputs": [],
   "source": []
  }
 ],
 "metadata": {
  "kernelspec": {
   "display_name": "Python 3",
   "language": "python",
   "name": "python3"
  },
  "language_info": {
   "codemirror_mode": {
    "name": "ipython",
    "version": 3
   },
   "file_extension": ".py",
   "mimetype": "text/x-python",
   "name": "python",
   "nbconvert_exporter": "python",
   "pygments_lexer": "ipython3",
   "version": "3.6.1"
  }
 },
 "nbformat": 4,
 "nbformat_minor": 2
}
