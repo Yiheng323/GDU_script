{
 "cells": [
  {
   "cell_type": "code",
   "execution_count": 195,
   "metadata": {
    "collapsed": true
   },
   "outputs": [],
   "source": [
    "import argparse\n",
    "import os\n",
    "import subprocess\n",
    "import datetime\n"
   ]
  },
  {
   "cell_type": "code",
   "execution_count": 196,
   "metadata": {
    "collapsed": true
   },
   "outputs": [],
   "source": [
    "parser = argparse.ArgumentParser(description=\"dada\")"
   ]
  },
  {
   "cell_type": "markdown",
   "metadata": {},
   "source": [
    "This will be a dummy notebook for generating the analysis scripts for Yihengs WGS nanopore data analysis"
   ]
  },
  {
   "cell_type": "code",
   "execution_count": 197,
   "metadata": {
    "collapsed": true
   },
   "outputs": [],
   "source": [
    "#stuff you get from argparse\n",
    "INDIR='/home/yiheng/data/Wagga_run1'\n",
    "sep_barcodes = '01,02,03,04,05,06'\n",
    "BLAST_DB_1 = 'rg'\n",
    "BLAST_DB_2 = 'nt'\n",
    "threads = '8'\n",
    "ram = '5g'\n"
   ]
  },
  {
   "cell_type": "code",
   "execution_count": 198,
   "metadata": {
    "collapsed": true
   },
   "outputs": [],
   "source": [
    "#get the date\n",
    "now = datetime.datetime.now()\n",
    "date = now.strftime(\"%Y%m%d\")"
   ]
  },
  {
   "cell_type": "code",
   "execution_count": 199,
   "metadata": {
    "collapsed": true
   },
   "outputs": [],
   "source": [
    "#define the path for control DNA sequence for nanolyse\n",
    "CDS_PATH = '/home/yiheng/bio/ncbi/db/DNA_CS.fasta.gz'"
   ]
  },
  {
   "cell_type": "code",
   "execution_count": 200,
   "metadata": {},
   "outputs": [
    {
     "data": {
      "text/plain": [
       "'20180818'"
      ]
     },
     "execution_count": 200,
     "metadata": {},
     "output_type": "execute_result"
    }
   ],
   "source": [
    "date"
   ]
  },
  {
   "cell_type": "code",
   "execution_count": 201,
   "metadata": {
    "collapsed": true
   },
   "outputs": [],
   "source": [
    "if not os.path.exists(INDIR):\n",
    "    print('INDIR %s does not exsist. Exit!' % INDIR)\n",
    "    #exit()"
   ]
  },
  {
   "cell_type": "code",
   "execution_count": 202,
   "metadata": {},
   "outputs": [
    {
     "data": {
      "text/plain": [
       "['basecalled_data']"
      ]
     },
     "execution_count": 202,
     "metadata": {},
     "output_type": "execute_result"
    }
   ],
   "source": [
    "os.listdir(INDIR)"
   ]
  },
  {
   "cell_type": "code",
   "execution_count": 203,
   "metadata": {},
   "outputs": [
    {
     "data": {
      "text/plain": [
       "'/home/yiheng/data/Wagga_run1'"
      ]
     },
     "execution_count": 203,
     "metadata": {},
     "output_type": "execute_result"
    }
   ],
   "source": [
    "os.path.abspath(INDIR)"
   ]
  },
  {
   "cell_type": "code",
   "execution_count": 204,
   "metadata": {
    "collapsed": true
   },
   "outputs": [],
   "source": [
    "SCRIPT_FOLDER = os.path.join(os.path.abspath(INDIR), 'scripts')\n",
    "WORKSPACE = os.path.join(os.path.abspath(INDIR), 'workspace')\n",
    "TRACKING = os.path.join(os.path.abspath(INDIR), 'tracking')\n",
    "if not os.path.exists(SCRIPT_FOLDER):\n",
    "    os.mkdir(SCRIPT_FOLDER)\n",
    "if not os.path.exists(WORKSPACE):\n",
    "    os.mkdir(WORKSPACE)\n",
    "if not os.path.exists(TRACKING):\n",
    "    os.mkdir(TRACKING)"
   ]
  },
  {
   "cell_type": "code",
   "execution_count": 205,
   "metadata": {
    "collapsed": true
   },
   "outputs": [],
   "source": [
    "BASECALLFOLDER = os.path.join(os.path.abspath(INDIR),'basecalled_data' )"
   ]
  },
  {
   "cell_type": "code",
   "execution_count": 206,
   "metadata": {
    "collapsed": true
   },
   "outputs": [],
   "source": [
    "#not check again if the basecalled data is there\n",
    "if not os.path.exists(BASECALLFOLDER):\n",
    "    print('No basecalled data in %s. Exit!' % INDIR)\n",
    "    #exit()"
   ]
  },
  {
   "cell_type": "code",
   "execution_count": 210,
   "metadata": {},
   "outputs": [
    {
     "data": {
      "text/plain": [
       "['Wagga_run1_albacore202.tar.gz']"
      ]
     },
     "execution_count": 210,
     "metadata": {},
     "output_type": "execute_result"
    }
   ],
   "source": [
    "os.listdir(BASECALLFOLDER)"
   ]
  },
  {
   "cell_type": "code",
   "execution_count": 211,
   "metadata": {
    "collapsed": true
   },
   "outputs": [],
   "source": [
    "if  len([os.path.join(BASECALLFOLDER, x) for x in os.listdir(BASECALLFOLDER) if x.endswith('tar.gz')]) == 1:\n",
    "    tar_file = [os.path.join(BASECALLFOLDER, x) for x in os.listdir(BASECALLFOLDER) if x.endswith('tar.gz')][0]\n",
    "    runid = tar_file.split('/')[-1].split('.')[0] \n",
    "else:\n",
    "        print('None or mulitiple tar files')"
   ]
  },
  {
   "cell_type": "code",
   "execution_count": null,
   "metadata": {},
   "outputs": [
    {
     "name": "stdout",
     "output_type": "stream",
     "text": [
      "tar -xvf /home/yiheng/data/Wagga_run1/basecalled_data/Wagga_run1_albacore202.tar.gz\n"
     ]
    }
   ],
   "source": [
    "#now untar the tar gz file\n",
    "os.chdir(BASECALLFOLDER)\n",
    "unzip_command = 'tar -xvf %s' %(tar_file)\n",
    "print(unzip_command)\n",
    "unzip_command_stderr = subprocess.check_output(unzip_command, shell=True, stderr=subprocess.STDOUT)\n"
   ]
  },
  {
   "cell_type": "code",
   "execution_count": null,
   "metadata": {
    "collapsed": true
   },
   "outputs": [],
   "source": [
    "#now we should have generated the folder with the basecallded data\n",
    "BASECALLED_DATA_FOLDER = os.path.join(BASECALLFOLDER, tar_file.split('.')[0])\n",
    "if not os.path.exists(BASECALLED_DATA_FOLDER):\n",
    "    print(\"Something with the unzipping of the basecalled data went wrong.\")\n"
   ]
  },
  {
   "cell_type": "code",
   "execution_count": null,
   "metadata": {
    "collapsed": true
   },
   "outputs": [],
   "source": [
    "#check the contents in the zipped folder\n",
    "content = ['workspace', 'configuration.cfg', 'sequencing_summary.txt', 'pipeline.log']\n",
    "if not set(os.listdir(BASECALLED_DATA_FOLDER)) == set(content):\n",
    "    print(\"Something with the unzipping of the basecalled data went wrong.\")\n",
    "\n",
    "BASECALLED_DATA_WORKSPACE = os.path.join(BASECALLED_DATA_FOLDER, 'workspace')"
   ]
  },
  {
   "cell_type": "code",
   "execution_count": null,
   "metadata": {},
   "outputs": [],
   "source": [
    "PASS_FOLDER = os.path.join(BASECALLED_DATA_WORKSPACE, 'pass')\n",
    "os.listdir(PASS_FOLDER)"
   ]
  },
  {
   "cell_type": "code",
   "execution_count": null,
   "metadata": {},
   "outputs": [],
   "source": [
    "FAIL_FOLDER = os.path.join(BASECALLED_DATA_WORKSPACE, 'fail')\n",
    "os.listdir(FAIL_FOLDER)"
   ]
  },
  {
   "cell_type": "code",
   "execution_count": null,
   "metadata": {
    "collapsed": true
   },
   "outputs": [],
   "source": [
    "sep_barcodes_list = sep_barcodes.split(',')"
   ]
  },
  {
   "cell_type": "code",
   "execution_count": null,
   "metadata": {},
   "outputs": [],
   "source": [
    "sep_barcodes_list"
   ]
  },
  {
   "cell_type": "raw",
   "metadata": {},
   "source": [
    "make a barcode 00 folder\n",
    "loop throug all folders that are not in the sep_barcode list and combine those\n",
    "add 00 to the sep_barcode list\n",
    "\n",
    "sep_barcodes_list"
   ]
  },
  {
   "cell_type": "code",
   "execution_count": null,
   "metadata": {
    "collapsed": true
   },
   "outputs": [],
   "source": [
    "#make the barcode00 folder to combine all the misidentified/unclassified barcode\n",
    "if not os.path.exists(os.path.join(FAIL_FOLDER, 'barcode00')):\n",
    "    os.mkdir(os.path.join(FAIL_FOLDER, 'barcode00'))\n",
    "\n",
    "if not os.path.exists(os.path.join(PASS_FOLDER, 'barcode00')):\n",
    "    os.mkdir(os.path.join(PASS_FOLDER, 'barcode00'))\n"
   ]
  },
  {
   "cell_type": "code",
   "execution_count": null,
   "metadata": {},
   "outputs": [],
   "source": [
    "['barcode%s' % x for x in sep_barcodes_list]"
   ]
  },
  {
   "cell_type": "code",
   "execution_count": null,
   "metadata": {
    "collapsed": true
   },
   "outputs": [],
   "source": [
    "#cat all barcode misclassified/unclassified reads in the pass folder to one fastq file and redirect to barcode00 folder\n",
    "\n",
    "if not os.path.isfile('%s/barcode00.fastq' % os.path.join(PASS_FOLDER, 'barcode00')):\n",
    "    #cat_fastq_command = 'cat'\n",
    "    for folder in [y.split('/')[-1] for y in os.listdir(PASS_FOLDER)]:\n",
    "        if folder not in ['barcode%s' % x for x in sep_barcodes_list] and folder != 'barcode00':\n",
    "            tmp_folder = os.path.join(PASS_FOLDER, folder)\n",
    "            #print(folder)\n",
    "            for fastq in [os.path.join(tmp_folder, z) for z in os.listdir(tmp_folder)  if z.endswith('fastq')]:\n",
    "                cat_fastq_command = 'cat %s' % fastq\n",
    "                #print(fastq)\n",
    "                cat_fastq_command +=' >> %s/barcode00.fastq' % os.path.join(PASS_FOLDER, 'barcode00')\n",
    "                \n",
    "                cat_fastq_command_stderr = subprocess.check_output(cat_fastq_command, shell=True, stderr=subprocess.STDOUT)\n"
   ]
  },
  {
   "cell_type": "code",
   "execution_count": null,
   "metadata": {
    "collapsed": true
   },
   "outputs": [],
   "source": [
    "#cat all barcode misclassified/unclassified reads in the fail folder to one fastq file and redirect to barcode00 folder\n",
    "if not os.path.isfile('%s/barcode00.fastq' % os.path.join(FAIL_FOLDER, 'barcode00')):\n",
    "    cat_fastq_command = 'cat'\n",
    "    for folder in [y.split('/')[-1] for y in os.listdir(FAIL_FOLDER)]:\n",
    "        if folder not in ['barcode%s' % x for x in sep_barcodes_list]:\n",
    "            tmp_folder = os.path.join(FAIL_FOLDER, folder)\n",
    "            #print(folder)\n",
    "            for fastq in [os.path.join(tmp_folder, z) for z in os.listdir(tmp_folder)  if z.endswith('fastq')]:\n",
    "                cat_fastq_command += ' %s' % fastq\n",
    "                #print(fastq)\n",
    "    cat_fastq_command +=' > %s/barcode00.fastq' % os.path.join(FAIL_FOLDER, 'barcode00')\n",
    "    cat_fastq_command_stderr = subprocess.check_output(cat_fastq_command, shell=True, stderr=subprocess.STDOUT)"
   ]
  },
  {
   "cell_type": "code",
   "execution_count": null,
   "metadata": {
    "collapsed": true
   },
   "outputs": [],
   "source": [
    "#elements of script\n",
    "def print_begining_of_script(barcode, fn):\n",
    "    \"\"\"\n",
    "    Takes the barcode and the file name to start off the script\n",
    "    \"\"\"\n",
    "    begining_of_script = \"#!/bin/bash\\n\\\n",
    "#$ -M yiheng.hu@anu.edu.au\\n\\\n",
    "#$ -m a\\n\\\n",
    "#$ -cwd\\n\\\n",
    "#$ -V\\n\\\n",
    "#$ -j y\\n\\\n",
    "#$ -pe threads %s\\n\\\n",
    "#$ -l h_vmem=%s,virtual_free=%s\\n\\\n",
    "#$ -N barcode_%s\\n\\\n",
    "set -vx\\\n",
    "\" %(threads, ram, ram, barcode)\n",
    "    print(begining_of_script, file=fn)"
   ]
  },
  {
   "cell_type": "code",
   "execution_count": null,
   "metadata": {
    "collapsed": true
   },
   "outputs": [],
   "source": [
    "#now get the nanolyse going\n",
    "def print_nanolyse(barcode, tar_file, fn):\n",
    "    \"\"\"Fill in something\"\"\"\n",
    "    fastq_prefix = runid + '.barcode%s' % (barcode)\n",
    "    nanolyse_step = \"\\n#now starts the combining of pass/fail data and nanolyze step\\n\"\n",
    "    nanolyse_step += \"cd %s\\n\" % BASECALLED_DATA_WORKSPACE\n",
    "    BARCODE_WS = os.path.join(WORKSPACE, 'barcode%s' %barcode)\n",
    "    nanolyse_step += \"mkdir -p %s\\n\" % BARCODE_WS\n",
    "    nanolyse_step += \"cat pass/barcode%s/*.fastq fail/barcode%s/*.fastq > %s/%s.unlysed.fastq\\n\"\\\n",
    "    % (barcode, barcode, BARCODE_WS, fastq_prefix )\n",
    "    nanolyse_step += \"gzip %s/%s.unlysed.fastq\\n\" % (BARCODE_WS, fastq_prefix)\n",
    "    nanolyse_step += \"gunzip -c %s/%s.unlysed.fastq\" % (BARCODE_WS, fastq_prefix)\n",
    "    nanolyse_step += \" | NanoLyse --reference %s \" % (CDS_PATH) \n",
    "    nanolyse_step += \"| gzip > %s/%s.fastq.gz\\n\" % (BARCODE_WS, fastq_prefix)\n",
    "    nanolyse_step += \"gunzip %s/%s.fastq.gz\\n\" % (BARCODE_WS, fastq_prefix)\n",
    "\n",
    "    \n",
    "    print(nanolyse_step, file=fn)"
   ]
  },
  {
   "cell_type": "code",
   "execution_count": null,
   "metadata": {
    "collapsed": true
   },
   "outputs": [],
   "source": [
    "# def print_porechop(barcode, folder, runid, fn):\n",
    "#    \"\"\"\n",
    "#    Fill in something\n",
    "#    \"\"\"\n",
    "#    fastq = '%s.barcode%s.fastq'% (runid, barcode)\n",
    "#    chopped_fastq = '%s.chopped.barcode%s.fastq'% (runid, barcode)\n",
    "#    porechop_step =\"\\n#now the porechop step\\n\"\n",
    "#    porechop_step += 'porechop -i %s/%s -o %s/%s --format fastq --middle_threshold 95'\\\n",
    "#    %(folder,fastq, folder, chopped_fastq )\n",
    "#    print(porechop_step, file=fn)"
   ]
  },
  {
   "cell_type": "code",
   "execution_count": null,
   "metadata": {
    "collapsed": true
   },
   "outputs": [],
   "source": [
    "def print_porechop(barcode, folder, runid, fn):\n",
    "    \"\"\"\n",
    "    Fill in something\n",
    "    \"\"\"\n",
    "    fastq = '%s.barcode%s.fastq'% (runid, barcode)\n",
    "    chopped_fastq = '%s.chopped.barcode%s.fastq'% (runid, barcode)\n",
    "    porechop_step =\"\\n#now the porechop step\\n\"\n",
    "    porechop_step += 'porechop -i %s/%s -o %s/%s --format fastq --middle_threshold 95\\n' % (folder,fastq, folder, chopped_fastq )\n",
    "    porechop_step += \"seqtk seq -a %s/%s > %s/%s\\n\" % (folder, chopped_fastq, folder, chopped_fastq.replace('.fastq', '.fasta'))\n",
    "    print(porechop_step, file=fn)"
   ]
  },
  {
   "cell_type": "code",
   "execution_count": null,
   "metadata": {
    "collapsed": true
   },
   "outputs": [],
   "source": [
    "def print_blastn_1(barcode, folder, runid, fn):\n",
    "    \"\"\"Fill in something here.\"\"\"\n",
    "    chopped_fasta = '%s.chopped.barcode%s.fasta'% (runid, barcode)\n",
    "    hit_ids_fn = \"%s/%s.%sblast.qseqid.barcode%s.txt\" %(folder, runid, BLAST_DB_1, barcode)\n",
    "    \n",
    "    blastn_step = \"\\n#now the blast step against DB %s\\n\" % BLAST_DB_1\n",
    "    blastn_step += \"blastn -query %s/%s -db %s -evalue 0.01 -outfmt \" %(folder,chopped_fasta, BLAST_DB_1 )\n",
    "    blastn_step += \"'6 qseqid sseqid evalue bitscore length pident nident sgi sacc staxids sscinames scomnames sskingdoms'\" \n",
    "    blastn_step += \"-show_gis -num_threads %s | sort -k1,1 -k4,4nr | sort -u -k1,1 --merge \" % (threads)\n",
    "    blastn_step += \"> %s/%s.%s.%sblast_output\\n\\n\" %(folder,chopped_fasta,date ,BLAST_DB_1)\n",
    "    blastn_step += \"cut -f 1 %s/%s.%s.%sblast_output\" %(folder,chopped_fasta,date ,BLAST_DB_1)\n",
    "    blastn_step += \" > %s\\n\\n\" % hit_ids_fn\n",
    "    blastn_step += \"filterbyname.sh in=%s/%s \" % (folder, chopped_fasta)\n",
    "    blastn_step += \"out=%s/%s \" % (folder, chopped_fasta.replace('.barcode%s.'%barcode,\\\n",
    "                                                              '.%shityes.barcode%s.'%(BLAST_DB_1, barcode)))\n",
    "    blastn_step += \"names=%s include=t\\n\" % hit_ids_fn\n",
    "    blastn_step += \"filterbyname.sh in=%s/%s \" % (folder, chopped_fasta)\n",
    "    blastn_step += \"out=%s/%s \" % (folder, chopped_fasta.replace('.barcode%s.'%barcode,\\\n",
    "                                                              '.%shitno.barcode%s.'%(BLAST_DB_1, barcode)))\n",
    "    blastn_step += \"names=%s include=f\\n\" % hit_ids_fn\n",
    "    \n",
    "    print(blastn_step, file =fn)"
   ]
  },
  {
   "cell_type": "code",
   "execution_count": null,
   "metadata": {
    "collapsed": true
   },
   "outputs": [],
   "source": [
    "def print_blastn_2(barcode, folder, runid, fn):\n",
    "    \"\"\"Fill in something here.\"\"\"\n",
    "    nohit_fasta = '%s.chopped.%shitno.barcode%s.fasta'% (runid, BLAST_DB_1, barcode)\n",
    "    hit_ids_fn = \"%s/%s.%shitno.%sblast.qseqid.barcode%s.txt\" %(folder, runid, BLAST_DB_1, BLAST_DB_2, barcode)\n",
    "    \n",
    "    blastn_step = \"\\n#now the blast step against database %s\\n\" % BLAST_DB_2\n",
    "    blastn_step += \"blastn -query %s/%s -db %s -evalue 0.01 -outfmt \" %(folder,nohit_fasta, BLAST_DB_2 )\n",
    "    blastn_step += \"'6 qseqid sseqid evalue bitscore length pident nident sgi sacc staxids sscinames scomnames sskingdoms'\" \n",
    "    blastn_step += \"-show_gis -num_threads %s | sort -k1,1 -k4,4nr | sort -u -k1,1 --merge \" % (threads)\n",
    "    blastn_step += \"> %s/%s.%s.%sblast_output\\n\\n\" %(folder,nohit_fasta,date,BLAST_DB_2)\n",
    "    blastn_step += \"cut -f 1 %s/%s.%s.%sblast_output\" %(folder,nohit_fasta,date,BLAST_DB_2)\n",
    "    blastn_step += \" > %s\\n\\n\" % hit_ids_fn\n",
    "    blastn_step += \"filterbyname.sh in=%s/%s \" % (folder, nohit_fasta)\n",
    "    blastn_step += \"out=%s/%s \" % (folder, nohit_fasta.replace('.barcode%s.'%barcode,\\\n",
    "                                                              '.%shityes.barcode%s.'%(BLAST_DB_2, barcode)))\n",
    "    blastn_step += \"names=%s include=t\\n\" % hit_ids_fn\n",
    "    blastn_step += \"filterbyname.sh in=%s/%s \" % (folder, nohit_fasta)\n",
    "    blastn_step += \"out=%s/%s \" % (folder, nohit_fasta.replace('.barcode%s.'%barcode,\\\n",
    "                                                              '.%shitno.barcode%s.'%( BLAST_DB_2, barcode)))\n",
    "    blastn_step += \"names=%s include=f\\n\" % hit_ids_fn\n",
    "    \n",
    "    print(blastn_step, file =fn)"
   ]
  },
  {
   "cell_type": "code",
   "execution_count": null,
   "metadata": {
    "collapsed": true
   },
   "outputs": [],
   "source": [
    "#add barcode 00\n",
    "sep_barcodes_list.append('00')\n"
   ]
  },
  {
   "cell_type": "code",
   "execution_count": null,
   "metadata": {},
   "outputs": [],
   "source": [
    "sep_barcodes_list"
   ]
  },
  {
   "cell_type": "code",
   "execution_count": null,
   "metadata": {
    "collapsed": true
   },
   "outputs": [],
   "source": [
    "for barcode in sep_barcodes_list:\n",
    "    tmp_file = os.path.join(SCRIPT_FOLDER, 'barcode%s.sh' % barcode)\n",
    "    with open(tmp_file, 'w') as fn:\n",
    "        TMP_BARCODE_FOLDER = os.path.join(WORKSPACE, 'barcode%s' % barcode)\n",
    "        \n",
    "        print_begining_of_script(barcode, fn)\n",
    "        print_nanolyse(barcode, runid, fn)\n",
    "        print_porechop(barcode, TMP_BARCODE_FOLDER, runid, fn)\n",
    "        print_blastn_1(barcode, TMP_BARCODE_FOLDER, runid, fn)\n",
    "        print_blastn_2(barcode, TMP_BARCODE_FOLDER, runid, fn)"
   ]
  },
  {
   "cell_type": "code",
   "execution_count": null,
   "metadata": {},
   "outputs": [],
   "source": [
    "#now qsub all scripts\n",
    "os.chdir(SCRIPT_FOLDER)\n",
    "qsub_command = 'qsub %s' \n",
    "for script in [os.path.join(SCRIPT_FOLDER, x) for x in os.listdir(SCRIPT_FOLDER) if x.endswith('.sh')]:\n",
    "    qsub_command_stderr = subprocess.check_output(qsub_command % script, shell=True, stderr=subprocess.STDOUT)\n",
    "    print(qsub_command_stderr)"
   ]
  },
  {
   "cell_type": "code",
   "execution_count": null,
   "metadata": {
    "collapsed": true
   },
   "outputs": [],
   "source": []
  },
  {
   "cell_type": "code",
   "execution_count": null,
   "metadata": {},
   "outputs": [],
   "source": []
  },
  {
   "cell_type": "code",
   "execution_count": null,
   "metadata": {},
   "outputs": [],
   "source": []
  }
 ],
 "metadata": {
  "kernelspec": {
   "display_name": "Python 3",
   "language": "python",
   "name": "python3"
  },
  "language_info": {
   "codemirror_mode": {
    "name": "ipython",
    "version": 3
   },
   "file_extension": ".py",
   "mimetype": "text/x-python",
   "name": "python",
   "nbconvert_exporter": "python",
   "pygments_lexer": "ipython3",
   "version": "3.6.1"
  }
 },
 "nbformat": 4,
 "nbformat_minor": 2
}
