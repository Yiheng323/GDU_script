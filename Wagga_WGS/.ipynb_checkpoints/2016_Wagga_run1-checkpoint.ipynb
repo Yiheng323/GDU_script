{
 "cells": [
  {
   "cell_type": "code",
   "execution_count": 17,
   "metadata": {
    "collapsed": true
   },
   "outputs": [],
   "source": [
    "import argparse\n",
    "import os\n",
    "import subprocess\n",
    "import datetime\n"
   ]
  },
  {
   "cell_type": "code",
   "execution_count": 18,
   "metadata": {
    "collapsed": true
   },
   "outputs": [],
   "source": [
    "parser = argparse.ArgumentParser(description=\"dada\")"
   ]
  },
  {
   "cell_type": "markdown",
   "metadata": {},
   "source": [
    "This will be a dummy notebook for generating the analysis scripts for Yihengs WGS nanopore data analysis"
   ]
  },
  {
   "cell_type": "code",
   "execution_count": 19,
   "metadata": {},
   "outputs": [
    {
     "data": {
      "text/plain": [
       "'/home/yiheng/data/Wagga_run1/basecalled_data'"
      ]
     },
     "execution_count": 19,
     "metadata": {},
     "output_type": "execute_result"
    }
   ],
   "source": [
    "os.getcwd()\n"
   ]
  },
  {
   "cell_type": "code",
   "execution_count": 52,
   "metadata": {
    "collapsed": true
   },
   "outputs": [],
   "source": [
    "#stuff you get from argparse\n",
    "INDIR='/home/yiheng/data/Wagga_run1'\n",
    "sep_barcodes = '01,02,03,04,05,06'\n",
    "BLAST_DB_1 = 'rg'\n",
    "BLAST_DB_2 = 'nt'\n",
    "threads = '8'\n",
    "ram = '5g'\n"
   ]
  },
  {
   "cell_type": "code",
   "execution_count": 53,
   "metadata": {
    "collapsed": true
   },
   "outputs": [],
   "source": [
    "#get the date\n",
    "now = datetime.datetime.now()\n",
    "date = now.strftime(\"%Y%m%d\")"
   ]
  },
  {
   "cell_type": "code",
   "execution_count": 54,
   "metadata": {
    "collapsed": true
   },
   "outputs": [],
   "source": [
    "#define the path for control DNA sequence for nanolyse\n",
    "CDS_PATH = '/home/yiheng/bio/ncbi/db/DNA_CS.fasta.gz'"
   ]
  },
  {
   "cell_type": "code",
   "execution_count": 55,
   "metadata": {},
   "outputs": [
    {
     "data": {
      "text/plain": [
       "'20171028'"
      ]
     },
     "execution_count": 55,
     "metadata": {},
     "output_type": "execute_result"
    }
   ],
   "source": [
    "date"
   ]
  },
  {
   "cell_type": "code",
   "execution_count": 56,
   "metadata": {
    "collapsed": true
   },
   "outputs": [],
   "source": [
    "if not os.path.exists(INDIR):\n",
    "    print('INDIR %s does not exsist. Exit!' % INDIR)\n",
    "    #exit()"
   ]
  },
  {
   "cell_type": "code",
   "execution_count": 57,
   "metadata": {},
   "outputs": [
    {
     "data": {
      "text/plain": [
       "['basecalled_data', 'scripts', 'tracking', 'workspace']"
      ]
     },
     "execution_count": 57,
     "metadata": {},
     "output_type": "execute_result"
    }
   ],
   "source": [
    "os.listdir(INDIR)"
   ]
  },
  {
   "cell_type": "code",
   "execution_count": 58,
   "metadata": {},
   "outputs": [
    {
     "data": {
      "text/plain": [
       "'/home/yiheng/data/Wagga_run1'"
      ]
     },
     "execution_count": 58,
     "metadata": {},
     "output_type": "execute_result"
    }
   ],
   "source": [
    "os.path.abspath(INDIR)"
   ]
  },
  {
   "cell_type": "code",
   "execution_count": 59,
   "metadata": {
    "collapsed": true
   },
   "outputs": [],
   "source": [
    "SCRIPT_FOLDER = os.path.join(os.path.abspath(INDIR), 'scripts')\n",
    "WORKSPACE = os.path.join(os.path.abspath(INDIR), 'workspace')\n",
    "TRACKING = os.path.join(os.path.abspath(INDIR), 'tracking')\n",
    "if not os.path.exists(SCRIPT_FOLDER):\n",
    "    os.mkdir(SCRIPT_FOLDER)\n",
    "if not os.path.exists(WORKSPACE):\n",
    "    os.mkdir(WORKSPACE)\n",
    "if not os.path.exists(TRACKING):\n",
    "    os.mkdir(TRACKING)"
   ]
  },
  {
   "cell_type": "code",
   "execution_count": 60,
   "metadata": {
    "collapsed": true
   },
   "outputs": [],
   "source": [
    "BASECALLFOLDER = os.path.join(os.path.abspath(INDIR),'basecalled_data' )"
   ]
  },
  {
   "cell_type": "code",
   "execution_count": 61,
   "metadata": {
    "collapsed": true
   },
   "outputs": [],
   "source": [
    "#not check again if the basecalled data is there\n",
    "if not os.path.exists(BASECALLFOLDER):\n",
    "    print('No basecalled data in %s. Exit!' % INDIR)\n",
    "    #exit()"
   ]
  },
  {
   "cell_type": "code",
   "execution_count": 62,
   "metadata": {},
   "outputs": [
    {
     "data": {
      "text/plain": [
       "['Wagga_run1_albacore202.tar.gz', 'Wagga_run1_albacore202']"
      ]
     },
     "execution_count": 62,
     "metadata": {},
     "output_type": "execute_result"
    }
   ],
   "source": [
    "os.listdir(BASECALLFOLDER)"
   ]
  },
  {
   "cell_type": "code",
   "execution_count": 63,
   "metadata": {
    "collapsed": true
   },
   "outputs": [],
   "source": [
    "if  len([os.path.join(BASECALLFOLDER, x) for x in os.listdir(BASECALLFOLDER) if x.endswith('tar.gz')]) == 1:\n",
    "    tar_file = [os.path.join(BASECALLFOLDER, x) for x in os.listdir(BASECALLFOLDER) if x.endswith('tar.gz')][0]\n",
    "    runid = tar_file.split('/')[-1].split('.')[0] \n",
    "else:\n",
    "        print('None or mulitiple tar files')"
   ]
  },
  {
   "cell_type": "code",
   "execution_count": 64,
   "metadata": {},
   "outputs": [
    {
     "name": "stdout",
     "output_type": "stream",
     "text": [
      "tar -xvf /home/yiheng/data/Wagga_run1/basecalled_data/Wagga_run1_albacore202.tar.gz\n"
     ]
    }
   ],
   "source": [
    "#now untar the tar gz file\n",
    "os.chdir(BASECALLFOLDER)\n",
    "unzip_command = 'tar -xvf %s' %(tar_file)\n",
    "print(unzip_command)\n",
    "unzip_command_stderr = subprocess.check_output(unzip_command, shell=True, stderr=subprocess.STDOUT)\n"
   ]
  },
  {
   "cell_type": "code",
   "execution_count": 65,
   "metadata": {
    "collapsed": true
   },
   "outputs": [],
   "source": [
    "#now we should have generated the folder with the basecallded data\n",
    "BASECALLED_DATA_FOLDER = os.path.join(BASECALLFOLDER, tar_file.split('.')[0])\n",
    "if not os.path.exists(BASECALLED_DATA_FOLDER):\n",
    "    print(\"Something with the unzipping of the basecalled data went wrong.\")\n"
   ]
  },
  {
   "cell_type": "code",
   "execution_count": 66,
   "metadata": {
    "collapsed": true
   },
   "outputs": [],
   "source": [
    "#check the contents in the zipped folder\n",
    "content = ['workspace', 'configuration.cfg', 'sequencing_summary.txt', 'pipeline.log']\n",
    "if not set(os.listdir(BASECALLED_DATA_FOLDER)) == set(content):\n",
    "    print(\"Something with the unzipping of the basecalled data went wrong.\")\n",
    "\n",
    "BASECALLED_DATA_WORKSPACE = os.path.join(BASECALLED_DATA_FOLDER, 'workspace')"
   ]
  },
  {
   "cell_type": "code",
   "execution_count": 67,
   "metadata": {},
   "outputs": [
    {
     "data": {
      "text/plain": [
       "['barcode13',\n",
       " 'barcode15',\n",
       " 'barcode28',\n",
       " 'barcode47',\n",
       " 'barcode65',\n",
       " 'barcode14',\n",
       " 'barcode61',\n",
       " 'barcode87',\n",
       " 'barcode86',\n",
       " 'barcode56',\n",
       " 'barcode48',\n",
       " 'barcode33',\n",
       " 'barcode91',\n",
       " 'barcode76',\n",
       " 'barcode39',\n",
       " 'barcode46',\n",
       " 'barcode70',\n",
       " 'barcode41',\n",
       " 'barcode51',\n",
       " 'barcode89',\n",
       " 'barcode17',\n",
       " 'barcode02',\n",
       " 'barcode44',\n",
       " 'barcode67',\n",
       " 'barcode55',\n",
       " 'barcode11',\n",
       " 'barcode64',\n",
       " 'barcode59',\n",
       " 'barcode81',\n",
       " 'barcode80',\n",
       " 'barcode09',\n",
       " 'barcode43',\n",
       " 'barcode49',\n",
       " 'barcode37',\n",
       " 'barcode71',\n",
       " 'barcode06',\n",
       " 'barcode74',\n",
       " 'barcode45',\n",
       " 'barcode50',\n",
       " 'barcode36',\n",
       " 'barcode23',\n",
       " 'barcode53',\n",
       " 'barcode69',\n",
       " 'barcode22',\n",
       " 'barcode24',\n",
       " 'barcode58',\n",
       " 'barcode40',\n",
       " 'barcode27',\n",
       " 'barcode94',\n",
       " 'barcode66',\n",
       " 'barcode18',\n",
       " 'barcode93',\n",
       " 'barcode62',\n",
       " 'barcode85',\n",
       " 'barcode82',\n",
       " 'barcode20',\n",
       " 'barcode21',\n",
       " 'barcode60',\n",
       " 'barcode12',\n",
       " 'barcode77',\n",
       " 'barcode32',\n",
       " 'barcode04',\n",
       " 'barcode79',\n",
       " 'barcode52',\n",
       " 'barcode19',\n",
       " 'barcode25',\n",
       " 'barcode90',\n",
       " 'barcode35',\n",
       " 'barcode01',\n",
       " 'barcode57',\n",
       " 'barcode92',\n",
       " 'barcode34',\n",
       " 'barcode10',\n",
       " 'barcode96',\n",
       " 'barcode73',\n",
       " 'barcode95',\n",
       " 'barcode05',\n",
       " 'barcode30',\n",
       " 'barcode42',\n",
       " 'barcode31',\n",
       " 'barcode08',\n",
       " 'barcode75',\n",
       " 'barcode29',\n",
       " 'barcode68',\n",
       " 'barcode16',\n",
       " 'barcode54',\n",
       " 'barcode63',\n",
       " 'barcode03',\n",
       " 'barcode07',\n",
       " 'barcode83',\n",
       " 'barcode88',\n",
       " 'unclassified',\n",
       " 'barcode26',\n",
       " 'barcode84',\n",
       " 'barcode72',\n",
       " 'barcode38',\n",
       " 'barcode00']"
      ]
     },
     "execution_count": 67,
     "metadata": {},
     "output_type": "execute_result"
    }
   ],
   "source": [
    "PASS_FOLDER = os.path.join(BASECALLED_DATA_WORKSPACE, 'pass')\n",
    "os.listdir(PASS_FOLDER)"
   ]
  },
  {
   "cell_type": "code",
   "execution_count": 68,
   "metadata": {},
   "outputs": [
    {
     "data": {
      "text/plain": [
       "['barcode13',\n",
       " 'barcode28',\n",
       " 'barcode14',\n",
       " 'barcode91',\n",
       " 'barcode39',\n",
       " 'barcode46',\n",
       " 'barcode02',\n",
       " 'barcode67',\n",
       " 'barcode11',\n",
       " 'barcode64',\n",
       " 'barcode80',\n",
       " 'barcode09',\n",
       " 'barcode43',\n",
       " 'barcode49',\n",
       " 'barcode37',\n",
       " 'barcode06',\n",
       " 'barcode50',\n",
       " 'barcode18',\n",
       " 'barcode85',\n",
       " 'barcode82',\n",
       " 'barcode60',\n",
       " 'barcode12',\n",
       " 'barcode04',\n",
       " 'barcode19',\n",
       " 'barcode35',\n",
       " 'barcode01',\n",
       " 'barcode10',\n",
       " 'barcode05',\n",
       " 'barcode31',\n",
       " 'barcode54',\n",
       " 'barcode63',\n",
       " 'barcode03',\n",
       " 'barcode07',\n",
       " 'unclassified',\n",
       " 'barcode84',\n",
       " 'barcode00']"
      ]
     },
     "execution_count": 68,
     "metadata": {},
     "output_type": "execute_result"
    }
   ],
   "source": [
    "FAIL_FOLDER = os.path.join(BASECALLED_DATA_WORKSPACE, 'fail')\n",
    "os.listdir(FAIL_FOLDER)"
   ]
  },
  {
   "cell_type": "code",
   "execution_count": 69,
   "metadata": {
    "collapsed": true
   },
   "outputs": [],
   "source": [
    "sep_barcodes_list = sep_barcodes.split(',')"
   ]
  },
  {
   "cell_type": "code",
   "execution_count": 70,
   "metadata": {},
   "outputs": [
    {
     "data": {
      "text/plain": [
       "['01', '02', '03', '04', '05', '06']"
      ]
     },
     "execution_count": 70,
     "metadata": {},
     "output_type": "execute_result"
    }
   ],
   "source": [
    "sep_barcodes_list"
   ]
  },
  {
   "cell_type": "raw",
   "metadata": {},
   "source": [
    "make a barcode 00 folder\n",
    "loop throug all folders that are not in the sep_barcode list and combine those\n",
    "add 00 to the sep_barcode list\n",
    "\n",
    "sep_barcodes_list"
   ]
  },
  {
   "cell_type": "code",
   "execution_count": 71,
   "metadata": {
    "collapsed": true
   },
   "outputs": [],
   "source": [
    "#make the barcode00 folder to combine all the misidentified/unclassified barcode\n",
    "if not os.path.exists(os.path.join(FAIL_FOLDER, 'barcode00')):\n",
    "    os.mkdir(os.path.join(FAIL_FOLDER, 'barcode00'))\n",
    "\n",
    "if not os.path.exists(os.path.join(PASS_FOLDER, 'barcode00')):\n",
    "    os.mkdir(os.path.join(PASS_FOLDER, 'barcode00'))\n"
   ]
  },
  {
   "cell_type": "code",
   "execution_count": 72,
   "metadata": {},
   "outputs": [
    {
     "data": {
      "text/plain": [
       "['barcode01', 'barcode02', 'barcode03', 'barcode04', 'barcode05', 'barcode06']"
      ]
     },
     "execution_count": 72,
     "metadata": {},
     "output_type": "execute_result"
    }
   ],
   "source": [
    "['barcode%s' % x for x in sep_barcodes_list]"
   ]
  },
  {
   "cell_type": "code",
   "execution_count": 76,
   "metadata": {},
   "outputs": [
    {
     "ename": "OSError",
     "evalue": "[Errno 7] Argument list too long",
     "output_type": "error",
     "traceback": [
      "\u001b[0;31m---------------------------------------------------------------------------\u001b[0m",
      "\u001b[0;31mOSError\u001b[0m                                   Traceback (most recent call last)",
      "\u001b[0;32m<ipython-input-76-7972862d8399>\u001b[0m in \u001b[0;36m<module>\u001b[0;34m()\u001b[0m\n\u001b[1;32m     11\u001b[0m                 \u001b[0;31m#print(fastq)\u001b[0m\u001b[0;34m\u001b[0m\u001b[0;34m\u001b[0m\u001b[0m\n\u001b[1;32m     12\u001b[0m     \u001b[0mcat_fastq_command\u001b[0m \u001b[0;34m+=\u001b[0m\u001b[0;34m' > %s/barcode00.fastq'\u001b[0m \u001b[0;34m%\u001b[0m \u001b[0mos\u001b[0m\u001b[0;34m.\u001b[0m\u001b[0mpath\u001b[0m\u001b[0;34m.\u001b[0m\u001b[0mjoin\u001b[0m\u001b[0;34m(\u001b[0m\u001b[0mPASS_FOLDER\u001b[0m\u001b[0;34m,\u001b[0m \u001b[0;34m'barcode00'\u001b[0m\u001b[0;34m)\u001b[0m\u001b[0;34m\u001b[0m\u001b[0m\n\u001b[0;32m---> 13\u001b[0;31m     \u001b[0mcat_fastq_command_stderr\u001b[0m \u001b[0;34m=\u001b[0m \u001b[0msubprocess\u001b[0m\u001b[0;34m.\u001b[0m\u001b[0mcheck_output\u001b[0m\u001b[0;34m(\u001b[0m\u001b[0mcat_fastq_command\u001b[0m\u001b[0;34m,\u001b[0m \u001b[0mshell\u001b[0m\u001b[0;34m=\u001b[0m\u001b[0;32mTrue\u001b[0m\u001b[0;34m,\u001b[0m \u001b[0mstderr\u001b[0m\u001b[0;34m=\u001b[0m\u001b[0msubprocess\u001b[0m\u001b[0;34m.\u001b[0m\u001b[0mSTDOUT\u001b[0m\u001b[0;34m)\u001b[0m\u001b[0;34m\u001b[0m\u001b[0m\n\u001b[0m",
      "\u001b[0;32m/home/yiheng/anaconda3/lib/python3.6/subprocess.py\u001b[0m in \u001b[0;36mcheck_output\u001b[0;34m(timeout, *popenargs, **kwargs)\u001b[0m\n\u001b[1;32m    334\u001b[0m \u001b[0;34m\u001b[0m\u001b[0m\n\u001b[1;32m    335\u001b[0m     return run(*popenargs, stdout=PIPE, timeout=timeout, check=True,\n\u001b[0;32m--> 336\u001b[0;31m                **kwargs).stdout\n\u001b[0m\u001b[1;32m    337\u001b[0m \u001b[0;34m\u001b[0m\u001b[0m\n\u001b[1;32m    338\u001b[0m \u001b[0;34m\u001b[0m\u001b[0m\n",
      "\u001b[0;32m/home/yiheng/anaconda3/lib/python3.6/subprocess.py\u001b[0m in \u001b[0;36mrun\u001b[0;34m(input, timeout, check, *popenargs, **kwargs)\u001b[0m\n\u001b[1;32m    401\u001b[0m         \u001b[0mkwargs\u001b[0m\u001b[0;34m[\u001b[0m\u001b[0;34m'stdin'\u001b[0m\u001b[0;34m]\u001b[0m \u001b[0;34m=\u001b[0m \u001b[0mPIPE\u001b[0m\u001b[0;34m\u001b[0m\u001b[0m\n\u001b[1;32m    402\u001b[0m \u001b[0;34m\u001b[0m\u001b[0m\n\u001b[0;32m--> 403\u001b[0;31m     \u001b[0;32mwith\u001b[0m \u001b[0mPopen\u001b[0m\u001b[0;34m(\u001b[0m\u001b[0;34m*\u001b[0m\u001b[0mpopenargs\u001b[0m\u001b[0;34m,\u001b[0m \u001b[0;34m**\u001b[0m\u001b[0mkwargs\u001b[0m\u001b[0;34m)\u001b[0m \u001b[0;32mas\u001b[0m \u001b[0mprocess\u001b[0m\u001b[0;34m:\u001b[0m\u001b[0;34m\u001b[0m\u001b[0m\n\u001b[0m\u001b[1;32m    404\u001b[0m         \u001b[0;32mtry\u001b[0m\u001b[0;34m:\u001b[0m\u001b[0;34m\u001b[0m\u001b[0m\n\u001b[1;32m    405\u001b[0m             \u001b[0mstdout\u001b[0m\u001b[0;34m,\u001b[0m \u001b[0mstderr\u001b[0m \u001b[0;34m=\u001b[0m \u001b[0mprocess\u001b[0m\u001b[0;34m.\u001b[0m\u001b[0mcommunicate\u001b[0m\u001b[0;34m(\u001b[0m\u001b[0minput\u001b[0m\u001b[0;34m,\u001b[0m \u001b[0mtimeout\u001b[0m\u001b[0;34m=\u001b[0m\u001b[0mtimeout\u001b[0m\u001b[0;34m)\u001b[0m\u001b[0;34m\u001b[0m\u001b[0m\n",
      "\u001b[0;32m/home/yiheng/anaconda3/lib/python3.6/subprocess.py\u001b[0m in \u001b[0;36m__init__\u001b[0;34m(self, args, bufsize, executable, stdin, stdout, stderr, preexec_fn, close_fds, shell, cwd, env, universal_newlines, startupinfo, creationflags, restore_signals, start_new_session, pass_fds, encoding, errors)\u001b[0m\n\u001b[1;32m    705\u001b[0m                                 \u001b[0mc2pread\u001b[0m\u001b[0;34m,\u001b[0m \u001b[0mc2pwrite\u001b[0m\u001b[0;34m,\u001b[0m\u001b[0;34m\u001b[0m\u001b[0m\n\u001b[1;32m    706\u001b[0m                                 \u001b[0merrread\u001b[0m\u001b[0;34m,\u001b[0m \u001b[0merrwrite\u001b[0m\u001b[0;34m,\u001b[0m\u001b[0;34m\u001b[0m\u001b[0m\n\u001b[0;32m--> 707\u001b[0;31m                                 restore_signals, start_new_session)\n\u001b[0m\u001b[1;32m    708\u001b[0m         \u001b[0;32mexcept\u001b[0m\u001b[0;34m:\u001b[0m\u001b[0;34m\u001b[0m\u001b[0m\n\u001b[1;32m    709\u001b[0m             \u001b[0;31m# Cleanup if the child failed starting.\u001b[0m\u001b[0;34m\u001b[0m\u001b[0;34m\u001b[0m\u001b[0m\n",
      "\u001b[0;32m/home/yiheng/anaconda3/lib/python3.6/subprocess.py\u001b[0m in \u001b[0;36m_execute_child\u001b[0;34m(self, args, executable, preexec_fn, close_fds, pass_fds, cwd, env, startupinfo, creationflags, shell, p2cread, p2cwrite, c2pread, c2pwrite, errread, errwrite, restore_signals, start_new_session)\u001b[0m\n\u001b[1;32m   1324\u001b[0m                             \u001b[0;32melse\u001b[0m\u001b[0;34m:\u001b[0m\u001b[0;34m\u001b[0m\u001b[0m\n\u001b[1;32m   1325\u001b[0m                                 \u001b[0merr_msg\u001b[0m \u001b[0;34m+=\u001b[0m \u001b[0;34m': '\u001b[0m \u001b[0;34m+\u001b[0m \u001b[0mrepr\u001b[0m\u001b[0;34m(\u001b[0m\u001b[0morig_executable\u001b[0m\u001b[0;34m)\u001b[0m\u001b[0;34m\u001b[0m\u001b[0m\n\u001b[0;32m-> 1326\u001b[0;31m                     \u001b[0;32mraise\u001b[0m \u001b[0mchild_exception_type\u001b[0m\u001b[0;34m(\u001b[0m\u001b[0merrno_num\u001b[0m\u001b[0;34m,\u001b[0m \u001b[0merr_msg\u001b[0m\u001b[0;34m)\u001b[0m\u001b[0;34m\u001b[0m\u001b[0m\n\u001b[0m\u001b[1;32m   1327\u001b[0m                 \u001b[0;32mraise\u001b[0m \u001b[0mchild_exception_type\u001b[0m\u001b[0;34m(\u001b[0m\u001b[0merr_msg\u001b[0m\u001b[0;34m)\u001b[0m\u001b[0;34m\u001b[0m\u001b[0m\n\u001b[1;32m   1328\u001b[0m \u001b[0;34m\u001b[0m\u001b[0m\n",
      "\u001b[0;31mOSError\u001b[0m: [Errno 7] Argument list too long"
     ]
    }
   ],
   "source": [
    "#cat all barcode misclassified/unclassified reads in the pass folder to one fastq file and redirect to barcode00 folder\n",
    "\n",
    "if not os.path.isfile('%s/barcode00.fastq' % os.path.join(PASS_FOLDER, 'barcode00')):\n",
    "    cat_fastq_command = 'cat'\n",
    "    for folder in [y.split('/')[-1] for y in os.listdir(PASS_FOLDER)]:\n",
    "        if folder not in ['barcode%s' % x for x in sep_barcodes_list]:\n",
    "            tmp_folder = os.path.join(PASS_FOLDER, folder)\n",
    "            #print(folder)\n",
    "            for fastq in [os.path.join(tmp_folder, z) for z in os.listdir(tmp_folder)  if z.endswith('fastq')]:\n",
    "                cat_fastq_command += ' %s' % fastq\n",
    "                #print(fastq)\n",
    "    cat_fastq_command +=' > %s/barcode00.fastq' % os.path.join(PASS_FOLDER, 'barcode00')\n",
    "    cat_fastq_command_stderr = subprocess.check_output(cat_fastq_command, shell=True, stderr=subprocess.STDOUT)\n"
   ]
  },
  {
   "cell_type": "code",
   "execution_count": 75,
   "metadata": {
    "collapsed": true
   },
   "outputs": [],
   "source": [
    "#cat all barcode misclassified/unclassified reads in the fail folder to one fastq file and redirect to barcode00 folder\n",
    "if not os.path.isfile('%s/barcode00.fastq' % os.path.join(FAIL_FOLDER, 'barcode00')):\n",
    "    cat_fastq_command = 'cat'\n",
    "    for folder in [y.split('/')[-1] for y in os.listdir(FAIL_FOLDER)]:\n",
    "        if folder not in ['barcode%s' % x for x in sep_barcodes_list]:\n",
    "            tmp_folder = os.path.join(FAIL_FOLDER, folder)\n",
    "            #print(folder)\n",
    "            for fastq in [os.path.join(tmp_folder, z) for z in os.listdir(tmp_folder)  if z.endswith('fastq')]:\n",
    "                cat_fastq_command += ' %s' % fastq\n",
    "                #print(fastq)\n",
    "    cat_fastq_command +=' > %s/barcode00.fastq' % os.path.join(FAIL_FOLDER, 'barcode00')\n",
    "    cat_fastq_command_stderr = subprocess.check_output(cat_fastq_command, shell=True, stderr=subprocess.STDOUT)"
   ]
  },
  {
   "cell_type": "code",
   "execution_count": null,
   "metadata": {
    "collapsed": true
   },
   "outputs": [],
   "source": [
    "#elements of script\n",
    "def print_begining_of_script(barcode, fn):\n",
    "    \"\"\"\n",
    "    Takes the barcode and the file name to start off the script\n",
    "    \"\"\"\n",
    "    begining_of_script = \"#!/bin/bash\\n\\\n",
    "#$ -M yiheng.hu@anu.edu.au\\n\\\n",
    "#$ -m a\\n\\\n",
    "#$ -cwd\\n\\\n",
    "#$ -V\\n\\\n",
    "#$ -j y\\n\\\n",
    "#$ -pe threads %s\\n\\\n",
    "#$ -l h_vmem=%s,virtual_free=%s\\n\\\n",
    "#$ -N barcode_%s\\n\\\n",
    "set -vx\\\n",
    "\" %(threads, ram, ram, barcode)\n",
    "    print(begining_of_script, file=fn)"
   ]
  },
  {
   "cell_type": "code",
   "execution_count": null,
   "metadata": {
    "collapsed": true
   },
   "outputs": [],
   "source": [
    "#now get the nanolyse going\n",
    "def print_nanolyse(barcode, tar_file, fn):\n",
    "    \"\"\"Fill in something\"\"\"\n",
    "    fastq_prefix = runid + '.barcode%s' % (barcode)\n",
    "    nanolyse_step = \"\\n#now starts the combining of pass/fail data and nanolyze step\\n\"\n",
    "    nanolyse_step += \"cd %s\\n\" % BASECALLED_DATA_WORKSPACE\n",
    "    BARCODE_WS = os.path.join(WORKSPACE, 'barcode%s' %barcode)\n",
    "    nanolyse_step += \"mkdir -p %s\\n\" % BARCODE_WS\n",
    "    nanolyse_step += \"cat pass/barcode%s/*.fastq fail/barcode%s/*.fastq > %s/%s.unlysed.fastq\\n\"\\\n",
    "    % (barcode, barcode, BARCODE_WS, fastq_prefix )\n",
    "    nanolyse_step += \"gzip %s/%s.unlysed.fastq\\n\" % (BARCODE_WS, fastq_prefix)\n",
    "    nanolyse_step += \"gunzip -c %s/%s.unlysed.fastq\" % (BARCODE_WS, fastq_prefix)\n",
    "    nanolyse_step += \" | NanoLyse --reference %s \" % (CDS_PATH) \n",
    "    nanolyse_step += \"| gzip > %s/%s.fastq.gz\\n\" % (BARCODE_WS, fastq_prefix)\n",
    "    nanolyse_step += \"gunzip %s/%s.fastq.gz\\n\" % (BARCODE_WS, fastq_prefix)\n",
    "\n",
    "    \n",
    "    print(nanolyse_step, file=fn)"
   ]
  },
  {
   "cell_type": "code",
   "execution_count": null,
   "metadata": {
    "collapsed": true
   },
   "outputs": [],
   "source": [
    "# def print_porechop(barcode, folder, runid, fn):\n",
    "#    \"\"\"\n",
    "#    Fill in something\n",
    "#    \"\"\"\n",
    "#    fastq = '%s.barcode%s.fastq'% (runid, barcode)\n",
    "#    chopped_fastq = '%s.chopped.barcode%s.fastq'% (runid, barcode)\n",
    "#    porechop_step =\"\\n#now the porechop step\\n\"\n",
    "#    porechop_step += 'porechop -i %s/%s -o %s/%s --format fastq --middle_threshold 95'\\\n",
    "#    %(folder,fastq, folder, chopped_fastq )\n",
    "#    print(porechop_step, file=fn)"
   ]
  },
  {
   "cell_type": "code",
   "execution_count": null,
   "metadata": {
    "collapsed": true
   },
   "outputs": [],
   "source": [
    "def print_porechop(barcode, folder, runid, fn):\n",
    "    \"\"\"\n",
    "    Fill in something\n",
    "    \"\"\"\n",
    "    fastq = '%s.barcode%s.fastq'% (runid, barcode)\n",
    "    chopped_fastq = '%s.chopped.barcode%s.fastq'% (runid, barcode)\n",
    "    porechop_step =\"\\n#now the porechop step\\n\"\n",
    "    porechop_step += 'porechop -i %s/%s -o %s/%s --format fastq --middle_threshold 95\\n'\\\n",
    "    %(folder,fastq, folder, chopped_fastq )\n",
    "    porechop_step += \"sed '/^@/!d;s//>/;N' %s/%s > %s/%s\\n\" \\\n",
    "    %(folder, chopped_fastq, folder, chopped_fastq.replace('.fastq', '.fasta'))\n",
    "    print(porechop_step, file=fn)"
   ]
  },
  {
   "cell_type": "code",
   "execution_count": null,
   "metadata": {
    "collapsed": true
   },
   "outputs": [],
   "source": [
    "def print_blastn_1(barcode, folder, runid, fn):\n",
    "    \"\"\"Fill in something here.\"\"\"\n",
    "    chopped_fasta = '%s.chopped.barcode%s.fasta'% (runid, barcode)\n",
    "    hit_ids_fn = \"%s/%s.%sblast.qseqid.barcode%s.txt\" %(folder, runid, BLAST_DB_1, barcode)\n",
    "    \n",
    "    blastn_step = \"\\n#now the blast step against DB %s\\n\" % BLAST_DB_1\n",
    "    blastn_step += \"blastn -query %s/%s -db %s -evalue 0.01 -outfmt \" %(folder,chopped_fasta, BLAST_DB_1 )\n",
    "    blastn_step += \"'6 qseqid sseqid evalue bitscore length pident nident sgi sacc staxids sscinames scomnames sskingdoms'\" \n",
    "    blastn_step += \"-show_gis -num_threads %s | sort -k1,1 -k4,4nr | sort -u -k1,1 --merge \" % (threads)\n",
    "    blastn_step += \"> %s/%s.%s.%sblast_output\\n\\n\" %(folder,chopped_fasta,date ,BLAST_DB_1)\n",
    "    blastn_step += \"cut -f 1 %s/%s.%s.%sblast_output\" %(folder,chopped_fasta,date ,BLAST_DB_1)\n",
    "    blastn_step += \" > %s\\n\\n\" % hit_ids_fn\n",
    "    blastn_step += \"filterbyname.sh in=%s/%s \" % (folder, chopped_fasta)\n",
    "    blastn_step += \"out=%s/%s \" % (folder, chopped_fasta.replace('.barcode%s.'%barcode,\\\n",
    "                                                              '.%shityes.barcode%s.'%(BLAST_DB_1, barcode)))\n",
    "    blastn_step += \"names=%s include=t\\n\" % hit_ids_fn\n",
    "    blastn_step += \"filterbyname.sh in=%s/%s \" % (folder, chopped_fasta)\n",
    "    blastn_step += \"out=%s/%s \" % (folder, chopped_fasta.replace('.barcode%s.'%barcode,\\\n",
    "                                                              '.%shitno.barcode%s.'%(BLAST_DB_1, barcode)))\n",
    "    blastn_step += \"names=%s include=f\\n\" % hit_ids_fn\n",
    "    \n",
    "    print(blastn_step, file =fn)"
   ]
  },
  {
   "cell_type": "code",
   "execution_count": null,
   "metadata": {
    "collapsed": true
   },
   "outputs": [],
   "source": [
    "def print_blastn_2(barcode, folder, runid, fn):\n",
    "    \"\"\"Fill in something here.\"\"\"\n",
    "    nohit_fasta = '%s.chopped.%shitno.barcode%s.fasta'% (runid, BLAST_DB_1, barcode)\n",
    "    hit_ids_fn = \"%s/%s.%shitno.%sblast.qseqid.barcode%s.txt\" %(folder, runid, BLAST_DB_1, BLAST_DB_2, barcode)\n",
    "    \n",
    "    blastn_step = \"\\n#now the blast step against database %s\\n\" % BLAST_DB_2\n",
    "    blastn_step += \"blastn -query %s/%s -db %s -evalue 0.01 -outfmt \" %(folder,nohit_fasta, BLAST_DB_2 )\n",
    "    blastn_step += \"'6 qseqid sseqid evalue bitscore length pident nident sgi sacc staxids sscinames scomnames sskingdoms'\" \n",
    "    blastn_step += \"-show_gis -num_threads %s | sort -k1,1 -k4,4nr | sort -u -k1,1 --merge \" % (threads)\n",
    "    blastn_step += \"> %s/%s.%s.%sblast_output\\n\\n\" %(folder,nohit_fasta,date,BLAST_DB_2)\n",
    "    blastn_step += \"cut -f 1 %s/%s.%s.%sblast_output\" %(folder,nohit_fasta,date,BLAST_DB_2)\n",
    "    blastn_step += \" > %s\\n\\n\" % hit_ids_fn\n",
    "    blastn_step += \"filterbyname.sh in=%s/%s \" % (folder, nohit_fasta)\n",
    "    blastn_step += \"out=%s/%s \" % (folder, nohit_fasta.replace('.barcode%s.'%barcode,\\\n",
    "                                                              '.%shityes.barcode%s.'%(BLAST_DB_2, barcode)))\n",
    "    blastn_step += \"names=%s include=t\\n\" % hit_ids_fn\n",
    "    blastn_step += \"filterbyname.sh in=%s/%s \" % (folder, nohit_fasta)\n",
    "    blastn_step += \"out=%s/%s \" % (folder, nohit_fasta.replace('.barcode%s.'%barcode,\\\n",
    "                                                              '.%shitno.barcode%s.'%( BLAST_DB_2, barcode)))\n",
    "    blastn_step += \"names=%s include=f\\n\" % hit_ids_fn\n",
    "    \n",
    "    print(blastn_step, file =fn)"
   ]
  },
  {
   "cell_type": "code",
   "execution_count": null,
   "metadata": {
    "collapsed": true
   },
   "outputs": [],
   "source": [
    "#add barcode 00\n",
    "sep_barcodes_list.append('00')\n"
   ]
  },
  {
   "cell_type": "code",
   "execution_count": null,
   "metadata": {
    "collapsed": true
   },
   "outputs": [],
   "source": [
    "sep_barcodes_list"
   ]
  },
  {
   "cell_type": "code",
   "execution_count": null,
   "metadata": {
    "collapsed": true
   },
   "outputs": [],
   "source": [
    "for barcode in sep_barcodes_list:\n",
    "    tmp_file = os.path.join(SCRIPT_FOLDER, 'barcode%s.sh' % barcode)\n",
    "    with open(tmp_file, 'w') as fn:\n",
    "        TMP_BARCODE_FOLDER = os.path.join(WORKSPACE, 'barcode%s' % barcode)\n",
    "        \n",
    "        print_begining_of_script(barcode, fn)\n",
    "        print_nanolyse(barcode, runid, fn)\n",
    "        print_porechop(barcode, TMP_BARCODE_FOLDER, runid, fn)\n",
    "        print_blastn_1(barcode, TMP_BARCODE_FOLDER, runid, fn)\n",
    "        print_blastn_2(barcode, TMP_BARCODE_FOLDER, runid, fn)"
   ]
  },
  {
   "cell_type": "code",
   "execution_count": 97,
   "metadata": {},
   "outputs": [
    {
     "name": "stdout",
     "output_type": "stream",
     "text": [
      "b'Your job 385903 (\"barcode_01\") has been submitted\\n'\n",
      "b'Your job 385904 (\"barcode_02\") has been submitted\\n'\n",
      "b'Your job 385905 (\"barcode_03\") has been submitted\\n'\n",
      "b'Your job 385906 (\"barcode_04\") has been submitted\\n'\n",
      "b'Your job 385907 (\"barcode_05\") has been submitted\\n'\n",
      "b'Your job 385908 (\"barcode_06\") has been submitted\\n'\n",
      "b'Your job 385909 (\"barcode_07\") has been submitted\\n'\n",
      "b'Your job 385910 (\"barcode_00\") has been submitted\\n'\n"
     ]
    }
   ],
   "source": [
    "#now qsub all scripts\n",
    "os.chdir(SCRIPT_FOLDER)\n",
    "qsub_command = 'qsub %s' \n",
    "for script in [os.path.join(SCRIPT_FOLDER, x) for x in os.listdir(SCRIPT_FOLDER) if x.endswith('.sh')]:\n",
    "    qsub_command_stderr = subprocess.check_output(qsub_command % script, shell=True, stderr=subprocess.STDOUT)\n",
    "    print(qsub_command_stderr)"
   ]
  },
  {
   "cell_type": "code",
   "execution_count": null,
   "metadata": {
    "collapsed": true
   },
   "outputs": [],
   "source": []
  }
 ],
 "metadata": {
  "kernelspec": {
   "display_name": "Python 3",
   "language": "python",
   "name": "python3"
  },
  "language_info": {
   "codemirror_mode": {
    "name": "ipython",
    "version": 3
   },
   "file_extension": ".py",
   "mimetype": "text/x-python",
   "name": "python",
   "nbconvert_exporter": "python",
   "pygments_lexer": "ipython3",
   "version": "3.6.1"
  }
 },
 "nbformat": 4,
 "nbformat_minor": 2
}
