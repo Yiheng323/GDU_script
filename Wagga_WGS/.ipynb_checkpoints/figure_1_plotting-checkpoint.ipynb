{
 "cells": [
  {
   "cell_type": "markdown",
   "metadata": {},
   "source": [
    "This is the notebook to use the summary dataframe to generate figure 1."
   ]
  },
  {
   "cell_type": "code",
   "execution_count": 1,
   "metadata": {
    "collapsed": true
   },
   "outputs": [],
   "source": [
    "import numpy as np\n",
    "import os\n",
    "import pandas as pd\n",
    "import matplotlib.pyplot as plt\n",
    "from decimal import Decimal"
   ]
  },
  {
   "cell_type": "code",
   "execution_count": 2,
   "metadata": {
    "collapsed": true
   },
   "outputs": [],
   "source": [
    "BASEDIR = '/home/yiheng/analysis/WGS'"
   ]
  },
  {
   "cell_type": "code",
   "execution_count": 3,
   "metadata": {
    "collapsed": true
   },
   "outputs": [],
   "source": [
    "# get the summary dataframe\n",
    "FC1_barcode = os.path.join(BASEDIR, 'run1_barcode.tab')\n",
    "FC2_barcode = os.path.join(BASEDIR, 'run2_barcode.tab')\n",
    "FC3_barcode = os.path.join(BASEDIR, 'FAH05432_barcode.tab')\n",
    "FC4_barcode = os.path.join(BASEDIR, 'FAH05731_barcode.tab')\n",
    "\n",
    "FC1_hit = os.path.join(BASEDIR, 'run1_hit.tab')\n",
    "FC2_hit = os.path.join(BASEDIR, 'run2_hit.tab')\n",
    "FC3_hit = os.path.join(BASEDIR, 'FAH05432_hit.tab')\n",
    "FC4_hit = os.path.join(BASEDIR, 'FAH05731_hit.tab')\n",
    "\n",
    "FC1_barcode_df = pd.read_csv(FC1_barcode, sep = '\\t')\n",
    "FC2_barcode_df = pd.read_csv(FC2_barcode, sep = '\\t')\n",
    "FC3_barcode_df = pd.read_csv(FC3_barcode, sep = '\\t')\n",
    "FC4_barcode_df = pd.read_csv(FC4_barcode, sep = '\\t')\n",
    "\n",
    "FC1_hit_df = pd.read_csv(FC1_hit, sep = '\\t')\n",
    "FC2_hit_df = pd.read_csv(FC2_hit, sep = '\\t')\n",
    "FC3_hit_df = pd.read_csv(FC3_hit, sep = '\\t')\n",
    "FC4_hit_df = pd.read_csv(FC4_hit, sep = '\\t')\n"
   ]
  },
  {
   "cell_type": "code",
   "execution_count": 4,
   "metadata": {
    "collapsed": true
   },
   "outputs": [],
   "source": [
    "barcode_df = pd.concat([FC1_barcode_df, FC2_barcode_df, FC3_barcode_df, FC4_barcode_df], axis=1).T\n",
    "hit_df = pd.concat([FC1_hit_df, FC2_hit_df, FC3_hit_df, FC4_hit_df], axis=1).T"
   ]
  },
  {
   "cell_type": "code",
   "execution_count": 5,
   "metadata": {},
   "outputs": [
    {
     "data": {
      "text/html": [
       "<div>\n",
       "<style scoped>\n",
       "    .dataframe tbody tr th:only-of-type {\n",
       "        vertical-align: middle;\n",
       "    }\n",
       "\n",
       "    .dataframe tbody tr th {\n",
       "        vertical-align: top;\n",
       "    }\n",
       "\n",
       "    .dataframe thead th {\n",
       "        text-align: right;\n",
       "    }\n",
       "</style>\n",
       "<table border=\"1\" class=\"dataframe\">\n",
       "  <thead>\n",
       "    <tr style=\"text-align: right;\">\n",
       "      <th></th>\n",
       "      <th>0</th>\n",
       "      <th>1</th>\n",
       "      <th>2</th>\n",
       "      <th>3</th>\n",
       "      <th>4</th>\n",
       "    </tr>\n",
       "  </thead>\n",
       "  <tbody>\n",
       "    <tr>\n",
       "      <th>run1</th>\n",
       "      <td>0.860474</td>\n",
       "      <td>0.870396</td>\n",
       "      <td>0.006685</td>\n",
       "      <td>0.122906</td>\n",
       "      <td>694507.0</td>\n",
       "    </tr>\n",
       "    <tr>\n",
       "      <th>run2</th>\n",
       "      <td>0.684613</td>\n",
       "      <td>0.700232</td>\n",
       "      <td>0.010097</td>\n",
       "      <td>0.289658</td>\n",
       "      <td>240159.0</td>\n",
       "    </tr>\n",
       "    <tr>\n",
       "      <th>FAH05432</th>\n",
       "      <td>0.913738</td>\n",
       "      <td>0.922329</td>\n",
       "      <td>0.006525</td>\n",
       "      <td>0.071129</td>\n",
       "      <td>1658654.0</td>\n",
       "    </tr>\n",
       "    <tr>\n",
       "      <th>FAH05731</th>\n",
       "      <td>0.904360</td>\n",
       "      <td>0.913933</td>\n",
       "      <td>0.008571</td>\n",
       "      <td>0.077464</td>\n",
       "      <td>188551.0</td>\n",
       "    </tr>\n",
       "  </tbody>\n",
       "</table>\n",
       "</div>"
      ],
      "text/plain": [
       "                 0         1         2         3          4\n",
       "run1      0.860474  0.870396  0.006685  0.122906   694507.0\n",
       "run2      0.684613  0.700232  0.010097  0.289658   240159.0\n",
       "FAH05432  0.913738  0.922329  0.006525  0.071129  1658654.0\n",
       "FAH05731  0.904360  0.913933  0.008571  0.077464   188551.0"
      ]
     },
     "execution_count": 5,
     "metadata": {},
     "output_type": "execute_result"
    }
   ],
   "source": [
    "hit_df"
   ]
  },
  {
   "cell_type": "code",
   "execution_count": 6,
   "metadata": {},
   "outputs": [
    {
     "data": {
      "text/html": [
       "<div>\n",
       "<style scoped>\n",
       "    .dataframe tbody tr th:only-of-type {\n",
       "        vertical-align: middle;\n",
       "    }\n",
       "\n",
       "    .dataframe tbody tr th {\n",
       "        vertical-align: top;\n",
       "    }\n",
       "\n",
       "    .dataframe thead th {\n",
       "        text-align: right;\n",
       "    }\n",
       "</style>\n",
       "<table border=\"1\" class=\"dataframe\">\n",
       "  <thead>\n",
       "    <tr style=\"text-align: right;\">\n",
       "      <th></th>\n",
       "      <th>0</th>\n",
       "      <th>1</th>\n",
       "      <th>2</th>\n",
       "      <th>3</th>\n",
       "      <th>4</th>\n",
       "      <th>5</th>\n",
       "    </tr>\n",
       "  </thead>\n",
       "  <tbody>\n",
       "    <tr>\n",
       "      <th>run1</th>\n",
       "      <td>0.170182</td>\n",
       "      <td>0.162066</td>\n",
       "      <td>0.222948</td>\n",
       "      <td>0.143379</td>\n",
       "      <td>0.066329</td>\n",
       "      <td>0.235097</td>\n",
       "    </tr>\n",
       "    <tr>\n",
       "      <th>run2</th>\n",
       "      <td>0.165682</td>\n",
       "      <td>0.277862</td>\n",
       "      <td>0.134215</td>\n",
       "      <td>0.074002</td>\n",
       "      <td>0.058736</td>\n",
       "      <td>0.289503</td>\n",
       "    </tr>\n",
       "    <tr>\n",
       "      <th>FAH05432</th>\n",
       "      <td>0.135352</td>\n",
       "      <td>0.146424</td>\n",
       "      <td>0.081802</td>\n",
       "      <td>0.195455</td>\n",
       "      <td>0.169254</td>\n",
       "      <td>0.271712</td>\n",
       "    </tr>\n",
       "    <tr>\n",
       "      <th>FAH05731</th>\n",
       "      <td>0.150384</td>\n",
       "      <td>0.105189</td>\n",
       "      <td>0.089514</td>\n",
       "      <td>0.218545</td>\n",
       "      <td>0.186799</td>\n",
       "      <td>0.249569</td>\n",
       "    </tr>\n",
       "  </tbody>\n",
       "</table>\n",
       "</div>"
      ],
      "text/plain": [
       "                 0         1         2         3         4         5\n",
       "run1      0.170182  0.162066  0.222948  0.143379  0.066329  0.235097\n",
       "run2      0.165682  0.277862  0.134215  0.074002  0.058736  0.289503\n",
       "FAH05432  0.135352  0.146424  0.081802  0.195455  0.169254  0.271712\n",
       "FAH05731  0.150384  0.105189  0.089514  0.218545  0.186799  0.249569"
      ]
     },
     "execution_count": 6,
     "metadata": {},
     "output_type": "execute_result"
    }
   ],
   "source": [
    "barcode_df"
   ]
  },
  {
   "cell_type": "code",
   "execution_count": 7,
   "metadata": {},
   "outputs": [
    {
     "data": {
      "text/plain": [
       "run1        0.860474\n",
       "run2        0.684613\n",
       "FAH05432    0.913738\n",
       "FAH05731    0.904360\n",
       "Name: 0, dtype: float64"
      ]
     },
     "execution_count": 7,
     "metadata": {},
     "output_type": "execute_result"
    }
   ],
   "source": [
    "hit_df[0]"
   ]
  },
  {
   "cell_type": "code",
   "execution_count": 8,
   "metadata": {
    "collapsed": true
   },
   "outputs": [],
   "source": [
    "# from raw value to percentage\n",
    "barcode01_percentage = [x*100 for x in barcode_df[0]]\n",
    "barcode02_percentage = [x*100 for x in barcode_df[1]]\n",
    "barcode03_percentage = [x*100 for x in barcode_df[4]]\n",
    "barcode04_percentage = [x*100 for x in barcode_df[3]]\n",
    "barcode05_percentage = [x*100 for x in barcode_df[2]]\n",
    "unclassified_percentage = [x*100 for x in barcode_df[5]]\n",
    "\n",
    "wheathit_percentage = [x*100 for x in hit_df[0]]\n",
    "rghit_percentage = [x*100 for x in hit_df[1]]\n",
    "nthit_percentage = [x*100 for x in hit_df[2]]\n",
    "nohit_percentage = [x*100 for x in hit_df[3]]"
   ]
  },
  {
   "cell_type": "code",
   "execution_count": 21,
   "metadata": {},
   "outputs": [
    {
     "data": {
      "image/png": "[encoded data removed]",
      "text/plain": [
       "<matplotlib.figure.Figure at 0x7f0debda0390>"
      ]
     },
     "metadata": {},
     "output_type": "display_data"
    }
   ],
   "source": [
    "# plot figure 1A\n",
    "def get_color(x):\n",
    "    x = x%10\n",
    "    return ('#%02X%02X%02X' % (int(plt.cm.tab10.colors[x][0]*255),int(plt.cm.tab10.colors[x][1]*255),int(plt.cm.tab10.colors[x][2]*255)))\n",
    "\n",
    "barWidth = 0.6\n",
    "r = [0,1,2,3]\n",
    "plt.bar(r, barcode01_percentage, label = 'barcode01 (Stripe rust)', color='blue', edgecolor='white', width=barWidth)\n",
    "plt.bar(r, barcode02_percentage, label = 'barcode02 (Septoria tritici blotch)', bottom=barcode01_percentage, color='red', edgecolor='white', width=barWidth)\n",
    "plt.bar(r, barcode03_percentage, label = 'barcode03 (Yellow spot)', bottom=[i+j for i,j in zip(barcode01_percentage, barcode02_percentage)], color='yellow', edgecolor='white', width=barWidth)\n",
    "plt.bar(r, barcode04_percentage, label = 'barcode04 (Stripe rust + Septorial tritici blotch)', bottom=[i+j+k for i,j,k in zip(barcode01_percentage, barcode02_percentage, barcode03_percentage)], color='green', edgecolor='white', width=barWidth)\n",
    "plt.bar(r, barcode05_percentage, label = 'barcode05 (No visible infection)', bottom=[i+j+k+l for i,j,k,l in zip(barcode01_percentage, barcode02_percentage, barcode03_percentage, barcode04_percentage)], color='pink', edgecolor='white', width=barWidth)\n",
    "plt.bar(r, unclassified_percentage, label = 'unclassified', bottom=[i+j+k+l+m for i,j,k,l,m in zip(barcode01_percentage, barcode02_percentage, barcode03_percentage, barcode04_percentage, barcode05_percentage)], color='grey', edgecolor='white', width=barWidth)\n",
    "\n",
    "plt.xticks(r, ['Replicate 1', 'Replicate 2', 'Replicate 3', 'Replicate 4'])\n",
    "\n",
    "plt.ylabel(\"Relative abundance (%)\")\n",
    "#lt.legend((r[0], r[1], nohit_percentage), ('Reads hit reference genomes', 'Reads hit ncbi nucleotide database', 'Reads have no hit to both reference genomes and ncbi nucleotide database'))\n",
    "plt.legend(loc='best', bbox_to_anchor=(1.0, 0.5))\n",
    "#plt.title(\"Read distribution by barcodes\", fontsize=14)\n",
    "plt.text(3.6, 98, 'A', fontsize=16)\n",
    "plt.savefig('/home/yiheng/analysis/WGS/figures/figure1_barcodes.png', bbox_inches='tight', dpi=1000)\n",
    "plt.show()"
   ]
  },
  {
   "cell_type": "code",
   "execution_count": 23,
   "metadata": {},
   "outputs": [
    {
     "data": {
      "text/plain": [
       "[0.9922146213069141, 1.561881919894745, 0.8590700652456889, 0.9573006772703394]"
      ]
     },
     "execution_count": 23,
     "metadata": {},
     "output_type": "execute_result"
    }
   ],
   "source": [
    "[x-y for x,y in zip(rghit_percentage, wheathit_percentage)]"
   ]
  },
  {
   "cell_type": "code",
   "execution_count": 22,
   "metadata": {},
   "outputs": [
    {
     "data": {
      "image/png": "[encoded data removed]",
      "text/plain": [
       "<matplotlib.figure.Figure at 0x7f0dee0f9cf8>"
      ]
     },
     "metadata": {},
     "output_type": "display_data"
    }
   ],
   "source": [
    "# plot figure 1B\n",
    "barWidth = 0.6\n",
    "r = [0,1,2,3]\n",
    "plt.bar(r, wheathit_percentage, label = 'Reads hit wheat genome', color='#D3D3D3', edgecolor='white', width=barWidth)\n",
    "plt.bar(r, [x-y for x,y in zip(rghit_percentage, wheathit_percentage)], bottom = wheathit_percentage, label = 'Reads hit pathogen genomes', color= 'blue', edgecolor='white', width=barWidth)\n",
    "plt.bar(r, nthit_percentage, bottom=rghit_percentage, label = 'Reads hit ncbi nucleotide database', color='red', edgecolor='white', width=barWidth)\n",
    "plt.bar(r, nohit_percentage, bottom=[i+j for i,j in zip(rghit_percentage, nthit_percentage)], label = 'Reads have no hit at any database used', color='#98FB98', edgecolor='white', width=barWidth)\n",
    "\n",
    "plt.xticks(r, ['Replicate 1', 'Replicate 2', 'Replicate 3', 'Replicate 4'])\n",
    "plt.ylabel(\"Relative abundance (%)\")\n",
    "replicate1_text = '%.2E' % Decimal(hit_df.iloc[0,4])\n",
    "replicate2_text = '%.2E' % Decimal(hit_df.iloc[1,4])\n",
    "replicate3_text = '%.2E' % Decimal(hit_df.iloc[2,4])\n",
    "replicate4_text = '%.2E' % Decimal(hit_df.iloc[3,4])\n",
    "\n",
    "plt.text(-0.3, 10, replicate1_text)\n",
    "plt.text(0.7, 10, replicate2_text)\n",
    "plt.text(1.7, 10, replicate3_text)\n",
    "plt.text(2.7, 10, replicate4_text)\n",
    "\n",
    "#lt.legend((r[0], r[1], nohit_percentage), ('Reads hit reference genomes', 'Reads hit ncbi nucleotide database', 'Reads have no hit to both reference genomes and ncbi nucleotide database'))\n",
    "plt.legend(loc='best', bbox_to_anchor=(1.0, 0.5))\n",
    "#plt.title('Read distribution by hit on databases', fontsize=14)\n",
    "plt.text(3.6, 98, 'B', fontsize=16)\n",
    "plt.savefig('/home/yiheng/analysis/WGS/figures/figure1_hits.png', bbox_inches='tight', dpi=1000)\n",
    "plt.show()"
   ]
  },
  {
   "cell_type": "code",
   "execution_count": null,
   "metadata": {
    "collapsed": true
   },
   "outputs": [],
   "source": []
  },
  {
   "cell_type": "code",
   "execution_count": null,
   "metadata": {
    "collapsed": true
   },
   "outputs": [],
   "source": []
  },
  {
   "cell_type": "code",
   "execution_count": 12,
   "metadata": {},
   "outputs": [
    {
     "data": {
      "image/png": "[encoded data removed]",
      "text/plain": [
       "<matplotlib.figure.Figure at 0x7f717c8597b8>"
      ]
     },
     "metadata": {},
     "output_type": "display_data"
    }
   ],
   "source": [
    "# Example that I followed\n",
    "\n",
    "r = [0,1,2,3,4]\n",
    "raw_data = {'greenBars': [20, 1.5, 7, 10, 5], 'orangeBars': [5, 15, 5, 10, 15],'blueBars': [2, 15, 18, 5, 10]}\n",
    "df = pd.DataFrame(raw_data)\n",
    "\n",
    "# From raw value to percentage\n",
    "totals = [i+j+k for i,j,k in zip(df['greenBars'], df['orangeBars'], df['blueBars'])]\n",
    "greenBars = [i / j * 100 for i,j in zip(df['greenBars'], totals)]\n",
    "orangeBars = [i / j * 100 for i,j in zip(df['orangeBars'], totals)]\n",
    "blueBars = [i / j * 100 for i,j in zip(df['blueBars'], totals)]\n",
    "\n",
    "# plot\n",
    "barWidth = 0.85\n",
    "names = ('A','B','C','D','E')\n",
    "# Create green Bars\n",
    "plt.bar(r, greenBars, color='#b5ffb9', edgecolor='white', width=barWidth)\n",
    "# Create orange Bars\n",
    "plt.bar(r, orangeBars, bottom=greenBars, color='#f9bc86', edgecolor='white', width=barWidth)\n",
    "# Create blue Bars\n",
    "plt.bar(r, blueBars, bottom=[i+j for i,j in zip(greenBars, orangeBars)], color='#a3acff', edgecolor='white', width=barWidth)\n",
    "\n",
    "# Custom x axis\n",
    "plt.xticks(r, names)\n",
    "plt.xlabel(\"group\")\n",
    "\n",
    "# Show graphic\n",
    "plt.show()"
   ]
  },
  {
   "cell_type": "code",
   "execution_count": null,
   "metadata": {
    "collapsed": true
   },
   "outputs": [],
   "source": []
  }
 ],
 "metadata": {
  "kernelspec": {
   "display_name": "Python 3",
   "language": "python",
   "name": "python3"
  },
  "language_info": {
   "codemirror_mode": {
    "name": "ipython",
    "version": 3
   },
   "file_extension": ".py",
   "mimetype": "text/x-python",
   "name": "python",
   "nbconvert_exporter": "python",
   "pygments_lexer": "ipython3",
   "version": "3.6.1"
  }
 },
 "nbformat": 4,
 "nbformat_minor": 2
}
