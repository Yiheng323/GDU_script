{
 "cells": [
  {
   "cell_type": "markdown",
   "metadata": {},
   "source": [
    "This is a notebook to pull down all the information for figure 3 (ncbi hits). The design is to compair between each sample (barcode) instead of each flowcell as they sequenced the same thing. Therefore I just pulled all the ncbi hits for each flowcell for each barcode and merged them together according to the barcode."
   ]
  },
  {
   "cell_type": "code",
   "execution_count": 13,
   "metadata": {
    "collapsed": true
   },
   "outputs": [],
   "source": [
    "import numpy as np\n",
    "import os\n",
    "import pandas as pd\n",
    "import matplotlib.pyplot as plt\n",
    "import matplotlib\n",
    "import itertools\n",
    "import argparse\n"
   ]
  },
  {
   "cell_type": "code",
   "execution_count": 2,
   "metadata": {
    "collapsed": true
   },
   "outputs": [],
   "source": [
    "# use argparse to do this\n",
    "#BASEDIR = args.BASEDIR\n",
    "BASEDIR = '/home/yiheng/test'\n",
    "\n",
    "# here we define the folder name of the dataframe it created by capturing the folder from the BASDIR\n",
    "folder_name = os.path.basename(BASEDIR)\n",
    "#column_name = folder_name.split('_')[-1]"
   ]
  },
  {
   "cell_type": "code",
   "execution_count": 3,
   "metadata": {
    "collapsed": true
   },
   "outputs": [],
   "source": [
    "# first check if the analysis folder is there\n",
    "folder_list = 'analysis  basecalled_data  scripts  tracking  workspace'.split(' ')\n",
    "for x in range(0,folder_list.count('')):\n",
    "    folder_list.remove('')\n",
    "#fix this test\n",
    "if not set(os.listdir(os.path.abspath(BASEDIR))) == set (folder_list):\n",
    "    print(\"Something wrong with basefolder. check it please.\")"
   ]
  },
  {
   "cell_type": "code",
   "execution_count": 4,
   "metadata": {},
   "outputs": [
    {
     "name": "stderr",
     "output_type": "stream",
     "text": [
      "/home/yiheng/anaconda3/lib/python3.6/site-packages/IPython/core/interactiveshell.py:2717: DtypeWarning: Columns (1,2,3,5,16) have mixed types. Specify dtype option on import or set low_memory=False.\n",
      "  interactivity=interactivity, compiler=compiler, result=result)\n"
     ]
    }
   ],
   "source": [
    "# get the dataframe there\n",
    "dataframe = os.path.join(BASEDIR, 'analysis', 'summary_df_%s.tab' % folder_name)\n",
    "sum_df = pd.read_csv(dataframe, sep='\\t')"
   ]
  },
  {
   "cell_type": "code",
   "execution_count": 5,
   "metadata": {},
   "outputs": [
    {
     "name": "stderr",
     "output_type": "stream",
     "text": [
      "/home/yiheng/anaconda3/lib/python3.6/site-packages/IPython/core/interactiveshell.py:2717: DtypeWarning: Columns (2) have mixed types. Specify dtype option on import or set low_memory=False.\n",
      "  interactivity=interactivity, compiler=compiler, result=result)\n"
     ]
    }
   ],
   "source": [
    "# get the dataframe there\n",
    "tax_linage_dataframe = os.path.join(BASEDIR, 'analysis', '%s_nttaxa.tab' % folder_name)\n",
    "tax_df = pd.read_csv(tax_linage_dataframe, sep='\\t')"
   ]
  },
  {
   "cell_type": "code",
   "execution_count": 6,
   "metadata": {},
   "outputs": [],
   "source": [
    "# now just have a few more filtering to make the dataframe smaller so we can process faster\n",
    "#### first is to select everthing that did hit something\n",
    "sum_df = sum_df[sum_df.pident_nt > 0]\n",
    "#### second it needs to pass the filtering steps and has blast hit\n",
    "sum_df = sum_df[(sum_df.sseqid_nt != False) & (sum_df.passes_filtering == True) & (sum_df.pc_survived == True)] "
   ]
  },
  {
   "cell_type": "code",
   "execution_count": 7,
   "metadata": {},
   "outputs": [],
   "source": [
    "#### thirdly just add one more column of the similarity rate for the blast for change parameters of filtering\n",
    "sum_df['similarity_rate'] = sum_df.length_nt/sum_df.read_length_pc*100"
   ]
  },
  {
   "cell_type": "code",
   "execution_count": 8,
   "metadata": {},
   "outputs": [],
   "source": [
    "#### drop the colums that we do not need\n",
    "sum_df = sum_df.drop(columns = ['passes_filtering', 'sequence_length_template', 'mean_qscore_template', \n",
    "                                'barcode_arrangement', 'barcode_score', 'sseqid_nt', 'kit',\n",
    "                                'length_nt', 'staxids_nt', 'nident_nt',\n",
    "                                'variant', 'pc_survived', 'qseqid_nt', 'sacc_nt', 'scomnames_nt'])"
   ]
  },
  {
   "cell_type": "code",
   "execution_count": 38,
   "metadata": {},
   "outputs": [],
   "source": [
    "final_df = pd.merge(sum_df, tax_df, how='outer',left_on= 'read_id', right_on='read_id')"
   ]
  },
  {
   "cell_type": "code",
   "execution_count": 39,
   "metadata": {},
   "outputs": [],
   "source": [
    "final_df.staxids_nt.fillna(False, inplace=True)\n",
    "final_df = final_df[final_df.staxids_nt != False]\n",
    "final_df = final_df.reset_index(drop=True)"
   ]
  },
  {
   "cell_type": "code",
   "execution_count": 45,
   "metadata": {},
   "outputs": [
    {
     "data": {
      "text/html": [
       "<div>\n",
       "<style scoped>\n",
       "    .dataframe tbody tr th:only-of-type {\n",
       "        vertical-align: middle;\n",
       "    }\n",
       "\n",
       "    .dataframe tbody tr th {\n",
       "        vertical-align: top;\n",
       "    }\n",
       "\n",
       "    .dataframe thead th {\n",
       "        text-align: right;\n",
       "    }\n",
       "</style>\n",
       "<table border=\"1\" class=\"dataframe\">\n",
       "  <thead>\n",
       "    <tr style=\"text-align: right;\">\n",
       "      <th></th>\n",
       "      <th>read_id</th>\n",
       "      <th>evalue_nt</th>\n",
       "      <th>pident_nt</th>\n",
       "      <th>read_length_pc</th>\n",
       "      <th>similarity_rate</th>\n",
       "      <th>barcode_arrangement</th>\n",
       "      <th>staxids_nt</th>\n",
       "      <th>superkingdom</th>\n",
       "      <th>phylum</th>\n",
       "      <th>class</th>\n",
       "      <th>order</th>\n",
       "      <th>family</th>\n",
       "      <th>genus</th>\n",
       "      <th>species</th>\n",
       "    </tr>\n",
       "  </thead>\n",
       "  <tbody>\n",
       "    <tr>\n",
       "      <th>603</th>\n",
       "      <td>3d21c0cd-174f-41a2-b169-27fc950acb44</td>\n",
       "      <td>7.000000e-63</td>\n",
       "      <td>83.22</td>\n",
       "      <td>443.0</td>\n",
       "      <td>68.623025</td>\n",
       "      <td>barcode07</td>\n",
       "      <td>9606</td>\n",
       "      <td>Eukaryota</td>\n",
       "      <td>Chordata</td>\n",
       "      <td>Mammalia</td>\n",
       "      <td>Primates</td>\n",
       "      <td>Hominidae</td>\n",
       "      <td>Homo</td>\n",
       "      <td>Homo sapiens</td>\n",
       "    </tr>\n",
       "    <tr>\n",
       "      <th>604</th>\n",
       "      <td>3d2d6bd3-ac5a-4ddc-adf0-d9aa80decdd4</td>\n",
       "      <td>0.000000e+00</td>\n",
       "      <td>86.22</td>\n",
       "      <td>779.0</td>\n",
       "      <td>82.926829</td>\n",
       "      <td>barcode07</td>\n",
       "      <td>9606</td>\n",
       "      <td>Eukaryota</td>\n",
       "      <td>Chordata</td>\n",
       "      <td>Mammalia</td>\n",
       "      <td>Primates</td>\n",
       "      <td>Hominidae</td>\n",
       "      <td>Homo</td>\n",
       "      <td>Homo sapiens</td>\n",
       "    </tr>\n",
       "    <tr>\n",
       "      <th>605</th>\n",
       "      <td>646cc9f7-d2a9-434b-8da2-3c15156ad99c</td>\n",
       "      <td>9.000000e-67</td>\n",
       "      <td>85.71</td>\n",
       "      <td>453.0</td>\n",
       "      <td>60.264901</td>\n",
       "      <td>barcode07</td>\n",
       "      <td>9606</td>\n",
       "      <td>Eukaryota</td>\n",
       "      <td>Chordata</td>\n",
       "      <td>Mammalia</td>\n",
       "      <td>Primates</td>\n",
       "      <td>Hominidae</td>\n",
       "      <td>Homo</td>\n",
       "      <td>Homo sapiens</td>\n",
       "    </tr>\n",
       "    <tr>\n",
       "      <th>609</th>\n",
       "      <td>5d5d8145-3946-4dd1-a23d-15354b56915e</td>\n",
       "      <td>1.000000e-51</td>\n",
       "      <td>83.61</td>\n",
       "      <td>609.0</td>\n",
       "      <td>40.065681</td>\n",
       "      <td>barcode07</td>\n",
       "      <td>9606</td>\n",
       "      <td>Eukaryota</td>\n",
       "      <td>Chordata</td>\n",
       "      <td>Mammalia</td>\n",
       "      <td>Primates</td>\n",
       "      <td>Hominidae</td>\n",
       "      <td>Homo</td>\n",
       "      <td>Homo sapiens</td>\n",
       "    </tr>\n",
       "    <tr>\n",
       "      <th>610</th>\n",
       "      <td>5db72539-e4ed-484e-b166-5b5d9bf0e75a</td>\n",
       "      <td>1.000000e-143</td>\n",
       "      <td>86.80</td>\n",
       "      <td>911.0</td>\n",
       "      <td>54.884742</td>\n",
       "      <td>barcode07</td>\n",
       "      <td>9606</td>\n",
       "      <td>Eukaryota</td>\n",
       "      <td>Chordata</td>\n",
       "      <td>Mammalia</td>\n",
       "      <td>Primates</td>\n",
       "      <td>Hominidae</td>\n",
       "      <td>Homo</td>\n",
       "      <td>Homo sapiens</td>\n",
       "    </tr>\n",
       "  </tbody>\n",
       "</table>\n",
       "</div>"
      ],
      "text/plain": [
       "                                  read_id      evalue_nt  pident_nt  \\\n",
       "603  3d21c0cd-174f-41a2-b169-27fc950acb44   7.000000e-63      83.22   \n",
       "604  3d2d6bd3-ac5a-4ddc-adf0-d9aa80decdd4   0.000000e+00      86.22   \n",
       "605  646cc9f7-d2a9-434b-8da2-3c15156ad99c   9.000000e-67      85.71   \n",
       "609  5d5d8145-3946-4dd1-a23d-15354b56915e   1.000000e-51      83.61   \n",
       "610  5db72539-e4ed-484e-b166-5b5d9bf0e75a  1.000000e-143      86.80   \n",
       "\n",
       "     read_length_pc  similarity_rate barcode_arrangement staxids_nt  \\\n",
       "603           443.0        68.623025           barcode07       9606   \n",
       "604           779.0        82.926829           barcode07       9606   \n",
       "605           453.0        60.264901           barcode07       9606   \n",
       "609           609.0        40.065681           barcode07       9606   \n",
       "610           911.0        54.884742           barcode07       9606   \n",
       "\n",
       "    superkingdom    phylum     class     order     family genus       species  \n",
       "603    Eukaryota  Chordata  Mammalia  Primates  Hominidae  Homo  Homo sapiens  \n",
       "604    Eukaryota  Chordata  Mammalia  Primates  Hominidae  Homo  Homo sapiens  \n",
       "605    Eukaryota  Chordata  Mammalia  Primates  Hominidae  Homo  Homo sapiens  \n",
       "609    Eukaryota  Chordata  Mammalia  Primates  Hominidae  Homo  Homo sapiens  \n",
       "610    Eukaryota  Chordata  Mammalia  Primates  Hominidae  Homo  Homo sapiens  "
      ]
     },
     "execution_count": 45,
     "metadata": {},
     "output_type": "execute_result"
    }
   ],
   "source": [
    "clinical_df = final_df[final_df.barcode_arrangement == 'barcode07']\n",
    "#clinical_df.head()"
   ]
  },
  {
   "cell_type": "code",
   "execution_count": null,
   "metadata": {},
   "outputs": [],
   "source": [
    "iterables = [ [50,51,52,53,54,55,56,57,58,59,60,61,62,63,64,65,66,67,68,69,70,71,72,73,74,75,76,77,78,79,80,81,82,83,84,85,86,87,88,89,90],\n",
    "              [50,51,52,53,54,55,56,57,58,59,60,61,62,63,64,65,66,67,68,69,70,71,72,73,74,75,76,77,78,79,80,81,82,83,84,85,86,87,88,89,90] ]\n",
    "\n",
    "os.mkdir(os.path.join(BASEDIR, 'analysis','blast_pitent_similarity'))\n",
    "for t in itertools.product(*iterables):\n",
    "    clinical_df_fn = os.path.join(BASEDIR, 'analysis','blast_pitent_similarity', 'blast_pitent_similarity_%s_%s.txt' % (t[0], t[1]))\n",
    "    clinical_df[(clinical_df.pident_nt > t[0]) & (clinical_df.similarity_rate > t[1])].to_csv(clinical_df_fn, sep='\\t', index=None)"
   ]
  },
  {
   "cell_type": "code",
   "execution_count": null,
   "metadata": {
    "collapsed": true
   },
   "outputs": [],
   "source": []
  }
 ],
 "metadata": {
  "kernelspec": {
   "display_name": "Python 3",
   "language": "python",
   "name": "python3"
  },
  "language_info": {
   "codemirror_mode": {
    "name": "ipython",
    "version": 3
   },
   "file_extension": ".py",
   "mimetype": "text/x-python",
   "name": "python",
   "nbconvert_exporter": "python",
   "pygments_lexer": "ipython3",
   "version": "3.6.1"
  }
 },
 "nbformat": 4,
 "nbformat_minor": 2
}
