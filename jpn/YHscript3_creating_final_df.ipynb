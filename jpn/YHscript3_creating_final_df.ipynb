{
 "cells": [
  {
   "cell_type": "markdown",
   "metadata": {},
   "source": [
    "This is a notebok that drafts a small script to pull in all the data for the WGS pathogen detection and microbiome data. It needs to pull in the following:\n",
    "    * sequence summary file from albacore\n",
    "    * two blast output files (specific database and NCBI)\n",
    "    * get the length of all porchoped reads\n",
    "    * get processing (T/F) for porchoped and nanolyze\n",
    "    * get this all into one data frame\n",
    "    \n",
    "    \n",
    "    "
   ]
  },
  {
   "cell_type": "code",
   "execution_count": 27,
   "metadata": {
    "collapsed": true
   },
   "outputs": [],
   "source": [
    "import os\n",
    "import pandas as pd\n",
    "import subprocess as sub\n",
    "from Bio import SeqIO\n",
    "import argparse\n",
    "import tarfile"
   ]
  },
  {
   "cell_type": "code",
   "execution_count": 28,
   "metadata": {
    "collapsed": true
   },
   "outputs": [],
   "source": [
    "#parser = argparse.ArgumentParser(description='''\n",
    "#This is a notebok that drafts a small script to pull in all the data for the WGS pathogen detection and microbiome data. It needs to pull in the following:\n",
    "\n",
    "#    * sequence summary file from albacore\n",
    "#    * two blast output files (specific database and NCBI)\n",
    "#    * get the length of all porchoped reads\n",
    "#    * get processing (T/F) for porchoped and nanolyze\n",
    "#    * get this all into one data frame\n",
    "#''')\n",
    "\n",
    "#parser.add_argument(\"BASEDIR\", help=\"base folder, supposed to have all the sub folders processed by WGS script. The same as Indir in YH_script2\")"
   ]
  },
  {
   "cell_type": "code",
   "execution_count": 29,
   "metadata": {
    "collapsed": true
   },
   "outputs": [],
   "source": [
    "#args = parser.parse_args()"
   ]
  },
  {
   "cell_type": "code",
   "execution_count": 48,
   "metadata": {
    "collapsed": true
   },
   "outputs": [],
   "source": [
    "#lets define the base folder\n",
    "BASEDIR = '/home/yiheng/data/20170617_FAH05432'\n",
    "#BASEDIR = args.BASEDIR\n",
    "#this will become the only flag of argparse"
   ]
  },
  {
   "cell_type": "code",
   "execution_count": 49,
   "metadata": {
    "collapsed": true
   },
   "outputs": [],
   "source": [
    "#write a quick check that looks for all the right folders\n",
    "folder_list = 'basecalled_data  scripts  tracking  workspace'.split(' ')\n",
    "for x in range(0,folder_list.count('')):\n",
    "    folder_list.remove('')\n",
    "#fix this test\n",
    "if not set(os.listdir(os.path.abspath(BASEDIR))) >= set (folder_list):\n",
    "    print(\"Something wrong with basefolder. check it please.\")"
   ]
  },
  {
   "cell_type": "code",
   "execution_count": 50,
   "metadata": {
    "collapsed": true
   },
   "outputs": [],
   "source": [
    "# define the columns that you want to pick up from sequencing summary file.\n",
    "# Here is the columns I chose for plotting out data, enough information for me so I did not pick others.\n",
    "seq_df_headers = ['read_id','passes_filtering', 'sequence_length_template', 'mean_qscore_template',\\\n",
    "                  'barcode_arrangement', 'barcode_score', 'kit', 'variant']"
   ]
  },
  {
   "cell_type": "code",
   "execution_count": 51,
   "metadata": {},
   "outputs": [
    {
     "name": "stdout",
     "output_type": "stream",
     "text": [
      "now getting the headers from /home/yiheng/data/20170617_FAH05432/basecalled_data/Hu_FAH05432_albacore202/sequencing_summary.txt\n"
     ]
    },
    {
     "name": "stderr",
     "output_type": "stream",
     "text": [
      "/home/yiheng/anaconda3/lib/python3.6/site-packages/IPython/core/interactiveshell.py:2717: DtypeWarning: Columns (3,4,5,6,7,8,9,10,11,12,13,14,16,18,19,20,21,22,23) have mixed types. Specify dtype option on import or set low_memory=False.\n",
      "  interactivity=interactivity, compiler=compiler, result=result)\n"
     ]
    }
   ],
   "source": [
    "#now get the headers sequencing_summary file\n",
    "base_called_folder = os.path.join(BASEDIR, 'basecalled_data')\n",
    "\n",
    "# here added a function to check the tar.gz file and its corresponding unzipped folder in the basecalled_data folder.  \n",
    "# If it is not unzipped, unzip it.\n",
    "for thing in os.listdir(base_called_folder):\n",
    "    judge_list = [os.path.isdir(os.path.join(base_called_folder, thing))]\n",
    "\n",
    "if any(x == True for x in judge_list):\n",
    "    seq_sum_file = os.path.join(base_called_folder, thing, 'sequencing_summary.txt')\n",
    "    if not os.path.exists(seq_sum_file):\n",
    "        print('No sequencing summary file from basecalled folder. Please go check')\n",
    "        \n",
    "    print(\"now getting the headers from %s\" % seq_sum_file)\n",
    "    seq_df = pd.read_csv(seq_sum_file, sep='\\t')\n",
    "    #capture the thing as the prefix of the fastq/fasta files in the barcode folders\n",
    "    prefix = thing\n",
    "    #might be a better way to only read in the wanted columns. Not subsetting afterwards.\n",
    "    #please go check\n",
    "    seq_df = seq_df.loc[:, seq_df_headers].copy()\n",
    "    \n",
    "elif all(x == False for x in judge_list):\n",
    "        \n",
    "    zipped_basecalled_file = os.path.join(base_called_folder, thing)\n",
    "    if zipped_basecalled_file.endswith('tar.gz'):\n",
    "        print(\"now unzipping file %s.\" % zipped_basecalled_file)\n",
    "        tar = tarfile.open(zipped_basecalled_file)\n",
    "        tar.extractall(base_called_folder.split(\".\")[0])\n",
    "        tar.close()\n",
    "    else:\n",
    "        print(\"there is something strange in the basecalled folder, please check.\")\n",
    "else:\n",
    "        print(\"there is something strange in the basecalled folder, please check.\")"
   ]
  },
  {
   "cell_type": "code",
   "execution_count": 52,
   "metadata": {
    "collapsed": true
   },
   "outputs": [],
   "source": [
    "#now get all the rgblast_output databases done \n",
    "rg_blast_df_file_list = []\n",
    "nt_blast_df_file_list = []\n",
    "workspace = os.path.join(BASEDIR, 'workspace')\n",
    "folder_counter = 0\n",
    "for folder in os.listdir(workspace):\n",
    "    folder = os.path.join(workspace,folder)\n",
    "    if not os.path.isdir(folder):\n",
    "        next\n",
    "    folder_counter += 1\n",
    "    for file in os.listdir(folder):\n",
    "        if not file.endswith('.rgblast_output') or not file.endswith('.ntblast_output'):\n",
    "            next\n",
    "        if file.endswith('.rgblast_output'):\n",
    "            rg_blast_df_file_list.append(os.path.join(folder, file))\n",
    "        if file.endswith('.ntblast_output'):\n",
    "            nt_blast_df_file_list.append(os.path.join(folder, file))\n",
    "    if not len(nt_blast_df_file_list) == len(rg_blast_df_file_list) == folder_counter:\n",
    "        print('Not all barcode folders have all blast output files')\n",
    "    else:\n",
    "        next\n",
    "    #print(folder)"
   ]
  },
  {
   "cell_type": "code",
   "execution_count": 53,
   "metadata": {},
   "outputs": [
    {
     "name": "stdout",
     "output_type": "stream",
     "text": [
      "now processing nanolyzed file /home/yiheng/data/20170617_FAH05432/workspace/barcode02/Hu_FAH05432_albacore202.barcode02.fastq\n",
      "now processing nanolyzed file /home/yiheng/data/20170617_FAH05432/workspace/barcode01/Hu_FAH05432_albacore202.barcode01.fastq\n",
      "now processing nanolyzed file /home/yiheng/data/20170617_FAH05432/workspace/barcode07/Hu_FAH05432_albacore202.barcode07.fastq\n",
      "now processing nanolyzed file /home/yiheng/data/20170617_FAH05432/workspace/barcode00/Hu_FAH05432_albacore202.barcode00.fastq\n",
      "now processing nanolyzed file /home/yiheng/data/20170617_FAH05432/workspace/barcode06/Hu_FAH05432_albacore202.barcode06.fastq\n",
      "now processing nanolyzed file /home/yiheng/data/20170617_FAH05432/workspace/barcode03/Hu_FAH05432_albacore202.barcode03.fastq\n",
      "now processing nanolyzed file /home/yiheng/data/20170617_FAH05432/workspace/barcode05/Hu_FAH05432_albacore202.barcode05.fastq\n",
      "now processing nanolyzed file /home/yiheng/data/20170617_FAH05432/workspace/barcode04/Hu_FAH05432_albacore202.barcode04.fastq\n"
     ]
    }
   ],
   "source": [
    "#now get all the names of the reads that survived the lyzing\n",
    "workspace = os.path.join(BASEDIR, 'workspace')\n",
    "folder_counter = 0\n",
    "nanolyze_readid_list = []\n",
    "for folder in os.listdir(workspace):\n",
    "    folder_long = os.path.join(workspace,folder)\n",
    "    if not os.path.isdir(folder_long):\n",
    "        next\n",
    "    folder_counter += 1\n",
    "    for file in os.listdir(folder_long):\n",
    "        lyzed_fastq = (os.path.join(folder_long, '%s.%s.fastq' % (prefix, folder )))\n",
    "        if not os.path.exists(lyzed_fastq):\n",
    "            print(\"No lyzed fastq file present.\")\n",
    "        elif file == '%s.%s.fastq' % (prefix, folder ):\n",
    "            print(\"now processing nanolyzed file %s\" % lyzed_fastq)\n",
    "            lyzed_fastq_name = '%s.name.tmp' % lyzed_fastq\n",
    "            #cmd = \"grep '^@' %s | cut -c1-37 > %s\"%\\\n",
    "            # (lyzed_fastq, lyzed_fastq_name)\n",
    "            #cmd = \"grep '^@' %s | cut -d:-f1 > %s\"%\\\n",
    "             #(lyzed_fastq, lyzed_fastq_name)\n",
    "            cmd = r\"grep '^@' %s | sed -e 's/@\\([a-zA-Z0-9-]\\+\\).*/\\1/' > %s\"%\\\n",
    "            (lyzed_fastq, lyzed_fastq_name)\n",
    "            #print(cmd)\n",
    "            sub.check_output(cmd, shell=True, stderr=sub.STDOUT)\n",
    "            #sub.run(cmd.split(' '))\n",
    "            nanolyze_readid_list.append(lyzed_fastq_name)\n",
    "        else:\n",
    "            next"
   ]
  },
  {
   "cell_type": "code",
   "execution_count": 54,
   "metadata": {
    "collapsed": true
   },
   "outputs": [],
   "source": [
    "#now read in the tmp file of nanolyzed ids and add them to the dataframe as column\n",
    "def get_read_ids(filename_list):\n",
    "    #write a check that both _list and header is a list\n",
    "    read_id_list = []\n",
    "    for filename in filename_list:\n",
    "        tmp_list = pd.read_csv(filename, sep='\\t', header=None).loc[:,0].tolist()\n",
    "        read_id_list= read_id_list + tmp_list\n",
    "    return read_id_list"
   ]
  },
  {
   "cell_type": "code",
   "execution_count": 55,
   "metadata": {
    "collapsed": true
   },
   "outputs": [],
   "source": [
    "nl_survied_list = get_read_ids(nanolyze_readid_list)"
   ]
  },
  {
   "cell_type": "code",
   "execution_count": 56,
   "metadata": {
    "scrolled": true
   },
   "outputs": [
    {
     "name": "stdout",
     "output_type": "stream",
     "text": [
      "now processing porechopped file /home/yiheng/data/20170617_FAH05432/workspace/barcode02/Hu_FAH05432_albacore202.chopped.barcode02.fastq.\n",
      "now processing porechopped file /home/yiheng/data/20170617_FAH05432/workspace/barcode01/Hu_FAH05432_albacore202.chopped.barcode01.fastq.\n",
      "now processing porechopped file /home/yiheng/data/20170617_FAH05432/workspace/barcode07/Hu_FAH05432_albacore202.chopped.barcode07.fastq.\n",
      "now processing porechopped file /home/yiheng/data/20170617_FAH05432/workspace/barcode00/Hu_FAH05432_albacore202.chopped.barcode00.fastq.\n",
      "now processing porechopped file /home/yiheng/data/20170617_FAH05432/workspace/barcode06/Hu_FAH05432_albacore202.chopped.barcode06.fastq.\n",
      "now processing porechopped file /home/yiheng/data/20170617_FAH05432/workspace/barcode03/Hu_FAH05432_albacore202.chopped.barcode03.fastq.\n",
      "now processing porechopped file /home/yiheng/data/20170617_FAH05432/workspace/barcode05/Hu_FAH05432_albacore202.chopped.barcode05.fastq.\n",
      "now processing porechopped file /home/yiheng/data/20170617_FAH05432/workspace/barcode04/Hu_FAH05432_albacore202.chopped.barcode04.fastq.\n"
     ]
    }
   ],
   "source": [
    "#do same for porechop + length\n",
    "#this is pretty slow. May consider parallzing.\n",
    "pc_length_dict = {}\n",
    "porechop_survived_list = []\n",
    "folder_counter = 0\n",
    "for folder in os.listdir(workspace):\n",
    "    folder_long = os.path.join(workspace,folder)\n",
    "    if not os.path.isdir(folder_long):\n",
    "        next\n",
    "    folder_counter += 1\n",
    "    porechoped_file = os.path.join(folder_long,'%s.chopped.%s.fastq'%(prefix, folder))\n",
    "    print(\"now processing porechopped file %s.\" % porechoped_file)\n",
    "    if not os.path.exists(porechoped_file):\n",
    "            print(\"Porechopped fastq missing for %s.\" % folder)\n",
    "    else:\n",
    "        for seq in SeqIO.parse(porechoped_file, 'fastq'):\n",
    "            pc_length_dict[seq.id] = len(seq.seq)\n",
    "            porechop_survived_list.append(seq.id)\n",
    "    \n",
    "#take for loop from above to loop over chopped files\n",
    "#filename = '/home/yiheng/data/Wagga_run1/workspace/barcode01/Wagga_run1_albacore202.chopped.barcode01.fastq'\n",
    "#for seq in SeqIO.parse(filename, 'fastq'):\n",
    "#    pc_length_dict[seq.id] = len(seq.seq)"
   ]
  },
  {
   "cell_type": "code",
   "execution_count": 57,
   "metadata": {
    "collapsed": true
   },
   "outputs": [],
   "source": [
    "# some of the porechopped reads will be splited into two reads they will have an _ in their read id\n",
    "porechop_survived_single_list = [x.split('_')[0] for x in porechop_survived_list]"
   ]
  },
  {
   "cell_type": "code",
   "execution_count": 58,
   "metadata": {
    "collapsed": true
   },
   "outputs": [],
   "source": [
    "# add porechop survived column\n",
    "seq_df['pc_survived'] = seq_df['read_id'].isin(porechop_survived_single_list)"
   ]
  },
  {
   "cell_type": "code",
   "execution_count": 59,
   "metadata": {},
   "outputs": [
    {
     "data": {
      "text/plain": [
       "<bound method DataFrame.to_csv of                                       read_id passes_filtering  \\\n",
       "0        32e360e2-1c60-4e33-a37d-0e92d90e7c46             True   \n",
       "1        0df4568c-e183-44da-aaaa-106c263f614d             True   \n",
       "2        19339f0e-6209-40d7-b962-f5dfc6fd4dd1             True   \n",
       "3        20298788-f88b-40b5-bc1c-109118171dea             True   \n",
       "4        42ff85b0-092b-4ac2-bf7e-e39557b88824             True   \n",
       "5        4365b8ef-dea5-4cfb-8b25-67494fc47f10            False   \n",
       "6        53f5f83d-06d1-4096-8f5e-6b7c4ce11670             True   \n",
       "7        5cd18867-0da5-4f68-96e4-390ac489753f             True   \n",
       "8        937eca07-7833-4590-b063-ed2af0335e96            False   \n",
       "9        93e01c93-a53f-437d-9420-79301292626e             True   \n",
       "10       977db338-b387-4a46-b93a-c2662691445b             True   \n",
       "11       bd8c6581-2f0d-4f12-a835-0d0e1f8ffcac            False   \n",
       "12       c4125a3c-60f1-43c3-a5ce-b6729bbc352e             True   \n",
       "13       c7a94ab6-edcf-48c9-b510-e68e517ccfb4             True   \n",
       "14       c8808d54-9403-4125-9aa4-71529f96d247             True   \n",
       "15       e02f753f-c7db-407f-a704-b51af9b78c12             True   \n",
       "16       eb7d2a71-e277-41da-a193-af4da8e123f4             True   \n",
       "17       09aa2d8e-9ac5-4e5b-8956-71529e686032             True   \n",
       "18       211595e6-05f2-4aaf-ac95-d6daacdbef23             True   \n",
       "19       47d8a745-307c-4661-a7e6-d241a11367d5             True   \n",
       "20       4b6c1aa8-eb4c-4c27-8ab9-782311c941c3             True   \n",
       "21       5dd0a444-1754-478a-b3cc-c7ef8fd3e17f             True   \n",
       "22       7093f26d-c992-4f61-a530-c536e8926f40             True   \n",
       "23       821c3657-0a5a-4874-a409-e4054d003a58             True   \n",
       "24       980499df-b916-4903-b966-1da3668b6174            False   \n",
       "25       c37ba3fd-9186-4d3d-a102-bfbd50f19717             True   \n",
       "26       c9ac0784-3f7c-4411-8305-1e62036cc490             True   \n",
       "27       d542718c-175e-461c-a6f4-1ce4429c33a7             True   \n",
       "28       db1e2730-f4ea-4e42-bc7e-fef9311a276c             True   \n",
       "29       dfde1183-5817-4cbc-b5c7-7ce5ace7679d             True   \n",
       "...                                       ...              ...   \n",
       "2127808  25246011-95fa-4394-bf65-68e2890c3b1e             True   \n",
       "2127809  2cf6afb7-11d9-4c14-99c5-4ec643e5f67c             True   \n",
       "2127810  b7a793de-bb34-4233-8046-02c10267d975             True   \n",
       "2127811  c7a15e17-ef25-4d8d-a4e9-172140c040c0             True   \n",
       "2127812  28686922-cd25-4818-ac51-754c5edf1627             True   \n",
       "2127813  42ce65a1-6c5a-4ebe-a015-5a966fb23002            False   \n",
       "2127814  69c2cc6c-09de-4743-832f-97b758322be7             True   \n",
       "2127815  c1abd31d-fd01-49c7-8c26-e0549086b3af             True   \n",
       "2127816  5ce78907-6edf-4968-bfc4-21880f1c15f4             True   \n",
       "2127817  7fe3ad35-5fd8-418a-8981-4a4e1cacdb9d             True   \n",
       "2127818  8a52d7ac-b486-4d2d-a4f2-f2af0bf02f83             True   \n",
       "2127819  06b196e0-d3ab-4f8e-96cf-21e30e7d84ae            False   \n",
       "2127820  45d577f3-e368-478d-b718-abcfe9ea7f6f             True   \n",
       "2127821  7a92b10f-ff70-413a-ac6b-c19325b78b7a             True   \n",
       "2127822  1bc1cd0e-12ce-4f21-a7db-505690c649a0             True   \n",
       "2127823  4cb05326-1570-4ce7-922d-9170c50ea3c8             True   \n",
       "2127824  91f1c1b7-0775-4c0a-8fb0-0956e65961d6             True   \n",
       "2127825  a40c5fa1-9d69-43e2-9d52-9d80caa9b06c            False   \n",
       "2127826  baf03487-7543-4620-b719-93a8898fdae6             True   \n",
       "2127827  d63f01ab-e456-42ac-bd7d-43099434a3cd            False   \n",
       "2127828  21ba7e13-4b86-4f5d-b215-5e10e6893c5e             True   \n",
       "2127829  31d5515a-e4e5-4f31-97ed-4eed611a0606             True   \n",
       "2127830  6b9d87b8-8274-4ad7-9eb1-5d3abf14bb72             True   \n",
       "2127831  ba4e2372-723d-45f5-8cc4-e6244a48d3f9             True   \n",
       "2127832  cf5d2421-be54-4cea-b3af-184c1acadfeb            False   \n",
       "2127833  e5b4f11e-42fc-411f-b6ca-d0111462933f             True   \n",
       "2127834  ea586adf-a0a0-4e6a-bd20-cbcae0b85f44             True   \n",
       "2127835  38b47ae7-114b-42e2-9f94-38b784e19f01             True   \n",
       "2127836  618d68e5-788d-4a0e-a5af-e7908a84890d             True   \n",
       "2127837  8d856d6b-3f97-47f7-91ce-f50510b1b149            False   \n",
       "\n",
       "        sequence_length_template mean_qscore_template barcode_arrangement  \\\n",
       "0                           1504                11.98           barcode03   \n",
       "1                           1940               11.791           barcode04   \n",
       "2                           1810               11.328           barcode06   \n",
       "3                           2278               12.185           barcode05   \n",
       "4                           2074                11.83           barcode02   \n",
       "5                           2093                6.303        unclassified   \n",
       "6                           3579               10.935           barcode03   \n",
       "7                           1169                9.786        unclassified   \n",
       "8                           1210                6.381        unclassified   \n",
       "9                           2506               12.314           barcode06   \n",
       "10                          3764               11.285           barcode06   \n",
       "11                          1174                5.994        unclassified   \n",
       "12                          1567               12.367           barcode02   \n",
       "13                          3059               13.003           barcode02   \n",
       "14                          1715               12.773           barcode01   \n",
       "15                          3343               12.248           barcode05   \n",
       "16                          1582               10.651           barcode07   \n",
       "17                          2727               12.133           barcode07   \n",
       "18                          2180                 7.61        unclassified   \n",
       "19                          1938               12.771           barcode06   \n",
       "20                          2795               12.524           barcode07   \n",
       "21                          2175                8.933           barcode05   \n",
       "22                          2638               12.252           barcode04   \n",
       "23                          1895               12.183           barcode07   \n",
       "24                             0                    0        unclassified   \n",
       "25                          2252               12.369           barcode06   \n",
       "26                          2129               12.566           barcode06   \n",
       "27                          3437                9.139           barcode01   \n",
       "28                          2562               10.922           barcode03   \n",
       "29                          1220               11.664           barcode04   \n",
       "...                          ...                  ...                 ...   \n",
       "2127808                     2730                8.073           barcode05   \n",
       "2127809                     3146               10.557        unclassified   \n",
       "2127810                     2167                8.187        unclassified   \n",
       "2127811                     3600                8.776           barcode05   \n",
       "2127812                     3449                7.661        unclassified   \n",
       "2127813                     1860                6.746        unclassified   \n",
       "2127814                     1811                7.823        unclassified   \n",
       "2127815                     2095                7.487        unclassified   \n",
       "2127816                     2162                8.679        unclassified   \n",
       "2127817                     2413                7.388        unclassified   \n",
       "2127818                     2771                 7.93           barcode06   \n",
       "2127819                     1998                6.403        unclassified   \n",
       "2127820                     3728                9.432           barcode02   \n",
       "2127821                     3252               10.361           barcode06   \n",
       "2127822                     2053                10.07           barcode02   \n",
       "2127823                     2264                8.457           barcode05   \n",
       "2127824                     3150                8.143           barcode06   \n",
       "2127825                       95                5.537        unclassified   \n",
       "2127826                     2127                8.532        unclassified   \n",
       "2127827                      946                6.004        unclassified   \n",
       "2127828                     8305               10.862           barcode07   \n",
       "2127829                     2058                7.706        unclassified   \n",
       "2127830                     2508                 8.81           barcode03   \n",
       "2127831                     2702                9.843           barcode05   \n",
       "2127832                       13                 3.44        unclassified   \n",
       "2127833                     2140               10.615           barcode04   \n",
       "2127834                     2312                7.453        unclassified   \n",
       "2127835                     2042                7.133           barcode02   \n",
       "2127836                     2161               10.125           barcode05   \n",
       "2127837                     1218                6.129        unclassified   \n",
       "\n",
       "        barcode_score  kit variant  pc_survived  \n",
       "0             88.1356   BC    var2         True  \n",
       "1             79.3898   BC    var1         True  \n",
       "2             69.9333   BC    var1         True  \n",
       "3             86.8475   BC    var1         True  \n",
       "4             78.8333   BC    var2         True  \n",
       "5             36.7458   BC    var2         True  \n",
       "6             96.5085   BC    var1        False  \n",
       "7             59.4237   BC    var2         True  \n",
       "8             41.5294  RLB     n/a         True  \n",
       "9             98.6441   BC    var1         True  \n",
       "10               88.6   BC    var1         True  \n",
       "11            33.0667   BC    var2         True  \n",
       "12            66.5667   BC    var2         True  \n",
       "13            90.8475   BC    var2         True  \n",
       "14            86.5667   BC    var2         True  \n",
       "15            77.1667   BC    var2         True  \n",
       "16            65.8305   BC    var1         True  \n",
       "17            82.9492   BC    var1         True  \n",
       "18            42.1356   BC    var2         True  \n",
       "19            66.8814   BC    var1         True  \n",
       "20            96.4407   BC    var1         True  \n",
       "21             77.661   BC    var2         True  \n",
       "22            79.2203   BC    var1         True  \n",
       "23            81.6271   BC    var1         True  \n",
       "24                  0  n/a     n/a        False  \n",
       "25            94.1667   BC    var2         True  \n",
       "26             81.017   BC    var1         True  \n",
       "27            60.0667   BC    var2        False  \n",
       "28            95.3898   BC    var2         True  \n",
       "29            78.8333   BC    var1         True  \n",
       "...               ...  ...     ...          ...  \n",
       "2127808       62.9811  LBW    var2         True  \n",
       "2127809       54.2712   BC    var1         True  \n",
       "2127810       52.7667   BC    var2         True  \n",
       "2127811       70.6667   BC    var1         True  \n",
       "2127812       38.6667   BC    var1         True  \n",
       "2127813       41.4902  RLB     n/a         True  \n",
       "2127814       47.1864   BC    var2         True  \n",
       "2127815          30.7   BC    var1         True  \n",
       "2127816       52.8475   BC    var2         True  \n",
       "2127817          56.4   BC    var1         True  \n",
       "2127818          60.6   BC    var1         True  \n",
       "2127819            44  LBW    var2         True  \n",
       "2127820          74.4   BC    var2        False  \n",
       "2127821       76.2712   BC    var2         True  \n",
       "2127822          69.3   BC    var2         True  \n",
       "2127823       85.7667   BC    var1         True  \n",
       "2127824       65.6333   BC    var2         True  \n",
       "2127825       47.3333   NB    var1        False  \n",
       "2127826       59.2203   BC    var1         True  \n",
       "2127827       37.3333   NB    var1         True  \n",
       "2127828       73.0508   BC    var1        False  \n",
       "2127829       59.7333   BC    var2         True  \n",
       "2127830       82.4333   BC    var2         True  \n",
       "2127831       83.2203   BC    var1         True  \n",
       "2127832       6.25641   NB    var1        False  \n",
       "2127833          77.8   BC    var2         True  \n",
       "2127834       47.8305   BC    var2         True  \n",
       "2127835          60.4   BC    var2         True  \n",
       "2127836       61.1186   BC    var1         True  \n",
       "2127837       34.9333   NB    var2         True  \n",
       "\n",
       "[2127838 rows x 9 columns]>"
      ]
     },
     "execution_count": 59,
     "metadata": {},
     "output_type": "execute_result"
    }
   ],
   "source": [
    "seq_df.to_csv"
   ]
  },
  {
   "cell_type": "code",
   "execution_count": 60,
   "metadata": {
    "collapsed": true
   },
   "outputs": [],
   "source": [
    "#add the nanolyze survived column\n",
    "seq_df['nl_survived'] = seq_df['read_id'].isin(nl_survied_list)\n",
    "#make porchoped survived column"
   ]
  },
  {
   "cell_type": "code",
   "execution_count": 61,
   "metadata": {
    "collapsed": true
   },
   "outputs": [],
   "source": [
    "import numpy as np"
   ]
  },
  {
   "cell_type": "code",
   "execution_count": 62,
   "metadata": {
    "collapsed": true
   },
   "outputs": [],
   "source": [
    "blast_header = ['qseqid',\n",
    " 'sseqid',\n",
    " 'evalue',\n",
    " 'bitscore',\n",
    " 'length',\n",
    " 'pident',\n",
    " 'nident',\n",
    " 'sgi',\n",
    " 'sacc',\n",
    " 'staxids',\n",
    " 'scomnames',\n",
    "'sskingdoms']\n",
    "# original headers: qseqid sseqid evalue bitscore length pident nident sgi sacc staxids sscinames scomnames sskingdoms\n",
    "def make_all_blast_df(_list, header, chopped_len_dict):\n",
    "    df = pd.DataFrame()\n",
    "    #write a check that both _list and header is a list\n",
    "    for x in _list:\n",
    "        tmp_df = pd.read_csv(x, sep='\\t',header=None, names=header)\n",
    "        first_column = tmp_df.columns[0]\n",
    "        tmp_df['read_id'] = tmp_df[first_column].apply(lambda x: str(x).split('_')[0])\n",
    "        tmp_df['read_length_pc'] = tmp_df[first_column].apply(lambda x: chopped_len_dict[x])\n",
    "        df = pd.concat([df, tmp_df.iloc[:,[0,1,2,4,5,6,8,9,10,12,13]]])\n",
    "        \n",
    "    #now reduce the columns to what we want\n",
    "    \n",
    "    #print(first_column)\n",
    "    #df['read_id'] = df.iloc[:,0].str.split('_')[0]\n",
    "    return df"
   ]
  },
  {
   "cell_type": "code",
   "execution_count": 63,
   "metadata": {},
   "outputs": [
    {
     "name": "stdout",
     "output_type": "stream",
     "text": [
      "now adding the nt output columns.\n",
      "now adding the rg output columns.\n"
     ]
    }
   ],
   "source": [
    "nt_df = make_all_blast_df(nt_blast_df_file_list, [x +'_nt' for x in  blast_header], pc_length_dict)\n",
    "print(\"now adding the nt output columns.\")\n",
    "rg_df = make_all_blast_df(rg_blast_df_file_list, [x +'_rg' for x in  blast_header], pc_length_dict)\n",
    "print(\"now adding the rg output columns.\")\n",
    "#reduce column number of blast dataframe to what you want before you merge"
   ]
  },
  {
   "cell_type": "code",
   "execution_count": 64,
   "metadata": {},
   "outputs": [
    {
     "name": "stdout",
     "output_type": "stream",
     "text": [
      "now creating the final dataframe!\n"
     ]
    }
   ],
   "source": [
    "#need to take care of porchop split reads checkin if second last character of string is _\n",
    "#make a new column of the blast_df that has the initial read_id\n",
    "#need to check how merge behaves when getting a doublcate of value in one df.\n",
    "tmp_df = pd.merge(seq_df, rg_df,how='outer',left_on= 'read_id', right_on='read_id')\n",
    "final_df = pd.merge(tmp_df, nt_df,how='outer',left_on= 'read_id', right_on='read_id')\n",
    "print(\"now creating the final dataframe!\")"
   ]
  },
  {
   "cell_type": "code",
   "execution_count": 65,
   "metadata": {},
   "outputs": [
    {
     "name": "stdout",
     "output_type": "stream",
     "text": [
      "All done. Congratulations!\n"
     ]
    }
   ],
   "source": [
    "analysis_foler = os.path.join(BASEDIR, 'analysis')\n",
    "if not os.path.exists(analysis_foler):\n",
    "    os.mkdir(analysis_foler)\n",
    "final_df_fn = os.path.join(analysis_foler, 'summary_df_%s.tab' % (os.path.basename(BASEDIR)))\n",
    "final_df.to_csv(final_df_fn, sep='\\t', index=None)\n",
    "print(\"All done. Congratulations!\")"
   ]
  },
  {
   "cell_type": "code",
   "execution_count": null,
   "metadata": {
    "collapsed": true
   },
   "outputs": [],
   "source": []
  },
  {
   "cell_type": "code",
   "execution_count": null,
   "metadata": {
    "collapsed": true
   },
   "outputs": [],
   "source": []
  }
 ],
 "metadata": {
  "kernelspec": {
   "display_name": "Python 3",
   "language": "python",
   "name": "python3"
  },
  "language_info": {
   "codemirror_mode": {
    "name": "ipython",
    "version": 3
   },
   "file_extension": ".py",
   "mimetype": "text/x-python",
   "name": "python",
   "nbconvert_exporter": "python",
   "pygments_lexer": "ipython3",
   "version": "3.6.1"
  }
 },
 "nbformat": 4,
 "nbformat_minor": 2
}
