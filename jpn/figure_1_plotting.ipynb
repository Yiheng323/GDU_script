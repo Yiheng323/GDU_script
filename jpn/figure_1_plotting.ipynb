{
 "cells": [
  {
   "cell_type": "markdown",
   "metadata": {},
   "source": [
    "This is the notebook to use the summary dataframe to generate figure 1."
   ]
  },
  {
   "cell_type": "code",
   "execution_count": 1,
   "metadata": {
    "collapsed": true
   },
   "outputs": [],
   "source": [
    "import numpy as np\n",
    "import os\n",
    "import pandas as pd\n",
    "import matplotlib.pyplot as plt"
   ]
  },
  {
   "cell_type": "code",
   "execution_count": 2,
   "metadata": {
    "collapsed": true
   },
   "outputs": [],
   "source": [
    "BASEDIR = '/home/yiheng/analysis/WGS'"
   ]
  },
  {
   "cell_type": "code",
   "execution_count": 3,
   "metadata": {
    "collapsed": true
   },
   "outputs": [],
   "source": [
    "# get the summary dataframe\n",
    "FC1_barcode = os.path.join(BASEDIR, 'run1_barcode.tab')\n",
    "FC2_barcode = os.path.join(BASEDIR, 'run2_barcode.tab')\n",
    "FC3_barcode = os.path.join(BASEDIR, 'FAH05432_barcode.tab')\n",
    "FC4_barcode = os.path.join(BASEDIR, 'FAH05731_barcode.tab')\n",
    "\n",
    "FC1_hit = os.path.join(BASEDIR, 'run1_hit.tab')\n",
    "FC2_hit = os.path.join(BASEDIR, 'run2_hit.tab')\n",
    "FC3_hit = os.path.join(BASEDIR, 'FAH05432_hit.tab')\n",
    "FC4_hit = os.path.join(BASEDIR, 'FAH05731_hit.tab')\n",
    "\n",
    "FC1_barcode_df = pd.read_csv(FC1_barcode, sep = '\\t')\n",
    "FC2_barcode_df = pd.read_csv(FC2_barcode, sep = '\\t')\n",
    "FC3_barcode_df = pd.read_csv(FC3_barcode, sep = '\\t')\n",
    "FC4_barcode_df = pd.read_csv(FC4_barcode, sep = '\\t')\n",
    "\n",
    "FC1_hit_df = pd.read_csv(FC1_hit, sep = '\\t')\n",
    "FC2_hit_df = pd.read_csv(FC2_hit, sep = '\\t')\n",
    "FC3_hit_df = pd.read_csv(FC3_hit, sep = '\\t')\n",
    "FC4_hit_df = pd.read_csv(FC4_hit, sep = '\\t')\n"
   ]
  },
  {
   "cell_type": "code",
   "execution_count": 4,
   "metadata": {
    "collapsed": true
   },
   "outputs": [],
   "source": [
    "barcode_df = pd.concat([FC1_barcode_df, FC2_barcode_df, FC3_barcode_df, FC4_barcode_df], axis=1).T\n",
    "hit_df = pd.concat([FC1_hit_df, FC2_hit_df, FC3_hit_df, FC4_hit_df], axis=1).T"
   ]
  },
  {
   "cell_type": "code",
   "execution_count": 5,
   "metadata": {},
   "outputs": [
    {
     "data": {
      "text/html": [
       "<div>\n",
       "<style>\n",
       "    .dataframe thead tr:only-child th {\n",
       "        text-align: right;\n",
       "    }\n",
       "\n",
       "    .dataframe thead th {\n",
       "        text-align: left;\n",
       "    }\n",
       "\n",
       "    .dataframe tbody tr th {\n",
       "        vertical-align: top;\n",
       "    }\n",
       "</style>\n",
       "<table border=\"1\" class=\"dataframe\">\n",
       "  <thead>\n",
       "    <tr style=\"text-align: right;\">\n",
       "      <th></th>\n",
       "      <th>0</th>\n",
       "      <th>1</th>\n",
       "      <th>2</th>\n",
       "    </tr>\n",
       "  </thead>\n",
       "  <tbody>\n",
       "    <tr>\n",
       "      <th>run1</th>\n",
       "      <td>0.870396</td>\n",
       "      <td>0.006685</td>\n",
       "      <td>0.122906</td>\n",
       "    </tr>\n",
       "    <tr>\n",
       "      <th>run2</th>\n",
       "      <td>0.700232</td>\n",
       "      <td>0.010097</td>\n",
       "      <td>0.289658</td>\n",
       "    </tr>\n",
       "    <tr>\n",
       "      <th>FAH05432</th>\n",
       "      <td>0.922226</td>\n",
       "      <td>0.006527</td>\n",
       "      <td>0.071231</td>\n",
       "    </tr>\n",
       "    <tr>\n",
       "      <th>FAH05731</th>\n",
       "      <td>0.913933</td>\n",
       "      <td>0.008571</td>\n",
       "      <td>0.077464</td>\n",
       "    </tr>\n",
       "  </tbody>\n",
       "</table>\n",
       "</div>"
      ],
      "text/plain": [
       "                 0         1         2\n",
       "run1      0.870396  0.006685  0.122906\n",
       "run2      0.700232  0.010097  0.289658\n",
       "FAH05432  0.922226  0.006527  0.071231\n",
       "FAH05731  0.913933  0.008571  0.077464"
      ]
     },
     "execution_count": 5,
     "metadata": {},
     "output_type": "execute_result"
    }
   ],
   "source": [
    "hit_df"
   ]
  },
  {
   "cell_type": "code",
   "execution_count": 6,
   "metadata": {},
   "outputs": [
    {
     "data": {
      "text/plain": [
       "run1        0.870396\n",
       "run2        0.700232\n",
       "FAH05432    0.922226\n",
       "FAH05731    0.913933\n",
       "Name: 0, dtype: float64"
      ]
     },
     "execution_count": 6,
     "metadata": {},
     "output_type": "execute_result"
    }
   ],
   "source": [
    "hit_df[0]"
   ]
  },
  {
   "cell_type": "code",
   "execution_count": 7,
   "metadata": {
    "collapsed": true
   },
   "outputs": [],
   "source": [
    "# from raw value to percentage\n",
    "barcode01_percentage = [x*100 for x in barcode_df[0]]\n",
    "barcode02_percentage = [x*100 for x in barcode_df[1]]\n",
    "barcode03_percentage = [x*100 for x in barcode_df[2]]\n",
    "barcode04_percentage = [x*100 for x in barcode_df[3]]\n",
    "barcode05_percentage = [x*100 for x in barcode_df[4]]\n",
    "unclassified_percentage = [x*100 for x in barcode_df[5]]\n",
    "\n",
    "rghit_percentage = [x*100 for x in hit_df[0]]\n",
    "nthit_percentage = [x*100 for x in hit_df[1]]\n",
    "nohit_percentage = [x*100 for x in hit_df[2]]"
   ]
  },
  {
   "cell_type": "code",
   "execution_count": 8,
   "metadata": {},
   "outputs": [
    {
     "data": {
      "image/png": "[encoded data removed]",
      "text/plain": [
       "<matplotlib.figure.Figure at 0x7f0a18b616a0>"
      ]
     },
     "metadata": {},
     "output_type": "display_data"
    }
   ],
   "source": [
    "# plot figure 1A\n",
    "barWidth = 0.6\n",
    "r = [0,1,2,3]\n",
    "plt.bar(r, barcode01_percentage, label = 'barcode01', color='blue', edgecolor='white', width=barWidth)\n",
    "plt.bar(r, barcode02_percentage, label = 'barcode02', bottom=barcode01_percentage, color='red', edgecolor='white', width=barWidth)\n",
    "plt.bar(r, barcode03_percentage, label = 'barcode03', bottom=[i+j for i,j in zip(barcode01_percentage, barcode02_percentage)], color='yellow', edgecolor='white', width=barWidth)\n",
    "plt.bar(r, barcode04_percentage, label = 'barcode04', bottom=[i+j+k for i,j,k in zip(barcode01_percentage, barcode02_percentage, barcode03_percentage)], color='green', edgecolor='white', width=barWidth)\n",
    "plt.bar(r, barcode05_percentage, label = 'barcode05', bottom=[i+j+k+l for i,j,k,l in zip(barcode01_percentage, barcode02_percentage, barcode03_percentage, barcode04_percentage)], color='pink', edgecolor='white', width=barWidth)\n",
    "plt.bar(r, unclassified_percentage, label = 'unclassified', bottom=[i+j+k+l+m for i,j,k,l,m in zip(barcode01_percentage, barcode02_percentage, barcode03_percentage, barcode04_percentage, barcode05_percentage)], color='grey', edgecolor='white', width=barWidth)\n",
    "\n",
    "plt.xticks(r, ['FC1', 'FC2', 'FC3', 'FC4'])\n",
    "plt.xlabel(\"Flowcell\")\n",
    "plt.ylabel(\"Percantage\")\n",
    "#lt.legend((r[0], r[1], nohit_percentage), ('Reads hit reference genomes', 'Reads hit ncbi nucleotide database', 'Reads have no hit to both reference genomes and ncbi nucleotide database'))\n",
    "plt.legend(loc='best', bbox_to_anchor=(1.0, 0.5))\n",
    "plt.title(\"Read distribution by barcodes\")\n",
    "\n",
    "plt.show()"
   ]
  },
  {
   "cell_type": "code",
   "execution_count": 9,
   "metadata": {},
   "outputs": [
    {
     "data": {
      "image/png": "[encoded data removed]",
      "text/plain": [
       "<matplotlib.figure.Figure at 0x7f0a18b61908>"
      ]
     },
     "metadata": {},
     "output_type": "display_data"
    }
   ],
   "source": [
    "# plot figure 1B\n",
    "barWidth = 0.6\n",
    "r = [0,1,2,3]\n",
    "plt.bar(r, rghit_percentage, label = 'Reads hit reference genomes', color='blue', edgecolor='white', width=barWidth)\n",
    "plt.bar(r, nthit_percentage, bottom=rghit_percentage, label = 'Reads hit ncbi nucleotide database', color='red', edgecolor='white', width=barWidth)\n",
    "plt.bar(r, nohit_percentage, bottom=[i+j for i,j in zip(rghit_percentage, nthit_percentage)], label = 'Reads have no hit to both reference genomes and ncbi nucleotide database', color='green', edgecolor='white', width=barWidth)\n",
    "\n",
    "# Custom x axis\n",
    "plt.xticks(r, ['FC1', 'FC2', 'FC3', 'FC4'])\n",
    "plt.xlabel(\"Flowcell\")\n",
    "plt.ylabel(\"Percantage\")\n",
    "#lt.legend((r[0], r[1], nohit_percentage), ('Reads hit reference genomes', 'Reads hit ncbi nucleotide database', 'Reads have no hit to both reference genomes and ncbi nucleotide database'))\n",
    "plt.legend(loc='best', bbox_to_anchor=(1.0, 0.5))\n",
    "plt.title('Read distribution by hit on databases')\n",
    "\n",
    "plt.show()"
   ]
  },
  {
   "cell_type": "code",
   "execution_count": null,
   "metadata": {
    "collapsed": true
   },
   "outputs": [],
   "source": []
  },
  {
   "cell_type": "code",
   "execution_count": null,
   "metadata": {
    "collapsed": true
   },
   "outputs": [],
   "source": []
  },
  {
   "cell_type": "code",
   "execution_count": null,
   "metadata": {
    "collapsed": true
   },
   "outputs": [],
   "source": []
  },
  {
   "cell_type": "code",
   "execution_count": 68,
   "metadata": {},
   "outputs": [
    {
     "data": {
      "image/png": "[encoded data removed]",
      "text/plain": [
       "<matplotlib.figure.Figure at 0x7f420f51e2b0>"
      ]
     },
     "metadata": {},
     "output_type": "display_data"
    }
   ],
   "source": [
    "# Example that I followed\n",
    "\n",
    "r = [0,1,2,3,4]\n",
    "raw_data = {'greenBars': [20, 1.5, 7, 10, 5], 'orangeBars': [5, 15, 5, 10, 15],'blueBars': [2, 15, 18, 5, 10]}\n",
    "df = pd.DataFrame(raw_data)\n",
    "\n",
    "# From raw value to percentage\n",
    "totals = [i+j+k for i,j,k in zip(df['greenBars'], df['orangeBars'], df['blueBars'])]\n",
    "greenBars = [i / j * 100 for i,j in zip(df['greenBars'], totals)]\n",
    "orangeBars = [i / j * 100 for i,j in zip(df['orangeBars'], totals)]\n",
    "blueBars = [i / j * 100 for i,j in zip(df['blueBars'], totals)]\n",
    "\n",
    "# plot\n",
    "barWidth = 0.85\n",
    "names = ('A','B','C','D','E')\n",
    "# Create green Bars\n",
    "plt.bar(r, greenBars, color='#b5ffb9', edgecolor='white', width=barWidth)\n",
    "# Create orange Bars\n",
    "plt.bar(r, orangeBars, bottom=greenBars, color='#f9bc86', edgecolor='white', width=barWidth)\n",
    "# Create blue Bars\n",
    "plt.bar(r, blueBars, bottom=[i+j for i,j in zip(greenBars, orangeBars)], color='#a3acff', edgecolor='white', width=barWidth)\n",
    "\n",
    "# Custom x axis\n",
    "plt.xticks(r, names)\n",
    "plt.xlabel(\"group\")\n",
    "\n",
    "# Show graphic\n",
    "plt.show()"
   ]
  },
  {
   "cell_type": "code",
   "execution_count": null,
   "metadata": {
    "collapsed": true
   },
   "outputs": [],
   "source": []
  }
 ],
 "metadata": {
  "kernelspec": {
   "display_name": "Python 3",
   "language": "python",
   "name": "python3"
  },
  "language_info": {
   "codemirror_mode": {
    "name": "ipython",
    "version": 3
   },
   "file_extension": ".py",
   "mimetype": "text/x-python",
   "name": "python",
   "nbconvert_exporter": "python",
   "pygments_lexer": "ipython3",
   "version": "3.6.1"
  }
 },
 "nbformat": 4,
 "nbformat_minor": 2
}
