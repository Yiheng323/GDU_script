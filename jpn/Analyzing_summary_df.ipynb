{
 "cells": [
  {
   "cell_type": "code",
   "execution_count": null,
   "metadata": {
    "collapsed": true
   },
   "outputs": [],
   "source": [
    "# this is the code to plot out the figures for the WGS data\n",
    "# by now you will need to run both YHscript_2 and YHscript_3 to perform the data analysis and construct the final dataframe\n",
    "# all the plotting will be performed in the analysis folder under the BASEDIR"
   ]
  },
  {
   "cell_type": "code",
   "execution_count": 1,
   "metadata": {
    "collapsed": true
   },
   "outputs": [],
   "source": [
    "import numpy as np\n",
    "import matplotlib.pyplot as plt\n",
    "import matplotlib\n",
    "import os\n",
    "import shutil\n",
    "import pandas as pd\n",
    "import random\n",
    "import collections\n",
    "import math\n",
    "import sys\n",
    "from pandas.tools.plotting import table\n",
    "from itertools import product\n",
    "from Bio import SeqIO\n",
    "\n"
   ]
  },
  {
   "cell_type": "code",
   "execution_count": 2,
   "metadata": {
    "collapsed": true
   },
   "outputs": [],
   "source": [
    "# use argparse to do this\n",
    "BASEDIR = '/home/yiheng/test/20170617_FAH05731'"
   ]
  },
  {
   "cell_type": "code",
   "execution_count": 3,
   "metadata": {
    "collapsed": true
   },
   "outputs": [],
   "source": [
    "# first check if the analysis folder is there\n",
    "folder_list = 'analysis  basecalled_data  scripts  tracking  workspace'.split(' ')\n",
    "for x in range(0,folder_list.count('')):\n",
    "    folder_list.remove('')\n",
    "#fix this test\n",
    "if not set(os.listdir(os.path.abspath(BASEDIR))) == set (folder_list):\n",
    "    print(\"Something wrong with basefolder. check it please.\")"
   ]
  },
  {
   "cell_type": "code",
   "execution_count": 4,
   "metadata": {
    "collapsed": true
   },
   "outputs": [],
   "source": [
    "# get the dataframe there\n",
    "dataframe = os.path.join(BASEDIR, 'analysis', 'summary_df.tab')\n",
    "sum_df = pd.read_csv(dataframe, sep='\\t')"
   ]
  },
  {
   "cell_type": "code",
   "execution_count": 5,
   "metadata": {},
   "outputs": [
    {
     "data": {
      "text/plain": [
       "Index(['read_id', 'passes_filtering', 'sequence_length_template',\n",
       "       'mean_qscore_template', 'barcode_arrangement', 'barcode_score', 'kit',\n",
       "       'variant', 'pc_survived', 'nl_survived', 'qseqid_rg', 'sseqid_rg',\n",
       "       'evalue_rg', 'length_rg', 'pident_rg', 'nident_rg', 'sacc_rg',\n",
       "       'staxids_rg', 'scomnames_rg', 'read_length_pc_x', 'qseqid_nt',\n",
       "       'sseqid_nt', 'evalue_nt', 'length_nt', 'pident_nt', 'nident_nt',\n",
       "       'sacc_nt', 'staxids_nt', 'scomnames_nt', 'read_length_pc_y'],\n",
       "      dtype='object')"
      ]
     },
     "execution_count": 5,
     "metadata": {},
     "output_type": "execute_result"
    }
   ],
   "source": [
    "sum_df.columns"
   ]
  },
  {
   "cell_type": "code",
   "execution_count": null,
   "metadata": {
    "collapsed": true
   },
   "outputs": [],
   "source": [
    "##################################################################\n",
    "################### CODE for Figure 1#############################\n",
    "##################################################################"
   ]
  },
  {
   "cell_type": "code",
   "execution_count": 17,
   "metadata": {},
   "outputs": [],
   "source": [
    "#replace the nan with False for better handling\n",
    "sum_df.qseqid_rg.fillna(False, inplace=True)\n",
    "sum_df.qseqid_nt.fillna(False, inplace=True)\n",
    "pd.set_option('display.max_columns', None)"
   ]
  },
  {
   "cell_type": "code",
   "execution_count": 23,
   "metadata": {
    "scrolled": true
   },
   "outputs": [],
   "source": [
    "# define different group of reads for generating graph\n",
    "ntblasthit_reads = sum_df[(sum_df.qseqid_nt != False) & (sum_df.qseqid_rg == False) & (sum_df.passes_filtering == True)]\n",
    "rgblasthit_reads = sum_df[(sum_df.qseqid_nt == False) & (sum_df.qseqid_rg != False) & (sum_df.passes_filtering == True)]\n",
    "noblasthit_reads = sum_df[(sum_df.qseqid_nt == False) & (sum_df.qseqid_rg == False) & (sum_df.passes_filtering == True)]"
   ]
  },
  {
   "cell_type": "code",
   "execution_count": 27,
   "metadata": {},
   "outputs": [
    {
     "data": {
      "text/plain": [
       "156112"
      ]
     },
     "execution_count": 27,
     "metadata": {},
     "output_type": "execute_result"
    }
   ],
   "source": [
    "len(rgblasthit_reads)"
   ]
  },
  {
   "cell_type": "code",
   "execution_count": 28,
   "metadata": {},
   "outputs": [
    {
     "data": {
      "text/plain": [
       "1437"
      ]
     },
     "execution_count": 28,
     "metadata": {},
     "output_type": "execute_result"
    }
   ],
   "source": [
    "len(ntblasthit_reads)"
   ]
  },
  {
   "cell_type": "code",
   "execution_count": 29,
   "metadata": {},
   "outputs": [
    {
     "data": {
      "text/plain": [
       "65898"
      ]
     },
     "execution_count": 29,
     "metadata": {},
     "output_type": "execute_result"
    }
   ],
   "source": [
    "len(noblasthit_reads)"
   ]
  },
  {
   "cell_type": "code",
   "execution_count": 34,
   "metadata": {},
   "outputs": [
    {
     "data": {
      "text/plain": [
       "223452"
      ]
     },
     "execution_count": 34,
     "metadata": {},
     "output_type": "execute_result"
    }
   ],
   "source": [
    "len(sum_df[(sum_df.passes_filtering == True)])"
   ]
  },
  {
   "cell_type": "code",
   "execution_count": 32,
   "metadata": {},
   "outputs": [
    {
     "data": {
      "text/plain": [
       "84864"
      ]
     },
     "execution_count": 32,
     "metadata": {},
     "output_type": "execute_result"
    }
   ],
   "source": [
    "len(sum_df[(sum_df.qseqid_nt == False) & (sum_df.qseqid_rg == False)])"
   ]
  },
  {
   "cell_type": "code",
   "execution_count": 33,
   "metadata": {},
   "outputs": [
    {
     "data": {
      "text/plain": [
       "223452"
      ]
     },
     "execution_count": 33,
     "metadata": {},
     "output_type": "execute_result"
    }
   ],
   "source": [
    "len(sum_df[(sum_df.passes_filtering == True)])"
   ]
  },
  {
   "cell_type": "code",
   "execution_count": 41,
   "metadata": {},
   "outputs": [
    {
     "data": {
      "text/plain": [
       "[0          True\n",
       " 1          True\n",
       " 2          True\n",
       " 3          True\n",
       " 4          True\n",
       " 5          True\n",
       " 6         False\n",
       " 7         False\n",
       " 8          True\n",
       " 9          True\n",
       " 10         True\n",
       " 11         True\n",
       " 12         True\n",
       " 13         True\n",
       " 14         True\n",
       " 15         True\n",
       " 16         True\n",
       " 17         True\n",
       " 18         True\n",
       " 19         True\n",
       " 20         True\n",
       " 21         True\n",
       " 22         True\n",
       " 23         True\n",
       " 24         True\n",
       " 25         True\n",
       " 26         True\n",
       " 27         True\n",
       " 28         True\n",
       " 29         True\n",
       "           ...  \n",
       " 242739     True\n",
       " 242740     True\n",
       " 242741     True\n",
       " 242742     True\n",
       " 242743     True\n",
       " 242744     True\n",
       " 242745     True\n",
       " 242746     True\n",
       " 242747     True\n",
       " 242748     True\n",
       " 242749     True\n",
       " 242750     True\n",
       " 242751     True\n",
       " 242752     True\n",
       " 242753     True\n",
       " 242754     True\n",
       " 242755     True\n",
       " 242756     True\n",
       " 242757     True\n",
       " 242758     True\n",
       " 242759     True\n",
       " 242760     True\n",
       " 242761     True\n",
       " 242762     True\n",
       " 242763     True\n",
       " 242764     True\n",
       " 242765     True\n",
       " 242766     True\n",
       " 242767     True\n",
       " 242768     True\n",
       " Name: qseqid_nt, Length: 242769, dtype: bool]"
      ]
     },
     "execution_count": 41,
     "metadata": {},
     "output_type": "execute_result"
    }
   ],
   "source": [
    "[sum_df.qseqid_nt == False]"
   ]
  },
  {
   "cell_type": "code",
   "execution_count": null,
   "metadata": {
    "collapsed": true
   },
   "outputs": [],
   "source": [
    "t"
   ]
  },
  {
   "cell_type": "code",
   "execution_count": null,
   "metadata": {
    "collapsed": true
   },
   "outputs": [],
   "source": []
  },
  {
   "cell_type": "code",
   "execution_count": null,
   "metadata": {
    "collapsed": true
   },
   "outputs": [],
   "source": []
  },
  {
   "cell_type": "code",
   "execution_count": null,
   "metadata": {
    "collapsed": true
   },
   "outputs": [],
   "source": []
  },
  {
   "cell_type": "code",
   "execution_count": null,
   "metadata": {
    "collapsed": true
   },
   "outputs": [],
   "source": []
  },
  {
   "cell_type": "code",
   "execution_count": null,
   "metadata": {
    "collapsed": true
   },
   "outputs": [],
   "source": []
  },
  {
   "cell_type": "code",
   "execution_count": null,
   "metadata": {
    "collapsed": true
   },
   "outputs": [],
   "source": []
  },
  {
   "cell_type": "code",
   "execution_count": null,
   "metadata": {
    "collapsed": true
   },
   "outputs": [],
   "source": []
  },
  {
   "cell_type": "code",
   "execution_count": null,
   "metadata": {
    "collapsed": true
   },
   "outputs": [],
   "source": []
  },
  {
   "cell_type": "code",
   "execution_count": null,
   "metadata": {
    "collapsed": true
   },
   "outputs": [],
   "source": []
  },
  {
   "cell_type": "code",
   "execution_count": null,
   "metadata": {
    "collapsed": true
   },
   "outputs": [],
   "source": []
  }
 ],
 "metadata": {
  "kernelspec": {
   "display_name": "Python 3",
   "language": "python",
   "name": "python3"
  },
  "language_info": {
   "codemirror_mode": {
    "name": "ipython",
    "version": 3
   },
   "file_extension": ".py",
   "mimetype": "text/x-python",
   "name": "python",
   "nbconvert_exporter": "python",
   "pygments_lexer": "ipython3",
   "version": "3.6.1"
  }
 },
 "nbformat": 4,
 "nbformat_minor": 2
}
