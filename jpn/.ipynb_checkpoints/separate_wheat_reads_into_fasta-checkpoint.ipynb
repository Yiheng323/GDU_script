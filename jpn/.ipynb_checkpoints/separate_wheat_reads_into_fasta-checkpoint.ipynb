{
 "cells": [
  {
   "cell_type": "markdown",
   "metadata": {},
   "source": [
    "This is a notebook used to filter out stago reads from each sequencing run and put into a fasta file for blast analysis\n",
    "\n",
    "generally it contains two simple steps:\n",
    "1. cut the readid from the final dataframe of each flowcell\n",
    "2. put into a txt file"
   ]
  },
  {
   "cell_type": "code",
   "execution_count": 111,
   "metadata": {},
   "outputs": [],
   "source": [
    "import numpy as np\n",
    "import os\n",
    "import pandas as pd\n",
    "import matplotlib.pyplot as plt\n",
    "import argparse\n",
    "import subprocess as sub\n",
    "from ete3 import NCBITaxa\n",
    "ncbi = NCBITaxa()"
   ]
  },
  {
   "cell_type": "code",
   "execution_count": 119,
   "metadata": {},
   "outputs": [],
   "source": [
    "BASEDIR = '/home/yiheng/data/20170617_FAH05731'\n",
    "\n",
    "# here we define the folder name of the dataframe it created by capturing the folder from the BASDIR\n",
    "folder_name = os.path.basename(BASEDIR)\n",
    "column_name = folder_name.split('_')[-1]"
   ]
  },
  {
   "cell_type": "code",
   "execution_count": 120,
   "metadata": {},
   "outputs": [],
   "source": [
    "# first check if the analysis folder is there\n",
    "folder_list = 'analysis  basecalled_data  scripts  tracking  workspace'.split(' ')\n",
    "for x in range(0,folder_list.count('')):\n",
    "    folder_list.remove('')\n",
    "#fix this test\n",
    "if not set(os.listdir(os.path.abspath(BASEDIR))) == set (folder_list):\n",
    "    print(\"Something wrong with basefolder. check it please.\")"
   ]
  },
  {
   "cell_type": "code",
   "execution_count": 121,
   "metadata": {},
   "outputs": [],
   "source": [
    "# get the dataframe there\n",
    "dataframe = os.path.join(BASEDIR, 'analysis', 'summary_df_%s.tab' % folder_name)\n",
    "sum_df = pd.read_csv(dataframe, sep='\\t')\n",
    "# set the display option so easier to check through writing"
   ]
  },
  {
   "cell_type": "code",
   "execution_count": 122,
   "metadata": {},
   "outputs": [],
   "source": [
    "# fills the nan with T/F for easier handling\n",
    "sum_df.sseqid_rg.fillna(False, inplace=True)\n",
    "# filter out the rg blast hit\n",
    "rgblasthit_reads = sum_df[(sum_df.sseqid_rg != False) & (sum_df.passes_filtering == True) & (sum_df.pc_survived == True) & (sum_df.nl_survived == True)]\n",
    "pd.set_option('display.max_columns', None)\n",
    "if column_name == 'FAH05731' or column_name == 'FAH05432':\n",
    "    filtered_barcode_reads = rgblasthit_reads[(rgblasthit_reads.barcode_arrangement == 'barcode01') | \n",
    "                                              (rgblasthit_reads.barcode_arrangement == 'barcode02') | \n",
    "                                              (rgblasthit_reads.barcode_arrangement == 'barcode03') | \n",
    "                                              (rgblasthit_reads.barcode_arrangement == 'barcode04') |\n",
    "                                              (rgblasthit_reads.barcode_arrangement == 'barcode05')]\n",
    "    barcode_list = ['barcode01', 'barcode02', 'barcode03', 'barcode04', 'barcode05']\n",
    "else:\n",
    "    pass\n",
    "\n",
    "if column_name == 'run1':\n",
    "    filtered_barcode_reads = rgblasthit_reads[(rgblasthit_reads.barcode_arrangement == 'barcode06') | \n",
    "                                              (rgblasthit_reads.barcode_arrangement == 'barcode02') | \n",
    "                                              (rgblasthit_reads.barcode_arrangement == 'barcode03') | \n",
    "                                              (rgblasthit_reads.barcode_arrangement == 'barcode04') |\n",
    "                                              (rgblasthit_reads.barcode_arrangement == 'barcode05')]\n",
    "    barcode_list = ['barcode06', 'barcode02', 'barcode03', 'barcode04', 'barcode05']\n",
    "else:\n",
    "    pass\n",
    "\n",
    "if column_name == 'run2':\n",
    "    filtered_barcode_reads = rgblasthit_reads[(rgblasthit_reads.barcode_arrangement == 'barcode07') | \n",
    "                                              (rgblasthit_reads.barcode_arrangement == 'barcode08') | \n",
    "                                              (rgblasthit_reads.barcode_arrangement == 'barcode09') | \n",
    "                                              (rgblasthit_reads.barcode_arrangement == 'barcode10') |\n",
    "                                              (rgblasthit_reads.barcode_arrangement == 'barcode11')]\n",
    "    barcode_list = ['barcode07', 'barcode08', 'barcode09', 'barcode10', 'barcode11']\n",
    "else:\n",
    "    pass"
   ]
  },
  {
   "cell_type": "code",
   "execution_count": 123,
   "metadata": {},
   "outputs": [],
   "source": [
    "stago_reads = filtered_barcode_reads[filtered_barcode_reads.sseqid_rg.str.contains('Stago')]"
   ]
  },
  {
   "cell_type": "code",
   "execution_count": 124,
   "metadata": {},
   "outputs": [],
   "source": [
    "stago_reads.read_id.to_csv(BASEDIR + '/analysis/%s_stagohit.txt' % column_name, index=None)"
   ]
  },
  {
   "cell_type": "code",
   "execution_count": 129,
   "metadata": {},
   "outputs": [
    {
     "name": "stdout",
     "output_type": "stream",
     "text": [
      "cat %s/workspace/%s/Hu_%s_albacore202.chopped.rghityes.*.fasta >> %s/analysis/%s_rghityes.fasta\n",
      "cat %s/workspace/%s/Hu_%s_albacore202.chopped.rghityes.*.fasta >> %s/analysis/%s_rghityes.fasta\n",
      "cat %s/workspace/%s/Hu_%s_albacore202.chopped.rghityes.*.fasta >> %s/analysis/%s_rghityes.fasta\n",
      "cat %s/workspace/%s/Hu_%s_albacore202.chopped.rghityes.*.fasta >> %s/analysis/%s_rghityes.fasta\n",
      "cat %s/workspace/%s/Hu_%s_albacore202.chopped.rghityes.*.fasta >> %s/analysis/%s_rghityes.fasta\n"
     ]
    }
   ],
   "source": [
    "# now get all the rghityes fasta file together into one fasta file into analysis folder for filter\n",
    "if column_name == 'FAH05731' or column_name == 'FAH05432':\n",
    "    cmd = r'cat %s/workspace/%s/Hu_%s_albacore202.chopped.rghityes.*.fasta >> %s/analysis/%s_rghityes.fasta'\n",
    "     \n",
    "if column_name == 'run1' or column_name == 'run2':\n",
    "    cmd = r'cat %s/workspace/%s/Wagga_%s_albacore202.chopped.rghityes.*.fasta >> %s/analysis/%s_rghityes.fasta'\n",
    "    \n",
    "for x in barcode_list:\n",
    "        cmd_stderr = sub.check_output(cmd % (BASEDIR, x, column_name, BASEDIR, folder_name), shell=True, stderr=sub.STDOUT)\n",
    "        print(cmd)"
   ]
  },
  {
   "cell_type": "code",
   "execution_count": 110,
   "metadata": {},
   "outputs": [
    {
     "ename": "CalledProcessError",
     "evalue": "Command 'filterbyname.sh in=/home/yiheng/data/20170617_FAH05731/analysis/20170617_FAH05731_rghityes.fasta out=/home/yiheng/data/20170617_FAH05731/analysis/FAH05731_stago.fasta names=/home/yiheng/data/20170617_FAH05731/analysis/FAH05731_stagohit.txt include=t' returned non-zero exit status 1.",
     "output_type": "error",
     "traceback": [
      "\u001b[0;31m------------------------------------------------------------------\u001b[0m",
      "\u001b[0;31mCalledProcessError\u001b[0m               Traceback (most recent call last)",
      "\u001b[0;32m<ipython-input-110-26b2af889cb0>\u001b[0m in \u001b[0;36m<module>\u001b[0;34m()\u001b[0m\n\u001b[1;32m      1\u001b[0m \u001b[0;31m# now filter out the stago reads from the five samples (five barcodes) using filterbyname.sh script\u001b[0m\u001b[0;34m\u001b[0m\u001b[0;34m\u001b[0m\u001b[0m\n\u001b[1;32m      2\u001b[0m \u001b[0mfilter_command\u001b[0m \u001b[0;34m=\u001b[0m \u001b[0;34mr'filterbyname.sh in=%s/analysis/%s_rghityes.fasta out=%s/analysis/%s_stago.fasta names=%s/analysis/%s_stagohit.txt include=t'\u001b[0m\u001b[0;34m\u001b[0m\u001b[0m\n\u001b[0;32m----> 3\u001b[0;31m \u001b[0mfilter_command_stderr\u001b[0m \u001b[0;34m=\u001b[0m \u001b[0msub\u001b[0m\u001b[0;34m.\u001b[0m\u001b[0mcheck_output\u001b[0m\u001b[0;34m(\u001b[0m\u001b[0mfilter_command\u001b[0m \u001b[0;34m%\u001b[0m \u001b[0;34m(\u001b[0m\u001b[0mBASEDIR\u001b[0m\u001b[0;34m,\u001b[0m \u001b[0mfolder_name\u001b[0m\u001b[0;34m,\u001b[0m \u001b[0mBASEDIR\u001b[0m\u001b[0;34m,\u001b[0m \u001b[0mcolumn_name\u001b[0m\u001b[0;34m,\u001b[0m \u001b[0mBASEDIR\u001b[0m\u001b[0;34m,\u001b[0m \u001b[0mcolumn_name\u001b[0m\u001b[0;34m)\u001b[0m\u001b[0;34m,\u001b[0m \u001b[0mshell\u001b[0m\u001b[0;34m=\u001b[0m\u001b[0;32mTrue\u001b[0m\u001b[0;34m,\u001b[0m \u001b[0mstderr\u001b[0m\u001b[0;34m=\u001b[0m\u001b[0msub\u001b[0m\u001b[0;34m.\u001b[0m\u001b[0mSTDOUT\u001b[0m\u001b[0;34m)\u001b[0m\u001b[0;34m\u001b[0m\u001b[0m\n\u001b[0m\u001b[1;32m      4\u001b[0m \u001b[0mprint\u001b[0m\u001b[0;34m(\u001b[0m\u001b[0mfilter_command\u001b[0m\u001b[0;34m)\u001b[0m\u001b[0;34m\u001b[0m\u001b[0m\n",
      "\u001b[0;32m/home/yiheng/anaconda3/lib/python3.6/subprocess.py\u001b[0m in \u001b[0;36mcheck_output\u001b[0;34m(timeout, *popenargs, **kwargs)\u001b[0m\n\u001b[1;32m    334\u001b[0m \u001b[0;34m\u001b[0m\u001b[0m\n\u001b[1;32m    335\u001b[0m     return run(*popenargs, stdout=PIPE, timeout=timeout, check=True,\n\u001b[0;32m--> 336\u001b[0;31m                **kwargs).stdout\n\u001b[0m\u001b[1;32m    337\u001b[0m \u001b[0;34m\u001b[0m\u001b[0m\n\u001b[1;32m    338\u001b[0m \u001b[0;34m\u001b[0m\u001b[0m\n",
      "\u001b[0;32m/home/yiheng/anaconda3/lib/python3.6/subprocess.py\u001b[0m in \u001b[0;36mrun\u001b[0;34m(input, timeout, check, *popenargs, **kwargs)\u001b[0m\n\u001b[1;32m    416\u001b[0m         \u001b[0;32mif\u001b[0m \u001b[0mcheck\u001b[0m \u001b[0;32mand\u001b[0m \u001b[0mretcode\u001b[0m\u001b[0;34m:\u001b[0m\u001b[0;34m\u001b[0m\u001b[0m\n\u001b[1;32m    417\u001b[0m             raise CalledProcessError(retcode, process.args,\n\u001b[0;32m--> 418\u001b[0;31m                                      output=stdout, stderr=stderr)\n\u001b[0m\u001b[1;32m    419\u001b[0m     \u001b[0;32mreturn\u001b[0m \u001b[0mCompletedProcess\u001b[0m\u001b[0;34m(\u001b[0m\u001b[0mprocess\u001b[0m\u001b[0;34m.\u001b[0m\u001b[0margs\u001b[0m\u001b[0;34m,\u001b[0m \u001b[0mretcode\u001b[0m\u001b[0;34m,\u001b[0m \u001b[0mstdout\u001b[0m\u001b[0;34m,\u001b[0m \u001b[0mstderr\u001b[0m\u001b[0;34m)\u001b[0m\u001b[0;34m\u001b[0m\u001b[0m\n\u001b[1;32m    420\u001b[0m \u001b[0;34m\u001b[0m\u001b[0m\n",
      "\u001b[0;31mCalledProcessError\u001b[0m: Command 'filterbyname.sh in=/home/yiheng/data/20170617_FAH05731/analysis/20170617_FAH05731_rghityes.fasta out=/home/yiheng/data/20170617_FAH05731/analysis/FAH05731_stago.fasta names=/home/yiheng/data/20170617_FAH05731/analysis/FAH05731_stagohit.txt include=t' returned non-zero exit status 1."
     ]
    }
   ],
   "source": [
    "# now filter out the stago reads from the five samples (five barcodes) using filterbyname.sh script\n",
    "filter_command = r'filterbyname.sh in=%s/analysis/%s_rghityes.fasta out=%s/analysis/%s_stago.fasta names=%s/analysis/%s_stagohit.txt include=t'\n",
    "filter_command_stderr = sub.check_output(filter_command % (BASEDIR, folder_name, BASEDIR, column_name, BASEDIR, column_name), shell=True, stderr=sub.STDOUT)\n",
    "print(filter_command)"
   ]
  },
  {
   "cell_type": "code",
   "execution_count": null,
   "metadata": {},
   "outputs": [],
   "source": []
  },
  {
   "cell_type": "code",
   "execution_count": null,
   "metadata": {},
   "outputs": [],
   "source": []
  },
  {
   "cell_type": "code",
   "execution_count": null,
   "metadata": {},
   "outputs": [],
   "source": []
  },
  {
   "cell_type": "code",
   "execution_count": null,
   "metadata": {},
   "outputs": [],
   "source": []
  },
  {
   "cell_type": "code",
   "execution_count": null,
   "metadata": {},
   "outputs": [],
   "source": []
  },
  {
   "cell_type": "code",
   "execution_count": null,
   "metadata": {},
   "outputs": [],
   "source": []
  },
  {
   "cell_type": "code",
   "execution_count": 6,
   "metadata": {},
   "outputs": [
    {
     "data": {
      "text/plain": [
       "\"\\n                                            /-Bipolaris zeicola 26-R-13, no rank\\n                                           |\\n                       /Pleosporaceae, family-Alternaria alternata, species\\n                      |                    |\\n                      |                     \\\\-Pyrenophora teres f. teres 0-1, no rank\\n-Pleosporineae, suborder\\n                      |--Parastagonospora nodorum SN15, no rank\\n                      |\\n                       \\\\-Leptosphaeria biglobosa 'thlaspii' group, no rank\""
      ]
     },
     "execution_count": 6,
     "metadata": {},
     "output_type": "execute_result"
    }
   ],
   "source": [
    "tree = ncbi.get_topology([321614, 225344, 5599, 930089, 861557])\n",
    "tree.get_ascii(attributes=[\"sci_name\", \"rank\"])"
   ]
  },
  {
   "cell_type": "code",
   "execution_count": null,
   "metadata": {},
   "outputs": [],
   "source": []
  }
 ],
 "metadata": {
  "kernelspec": {
   "display_name": "Python 3",
   "language": "python",
   "name": "python3"
  },
  "language_info": {
   "codemirror_mode": {
    "name": "ipython",
    "version": 3
   },
   "file_extension": ".py",
   "mimetype": "text/x-python",
   "name": "python",
   "nbconvert_exporter": "python",
   "pygments_lexer": "ipython3",
   "version": "3.6.1"
  }
 },
 "nbformat": 4,
 "nbformat_minor": 2
}
