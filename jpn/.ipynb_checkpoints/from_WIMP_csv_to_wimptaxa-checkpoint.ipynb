{
 "cells": [
  {
   "cell_type": "markdown",
   "metadata": {},
   "source": [
    "This is a notebook to pull down all the information for figure 3 (ncbi hits). The design is to compair between each sample (barcode) instead of each flowcell as they sequenced the same thing. Therefore I just pulled all the ncbi hits for each flowcell for each barcode and merged them together according to the barcode."
   ]
  },
  {
   "cell_type": "code",
   "execution_count": 110,
   "metadata": {
    "collapsed": true
   },
   "outputs": [],
   "source": [
    "import numpy as np\n",
    "import os\n",
    "import pandas as pd\n",
    "import matplotlib.pyplot as plt\n",
    "import matplotlib\n",
    "from itertools import product\n",
    "import argparse\n",
    "import subprocess\n",
    "import itertools\n",
    "from ete3 import NCBITaxa \n"
   ]
  },
  {
   "cell_type": "code",
   "execution_count": 111,
   "metadata": {
    "collapsed": true
   },
   "outputs": [],
   "source": [
    "ncbi = NCBITaxa()\n"
   ]
  },
  {
   "cell_type": "code",
   "execution_count": 112,
   "metadata": {
    "collapsed": true
   },
   "outputs": [],
   "source": [
    "# use argparse to do this later\n",
    "\n",
    "Q_filter_csv_dir = '/home/yiheng/test/analysis/175831_basecalling_1d_barcode-v1.csv'\n",
    "WIMP_csv_dir = '/home/yiheng/test/analysis/175831_classification_wimp_v2-v1.csv'\n",
    "BASEDIR = '/home/yiheng/test'\n",
    "\n",
    "# here we define the folder name of the dataframe it created by capturing the folder from the BASDIR\n",
    "folder_name = os.path.basename(BASEDIR)\n",
    "#column_name = folder_name.split('_')[-1]"
   ]
  },
  {
   "cell_type": "code",
   "execution_count": 113,
   "metadata": {
    "collapsed": true
   },
   "outputs": [],
   "source": [
    "# first check if the analysis folder is there\n",
    "folder_list = 'analysis  basecalled_data  scripts  tracking  workspace'.split(' ')\n",
    "for x in range(0,folder_list.count('')):\n",
    "    folder_list.remove('')\n",
    "#fix this test\n",
    "if not set(os.listdir(os.path.abspath(BASEDIR))) == set (folder_list):\n",
    "    print(\"Something wrong with basefolder. check it please.\")"
   ]
  },
  {
   "cell_type": "code",
   "execution_count": 114,
   "metadata": {},
   "outputs": [],
   "source": [
    "# get the dataframe there\n",
    "Q_filter_csv_df = pd.read_csv(Q_filter_csv_dir, sep=',')\n",
    "WIMP_csv_df = pd.read_csv(WIMP_csv_dir, sep=',')"
   ]
  },
  {
   "cell_type": "code",
   "execution_count": 115,
   "metadata": {},
   "outputs": [],
   "source": [
    "Q_filter_csv_df = Q_filter_csv_df.drop(columns=['filename', 'runid', 'start_time', 'exit_status'])"
   ]
  },
  {
   "cell_type": "code",
   "execution_count": 116,
   "metadata": {},
   "outputs": [
    {
     "data": {
      "text/html": [
       "<div>\n",
       "<style scoped>\n",
       "    .dataframe tbody tr th:only-of-type {\n",
       "        vertical-align: middle;\n",
       "    }\n",
       "\n",
       "    .dataframe tbody tr th {\n",
       "        vertical-align: top;\n",
       "    }\n",
       "\n",
       "    .dataframe thead th {\n",
       "        text-align: right;\n",
       "    }\n",
       "</style>\n",
       "<table border=\"1\" class=\"dataframe\">\n",
       "  <thead>\n",
       "    <tr style=\"text-align: right;\">\n",
       "      <th></th>\n",
       "      <th>read_id</th>\n",
       "      <th>barcode</th>\n",
       "      <th>seqlen</th>\n",
       "      <th>mean_qscore</th>\n",
       "    </tr>\n",
       "  </thead>\n",
       "  <tbody>\n",
       "    <tr>\n",
       "      <th>0</th>\n",
       "      <td>f7d822b4-e042-4b0b-b384-e7ca3d71d756</td>\n",
       "      <td>BC07</td>\n",
       "      <td>593</td>\n",
       "      <td>7.936</td>\n",
       "    </tr>\n",
       "    <tr>\n",
       "      <th>1</th>\n",
       "      <td>1911b744-9cda-4c05-a710-0b31d4cd26f1</td>\n",
       "      <td>BC07</td>\n",
       "      <td>408</td>\n",
       "      <td>7.824</td>\n",
       "    </tr>\n",
       "    <tr>\n",
       "      <th>2</th>\n",
       "      <td>e6a97a9a-8c2c-4e76-9337-e6d4486b2166</td>\n",
       "      <td>BC07</td>\n",
       "      <td>374</td>\n",
       "      <td>7.746</td>\n",
       "    </tr>\n",
       "    <tr>\n",
       "      <th>3</th>\n",
       "      <td>9799eb5c-19d9-482f-8cda-25f591a9d524</td>\n",
       "      <td>BC07</td>\n",
       "      <td>895</td>\n",
       "      <td>7.937</td>\n",
       "    </tr>\n",
       "    <tr>\n",
       "      <th>4</th>\n",
       "      <td>129ced71-ca6f-4d81-a5ca-519f60c5a883</td>\n",
       "      <td>BC07</td>\n",
       "      <td>751</td>\n",
       "      <td>7.778</td>\n",
       "    </tr>\n",
       "  </tbody>\n",
       "</table>\n",
       "</div>"
      ],
      "text/plain": [
       "                                read_id barcode  seqlen  mean_qscore\n",
       "0  f7d822b4-e042-4b0b-b384-e7ca3d71d756    BC07     593        7.936\n",
       "1  1911b744-9cda-4c05-a710-0b31d4cd26f1    BC07     408        7.824\n",
       "2  e6a97a9a-8c2c-4e76-9337-e6d4486b2166    BC07     374        7.746\n",
       "3  9799eb5c-19d9-482f-8cda-25f591a9d524    BC07     895        7.937\n",
       "4  129ced71-ca6f-4d81-a5ca-519f60c5a883    BC07     751        7.778"
      ]
     },
     "execution_count": 116,
     "metadata": {},
     "output_type": "execute_result"
    }
   ],
   "source": [
    "Q_filter_csv_df.head()"
   ]
  },
  {
   "cell_type": "code",
   "execution_count": 117,
   "metadata": {},
   "outputs": [],
   "source": [
    "WIMP_csv_df = WIMP_csv_df.drop(columns=['filename', 'runid', 'exit_status'])"
   ]
  },
  {
   "cell_type": "code",
   "execution_count": 118,
   "metadata": {},
   "outputs": [],
   "source": [
    "WIMP_csv_df = WIMP_csv_df[(WIMP_csv_df.name != 'Homo sapiens') & (WIMP_csv_df.taxID > 0) & (WIMP_csv_df.barcode == 'BC07')]"
   ]
  },
  {
   "cell_type": "code",
   "execution_count": 143,
   "metadata": {},
   "outputs": [],
   "source": [
    "final_df = pd.merge(Q_filter_csv_df, WIMP_csv_df,how='outer',left_on= 'read_id', right_on='readid')"
   ]
  },
  {
   "cell_type": "code",
   "execution_count": 144,
   "metadata": {},
   "outputs": [],
   "source": [
    "final_df.taxID.fillna(value = False, inplace=True)\n",
    "final_df = final_df[final_df.taxID != False]\n",
    "final_df = final_df.drop(columns=['barcode_y', 'readid', 'score', 'lineage'])\n",
    "final_df = final_df.reset_index(drop=True)"
   ]
  },
  {
   "cell_type": "code",
   "execution_count": 145,
   "metadata": {
    "collapsed": true
   },
   "outputs": [],
   "source": [
    "# as the concate before will result the staxid into a string\n",
    "# so now change the string back to float so it can be recognized by the NCBITaxa\n",
    "for taxid in final_df['taxID']:\n",
    "    if ';' in str(taxid):\n",
    "        taxid = taxid.split(';')[0]\n",
    "\n",
    "    else:\n",
    "        pass\n",
    "    float(taxid)"
   ]
  },
  {
   "cell_type": "code",
   "execution_count": 146,
   "metadata": {
    "collapsed": true
   },
   "outputs": [],
   "source": [
    "#Function to generate taxonomy columns based on NCBITaxa results for NCBI hit dataframe, \n",
    "def search_rank_output_name_append_column(df, staxid_column, rank_search):\n",
    "    \"\"\"Input df, staxid_column from same df and rank_search (a desired taxonomic rank \n",
    "    from each staxid's lineage), outputs taxonomic name corresponding to rank_search or 'Unclassified' if\n",
    "    unavailable and appends to df row by row\"\"\"\n",
    "    rank_list = []\n",
    "    for read_index in range(0, len(staxid_column)):\n",
    "        taxid = ''\n",
    "        #if ';' in staxid_column[read_index]:\n",
    "        #    taxid = staxid_column[read_index].split(';')[0]\n",
    "################# BE CAREFUL HERE !!! #######################################\n",
    "#            df.loc[staxid_column =='71426;73839', 'staxids_nt'] = 73839\n",
    "        #else:\n",
    "        taxid = staxid_column[read_index]\n",
    "        \n",
    "        \n",
    "        taxid_lineage = ''\n",
    "        taxid_lineage = ncbi.get_lineage(taxid)\n",
    "        \n",
    "        names = ''\n",
    "        names = ncbi.get_taxid_translator(taxid_lineage)\n",
    "        \n",
    "        ranks = ''\n",
    "        ranks = ncbi.get_rank(taxid_lineage) #Dict\n",
    "        \n",
    "        ranks2names = ''\n",
    "        ranks2names = {ranks[k]:names[k] for k in names.keys() & ranks}\n",
    "        \n",
    "        if rank_search in ranks2names.keys():\n",
    "            rank_list.append(ranks2names[rank_search])#if rank in dict, print name\n",
    "        else:\n",
    "            rank_list.append('Unclassified')\n",
    "    df[rank_search] = rank_list\n",
    "# NOTE: Appending is always slow, try and find a better way e.g df.apply to a column based on staxids column\n"
   ]
  },
  {
   "cell_type": "code",
   "execution_count": 147,
   "metadata": {
    "collapsed": true
   },
   "outputs": [],
   "source": [
    "#ntblasthit_reads_filtered_barcodes_added_TaxaRank = ntblasthit_reads_filtered_barcodes.copy()\n",
    "# pretty slow\n",
    "rank_list = ['superkingdom', 'phylum', 'class', 'order', 'family', 'genus', 'species']\n",
    "for rank in rank_list:\n",
    "    search_rank_output_name_append_column(final_df, \n",
    "                                          final_df.taxID, \n",
    "                                          rank)"
   ]
  },
  {
   "cell_type": "code",
   "execution_count": 150,
   "metadata": {},
   "outputs": [
    {
     "data": {
      "text/html": [
       "<div>\n",
       "<style scoped>\n",
       "    .dataframe tbody tr th:only-of-type {\n",
       "        vertical-align: middle;\n",
       "    }\n",
       "\n",
       "    .dataframe tbody tr th {\n",
       "        vertical-align: top;\n",
       "    }\n",
       "\n",
       "    .dataframe thead th {\n",
       "        text-align: right;\n",
       "    }\n",
       "</style>\n",
       "<table border=\"1\" class=\"dataframe\">\n",
       "  <thead>\n",
       "    <tr style=\"text-align: right;\">\n",
       "      <th></th>\n",
       "      <th>read_id</th>\n",
       "      <th>barcode_x</th>\n",
       "      <th>seqlen</th>\n",
       "      <th>mean_qscore</th>\n",
       "      <th>taxID</th>\n",
       "      <th>name</th>\n",
       "      <th>superkingdom</th>\n",
       "      <th>phylum</th>\n",
       "      <th>class</th>\n",
       "      <th>order</th>\n",
       "      <th>family</th>\n",
       "      <th>genus</th>\n",
       "      <th>species</th>\n",
       "    </tr>\n",
       "  </thead>\n",
       "  <tbody>\n",
       "    <tr>\n",
       "      <th>0</th>\n",
       "      <td>5b140116-5aa5-494b-b08a-d395afd8c4f0</td>\n",
       "      <td>BC07</td>\n",
       "      <td>484</td>\n",
       "      <td>9.808</td>\n",
       "      <td>214684</td>\n",
       "      <td>Cryptococcus neoformans var. neoformans JEC21</td>\n",
       "      <td>Eukaryota</td>\n",
       "      <td>Basidiomycota</td>\n",
       "      <td>Tremellomycetes</td>\n",
       "      <td>Tremellales</td>\n",
       "      <td>Cryptococcaceae</td>\n",
       "      <td>Cryptococcus</td>\n",
       "      <td>Cryptococcus neoformans</td>\n",
       "    </tr>\n",
       "    <tr>\n",
       "      <th>1</th>\n",
       "      <td>6efbea61-2b43-4d4d-bfc4-7ea74f21c919</td>\n",
       "      <td>BC07</td>\n",
       "      <td>938</td>\n",
       "      <td>8.303</td>\n",
       "      <td>425265</td>\n",
       "      <td>Malassezia globosa CBS 7966</td>\n",
       "      <td>Eukaryota</td>\n",
       "      <td>Basidiomycota</td>\n",
       "      <td>Malasseziomycetes</td>\n",
       "      <td>Malasseziales</td>\n",
       "      <td>Malasseziaceae</td>\n",
       "      <td>Malassezia</td>\n",
       "      <td>Malassezia globosa</td>\n",
       "    </tr>\n",
       "    <tr>\n",
       "      <th>2</th>\n",
       "      <td>eb5ed677-64c2-4e7e-8f0c-ce6075e58838</td>\n",
       "      <td>BC07</td>\n",
       "      <td>566</td>\n",
       "      <td>8.057</td>\n",
       "      <td>33154</td>\n",
       "      <td>Opisthokonta</td>\n",
       "      <td>Eukaryota</td>\n",
       "      <td>Unclassified</td>\n",
       "      <td>Unclassified</td>\n",
       "      <td>Unclassified</td>\n",
       "      <td>Unclassified</td>\n",
       "      <td>Unclassified</td>\n",
       "      <td>Unclassified</td>\n",
       "    </tr>\n",
       "    <tr>\n",
       "      <th>3</th>\n",
       "      <td>0abf969f-82b6-4c29-a74f-9a25aa69785c</td>\n",
       "      <td>BC07</td>\n",
       "      <td>836</td>\n",
       "      <td>8.466</td>\n",
       "      <td>1313</td>\n",
       "      <td>Streptococcus pneumoniae</td>\n",
       "      <td>Bacteria</td>\n",
       "      <td>Firmicutes</td>\n",
       "      <td>Bacilli</td>\n",
       "      <td>Lactobacillales</td>\n",
       "      <td>Streptococcaceae</td>\n",
       "      <td>Streptococcus</td>\n",
       "      <td>Streptococcus pneumoniae</td>\n",
       "    </tr>\n",
       "    <tr>\n",
       "      <th>4</th>\n",
       "      <td>ee9f3e61-be07-4837-a0a0-fc49b367d6d3</td>\n",
       "      <td>BC07</td>\n",
       "      <td>508</td>\n",
       "      <td>10.149</td>\n",
       "      <td>1313</td>\n",
       "      <td>Streptococcus pneumoniae</td>\n",
       "      <td>Bacteria</td>\n",
       "      <td>Firmicutes</td>\n",
       "      <td>Bacilli</td>\n",
       "      <td>Lactobacillales</td>\n",
       "      <td>Streptococcaceae</td>\n",
       "      <td>Streptococcus</td>\n",
       "      <td>Streptococcus pneumoniae</td>\n",
       "    </tr>\n",
       "  </tbody>\n",
       "</table>\n",
       "</div>"
      ],
      "text/plain": [
       "                                read_id barcode_x  seqlen  mean_qscore  \\\n",
       "0  5b140116-5aa5-494b-b08a-d395afd8c4f0      BC07     484        9.808   \n",
       "1  6efbea61-2b43-4d4d-bfc4-7ea74f21c919      BC07     938        8.303   \n",
       "2  eb5ed677-64c2-4e7e-8f0c-ce6075e58838      BC07     566        8.057   \n",
       "3  0abf969f-82b6-4c29-a74f-9a25aa69785c      BC07     836        8.466   \n",
       "4  ee9f3e61-be07-4837-a0a0-fc49b367d6d3      BC07     508       10.149   \n",
       "\n",
       "    taxID                                           name superkingdom  \\\n",
       "0  214684  Cryptococcus neoformans var. neoformans JEC21    Eukaryota   \n",
       "1  425265                    Malassezia globosa CBS 7966    Eukaryota   \n",
       "2   33154                                   Opisthokonta    Eukaryota   \n",
       "3    1313                       Streptococcus pneumoniae     Bacteria   \n",
       "4    1313                       Streptococcus pneumoniae     Bacteria   \n",
       "\n",
       "          phylum              class            order            family  \\\n",
       "0  Basidiomycota    Tremellomycetes      Tremellales   Cryptococcaceae   \n",
       "1  Basidiomycota  Malasseziomycetes    Malasseziales    Malasseziaceae   \n",
       "2   Unclassified       Unclassified     Unclassified      Unclassified   \n",
       "3     Firmicutes            Bacilli  Lactobacillales  Streptococcaceae   \n",
       "4     Firmicutes            Bacilli  Lactobacillales  Streptococcaceae   \n",
       "\n",
       "           genus                   species  \n",
       "0   Cryptococcus   Cryptococcus neoformans  \n",
       "1     Malassezia        Malassezia globosa  \n",
       "2   Unclassified              Unclassified  \n",
       "3  Streptococcus  Streptococcus pneumoniae  \n",
       "4  Streptococcus  Streptococcus pneumoniae  "
      ]
     },
     "execution_count": 150,
     "metadata": {},
     "output_type": "execute_result"
    }
   ],
   "source": [
    "final_df.head()"
   ]
  },
  {
   "cell_type": "code",
   "execution_count": 153,
   "metadata": {},
   "outputs": [],
   "source": [
    "final_df.to_csv(r'/home/yiheng/test/analysis/%s_barcode07_nomammal_WIMPtaxa.tab' % folder_name, header='clinical_2', index=None, sep='\\t')"
   ]
  },
  {
   "cell_type": "code",
   "execution_count": null,
   "metadata": {},
   "outputs": [],
   "source": []
  },
  {
   "cell_type": "code",
   "execution_count": null,
   "metadata": {},
   "outputs": [],
   "source": []
  },
  {
   "cell_type": "code",
   "execution_count": null,
   "metadata": {},
   "outputs": [],
   "source": []
  },
  {
   "cell_type": "code",
   "execution_count": null,
   "metadata": {},
   "outputs": [],
   "source": []
  },
  {
   "cell_type": "code",
   "execution_count": null,
   "metadata": {},
   "outputs": [],
   "source": []
  },
  {
   "cell_type": "code",
   "execution_count": null,
   "metadata": {},
   "outputs": [],
   "source": []
  },
  {
   "cell_type": "code",
   "execution_count": null,
   "metadata": {},
   "outputs": [],
   "source": []
  }
 ],
 "metadata": {
  "kernelspec": {
   "display_name": "Python 3",
   "language": "python",
   "name": "python3"
  },
  "language_info": {
   "codemirror_mode": {
    "name": "ipython",
    "version": 3
   },
   "file_extension": ".py",
   "mimetype": "text/x-python",
   "name": "python",
   "nbconvert_exporter": "python",
   "pygments_lexer": "ipython3",
   "version": "3.6.1"
  }
 },
 "nbformat": 4,
 "nbformat_minor": 2
}
