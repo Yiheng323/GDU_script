{
 "cells": [
  {
   "cell_type": "markdown",
   "metadata": {},
   "source": [
    "This is a notebok that drafts a small script to pull in all the data for the WGS pathogen detection and microbiome data. It needs to pull in the following:\n",
    "    * sequence summary file from albacore\n",
    "    * two blast output files (specific database and NCBI)\n",
    "    * get the length of all porchoped reads\n",
    "    * get processing (T/F) for porchoped and nanolyze\n",
    "    * get this all into one data frame\n",
    "    \n",
    "    \n",
    "    "
   ]
  },
  {
   "cell_type": "code",
   "execution_count": 22,
   "metadata": {
    "collapsed": true
   },
   "outputs": [],
   "source": [
    "import os\n",
    "import pandas as pd\n",
    "import subprocess as sub\n",
    "from Bio import SeqIO\n",
    "import argparse\n",
    "import tarfile"
   ]
  },
  {
   "cell_type": "code",
   "execution_count": 23,
   "metadata": {
    "collapsed": true
   },
   "outputs": [],
   "source": [
    "parser = argparse.ArgumentParser(description='''\n",
    "This is a notebok that drafts a small script to pull in all the data for the WGS pathogen detection and microbiome data. It needs to pull in the following:\n",
    "\n",
    "    * sequence summary file from albacore\n",
    "    * two blast output files (specific database and NCBI)\n",
    "    * get the length of all porchoped reads\n",
    "    * get processing (T/F) for porchoped and nanolyze\n",
    "    * get this all into one data frame\n",
    "''')\n",
    "\n",
    "parser.add_argument(\"BASEDIR\", help=\"base folder, supposed to have all the sub folders processed by WGS script. The same as Indir in YH_script2. DO NOT add the back slash'/' at the end!\")\n",
    "args = parser.parse_args()"
   ]
  },
  {
   "cell_type": "code",
   "execution_count": 25,
   "metadata": {
    "collapsed": true
   },
   "outputs": [],
   "source": [
    "#lets define the base folder\n",
    "#BASEDIR = '/home/yiheng/data/Wagga_run1'\n",
    "BASEDIR = args.BASEDIR\n",
    "#this will become the only flag of argparse"
   ]
  },
  {
   "cell_type": "code",
   "execution_count": 26,
   "metadata": {
    "collapsed": true
   },
   "outputs": [],
   "source": [
    "#write a quick check that looks for all the right folders\n",
    "folder_list = 'basecalled_data  scripts  tracking  workspace'.split(' ')\n",
    "for x in range(0,folder_list.count('')):\n",
    "    folder_list.remove('')\n",
    "#fix this test\n",
    "if not set(os.listdir(os.path.abspath(BASEDIR))) >= set (folder_list):\n",
    "    print(\"Something wrong with basefolder. check it please.\")"
   ]
  },
  {
   "cell_type": "code",
   "execution_count": 27,
   "metadata": {
    "collapsed": true
   },
   "outputs": [],
   "source": [
    "# define the columns that you want to pick up from sequencing summary file.\n",
    "# Here is the columns I chose for plotting out data, enough information for me so I did not pick others.\n",
    "seq_df_headers = ['read_id','passes_filtering', 'sequence_length_template', 'mean_qscore_template',\\\n",
    "                  'barcode_arrangement', 'barcode_score', 'kit', 'variant']"
   ]
  },
  {
   "cell_type": "code",
   "execution_count": 28,
   "metadata": {},
   "outputs": [
    {
     "name": "stdout",
     "output_type": "stream",
     "text": [
      "now getting the headers from /home/yiheng/data/Wagga_run1/basecalled_data/Wagga_run1_albacore202/sequencing_summary.txt\n"
     ]
    }
   ],
   "source": [
    "#now get the headers sequencing_summary file\n",
    "base_called_folder = os.path.join(BASEDIR, 'basecalled_data')\n",
    "\n",
    "# here added a function to check the tar.gz file and its corresponding unzipped folder in the basecalled_data folder.  \n",
    "# If it is not unzipped, unzip it.\n",
    "for thing in os.listdir(base_called_folder):\n",
    "    judge_list = [os.path.isdir(os.path.join(base_called_folder, thing))]\n",
    "\n",
    "if any(x == True for x in judge_list):\n",
    "    seq_sum_file = os.path.join(base_called_folder, thing, 'sequencing_summary.txt')\n",
    "    if not os.path.exists(seq_sum_file):\n",
    "        print('No sequencing summary file from basecalled folder. Please go check')\n",
    "        \n",
    "    print(\"now getting the headers from %s\" % seq_sum_file)\n",
    "    seq_df = pd.read_csv(seq_sum_file, sep='\\t')\n",
    "    #capture the thing as the prefix of the fastq/fasta files in the barcode folders\n",
    "    prefix = thing\n",
    "    #might be a better way to only read in the wanted columns. Not subsetting afterwards.\n",
    "    #please go check\n",
    "    seq_df = seq_df.loc[:, seq_df_headers].copy()\n",
    "    \n",
    "elif all(x == False for x in judge_list):\n",
    "        \n",
    "    zipped_basecalled_file = os.path.join(base_called_folder, thing)\n",
    "    if zipped_basecalled_file.endswith('tar.gz'):\n",
    "        print(\"now unzipping file %s.\" % zipped_basecalled_file)\n",
    "        tar = tarfile.open(zipped_basecalled_file)\n",
    "        tar.extractall(base_called_folder.split(\".\")[0])\n",
    "        tar.close()\n",
    "    else:\n",
    "        print(\"there is something strange in the basecalled folder, please check.\")\n",
    "else:\n",
    "        print(\"there is something strange in the basecalled folder, please check.\")"
   ]
  },
  {
   "cell_type": "code",
   "execution_count": 29,
   "metadata": {
    "collapsed": true
   },
   "outputs": [],
   "source": [
    "#now get all the rgblast_output databases done \n",
    "rg_blast_df_file_list = []\n",
    "nt_blast_df_file_list = []\n",
    "workspace = os.path.join(BASEDIR, 'workspace')\n",
    "folder_counter = 0\n",
    "for folder in os.listdir(workspace):\n",
    "    folder = os.path.join(workspace,folder)\n",
    "    if not os.path.isdir(folder):\n",
    "        next\n",
    "    folder_counter += 1\n",
    "    for file in os.listdir(folder):\n",
    "        if not file.endswith('.rgblast_output') or not file.endswith('.ntblast_output'):\n",
    "            next\n",
    "        if file.endswith('.rgblast_output'):\n",
    "            rg_blast_df_file_list.append(os.path.join(folder, file))\n",
    "        if file.endswith('.ntblast_output'):\n",
    "            nt_blast_df_file_list.append(os.path.join(folder, file))\n",
    "    if not len(nt_blast_df_file_list) == len(rg_blast_df_file_list) == folder_counter:\n",
    "        print('Not all barcode folders have all blast output files')\n",
    "    else:\n",
    "        next\n",
    "    #print(folder)"
   ]
  },
  {
   "cell_type": "code",
   "execution_count": 30,
   "metadata": {},
   "outputs": [
    {
     "name": "stdout",
     "output_type": "stream",
     "text": [
      "now processing nanolyzed file /home/yiheng/data/Wagga_run1/workspace/barcode01/Wagga_run1_albacore202.barcode01.fastq\n",
      "now processing nanolyzed file /home/yiheng/data/Wagga_run1/workspace/barcode05/Wagga_run1_albacore202.barcode05.fastq\n",
      "now processing nanolyzed file /home/yiheng/data/Wagga_run1/workspace/barcode02/Wagga_run1_albacore202.barcode02.fastq\n",
      "now processing nanolyzed file /home/yiheng/data/Wagga_run1/workspace/barcode03/Wagga_run1_albacore202.barcode03.fastq\n",
      "now processing nanolyzed file /home/yiheng/data/Wagga_run1/workspace/barcode06/Wagga_run1_albacore202.barcode06.fastq\n",
      "now processing nanolyzed file /home/yiheng/data/Wagga_run1/workspace/barcode04/Wagga_run1_albacore202.barcode04.fastq\n",
      "now processing nanolyzed file /home/yiheng/data/Wagga_run1/workspace/barcode00/Wagga_run1_albacore202.barcode00.fastq\n"
     ]
    }
   ],
   "source": [
    "#now get all the names of the reads that survived the lyzing\n",
    "workspace = os.path.join(BASEDIR, 'workspace')\n",
    "folder_counter = 0\n",
    "nanolyze_readid_list = []\n",
    "for folder in os.listdir(workspace):\n",
    "    folder_long = os.path.join(workspace,folder)\n",
    "    if not os.path.isdir(folder_long):\n",
    "        next\n",
    "    folder_counter += 1\n",
    "    for file in os.listdir(folder_long):\n",
    "        lyzed_fastq = (os.path.join(folder_long, '%s.%s.fastq' % (prefix, folder )))\n",
    "        if not os.path.exists(lyzed_fastq):\n",
    "            print(\"No lyzed fastq file present.\")\n",
    "        elif file == '%s.%s.fastq' % (prefix, folder ):\n",
    "            print(\"now processing nanolyzed file %s\" % lyzed_fastq)\n",
    "            lyzed_fastq_name = '%s.name.tmp' % lyzed_fastq\n",
    "            #cmd = \"grep '^@' %s | cut -c1-37 > %s\"%\\\n",
    "            # (lyzed_fastq, lyzed_fastq_name)\n",
    "            #cmd = \"grep '^@' %s | cut -d:-f1 > %s\"%\\\n",
    "             #(lyzed_fastq, lyzed_fastq_name)\n",
    "            cmd = r\"grep '^@' %s | sed -e 's/@\\([a-zA-Z0-9-]\\+\\).*/\\1/' > %s\"%\\\n",
    "            (lyzed_fastq, lyzed_fastq_name)\n",
    "            #print(cmd)\n",
    "            sub.check_output(cmd, shell=True, stderr=sub.STDOUT)\n",
    "            #sub.run(cmd.split(' '))\n",
    "            nanolyze_readid_list.append(lyzed_fastq_name)\n",
    "        else:\n",
    "            next"
   ]
  },
  {
   "cell_type": "code",
   "execution_count": 31,
   "metadata": {
    "collapsed": true
   },
   "outputs": [],
   "source": [
    "#now read in the tmp file of nanolyzed ids and add them to the dataframe as column\n",
    "def get_read_ids(filename_list):\n",
    "    #write a check that both _list and header is a list\n",
    "    read_id_list = []\n",
    "    for filename in filename_list:\n",
    "        tmp_list = pd.read_csv(filename, sep='\\t', header=None).loc[:,0].tolist()\n",
    "        read_id_list= read_id_list + tmp_list\n",
    "    return read_id_list"
   ]
  },
  {
   "cell_type": "code",
   "execution_count": 32,
   "metadata": {
    "collapsed": true
   },
   "outputs": [],
   "source": [
    "nl_survied_list = get_read_ids(nanolyze_readid_list)"
   ]
  },
  {
   "cell_type": "code",
   "execution_count": 33,
   "metadata": {
    "scrolled": true
   },
   "outputs": [
    {
     "name": "stdout",
     "output_type": "stream",
     "text": [
      "now processing porechopped file /home/yiheng/data/Wagga_run1/workspace/barcode01/Wagga_run1_albacore202.chopped.barcode01.fastq.\n",
      "now processing porechopped file /home/yiheng/data/Wagga_run1/workspace/barcode05/Wagga_run1_albacore202.chopped.barcode05.fastq.\n",
      "now processing porechopped file /home/yiheng/data/Wagga_run1/workspace/barcode02/Wagga_run1_albacore202.chopped.barcode02.fastq.\n",
      "now processing porechopped file /home/yiheng/data/Wagga_run1/workspace/barcode03/Wagga_run1_albacore202.chopped.barcode03.fastq.\n",
      "now processing porechopped file /home/yiheng/data/Wagga_run1/workspace/barcode06/Wagga_run1_albacore202.chopped.barcode06.fastq.\n",
      "now processing porechopped file /home/yiheng/data/Wagga_run1/workspace/barcode04/Wagga_run1_albacore202.chopped.barcode04.fastq.\n",
      "now processing porechopped file /home/yiheng/data/Wagga_run1/workspace/barcode00/Wagga_run1_albacore202.chopped.barcode00.fastq.\n"
     ]
    }
   ],
   "source": [
    "#do same for porechop + length\n",
    "#this is pretty slow. May consider parallzing.\n",
    "pc_length_dict = {}\n",
    "porechop_survived_list = []\n",
    "folder_counter = 0\n",
    "for folder in os.listdir(workspace):\n",
    "    folder_long = os.path.join(workspace,folder)\n",
    "    if not os.path.isdir(folder_long):\n",
    "        next\n",
    "    folder_counter += 1\n",
    "    porechoped_file = os.path.join(folder_long,'%s.chopped.%s.fastq'%(prefix, folder))\n",
    "    print(\"now processing porechopped file %s.\" % porechoped_file)\n",
    "    if not os.path.exists(porechoped_file):\n",
    "            print(\"Porechopped fastq missing for %s.\" % folder)\n",
    "    else:\n",
    "        for seq in SeqIO.parse(porechoped_file, 'fastq'):\n",
    "            pc_length_dict[seq.id] = len(seq.seq)\n",
    "            porechop_survived_list.append(seq.id)\n",
    "    \n",
    "#take for loop from above to loop over chopped files\n",
    "#filename = '/home/yiheng/data/Wagga_run1/workspace/barcode01/Wagga_run1_albacore202.chopped.barcode01.fastq'\n",
    "#for seq in SeqIO.parse(filename, 'fastq'):\n",
    "#    pc_length_dict[seq.id] = len(seq.seq)"
   ]
  },
  {
   "cell_type": "code",
   "execution_count": 34,
   "metadata": {
    "collapsed": true
   },
   "outputs": [],
   "source": [
    "# some of the porechopped reads will be splited into two reads they will have an _ in their read id\n",
    "porechop_survived_single_list = [x.split('_')[0] for x in porechop_survived_list]"
   ]
  },
  {
   "cell_type": "code",
   "execution_count": 35,
   "metadata": {
    "collapsed": true
   },
   "outputs": [],
   "source": [
    "# add porechop survived column\n",
    "seq_df['pc_survived'] = seq_df['read_id'].isin(porechop_survived_single_list)"
   ]
  },
  {
   "cell_type": "code",
   "execution_count": 36,
   "metadata": {},
   "outputs": [
    {
     "data": {
      "text/plain": [
       "<bound method DataFrame.to_csv of                                      read_id  passes_filtering  \\\n",
       "0       596c6bb5-0386-4a68-8c82-65f9678d9a7e              True   \n",
       "1       98054683-bd72-4c88-bee1-24a1a34c547e              True   \n",
       "2       999fd16f-fea1-4e95-b1df-98b95a19f9bc             False   \n",
       "3       a9b8e298-55fd-412a-9a38-2fcdfe53b3d7              True   \n",
       "4       db401cca-ae14-41ca-b5b3-7730aa521a31              True   \n",
       "5       f89602cc-8b37-4e09-8a70-231ec6489cb7              True   \n",
       "6       fb086996-0f82-4078-8bb5-69c221e7caf4             False   \n",
       "7       3c47496c-7e39-422b-9604-ee0384aea011              True   \n",
       "8       43d19353-a579-4fb9-8fea-ea5945102c69              True   \n",
       "9       54565f7c-5a54-44bb-8602-51e945b134f1             False   \n",
       "10      67677898-7b0e-4b69-864b-ad5cac2410b9              True   \n",
       "11      774e48de-5c99-4f7b-ade5-244a9162bcb2              True   \n",
       "12      7c87f99d-cfac-4fad-9c67-c619574c142b              True   \n",
       "13      87bda7b9-1b44-442f-84e0-18ec9caa72b5              True   \n",
       "14      8f4e338e-734e-468b-a2da-f4632237c726             False   \n",
       "15      9699d58f-fb21-4a87-8e28-18d4e295d7d9              True   \n",
       "16      96e514b5-447a-4ba9-aeb1-1552c111792d              True   \n",
       "17      9c0d77ca-7547-4b39-b36d-fda89869c4d9              True   \n",
       "18      a3be3de2-9f10-4d8f-a265-6dc0101ed52c              True   \n",
       "19      a5256722-d59b-46a2-9010-59d8098791d1              True   \n",
       "20      b4f6d2de-d515-4656-a2e6-6c9ee1b376cd             False   \n",
       "21      ba325770-bf0a-489a-b067-8b8d4e44dff7             False   \n",
       "22      faba9518-d893-46db-bc9c-1b386e91d475              True   \n",
       "23      0f527905-0b20-49fb-a48d-60d34e9c8680              True   \n",
       "24      2abe07c6-db9e-4f4f-9179-715661a3964d              True   \n",
       "25      582408f0-cb87-4d74-8fb8-c4cb63383d83              True   \n",
       "26      71e19f47-2858-4f7f-ad73-f71f495cd8ed              True   \n",
       "27      85e80f71-5278-4c5e-9f6f-e9026ac24e54              True   \n",
       "28      967f9013-d883-4dd5-93af-8eb6457643f0              True   \n",
       "29      970ce372-bfb6-4a6f-8694-412e1ef556ae              True   \n",
       "...                                      ...               ...   \n",
       "993539  184550b2-db2e-4c13-9114-4665d39d0f99              True   \n",
       "993540  3127b17c-2434-4c46-80da-286944d985db             False   \n",
       "993541  342b982b-df62-4601-ae5c-80437ba92e99             False   \n",
       "993542  4ac559e3-f611-48b9-a224-e821db7f7463              True   \n",
       "993543  563d3543-44a4-4b7c-bc5d-0878e6c1d62f              True   \n",
       "993544  5a3179d7-f4ff-4d31-aa13-5db041faa1e8              True   \n",
       "993545  79f9ba8a-f05f-46aa-92a4-6f80dd5e9362              True   \n",
       "993546  8869951e-0481-4363-9dcc-2f6f054f820d              True   \n",
       "993547  91dd8bf0-3e7e-41cc-ac47-0878534b49a0              True   \n",
       "993548  a54ce11e-4cff-4fb0-951f-a21740ea35d7              True   \n",
       "993549  ab7abe0d-6ae7-4033-8ecb-680523971323              True   \n",
       "993550  bb34ace1-90da-48fa-856d-2cd21897f931              True   \n",
       "993551  ca84698b-ffa0-4957-96d3-69a4fe4f3c7e              True   \n",
       "993552  dbaf6f4f-7df7-43e3-bcfa-4e2258bda6cb              True   \n",
       "993553  098f3436-a79d-4126-b9c3-c60de79177bd              True   \n",
       "993554  2bcfce5c-ed35-463e-84fd-8c058e60cd88              True   \n",
       "993555  38e1ae4d-1bad-4dc1-b9fc-a48b313d9d5c              True   \n",
       "993556  4fa36aed-bf2b-4b12-932e-0a49e728e446              True   \n",
       "993557  789e232c-787a-4fc3-9c11-9255e60b22b9              True   \n",
       "993558  79c028a8-05e5-4ad2-9636-969a42c749df              True   \n",
       "993559  8b8cf506-e703-47a2-a5b5-fb8cbb140a77              True   \n",
       "993560  90a71cdf-1f9c-4f9b-b129-66dcd6f07ce1              True   \n",
       "993561  b001c047-d7ca-4996-b152-cfed7947865d              True   \n",
       "993562  bbca5ee6-59bc-4f76-bd91-7292a745c80a              True   \n",
       "993563  c53d93fb-4eaa-4e1c-8ca9-c0488c0d2c64             False   \n",
       "993564  d2c5d353-defb-4e52-829b-b7f423b5c971             False   \n",
       "993565  d3164c84-ca92-4794-9496-34ea0282600e             False   \n",
       "993566  ff56b235-9836-4b95-b3f3-a0d611b41f44              True   \n",
       "993567  49ea40ad-9a3c-49d9-8c45-cc55cbab2e70             False   \n",
       "993568  e93fb506-597d-449e-b208-cc9333126dcf             False   \n",
       "\n",
       "        sequence_length_template  mean_qscore_template barcode_arrangement  \\\n",
       "0                            735                11.552           barcode03   \n",
       "1                           3739                13.289           barcode02   \n",
       "2                            800                 5.958        unclassified   \n",
       "3                           1202                12.653           barcode04   \n",
       "4                           1812                11.826           barcode04   \n",
       "5                           1349                 8.159        unclassified   \n",
       "6                             78                 4.869        unclassified   \n",
       "7                            876                11.170           barcode06   \n",
       "8                            239                 8.549        unclassified   \n",
       "9                           3352                 5.214        unclassified   \n",
       "10                          3748                14.129           barcode06   \n",
       "11                          2747                12.899           barcode02   \n",
       "12                          1886                 7.508        unclassified   \n",
       "13                          2176                12.423           barcode02   \n",
       "14                           234                 5.094        unclassified   \n",
       "15                          3766                12.374           barcode06   \n",
       "16                           878                12.570           barcode04   \n",
       "17                          6432                11.591           barcode04   \n",
       "18                           744                13.533           barcode03   \n",
       "19                          3545                13.242           barcode05   \n",
       "20                           542                 4.444        unclassified   \n",
       "21                           778                 6.216        unclassified   \n",
       "22                           810                13.184           barcode03   \n",
       "23                          1094                12.284           barcode02   \n",
       "24                          2564                11.726           barcode04   \n",
       "25                           895                13.185           barcode05   \n",
       "26                           629                13.767           barcode04   \n",
       "27                          1789                13.888           barcode03   \n",
       "28                           517                13.377           barcode06   \n",
       "29                          1166                 8.332           barcode06   \n",
       "...                          ...                   ...                 ...   \n",
       "993539                       672                11.796           barcode03   \n",
       "993540                        37                 6.117        unclassified   \n",
       "993541                      1495                 6.295        unclassified   \n",
       "993542                       852                 8.858           barcode04   \n",
       "993543                      1268                10.457           barcode06   \n",
       "993544                      3705                13.980           barcode02   \n",
       "993545                      1108                 8.474        unclassified   \n",
       "993546                      2609                11.016           barcode05   \n",
       "993547                       626                13.445           barcode04   \n",
       "993548                      1543                10.569           barcode04   \n",
       "993549                      2788                10.471           barcode02   \n",
       "993550                      1980                12.311           barcode02   \n",
       "993551                      1926                12.450           barcode06   \n",
       "993552                       860                11.851           barcode02   \n",
       "993553                      1176                 8.067        unclassified   \n",
       "993554                       980                13.851           barcode05   \n",
       "993555                      4137                12.661           barcode02   \n",
       "993556                      2668                 7.858           barcode04   \n",
       "993557                      1153                13.697           barcode05   \n",
       "993558                      1855                14.961           barcode05   \n",
       "993559                       949                10.570           barcode02   \n",
       "993560                      3973                15.089           barcode02   \n",
       "993561                       277                 7.911           barcode06   \n",
       "993562                       529                13.738           barcode05   \n",
       "993563                      1757                 6.396        unclassified   \n",
       "993564                         0                 0.000        unclassified   \n",
       "993565                        73                 4.734        unclassified   \n",
       "993566                      2316                13.705           barcode02   \n",
       "993567                      2061                 5.794        unclassified   \n",
       "993568                       742                 5.307        unclassified   \n",
       "\n",
       "        barcode_score  kit variant  pc_survived  \n",
       "0           75.932205   BC    var1         True  \n",
       "1           99.166664   BC    var2        False  \n",
       "2           36.051281   NB    var1         True  \n",
       "3           84.366669   BC    var2         True  \n",
       "4           91.830505   BC    var1         True  \n",
       "5           44.033897   BC    var1        False  \n",
       "6           34.431374  RAB    var2         True  \n",
       "7           67.694916   BC    var1         True  \n",
       "8           48.101696   BC    var1        False  \n",
       "9           32.941177  RAB    var2         True  \n",
       "10          89.233330   BC    var2        False  \n",
       "11          92.847458   BC    var2         True  \n",
       "12          47.728813   BC    var2        False  \n",
       "13          71.016953   BC    var1         True  \n",
       "14          35.433334   BC    var2         True  \n",
       "15          80.813560   BC    var1         True  \n",
       "16          78.847458   BC    var1         True  \n",
       "17          64.199997   BC    var2         True  \n",
       "18          79.118645   BC    var1         True  \n",
       "19          89.300003   BC    var2         True  \n",
       "20          39.400002   BC    var2         True  \n",
       "21          36.588234  RAB    var1         True  \n",
       "22          78.099998   BC    var2         True  \n",
       "23          72.599998   BC    var2         True  \n",
       "24          89.733330   BC    var2         True  \n",
       "25          80.406776   BC    var1         True  \n",
       "26          94.500000   BC    var2        False  \n",
       "27          81.533333   BC    var2         True  \n",
       "28          93.366669   BC    var1         True  \n",
       "29          65.733330   BC    var2         True  \n",
       "...               ...  ...     ...          ...  \n",
       "993539      91.491524   BC    var1        False  \n",
       "993540      28.600000   BC    var2        False  \n",
       "993541      35.589745   NB    var2         True  \n",
       "993542      64.542374   BC    var1         True  \n",
       "993543      66.166664   BC    var2         True  \n",
       "993544      70.000000   BC    var1         True  \n",
       "993545      59.288136   BC    var2        False  \n",
       "993546      67.322037   BC    var1         True  \n",
       "993547      62.542374   BC    var1         True  \n",
       "993548      69.152542   BC    var2         True  \n",
       "993549      63.559322   BC    var1        False  \n",
       "993550      87.254234   BC    var1         True  \n",
       "993551      83.220337   BC    var1         True  \n",
       "993552      76.533333   BC    var2         True  \n",
       "993553      57.389832   BC    var2        False  \n",
       "993554      81.099998   BC    var2         True  \n",
       "993555      84.440681   BC    var1         True  \n",
       "993556      75.433334   BC    var2         True  \n",
       "993557      72.305084   BC    var2         True  \n",
       "993558      99.099998   BC    var2         True  \n",
       "993559      69.593224   BC    var2         True  \n",
       "993560      99.050850   BC    var1        False  \n",
       "993561      65.233330   BC    var2         True  \n",
       "993562      61.728813   BC    var1         True  \n",
       "993563      36.588234  RLB     n/a         True  \n",
       "993564       0.000000  n/a     n/a        False  \n",
       "993565      33.266666   BC    var2        False  \n",
       "993566      86.271187   BC    var1         True  \n",
       "993567      34.733334   BC    var2         True  \n",
       "993568      32.733334   BC    var2         True  \n",
       "\n",
       "[993569 rows x 9 columns]>"
      ]
     },
     "execution_count": 36,
     "metadata": {},
     "output_type": "execute_result"
    }
   ],
   "source": [
    "seq_df.to_csv"
   ]
  },
  {
   "cell_type": "code",
   "execution_count": 37,
   "metadata": {
    "collapsed": true
   },
   "outputs": [],
   "source": [
    "#add the nanolyze survived column\n",
    "seq_df['nl_survived'] = seq_df['read_id'].isin(nl_survied_list)\n",
    "#make porchoped survived column"
   ]
  },
  {
   "cell_type": "code",
   "execution_count": 38,
   "metadata": {
    "collapsed": true
   },
   "outputs": [],
   "source": [
    "import numpy as np"
   ]
  },
  {
   "cell_type": "code",
   "execution_count": 39,
   "metadata": {
    "collapsed": true
   },
   "outputs": [],
   "source": [
    "blast_header = ['qseqid',\n",
    " 'sseqid',\n",
    " 'evalue',\n",
    " 'bitscore',\n",
    " 'length',\n",
    " 'pident',\n",
    " 'nident',\n",
    " 'sgi',\n",
    " 'sacc',\n",
    " 'staxids',\n",
    " 'scomnames',\n",
    "'sskingdoms']\n",
    "# original headers: qseqid sseqid evalue bitscore length pident nident sgi sacc staxids sscinames scomnames sskingdoms\n",
    "def make_all_blast_df(_list, header, chopped_len_dict):\n",
    "    df = pd.DataFrame()\n",
    "    #write a check that both _list and header is a list\n",
    "    for x in _list:\n",
    "        tmp_df = pd.read_csv(x, sep='\\t',header=None, names=header)\n",
    "        first_column = tmp_df.columns[0]\n",
    "        tmp_df['read_id'] = tmp_df[first_column].apply(lambda x: str(x).split('_')[0])\n",
    "        tmp_df['read_length_pc'] = tmp_df[first_column].apply(lambda x: chopped_len_dict[x])\n",
    "        df = pd.concat([df, tmp_df.iloc[:,[0,1,2,4,5,6,8,9,10,12,13]]])\n",
    "        \n",
    "    #now reduce the columns to what we want\n",
    "    \n",
    "    #print(first_column)\n",
    "    #df['read_id'] = df.iloc[:,0].str.split('_')[0]\n",
    "    return df"
   ]
  },
  {
   "cell_type": "code",
   "execution_count": 40,
   "metadata": {},
   "outputs": [
    {
     "name": "stdout",
     "output_type": "stream",
     "text": [
      "now adding the nt output columns.\n",
      "now adding the rg output columns.\n"
     ]
    }
   ],
   "source": [
    "nt_df = make_all_blast_df(nt_blast_df_file_list, [x +'_nt' for x in  blast_header], pc_length_dict)\n",
    "print(\"now adding the nt output columns.\")\n",
    "rg_df = make_all_blast_df(rg_blast_df_file_list, [x +'_rg' for x in  blast_header], pc_length_dict)\n",
    "print(\"now adding the rg output columns.\")\n",
    "#reduce column number of blast dataframe to what you want before you merge"
   ]
  },
  {
   "cell_type": "code",
   "execution_count": 41,
   "metadata": {},
   "outputs": [
    {
     "name": "stdout",
     "output_type": "stream",
     "text": [
      "now creating the final dataframe!\n"
     ]
    }
   ],
   "source": [
    "#need to take care of porchop split reads checkin if second last character of string is _\n",
    "#make a new column of the blast_df that has the initial read_id\n",
    "#need to check how merge behaves when getting a doublcate of value in one df.\n",
    "tmp_df = pd.merge(seq_df, rg_df,how='outer',left_on= 'read_id', right_on='read_id')\n",
    "final_df = pd.merge(tmp_df, nt_df,how='outer',left_on= 'read_id', right_on='read_id')\n",
    "print(\"now creating the final dataframe!\")"
   ]
  },
  {
   "cell_type": "code",
   "execution_count": 42,
   "metadata": {},
   "outputs": [
    {
     "name": "stdout",
     "output_type": "stream",
     "text": [
      "All done. Congratulations!\n"
     ]
    }
   ],
   "source": [
    "analysis_foler = os.path.join(BASEDIR, 'analysis')\n",
    "if not os.path.exists(analysis_foler):\n",
    "    os.mkdir(analysis_foler)\n",
    "final_df_fn = os.path.join(analysis_foler, 'summary_df_%s.tab' % (os.path.basename(BASEDIR)))\n",
    "final_df.to_csv(final_df_fn, sep='\\t', index=None)\n",
    "print(\"All done. Congratulations!\")"
   ]
  },
  {
   "cell_type": "code",
   "execution_count": null,
   "metadata": {
    "collapsed": true
   },
   "outputs": [],
   "source": []
  },
  {
   "cell_type": "code",
   "execution_count": null,
   "metadata": {
    "collapsed": true
   },
   "outputs": [],
   "source": []
  }
 ],
 "metadata": {
  "kernelspec": {
   "display_name": "Python 3",
   "language": "python",
   "name": "python3"
  },
  "language_info": {
   "codemirror_mode": {
    "name": "ipython",
    "version": 3
   },
   "file_extension": ".py",
   "mimetype": "text/x-python",
   "name": "python",
   "nbconvert_exporter": "python",
   "pygments_lexer": "ipython3",
   "version": "3.6.1"
  }
 },
 "nbformat": 4,
 "nbformat_minor": 2
}
