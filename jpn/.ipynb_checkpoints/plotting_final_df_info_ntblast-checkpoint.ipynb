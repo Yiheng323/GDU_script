{
 "cells": [
  {
   "cell_type": "markdown",
   "metadata": {},
   "source": [
    "This is a notebook to pull down all the information for figure 3 (ncbi hits). The design is to compair between each sample (barcode) instead of each flowcell as they sequenced the same thing. Therefore I just pulled all the ncbi hits for each flowcell for each barcode and merged them together according to the barcode."
   ]
  },
  {
   "cell_type": "code",
   "execution_count": 1,
   "metadata": {
    "collapsed": true
   },
   "outputs": [],
   "source": [
    "import numpy as np\n",
    "import os\n",
    "import pandas as pd\n",
    "import matplotlib.pyplot as plt\n",
    "import matplotlib\n",
    "from itertools import product\n",
    "import argparse\n",
    "import subprocess\n",
    "import itertools\n",
    "from ete3 import NCBITaxa \n"
   ]
  },
  {
   "cell_type": "code",
   "execution_count": 2,
   "metadata": {
    "collapsed": true
   },
   "outputs": [],
   "source": [
    "ncbi = NCBITaxa()\n"
   ]
  },
  {
   "cell_type": "code",
   "execution_count": 3,
   "metadata": {
    "collapsed": true
   },
   "outputs": [],
   "source": [
    "# use argparse to do this\n",
    "#BASEDIR = args.BASEDIR\n",
    "BASEDIR = '/home/yiheng/data/20180524_FAH58271'\n",
    "\n",
    "# here we define the folder name of the dataframe it created by capturing the folder from the BASDIR\n",
    "folder_name = os.path.basename(BASEDIR)\n",
    "#column_name = folder_name.split('_')[-1]"
   ]
  },
  {
   "cell_type": "code",
   "execution_count": 4,
   "metadata": {
    "collapsed": true
   },
   "outputs": [],
   "source": [
    "# first check if the analysis folder is there\n",
    "folder_list = 'analysis  basecalled_data  scripts  tracking  workspace'.split(' ')\n",
    "for x in range(0,folder_list.count('')):\n",
    "    folder_list.remove('')\n",
    "#fix this test\n",
    "if not set(os.listdir(os.path.abspath(BASEDIR))) == set (folder_list):\n",
    "    print(\"Something wrong with basefolder. check it please.\")"
   ]
  },
  {
   "cell_type": "code",
   "execution_count": 5,
   "metadata": {},
   "outputs": [
    {
     "name": "stderr",
     "output_type": "stream",
     "text": [
      "/home/yiheng/anaconda3/lib/python3.6/site-packages/IPython/core/interactiveshell.py:2717: DtypeWarning: Columns (1,2,3,5,16) have mixed types. Specify dtype option on import or set low_memory=False.\n",
      "  interactivity=interactivity, compiler=compiler, result=result)\n"
     ]
    }
   ],
   "source": [
    "# get the dataframe there\n",
    "dataframe = os.path.join(BASEDIR, 'analysis', 'summary_df_%s.tab' % folder_name)\n",
    "sum_df = pd.read_csv(dataframe, sep='\\t')"
   ]
  },
  {
   "cell_type": "code",
   "execution_count": 6,
   "metadata": {},
   "outputs": [
    {
     "data": {
      "text/html": [
       "<div>\n",
       "<style scoped>\n",
       "    .dataframe tbody tr th:only-of-type {\n",
       "        vertical-align: middle;\n",
       "    }\n",
       "\n",
       "    .dataframe tbody tr th {\n",
       "        vertical-align: top;\n",
       "    }\n",
       "\n",
       "    .dataframe thead th {\n",
       "        text-align: right;\n",
       "    }\n",
       "</style>\n",
       "<table border=\"1\" class=\"dataframe\">\n",
       "  <thead>\n",
       "    <tr style=\"text-align: right;\">\n",
       "      <th></th>\n",
       "      <th>read_id</th>\n",
       "      <th>passes_filtering</th>\n",
       "      <th>sequence_length_template</th>\n",
       "      <th>mean_qscore_template</th>\n",
       "      <th>barcode_arrangement</th>\n",
       "      <th>barcode_score</th>\n",
       "      <th>kit</th>\n",
       "      <th>variant</th>\n",
       "      <th>pc_survived</th>\n",
       "      <th>qseqid_nt</th>\n",
       "      <th>sseqid_nt</th>\n",
       "      <th>evalue_nt</th>\n",
       "      <th>length_nt</th>\n",
       "      <th>pident_nt</th>\n",
       "      <th>nident_nt</th>\n",
       "      <th>sacc_nt</th>\n",
       "      <th>staxids_nt</th>\n",
       "      <th>scomnames_nt</th>\n",
       "      <th>read_length_pc</th>\n",
       "    </tr>\n",
       "  </thead>\n",
       "  <tbody>\n",
       "    <tr>\n",
       "      <th>0</th>\n",
       "      <td>3de506ef-9b26-4aee-b11e-bf8df5a65299</td>\n",
       "      <td>True</td>\n",
       "      <td>503</td>\n",
       "      <td>10.481</td>\n",
       "      <td>barcode07</td>\n",
       "      <td>84.0513</td>\n",
       "      <td>NB</td>\n",
       "      <td>var1</td>\n",
       "      <td>True</td>\n",
       "      <td>3de506ef-9b26-4aee-b11e-bf8df5a65299</td>\n",
       "      <td>gi|16605664|emb|AL358232.19|</td>\n",
       "      <td>3.000000e-152</td>\n",
       "      <td>430.0</td>\n",
       "      <td>90.70</td>\n",
       "      <td>390.0</td>\n",
       "      <td>AL358232</td>\n",
       "      <td>9606</td>\n",
       "      <td>Homo sapiens</td>\n",
       "      <td>434.0</td>\n",
       "    </tr>\n",
       "    <tr>\n",
       "      <th>1</th>\n",
       "      <td>43a2ceb3-ea58-45c4-a9c0-9e845a3ee3f5</td>\n",
       "      <td>True</td>\n",
       "      <td>425</td>\n",
       "      <td>9.72</td>\n",
       "      <td>barcode07</td>\n",
       "      <td>90.8718</td>\n",
       "      <td>NB</td>\n",
       "      <td>var1</td>\n",
       "      <td>True</td>\n",
       "      <td>43a2ceb3-ea58-45c4-a9c0-9e845a3ee3f5</td>\n",
       "      <td>gi|18497210|gb|AC097491.2|</td>\n",
       "      <td>3.000000e-96</td>\n",
       "      <td>352.0</td>\n",
       "      <td>86.65</td>\n",
       "      <td>305.0</td>\n",
       "      <td>AC097491</td>\n",
       "      <td>9606</td>\n",
       "      <td>Homo sapiens</td>\n",
       "      <td>339.0</td>\n",
       "    </tr>\n",
       "    <tr>\n",
       "      <th>2</th>\n",
       "      <td>45768783-cf86-4203-a864-57c1be00e671</td>\n",
       "      <td>True</td>\n",
       "      <td>726</td>\n",
       "      <td>8.658</td>\n",
       "      <td>barcode07</td>\n",
       "      <td>90.8718</td>\n",
       "      <td>NB</td>\n",
       "      <td>var1</td>\n",
       "      <td>True</td>\n",
       "      <td>45768783-cf86-4203-a864-57c1be00e671</td>\n",
       "      <td>gi|1871197|gb|U91318.1|HUU91318</td>\n",
       "      <td>7.000000e-165</td>\n",
       "      <td>429.0</td>\n",
       "      <td>92.07</td>\n",
       "      <td>395.0</td>\n",
       "      <td>U91318</td>\n",
       "      <td>9606</td>\n",
       "      <td>Homo sapiens</td>\n",
       "      <td>654.0</td>\n",
       "    </tr>\n",
       "    <tr>\n",
       "      <th>4</th>\n",
       "      <td>576ecd5e-1a24-42af-97fd-f0d5fc3a4dde</td>\n",
       "      <td>True</td>\n",
       "      <td>831</td>\n",
       "      <td>9.943</td>\n",
       "      <td>barcode07</td>\n",
       "      <td>91.2308</td>\n",
       "      <td>NB</td>\n",
       "      <td>var1</td>\n",
       "      <td>True</td>\n",
       "      <td>576ecd5e-1a24-42af-97fd-f0d5fc3a4dde</td>\n",
       "      <td>gi|20377037|gb|AC109631.4|</td>\n",
       "      <td>6.000000e-166</td>\n",
       "      <td>460.0</td>\n",
       "      <td>91.09</td>\n",
       "      <td>419.0</td>\n",
       "      <td>AC109631</td>\n",
       "      <td>9606</td>\n",
       "      <td>Homo sapiens</td>\n",
       "      <td>762.0</td>\n",
       "    </tr>\n",
       "    <tr>\n",
       "      <th>5</th>\n",
       "      <td>5c0dd0f2-884a-4d7d-857c-62b50825adc2</td>\n",
       "      <td>True</td>\n",
       "      <td>464</td>\n",
       "      <td>8.324</td>\n",
       "      <td>barcode07</td>\n",
       "      <td>79.4359</td>\n",
       "      <td>NB</td>\n",
       "      <td>var1</td>\n",
       "      <td>True</td>\n",
       "      <td>5c0dd0f2-884a-4d7d-857c-62b50825adc2</td>\n",
       "      <td>gi|13235051|emb|AL160237.4|</td>\n",
       "      <td>7.000000e-103</td>\n",
       "      <td>234.0</td>\n",
       "      <td>96.58</td>\n",
       "      <td>226.0</td>\n",
       "      <td>AL160237</td>\n",
       "      <td>9606</td>\n",
       "      <td>Homo sapiens</td>\n",
       "      <td>393.0</td>\n",
       "    </tr>\n",
       "  </tbody>\n",
       "</table>\n",
       "</div>"
      ],
      "text/plain": [
       "                                read_id passes_filtering  \\\n",
       "0  3de506ef-9b26-4aee-b11e-bf8df5a65299             True   \n",
       "1  43a2ceb3-ea58-45c4-a9c0-9e845a3ee3f5             True   \n",
       "2  45768783-cf86-4203-a864-57c1be00e671             True   \n",
       "4  576ecd5e-1a24-42af-97fd-f0d5fc3a4dde             True   \n",
       "5  5c0dd0f2-884a-4d7d-857c-62b50825adc2             True   \n",
       "\n",
       "  sequence_length_template mean_qscore_template barcode_arrangement  \\\n",
       "0                      503               10.481           barcode07   \n",
       "1                      425                 9.72           barcode07   \n",
       "2                      726                8.658           barcode07   \n",
       "4                      831                9.943           barcode07   \n",
       "5                      464                8.324           barcode07   \n",
       "\n",
       "  barcode_score kit variant  pc_survived  \\\n",
       "0       84.0513  NB    var1         True   \n",
       "1       90.8718  NB    var1         True   \n",
       "2       90.8718  NB    var1         True   \n",
       "4       91.2308  NB    var1         True   \n",
       "5       79.4359  NB    var1         True   \n",
       "\n",
       "                              qseqid_nt                        sseqid_nt  \\\n",
       "0  3de506ef-9b26-4aee-b11e-bf8df5a65299     gi|16605664|emb|AL358232.19|   \n",
       "1  43a2ceb3-ea58-45c4-a9c0-9e845a3ee3f5       gi|18497210|gb|AC097491.2|   \n",
       "2  45768783-cf86-4203-a864-57c1be00e671  gi|1871197|gb|U91318.1|HUU91318   \n",
       "4  576ecd5e-1a24-42af-97fd-f0d5fc3a4dde       gi|20377037|gb|AC109631.4|   \n",
       "5  5c0dd0f2-884a-4d7d-857c-62b50825adc2      gi|13235051|emb|AL160237.4|   \n",
       "\n",
       "       evalue_nt  length_nt  pident_nt  nident_nt   sacc_nt staxids_nt  \\\n",
       "0  3.000000e-152      430.0      90.70      390.0  AL358232       9606   \n",
       "1   3.000000e-96      352.0      86.65      305.0  AC097491       9606   \n",
       "2  7.000000e-165      429.0      92.07      395.0    U91318       9606   \n",
       "4  6.000000e-166      460.0      91.09      419.0  AC109631       9606   \n",
       "5  7.000000e-103      234.0      96.58      226.0  AL160237       9606   \n",
       "\n",
       "   scomnames_nt  read_length_pc  \n",
       "0  Homo sapiens           434.0  \n",
       "1  Homo sapiens           339.0  \n",
       "2  Homo sapiens           654.0  \n",
       "4  Homo sapiens           762.0  \n",
       "5  Homo sapiens           393.0  "
      ]
     },
     "execution_count": 6,
     "metadata": {},
     "output_type": "execute_result"
    }
   ],
   "source": [
    "sum_df[sum_df.pident_nt > 0].head()"
   ]
  },
  {
   "cell_type": "code",
   "execution_count": 7,
   "metadata": {},
   "outputs": [],
   "source": [
    "# change the mean qscore to float for further filtering\n",
    "sum_df['mean_qscore_template'] = pd.to_numeric(sum_df['mean_qscore_template'], errors='coerce')"
   ]
  },
  {
   "cell_type": "code",
   "execution_count": 8,
   "metadata": {
    "collapsed": true
   },
   "outputs": [],
   "source": [
    "# fills the nan with T/F for easier handling\n",
    "#sum_df.sseqid_rg.fillna(False, inplace=True)\n",
    "sum_df.sseqid_nt.fillna(False, inplace=True)\n",
    "sum_df.mean_qscore_template.fillna(False, inplace=True)\n",
    "# filter out the rg blast hit\n",
    "#ntblasthit_reads = sum_df[(sum_df.sseqid_rg == False) & (sum_df.sseqid_nt != False) & (sum_df.passes_filtering == True) & (sum_df.pc_survived == True) & (sum_df.nl_survived == True)]\n",
    "total_reads = sum_df[(sum_df.sseqid_nt != False) & (sum_df.passes_filtering == True) & (sum_df.pc_survived == True) & (sum_df.mean_qscore_template != False)]\n",
    "total_reads = total_reads[total_reads['mean_qscore_template'] >= 7]\n",
    "#ntblasthit_reads = total_reads[total_reads.sseqid_nt != False]\n",
    "pd.set_option('display.max_columns', None)\n",
    "\n",
    "#Removing unncessary columns from joint_NCBI_df_taxonomy\n",
    "#I hard coded to select as it depends on what information you need\n",
    "for columns in ['passes_filtering', 'barcode_score', 'kit',\n",
    "       'variant', 'pc_survived', 'qseqid_nt', 'sseqid_nt', 'sacc_nt']:\n",
    "    del total_reads[columns] \n",
    "# keep the common name in to filter the human out"
   ]
  },
  {
   "cell_type": "code",
   "execution_count": 9,
   "metadata": {
    "collapsed": true
   },
   "outputs": [],
   "source": [
    "###########This block for barcodes order\n",
    "# now everything left is what we want to plot out\n",
    "# arrange different barcodes\n",
    "# REMEMBER: This need to be manual check:\n",
    "# now just filter out all the reads that are not going to used for ploting\n",
    "barcode05_total = total_reads[total_reads.barcode_arrangement.str.contains('barcode05')]\n",
    "barcode06_total = total_reads[total_reads.barcode_arrangement.str.contains('barcode06')]\n",
    "barcode07_total = total_reads[total_reads.barcode_arrangement.str.contains('barcode07')]\n",
    "\n",
    "# now concat them together. but remember that the index has to change to add the column for ncbi taxa\n",
    "total_reads_filtered_barcodes = pd.concat([barcode05_total, \n",
    "                                           barcode06_total, \n",
    "                                           barcode07_total], ignore_index=True)"
   ]
  },
  {
   "cell_type": "code",
   "execution_count": 10,
   "metadata": {},
   "outputs": [],
   "source": [
    "#################### For the analysis of this flowcell's data, everthing above this can be copied directly ################"
   ]
  },
  {
   "cell_type": "code",
   "execution_count": 11,
   "metadata": {},
   "outputs": [],
   "source": [
    "total_reads_filtered_barcodes.staxids_nt.fillna(False, inplace=True)\n",
    "ntblasthit_reads_filtered_barcodes = total_reads_filtered_barcodes[(total_reads_filtered_barcodes.staxids_nt != False)]"
   ]
  },
  {
   "cell_type": "code",
   "execution_count": 12,
   "metadata": {},
   "outputs": [],
   "source": [
    "ntblasthit_reads_barcode07_nohuman = ntblasthit_reads_filtered_barcodes[(ntblasthit_reads_filtered_barcodes.scomnames_nt != 'Homo sapiens') & (ntblasthit_reads_filtered_barcodes.barcode_arrangement == 'barcode07')]\n",
    "ntblasthit_reads_barcode07_nohuman = ntblasthit_reads_barcode07_nohuman.reset_index(drop=True)"
   ]
  },
  {
   "cell_type": "code",
   "execution_count": 13,
   "metadata": {
    "collapsed": true
   },
   "outputs": [],
   "source": [
    "# as the concate before will result the staxid into a string\n",
    "# so now change the string back to float so it can be recognized by the NCBITaxa\n",
    "for taxid in ntblasthit_reads_barcode07_nohuman['staxids_nt']:\n",
    "    if ';' in str(taxid):\n",
    "        taxid = taxid.split(';')[0]\n",
    "\n",
    "    else:\n",
    "        pass\n",
    "    float(taxid)"
   ]
  },
  {
   "cell_type": "code",
   "execution_count": 14,
   "metadata": {
    "collapsed": true
   },
   "outputs": [],
   "source": [
    "#Function to generate taxonomy columns based on NCBITaxa results for NCBI hit dataframe, \n",
    "def search_rank_output_name_append_column(df, staxid_column, rank_search):\n",
    "    \"\"\"Input df, staxid_column from same df and rank_search (a desired taxonomic rank \n",
    "    from each staxid's lineage), outputs taxonomic name corresponding to rank_search or 'Unclassified' if\n",
    "    unavailable and appends to df row by row\"\"\"\n",
    "    rank_list = []\n",
    "    for read_index in range(0, len(staxid_column)):\n",
    "        taxid = ''\n",
    "        if ';' in str(staxid_column[read_index]):\n",
    "            taxid = staxid_column[read_index].split(';')[0]\n",
    "################# BE CAREFUL HERE !!! #######################################\n",
    "#            df.loc[staxid_column =='71426;73839', 'staxids_nt'] = 73839\n",
    "        else:\n",
    "            taxid = staxid_column[read_index]\n",
    "        \n",
    "        \n",
    "        taxid_lineage = ''\n",
    "        taxid_lineage = ncbi.get_lineage(taxid)\n",
    "        \n",
    "        names = ''\n",
    "        names = ncbi.get_taxid_translator(taxid_lineage)\n",
    "        \n",
    "        ranks = ''\n",
    "        ranks = ncbi.get_rank(taxid_lineage) #Dict\n",
    "        \n",
    "        ranks2names = ''\n",
    "        ranks2names = {ranks[k]:names[k] for k in names.keys() & ranks}\n",
    "        \n",
    "        if rank_search in ranks2names.keys():\n",
    "            rank_list.append(ranks2names[rank_search])#if rank in dict, print name\n",
    "        else:\n",
    "            rank_list.append('Unclassified')\n",
    "    df[rank_search] = rank_list\n",
    "# NOTE: Appending is always slow, try and find a better way e.g df.apply to a column based on staxids column\n"
   ]
  },
  {
   "cell_type": "code",
   "execution_count": 15,
   "metadata": {
    "collapsed": true
   },
   "outputs": [],
   "source": [
    "#ntblasthit_reads_filtered_barcodes_added_TaxaRank = ntblasthit_reads_filtered_barcodes.copy()\n",
    "# pretty slow\n",
    "rank_list = ['superkingdom', 'phylum', 'class', 'order', 'family', 'genus', 'species']\n",
    "for rank in rank_list:\n",
    "    search_rank_output_name_append_column(ntblasthit_reads_barcode07_nohuman, \n",
    "                                          ntblasthit_reads_barcode07_nohuman.staxids_nt, \n",
    "                                          rank)"
   ]
  },
  {
   "cell_type": "code",
   "execution_count": 16,
   "metadata": {},
   "outputs": [
    {
     "data": {
      "text/html": [
       "<div>\n",
       "<style scoped>\n",
       "    .dataframe tbody tr th:only-of-type {\n",
       "        vertical-align: middle;\n",
       "    }\n",
       "\n",
       "    .dataframe tbody tr th {\n",
       "        vertical-align: top;\n",
       "    }\n",
       "\n",
       "    .dataframe thead th {\n",
       "        text-align: right;\n",
       "    }\n",
       "</style>\n",
       "<table border=\"1\" class=\"dataframe\">\n",
       "  <thead>\n",
       "    <tr style=\"text-align: right;\">\n",
       "      <th></th>\n",
       "      <th>read_id</th>\n",
       "      <th>sequence_length_template</th>\n",
       "      <th>mean_qscore_template</th>\n",
       "      <th>barcode_arrangement</th>\n",
       "      <th>evalue_nt</th>\n",
       "      <th>length_nt</th>\n",
       "      <th>pident_nt</th>\n",
       "      <th>nident_nt</th>\n",
       "      <th>staxids_nt</th>\n",
       "      <th>scomnames_nt</th>\n",
       "      <th>read_length_pc</th>\n",
       "      <th>superkingdom</th>\n",
       "      <th>phylum</th>\n",
       "      <th>class</th>\n",
       "      <th>order</th>\n",
       "      <th>family</th>\n",
       "      <th>genus</th>\n",
       "      <th>species</th>\n",
       "    </tr>\n",
       "  </thead>\n",
       "  <tbody>\n",
       "    <tr>\n",
       "      <th>0</th>\n",
       "      <td>b87a4882-377c-4c97-9ced-86899db77e04</td>\n",
       "      <td>527</td>\n",
       "      <td>8.93</td>\n",
       "      <td>barcode07</td>\n",
       "      <td>1.000000e-115</td>\n",
       "      <td>447.0</td>\n",
       "      <td>85.46</td>\n",
       "      <td>382.0</td>\n",
       "      <td>9598</td>\n",
       "      <td>Pan troglodytes</td>\n",
       "      <td>451.0</td>\n",
       "      <td>Eukaryota</td>\n",
       "      <td>Chordata</td>\n",
       "      <td>Mammalia</td>\n",
       "      <td>Primates</td>\n",
       "      <td>Hominidae</td>\n",
       "      <td>Pan</td>\n",
       "      <td>Pan troglodytes</td>\n",
       "    </tr>\n",
       "    <tr>\n",
       "      <th>1</th>\n",
       "      <td>0dbe215c-250a-4443-b550-a77442a75012</td>\n",
       "      <td>432</td>\n",
       "      <td>7.555</td>\n",
       "      <td>barcode07</td>\n",
       "      <td>4.000000e-25</td>\n",
       "      <td>153.0</td>\n",
       "      <td>83.01</td>\n",
       "      <td>127.0</td>\n",
       "      <td>9598</td>\n",
       "      <td>Pan troglodytes</td>\n",
       "      <td>343.0</td>\n",
       "      <td>Eukaryota</td>\n",
       "      <td>Chordata</td>\n",
       "      <td>Mammalia</td>\n",
       "      <td>Primates</td>\n",
       "      <td>Hominidae</td>\n",
       "      <td>Pan</td>\n",
       "      <td>Pan troglodytes</td>\n",
       "    </tr>\n",
       "    <tr>\n",
       "      <th>2</th>\n",
       "      <td>b4ac70d2-74b7-41d1-85d0-21d043820632</td>\n",
       "      <td>430</td>\n",
       "      <td>8.16</td>\n",
       "      <td>barcode07</td>\n",
       "      <td>2.000000e-63</td>\n",
       "      <td>209.0</td>\n",
       "      <td>89.95</td>\n",
       "      <td>188.0</td>\n",
       "      <td>9598</td>\n",
       "      <td>Pan troglodytes</td>\n",
       "      <td>299.0</td>\n",
       "      <td>Eukaryota</td>\n",
       "      <td>Chordata</td>\n",
       "      <td>Mammalia</td>\n",
       "      <td>Primates</td>\n",
       "      <td>Hominidae</td>\n",
       "      <td>Pan</td>\n",
       "      <td>Pan troglodytes</td>\n",
       "    </tr>\n",
       "    <tr>\n",
       "      <th>3</th>\n",
       "      <td>6535816f-7c3f-47f9-a884-79d02ff46d59</td>\n",
       "      <td>1082</td>\n",
       "      <td>8.571</td>\n",
       "      <td>barcode07</td>\n",
       "      <td>0.000000e+00</td>\n",
       "      <td>579.0</td>\n",
       "      <td>89.98</td>\n",
       "      <td>521.0</td>\n",
       "      <td>318479</td>\n",
       "      <td>Dracunculus medinensis</td>\n",
       "      <td>1006.0</td>\n",
       "      <td>Eukaryota</td>\n",
       "      <td>Nematoda</td>\n",
       "      <td>Chromadorea</td>\n",
       "      <td>Spirurida</td>\n",
       "      <td>Dracunculidae</td>\n",
       "      <td>Dracunculus</td>\n",
       "      <td>Dracunculus medinensis</td>\n",
       "    </tr>\n",
       "    <tr>\n",
       "      <th>4</th>\n",
       "      <td>5793d4b0-4a94-4496-a2ad-e8940edad78b</td>\n",
       "      <td>993</td>\n",
       "      <td>8.793</td>\n",
       "      <td>barcode07</td>\n",
       "      <td>0.000000e+00</td>\n",
       "      <td>468.0</td>\n",
       "      <td>93.80</td>\n",
       "      <td>439.0</td>\n",
       "      <td>9598</td>\n",
       "      <td>Pan troglodytes</td>\n",
       "      <td>921.0</td>\n",
       "      <td>Eukaryota</td>\n",
       "      <td>Chordata</td>\n",
       "      <td>Mammalia</td>\n",
       "      <td>Primates</td>\n",
       "      <td>Hominidae</td>\n",
       "      <td>Pan</td>\n",
       "      <td>Pan troglodytes</td>\n",
       "    </tr>\n",
       "  </tbody>\n",
       "</table>\n",
       "</div>"
      ],
      "text/plain": [
       "                                read_id sequence_length_template  \\\n",
       "0  b87a4882-377c-4c97-9ced-86899db77e04                      527   \n",
       "1  0dbe215c-250a-4443-b550-a77442a75012                      432   \n",
       "2  b4ac70d2-74b7-41d1-85d0-21d043820632                      430   \n",
       "3  6535816f-7c3f-47f9-a884-79d02ff46d59                     1082   \n",
       "4  5793d4b0-4a94-4496-a2ad-e8940edad78b                      993   \n",
       "\n",
       "  mean_qscore_template barcode_arrangement      evalue_nt  length_nt  \\\n",
       "0                 8.93           barcode07  1.000000e-115      447.0   \n",
       "1                7.555           barcode07   4.000000e-25      153.0   \n",
       "2                 8.16           barcode07   2.000000e-63      209.0   \n",
       "3                8.571           barcode07   0.000000e+00      579.0   \n",
       "4                8.793           barcode07   0.000000e+00      468.0   \n",
       "\n",
       "   pident_nt  nident_nt staxids_nt            scomnames_nt  read_length_pc  \\\n",
       "0      85.46      382.0       9598         Pan troglodytes           451.0   \n",
       "1      83.01      127.0       9598         Pan troglodytes           343.0   \n",
       "2      89.95      188.0       9598         Pan troglodytes           299.0   \n",
       "3      89.98      521.0     318479  Dracunculus medinensis          1006.0   \n",
       "4      93.80      439.0       9598         Pan troglodytes           921.0   \n",
       "\n",
       "  superkingdom    phylum        class      order         family        genus  \\\n",
       "0    Eukaryota  Chordata     Mammalia   Primates      Hominidae          Pan   \n",
       "1    Eukaryota  Chordata     Mammalia   Primates      Hominidae          Pan   \n",
       "2    Eukaryota  Chordata     Mammalia   Primates      Hominidae          Pan   \n",
       "3    Eukaryota  Nematoda  Chromadorea  Spirurida  Dracunculidae  Dracunculus   \n",
       "4    Eukaryota  Chordata     Mammalia   Primates      Hominidae          Pan   \n",
       "\n",
       "                  species  \n",
       "0         Pan troglodytes  \n",
       "1         Pan troglodytes  \n",
       "2         Pan troglodytes  \n",
       "3  Dracunculus medinensis  \n",
       "4         Pan troglodytes  "
      ]
     },
     "execution_count": 16,
     "metadata": {},
     "output_type": "execute_result"
    }
   ],
   "source": [
    "ntblasthit_reads_barcode07_nohuman.head()"
   ]
  },
  {
   "cell_type": "code",
   "execution_count": 17,
   "metadata": {
    "collapsed": true
   },
   "outputs": [],
   "source": [
    "#total_reads_filtered_barcodes.to_csv(r'/home/yiheng/analysis/WGS/%s_totaltaxa.tab' % column_name, header=column_name, index=None, sep='\\t')\n",
    "ntblasthit_reads_barcode07_nomammal = ntblasthit_reads_barcode07_nohuman[ntblasthit_reads_barcode07_nohuman['class'] != 'Mammalia']\n",
    "ntblasthit_reads_barcode07_nomammal = ntblasthit_reads_barcode07_nomammal.reset_index(drop = True)"
   ]
  },
  {
   "cell_type": "code",
   "execution_count": 18,
   "metadata": {},
   "outputs": [],
   "source": [
    "ntblasthit_reads_barcode07_nomammal['similarity_rate'] = ntblasthit_reads_barcode07_nomammal.nident_nt/ntblasthit_reads_barcode07_nomammal.read_length_pc*100"
   ]
  },
  {
   "cell_type": "code",
   "execution_count": null,
   "metadata": {},
   "outputs": [],
   "source": [
    "ntblasthit_reads_barcode07_nomammal.to_csv(r'/home/yiheng/test/analysis/%s_barcode07_nomammal_nttaxa.tab' % folder_name, header='clinical_2', index=None, sep='\\t')"
   ]
  },
  {
   "cell_type": "code",
   "execution_count": 27,
   "metadata": {},
   "outputs": [],
   "source": [
    "ntblasthit_reads_barcode07_nomammal['mean_qscore_template'] = pd.to_numeric(ntblasthit_reads_barcode07_nomammal['mean_qscore_template'], errors='raise')"
   ]
  },
  {
   "cell_type": "code",
   "execution_count": 44,
   "metadata": {},
   "outputs": [],
   "source": [
    "iterables = [ [55,56,57,58,59,60,61,62,63,64,65,66,67,68,69,70,71,72,73,74,75,76,77,78,79,80,81,82,83,84,85,86,87,88,89,90,91,92,93,94,95,96,97],\n",
    "              [55,56,57,58,59,60,61,62,63,64,65,66,67,68,69,70,71,72,73,74,75,76,77,78,79,80,81,82,83,84,85,86,87,88,89,90,91,92,93,94,95,96,97] ]\n",
    "if not os.path.exists(os.path.join(BASEDIR, 'analysis','blast_pitent_similarity')):\n",
    "    os.mkdir(os.path.join(BASEDIR, 'analysis','blast_pitent_similarity'))\n",
    "    \n",
    "else:\n",
    "    pass\n",
    "\n",
    "for t in itertools.product(*iterables):\n",
    "    clinical_df_fn = os.path.join(BASEDIR, 'analysis','blast_pitent_similarity', 'blast_pitent_similarity_%s_%s.txt' % (t[0], t[1]))\n",
    "    ntblasthit_reads_barcode07_nomammal[(ntblasthit_reads_barcode07_nomammal.pident_nt > t[0]) & \n",
    "                                        (ntblasthit_reads_barcode07_nomammal.similarity_rate > t[1]) &\n",
    "                                        (ntblasthit_reads_barcode07_nomammal.sequence_length_template > 1000)].to_csv(clinical_df_fn, sep='\\t', index=None)"
   ]
  },
  {
   "cell_type": "code",
   "execution_count": 47,
   "metadata": {},
   "outputs": [],
   "source": [
    "# generate all the species count files. pretty slow. maybe pool all the slow process to run as a script.\n",
    "blast_pitent_similarity_path = os.path.join(BASEDIR, 'analysis','blast_pitent_similarity')\n",
    "species_count_path = os.path.join(blast_pitent_similarity_path, 'species_count_for_reads_longer_1kb')\n",
    "if not os.path.exists(species_count_path):\n",
    "    os.mkdir(species_count_path)\n",
    "else:\n",
    "    pass"
   ]
  },
  {
   "cell_type": "code",
   "execution_count": 48,
   "metadata": {},
   "outputs": [
    {
     "name": "stdout",
     "output_type": "stream",
     "text": [
      "species_count_files done.\n"
     ]
    }
   ],
   "source": [
    "for file in os.listdir(blast_pitent_similarity_path):\n",
    "    file_name = os.path.splitext(file)\n",
    "    file_path = os.path.join(blast_pitent_similarity_path, '%s') % file\n",
    "    similarity_rate = file_name[0].split('_')[-2]\n",
    "    pattern_length = file_name[0].split('_')[-1]\n",
    "    cut_cmd = 'cut -f 18 %s | sort | uniq -c | sort -nr > %s/species_count_%s_%s.txt' % (file_path, species_count_path, similarity_rate, pattern_length)\n",
    "    cut_cmd_stderr = subprocess.check_output(cut_cmd, shell=True, stderr=subprocess.STDOUT)\n",
    "print('species_count_files done.')"
   ]
  },
  {
   "cell_type": "code",
   "execution_count": null,
   "metadata": {},
   "outputs": [],
   "source": [
    "clinical_df_fn = os.path.join(BASEDIR, 'analysis','blast_pitent_similarity', 'blast_pitent_similarity_89_94.txt')\n",
    "clinical_df[(clinical_df.pident_nt > 90) & (clinical_df.similarity_rate > 94)].to_csv(clinical_df_fn, sep='\\t', index=None)"
   ]
  },
  {
   "cell_type": "code",
   "execution_count": null,
   "metadata": {
    "collapsed": true
   },
   "outputs": [],
   "source": []
  },
  {
   "cell_type": "code",
   "execution_count": null,
   "metadata": {
    "collapsed": true
   },
   "outputs": [],
   "source": []
  },
  {
   "cell_type": "code",
   "execution_count": 20,
   "metadata": {
    "collapsed": true
   },
   "outputs": [],
   "source": [
    "df1=pd.DataFrame([[1, 2],[10, 1], [3, 4], [7, 8]], columns=['A', 'B'])\n",
    "df2=pd.DataFrame([[1, 4],[3, 5]], columns=['A', 'B'])\n",
    "# now replace the location use the index of each df selected from value by .loc function\n",
    "# first select the value from df2 column A\n",
    "for values in df2['A'].unique():\n",
    "    # then locate the position in df1 and replace it by the VALUE of the position in df2\n",
    "    df1.loc[df1[df1['A'] == (values)].index, 'B'] = df2.loc[df2[df2['A'] == (values)].index, 'B'].values"
   ]
  },
  {
   "cell_type": "code",
   "execution_count": null,
   "metadata": {},
   "outputs": [],
   "source": []
  }
 ],
 "metadata": {
  "kernelspec": {
   "display_name": "Python 3",
   "language": "python",
   "name": "python3"
  },
  "language_info": {
   "codemirror_mode": {
    "name": "ipython",
    "version": 3
   },
   "file_extension": ".py",
   "mimetype": "text/x-python",
   "name": "python",
   "nbconvert_exporter": "python",
   "pygments_lexer": "ipython3",
   "version": "3.6.1"
  }
 },
 "nbformat": 4,
 "nbformat_minor": 2
}
