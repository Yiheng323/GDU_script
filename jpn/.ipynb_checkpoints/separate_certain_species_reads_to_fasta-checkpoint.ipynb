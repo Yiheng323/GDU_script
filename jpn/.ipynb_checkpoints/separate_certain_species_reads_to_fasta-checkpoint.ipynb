{
 "cells": [
  {
   "cell_type": "markdown",
   "metadata": {},
   "source": [
    "This is a notebook used to filter out wheat reads from each sequencing run and put into a fasta file for blast analysis\n",
    "\n",
    "generally it contains two simple steps:\n",
    "1. cut the readid from the final dataframe of each flowcell\n",
    "2. put into a txt file"
   ]
  },
  {
   "cell_type": "code",
   "execution_count": 39,
   "metadata": {},
   "outputs": [],
   "source": [
    "import numpy as np\n",
    "import os\n",
    "import pandas as pd\n",
    "import matplotlib.pyplot as plt\n",
    "import argparse\n",
    "import subprocess as sub\n"
   ]
  },
  {
   "cell_type": "code",
   "execution_count": 40,
   "metadata": {},
   "outputs": [],
   "source": [
    "#parser = argparse.ArgumentParser(description='''\n",
    "#This is a script to extract reads from certain species out from a fasta file with its blast output file. It will need the following files and one program installed:\n",
    "#    1. intall bbmap\n",
    "#    2. nt taxa file that contain read id, barcode, and taxa linages\n",
    "#    3. input fasta, read ids in the header of each reads\n",
    "#\n",
    "#it will separate the reads that hits a desired species or genus and put it into the input folder and name as species.fasta or genus.fasta\n",
    "#By the way, it will generate a tmp.txt file in the input directory when excute this scrip. Do not worry too much since it will be deleted after it is finished.\n",
    "#''')\n"
   ]
  },
  {
   "cell_type": "code",
   "execution_count": 42,
   "metadata": {},
   "outputs": [],
   "source": [
    "#parser.add_argument(\"indir\", help=\"input fasta file directory, contain all the reads that went though blast analysis. DO NOT add the back slash'/' at the end!\")\n",
    "#parser.add_argument(\"outdir\", help=\"the directory for output fasta file, no need to name the fasta file.\")\n",
    "#parser.add_argument(\"taxa\", help=\"the taxa file path. It will contain the linages of all the species and their read ids.\")\n",
    "#parser.add_argument(\"species\", help=\"the name of species that you want to extract, if species, put a underscore '_' in between the genus name and species name\")\n",
    "parser.add_argument(\"--genus\", help=\"the name of genus that you want to extract\")\n",
    "\n",
    "#args = parser.parse_args()"
   ]
  },
  {
   "cell_type": "code",
   "execution_count": 65,
   "metadata": {},
   "outputs": [
    {
     "ename": "IndexError",
     "evalue": "list index out of range",
     "output_type": "error",
     "traceback": [
      "\u001b[0;31m------------------------------------------------------------------\u001b[0m",
      "\u001b[0;31mIndexError\u001b[0m                       Traceback (most recent call last)",
      "\u001b[0;32m<ipython-input-65-e2ac38955f91>\u001b[0m in \u001b[0;36m<module>\u001b[0;34m()\u001b[0m\n\u001b[1;32m      3\u001b[0m \u001b[0mdataframe_path\u001b[0m \u001b[0;34m=\u001b[0m \u001b[0;34m'/home/yiheng/test/analysis/test_barcode07_nomammal_nttaxa.tab'\u001b[0m\u001b[0;34m\u001b[0m\u001b[0m\n\u001b[1;32m      4\u001b[0m \u001b[0mspecies_name\u001b[0m \u001b[0;34m=\u001b[0m \u001b[0;34m'Pseudomonas'\u001b[0m\u001b[0;34m\u001b[0m\u001b[0m\n\u001b[0;32m----> 5\u001b[0;31m \u001b[0mgenus_name\u001b[0m \u001b[0;34m=\u001b[0m \u001b[0mspecies_name\u001b[0m\u001b[0;34m.\u001b[0m\u001b[0msplit\u001b[0m\u001b[0;34m(\u001b[0m\u001b[0;34m'_'\u001b[0m\u001b[0;34m)\u001b[0m\u001b[0;34m[\u001b[0m\u001b[0;34m-\u001b[0m\u001b[0;36m2\u001b[0m\u001b[0;34m]\u001b[0m\u001b[0;34m\u001b[0m\u001b[0m\n\u001b[0m\u001b[1;32m      6\u001b[0m \u001b[0mspecies_last_name\u001b[0m \u001b[0;34m=\u001b[0m \u001b[0mspecies_name\u001b[0m\u001b[0;34m.\u001b[0m\u001b[0msplit\u001b[0m\u001b[0;34m(\u001b[0m\u001b[0;34m'_'\u001b[0m\u001b[0;34m)\u001b[0m\u001b[0;34m[\u001b[0m\u001b[0;34m-\u001b[0m\u001b[0;36m1\u001b[0m\u001b[0;34m]\u001b[0m\u001b[0;34m\u001b[0m\u001b[0m\n",
      "\u001b[0;31mIndexError\u001b[0m: list index out of range"
     ]
    }
   ],
   "source": [
    "BASEDIR = '/home/yiheng/test/workspace/barcode07/20180524_FAH58271_albacore231.chopped.nthityes.barcode07.fasta'\n",
    "OUTDIR = os.path.dirname(BASEDIR)\n",
    "dataframe_path = '/home/yiheng/test/analysis/test_barcode07_nomammal_nttaxa.tab'\n",
    "species_name = 'Pseudomonas_aeruginosa'\n",
    "genus_name = species_name.split('_')[-2]\n",
    "species_last_name = species_name.split('_')[-1]"
   ]
  },
  {
   "cell_type": "code",
   "execution_count": 64,
   "metadata": {},
   "outputs": [
    {
     "data": {
      "text/plain": [
       "'Pseudomonas'"
      ]
     },
     "execution_count": 64,
     "metadata": {},
     "output_type": "execute_result"
    }
   ],
   "source": [
    "genus_name"
   ]
  },
  {
   "cell_type": "code",
   "execution_count": 55,
   "metadata": {},
   "outputs": [],
   "source": [
    "#BASEDIR = args.indir\n",
    "#OUTDIR = os.path.dirname(BASEDIR)\n",
    "#dataframe_path = args.taxa\n",
    "#species_name = args.species\n",
    "#genus_name = species_name.split('_')[-2]\n",
    "#species_last_name = species_name.split('_')[-1]\n",
    "#genus = args.genus"
   ]
  },
  {
   "cell_type": "code",
   "execution_count": 61,
   "metadata": {},
   "outputs": [],
   "source": [
    "# get the taxa dataframe there\n",
    "taxa_df = pd.read_csv(dataframe_path, sep='\\t')"
   ]
  },
  {
   "cell_type": "code",
   "execution_count": 62,
   "metadata": {},
   "outputs": [
    {
     "data": {
      "text/html": [
       "<div>\n",
       "<style scoped>\n",
       "    .dataframe tbody tr th:only-of-type {\n",
       "        vertical-align: middle;\n",
       "    }\n",
       "\n",
       "    .dataframe tbody tr th {\n",
       "        vertical-align: top;\n",
       "    }\n",
       "\n",
       "    .dataframe thead th {\n",
       "        text-align: right;\n",
       "    }\n",
       "</style>\n",
       "<table border=\"1\" class=\"dataframe\">\n",
       "  <thead>\n",
       "    <tr style=\"text-align: right;\">\n",
       "      <th></th>\n",
       "      <th>read_id</th>\n",
       "      <th>barcode_arrangement</th>\n",
       "      <th>staxids_nt</th>\n",
       "      <th>scomnames_nt</th>\n",
       "      <th>superkingdom</th>\n",
       "      <th>phylum</th>\n",
       "      <th>class</th>\n",
       "      <th>order</th>\n",
       "      <th>family</th>\n",
       "      <th>genus</th>\n",
       "      <th>species</th>\n",
       "    </tr>\n",
       "  </thead>\n",
       "  <tbody>\n",
       "    <tr>\n",
       "      <th>0</th>\n",
       "      <td>eb87295b-a137-4b2f-b604-b16c800cfd6b</td>\n",
       "      <td>barcode07</td>\n",
       "      <td>318479</td>\n",
       "      <td>Dracunculus medinensis</td>\n",
       "      <td>Eukaryota</td>\n",
       "      <td>Nematoda</td>\n",
       "      <td>Chromadorea</td>\n",
       "      <td>Spirurida</td>\n",
       "      <td>Dracunculidae</td>\n",
       "      <td>Dracunculus</td>\n",
       "      <td>Dracunculus medinensis</td>\n",
       "    </tr>\n",
       "    <tr>\n",
       "      <th>1</th>\n",
       "      <td>77db5c1f-7c00-4a5f-81ba-1bee7b2e2018</td>\n",
       "      <td>barcode07</td>\n",
       "      <td>294746</td>\n",
       "      <td>Meyerozyma guilliermondii ATCC 6260</td>\n",
       "      <td>Eukaryota</td>\n",
       "      <td>Ascomycota</td>\n",
       "      <td>Saccharomycetes</td>\n",
       "      <td>Saccharomycetales</td>\n",
       "      <td>Debaryomycetaceae</td>\n",
       "      <td>Meyerozyma</td>\n",
       "      <td>Meyerozyma guilliermondii</td>\n",
       "    </tr>\n",
       "    <tr>\n",
       "      <th>2</th>\n",
       "      <td>858b92ad-517b-4dbf-92a1-06ee2c45c59e</td>\n",
       "      <td>barcode07</td>\n",
       "      <td>287</td>\n",
       "      <td>Pseudomonas aeruginosa</td>\n",
       "      <td>Bacteria</td>\n",
       "      <td>Proteobacteria</td>\n",
       "      <td>Gammaproteobacteria</td>\n",
       "      <td>Pseudomonadales</td>\n",
       "      <td>Pseudomonadaceae</td>\n",
       "      <td>Pseudomonas</td>\n",
       "      <td>Pseudomonas aeruginosa</td>\n",
       "    </tr>\n",
       "    <tr>\n",
       "      <th>3</th>\n",
       "      <td>a611e17a-c7b1-42dc-b60d-6f43d843a9fa</td>\n",
       "      <td>barcode07</td>\n",
       "      <td>6290</td>\n",
       "      <td>Haemonchus placei</td>\n",
       "      <td>Eukaryota</td>\n",
       "      <td>Nematoda</td>\n",
       "      <td>Chromadorea</td>\n",
       "      <td>Rhabditida</td>\n",
       "      <td>Haemonchidae</td>\n",
       "      <td>Haemonchus</td>\n",
       "      <td>Haemonchus placei</td>\n",
       "    </tr>\n",
       "    <tr>\n",
       "      <th>4</th>\n",
       "      <td>f2e4e773-f5be-4b1d-bd89-1f21e8c5af4a</td>\n",
       "      <td>barcode07</td>\n",
       "      <td>99802</td>\n",
       "      <td>Spirometra erinaceieuropaei</td>\n",
       "      <td>Eukaryota</td>\n",
       "      <td>Platyhelminthes</td>\n",
       "      <td>Cestoda</td>\n",
       "      <td>Diphyllobothriidea</td>\n",
       "      <td>Diphyllobothriidae</td>\n",
       "      <td>Spirometra</td>\n",
       "      <td>Spirometra erinaceieuropaei</td>\n",
       "    </tr>\n",
       "  </tbody>\n",
       "</table>\n",
       "</div>"
      ],
      "text/plain": [
       "                                read_id barcode_arrangement  staxids_nt  \\\n",
       "0  eb87295b-a137-4b2f-b604-b16c800cfd6b           barcode07      318479   \n",
       "1  77db5c1f-7c00-4a5f-81ba-1bee7b2e2018           barcode07      294746   \n",
       "2  858b92ad-517b-4dbf-92a1-06ee2c45c59e           barcode07         287   \n",
       "3  a611e17a-c7b1-42dc-b60d-6f43d843a9fa           barcode07        6290   \n",
       "4  f2e4e773-f5be-4b1d-bd89-1f21e8c5af4a           barcode07       99802   \n",
       "\n",
       "                          scomnames_nt superkingdom           phylum  \\\n",
       "0               Dracunculus medinensis    Eukaryota         Nematoda   \n",
       "1  Meyerozyma guilliermondii ATCC 6260    Eukaryota       Ascomycota   \n",
       "2               Pseudomonas aeruginosa     Bacteria   Proteobacteria   \n",
       "3                    Haemonchus placei    Eukaryota         Nematoda   \n",
       "4          Spirometra erinaceieuropaei    Eukaryota  Platyhelminthes   \n",
       "\n",
       "                 class               order              family        genus  \\\n",
       "0          Chromadorea           Spirurida       Dracunculidae  Dracunculus   \n",
       "1      Saccharomycetes   Saccharomycetales   Debaryomycetaceae   Meyerozyma   \n",
       "2  Gammaproteobacteria     Pseudomonadales    Pseudomonadaceae  Pseudomonas   \n",
       "3          Chromadorea          Rhabditida        Haemonchidae   Haemonchus   \n",
       "4              Cestoda  Diphyllobothriidea  Diphyllobothriidae   Spirometra   \n",
       "\n",
       "                       species  \n",
       "0       Dracunculus medinensis  \n",
       "1    Meyerozyma guilliermondii  \n",
       "2       Pseudomonas aeruginosa  \n",
       "3            Haemonchus placei  \n",
       "4  Spirometra erinaceieuropaei  "
      ]
     },
     "execution_count": 62,
     "metadata": {},
     "output_type": "execute_result"
    }
   ],
   "source": [
    "taxa_df.head()"
   ]
  },
  {
   "cell_type": "code",
   "execution_count": 63,
   "metadata": {},
   "outputs": [],
   "source": [
    "# make the readids list\n",
    "species_readids = taxa_df[(taxa_df.species.str.contains(species_last_name)) & (taxa_df.genus.str.contains(genus_name))]\n",
    "species_readids['read_id'].to_csv(os.path.join(OUTDIR + '/tmp.txt'), index=None)"
   ]
  },
  {
   "cell_type": "code",
   "execution_count": 66,
   "metadata": {},
   "outputs": [
    {
     "ename": "CalledProcessError",
     "evalue": "Command 'filterbyname.sh in=/home/yiheng/test/workspace/barcode07/20180524_FAH58271_albacore231.chopped.nthityes.barcode07.fasta out=/home/yiheng/test/workspace/barcode07/Pseudomonas.fasta names=/home/yiheng/test/workspace/barcode07/tmp.txt include=t' returned non-zero exit status 1.",
     "output_type": "error",
     "traceback": [
      "\u001b[0;31m------------------------------------------------------------------\u001b[0m",
      "\u001b[0;31mCalledProcessError\u001b[0m               Traceback (most recent call last)",
      "\u001b[0;32m<ipython-input-66-cd5e17b10ccb>\u001b[0m in \u001b[0;36m<module>\u001b[0;34m()\u001b[0m\n\u001b[1;32m      1\u001b[0m \u001b[0;31m# now filter out the stago reads from the five samples (five barcodes) using filterbyname.sh script\u001b[0m\u001b[0;34m\u001b[0m\u001b[0;34m\u001b[0m\u001b[0m\n\u001b[1;32m      2\u001b[0m \u001b[0mfilter_command\u001b[0m \u001b[0;34m=\u001b[0m \u001b[0;34mr'filterbyname.sh in=%s out=%s/%s.fasta names=%s/tmp.txt include=t'\u001b[0m\u001b[0;34m\u001b[0m\u001b[0m\n\u001b[0;32m----> 3\u001b[0;31m \u001b[0mfilter_command_stderr\u001b[0m \u001b[0;34m=\u001b[0m \u001b[0msub\u001b[0m\u001b[0;34m.\u001b[0m\u001b[0mcheck_output\u001b[0m\u001b[0;34m(\u001b[0m\u001b[0mfilter_command\u001b[0m \u001b[0;34m%\u001b[0m \u001b[0;34m(\u001b[0m\u001b[0mBASEDIR\u001b[0m\u001b[0;34m,\u001b[0m \u001b[0mOUTDIR\u001b[0m\u001b[0;34m,\u001b[0m \u001b[0mspecies_name\u001b[0m\u001b[0;34m,\u001b[0m \u001b[0mOUTDIR\u001b[0m\u001b[0;34m)\u001b[0m\u001b[0;34m,\u001b[0m \u001b[0mshell\u001b[0m\u001b[0;34m=\u001b[0m\u001b[0;32mTrue\u001b[0m\u001b[0;34m,\u001b[0m \u001b[0mstderr\u001b[0m\u001b[0;34m=\u001b[0m\u001b[0msub\u001b[0m\u001b[0;34m.\u001b[0m\u001b[0mSTDOUT\u001b[0m\u001b[0;34m)\u001b[0m\u001b[0;34m\u001b[0m\u001b[0m\n\u001b[0m\u001b[1;32m      4\u001b[0m \u001b[0mprint\u001b[0m\u001b[0;34m(\u001b[0m\u001b[0mfilter_command\u001b[0m\u001b[0;34m)\u001b[0m\u001b[0;34m\u001b[0m\u001b[0m\n",
      "\u001b[0;32m/home/yiheng/anaconda3/lib/python3.6/subprocess.py\u001b[0m in \u001b[0;36mcheck_output\u001b[0;34m(timeout, *popenargs, **kwargs)\u001b[0m\n\u001b[1;32m    334\u001b[0m \u001b[0;34m\u001b[0m\u001b[0m\n\u001b[1;32m    335\u001b[0m     return run(*popenargs, stdout=PIPE, timeout=timeout, check=True,\n\u001b[0;32m--> 336\u001b[0;31m                **kwargs).stdout\n\u001b[0m\u001b[1;32m    337\u001b[0m \u001b[0;34m\u001b[0m\u001b[0m\n\u001b[1;32m    338\u001b[0m \u001b[0;34m\u001b[0m\u001b[0m\n",
      "\u001b[0;32m/home/yiheng/anaconda3/lib/python3.6/subprocess.py\u001b[0m in \u001b[0;36mrun\u001b[0;34m(input, timeout, check, *popenargs, **kwargs)\u001b[0m\n\u001b[1;32m    416\u001b[0m         \u001b[0;32mif\u001b[0m \u001b[0mcheck\u001b[0m \u001b[0;32mand\u001b[0m \u001b[0mretcode\u001b[0m\u001b[0;34m:\u001b[0m\u001b[0;34m\u001b[0m\u001b[0m\n\u001b[1;32m    417\u001b[0m             raise CalledProcessError(retcode, process.args,\n\u001b[0;32m--> 418\u001b[0;31m                                      output=stdout, stderr=stderr)\n\u001b[0m\u001b[1;32m    419\u001b[0m     \u001b[0;32mreturn\u001b[0m \u001b[0mCompletedProcess\u001b[0m\u001b[0;34m(\u001b[0m\u001b[0mprocess\u001b[0m\u001b[0;34m.\u001b[0m\u001b[0margs\u001b[0m\u001b[0;34m,\u001b[0m \u001b[0mretcode\u001b[0m\u001b[0;34m,\u001b[0m \u001b[0mstdout\u001b[0m\u001b[0;34m,\u001b[0m \u001b[0mstderr\u001b[0m\u001b[0;34m)\u001b[0m\u001b[0;34m\u001b[0m\u001b[0m\n\u001b[1;32m    420\u001b[0m \u001b[0;34m\u001b[0m\u001b[0m\n",
      "\u001b[0;31mCalledProcessError\u001b[0m: Command 'filterbyname.sh in=/home/yiheng/test/workspace/barcode07/20180524_FAH58271_albacore231.chopped.nthityes.barcode07.fasta out=/home/yiheng/test/workspace/barcode07/Pseudomonas.fasta names=/home/yiheng/test/workspace/barcode07/tmp.txt include=t' returned non-zero exit status 1."
     ]
    }
   ],
   "source": [
    "# now filter out the stago reads from the five samples (five barcodes) using filterbyname.sh script\n",
    "filter_command = r'filterbyname.sh in=%s out=%s/%s.fasta names=%s/tmp.txt include=t'\n",
    "filter_command_stderr = sub.check_output(filter_command % (BASEDIR, OUTDIR, species_name, OUTDIR), shell=True, stderr=sub.STDOUT)\n",
    "print(filter_command)"
   ]
  },
  {
   "cell_type": "code",
   "execution_count": null,
   "metadata": {},
   "outputs": [],
   "source": [
    "# last just remove the tmp file\n",
    "os.remove(os.path.join(OUTDIR + '/tmp.txt'))"
   ]
  },
  {
   "cell_type": "code",
   "execution_count": null,
   "metadata": {},
   "outputs": [],
   "source": []
  },
  {
   "cell_type": "code",
   "execution_count": null,
   "metadata": {},
   "outputs": [],
   "source": []
  },
  {
   "cell_type": "code",
   "execution_count": null,
   "metadata": {},
   "outputs": [],
   "source": []
  },
  {
   "cell_type": "code",
   "execution_count": null,
   "metadata": {},
   "outputs": [],
   "source": []
  },
  {
   "cell_type": "code",
   "execution_count": null,
   "metadata": {},
   "outputs": [],
   "source": []
  },
  {
   "cell_type": "code",
   "execution_count": null,
   "metadata": {},
   "outputs": [],
   "source": []
  }
 ],
 "metadata": {
  "kernelspec": {
   "display_name": "Python 3",
   "language": "python",
   "name": "python3"
  },
  "language_info": {
   "codemirror_mode": {
    "name": "ipython",
    "version": 3
   },
   "file_extension": ".py",
   "mimetype": "text/x-python",
   "name": "python",
   "nbconvert_exporter": "python",
   "pygments_lexer": "ipython3",
   "version": "3.6.1"
  }
 },
 "nbformat": 4,
 "nbformat_minor": 2
}
