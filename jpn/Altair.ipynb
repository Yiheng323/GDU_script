{
 "cells": [
  {
   "cell_type": "code",
   "execution_count": 1,
   "metadata": {},
   "outputs": [
    {
     "data": {
      "text/plain": [
       "Chart({\n",
       "  data:      petalLength  petalWidth  sepalLength  sepalWidth    species\n",
       "  0            1.4         0.2          5.1         3.5     setosa\n",
       "  1            1.4         0.2          4.9         3.0     setosa\n",
       "  2            1.3         0.2          4.7         3.2     setosa\n",
       "  3            1.5         0.2          4.6         3.1     setosa\n",
       "  4            1.4         0.2          5.0         3.6     setosa\n",
       "  5            1.7         0.4          5.4         3.9     setosa\n",
       "  6            1.4         0.3          4.6         3.4     setosa\n",
       "  7            1.5         0.2          5.0         3.4     setosa\n",
       "  8            1.4         0.2          4.4         2.9     setosa\n",
       "  9            1.5         0.1          4.9         3.1     setosa\n",
       "  10           1.5         0.2          5.4         3.7     setosa\n",
       "  11           1.6         0.2          4.8         3.4     setosa\n",
       "  12           1.4         0.1          4.8         3.0     setosa\n",
       "  13           1.1         0.1          4.3         3.0     setosa\n",
       "  14           1.2         0.2          5.8         4.0     setosa\n",
       "  15           1.5         0.4          5.7         4.4     setosa\n",
       "  16           1.3         0.4          5.4         3.9     setosa\n",
       "  17           1.4         0.3          5.1         3.5     setosa\n",
       "  18           1.7         0.3          5.7         3.8     setosa\n",
       "  19           1.5         0.3          5.1         3.8     setosa\n",
       "  20           1.7         0.2          5.4         3.4     setosa\n",
       "  21           1.5         0.4          5.1         3.7     setosa\n",
       "  22           1.0         0.2          4.6         3.6     setosa\n",
       "  23           1.7         0.5          5.1         3.3     setosa\n",
       "  24           1.9         0.2          4.8         3.4     setosa\n",
       "  25           1.6         0.2          5.0         3.0     setosa\n",
       "  26           1.6         0.4          5.0         3.4     setosa\n",
       "  27           1.5         0.2          5.2         3.5     setosa\n",
       "  28           1.4         0.2          5.2         3.4     setosa\n",
       "  29           1.6         0.2          4.7         3.2     setosa\n",
       "  ..           ...         ...          ...         ...        ...\n",
       "  120          5.7         2.3          6.9         3.2  virginica\n",
       "  121          4.9         2.0          5.6         2.8  virginica\n",
       "  122          6.7         2.0          7.7         2.8  virginica\n",
       "  123          4.9         1.8          6.3         2.7  virginica\n",
       "  124          5.7         2.1          6.7         3.3  virginica\n",
       "  125          6.0         1.8          7.2         3.2  virginica\n",
       "  126          4.8         1.8          6.2         2.8  virginica\n",
       "  127          4.9         1.8          6.1         3.0  virginica\n",
       "  128          5.6         2.1          6.4         2.8  virginica\n",
       "  129          5.8         1.6          7.2         3.0  virginica\n",
       "  130          6.1         1.9          7.4         2.8  virginica\n",
       "  131          6.4         2.0          7.9         3.8  virginica\n",
       "  132          5.6         2.2          6.4         2.8  virginica\n",
       "  133          5.1         1.5          6.3         2.8  virginica\n",
       "  134          5.6         1.4          6.1         2.6  virginica\n",
       "  135          6.1         2.3          7.7         3.0  virginica\n",
       "  136          5.6         2.4          6.3         3.4  virginica\n",
       "  137          5.5         1.8          6.4         3.1  virginica\n",
       "  138          4.8         1.8          6.0         3.0  virginica\n",
       "  139          5.4         2.1          6.9         3.1  virginica\n",
       "  140          5.6         2.4          6.7         3.1  virginica\n",
       "  141          5.1         2.3          6.9         3.1  virginica\n",
       "  142          5.1         1.9          5.8         2.7  virginica\n",
       "  143          5.9         2.3          6.8         3.2  virginica\n",
       "  144          5.7         2.5          6.7         3.3  virginica\n",
       "  145          5.2         2.3          6.7         3.0  virginica\n",
       "  146          5.0         1.9          6.3         2.5  virginica\n",
       "  147          5.2         2.0          6.5         3.0  virginica\n",
       "  148          5.4         2.3          6.2         3.4  virginica\n",
       "  149          5.1         1.8          5.9         3.0  virginica\n",
       "  \n",
       "  [150 rows x 5 columns],\n",
       "  encoding: EncodingWithFacet({\n",
       "    color: Color({\n",
       "      shorthand: 'species'\n",
       "    }),\n",
       "    x: X({\n",
       "      shorthand: 'petalLength'\n",
       "    }),\n",
       "    y: Y({\n",
       "      shorthand: 'petalWidth'\n",
       "    })\n",
       "  }),\n",
       "  mark: 'point'\n",
       "})"
      ]
     },
     "execution_count": 1,
     "metadata": {},
     "output_type": "execute_result"
    }
   ],
   "source": [
    "import altair as alt\n",
    "from vega_datasets import data\n",
    "\n",
    "iris = data.iris()\n",
    "\n",
    "alt.Chart(iris).mark_point().encode(\n",
    "    x='petalLength',\n",
    "    y='petalWidth',\n",
    "    color='species'\n",
    ")"
   ]
  },
  {
   "cell_type": "code",
   "execution_count": null,
   "metadata": {},
   "outputs": [],
   "source": []
  }
 ],
 "metadata": {
  "kernelspec": {
   "display_name": "Python 3",
   "language": "python",
   "name": "python3"
  },
  "language_info": {
   "codemirror_mode": {
    "name": "ipython",
    "version": 3
   },
   "file_extension": ".py",
   "mimetype": "text/x-python",
   "name": "python",
   "nbconvert_exporter": "python",
   "pygments_lexer": "ipython3",
   "version": "3.6.1"
  }
 },
 "nbformat": 4,
 "nbformat_minor": 2
}
